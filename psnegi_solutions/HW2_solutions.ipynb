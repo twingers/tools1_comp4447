{
 "cells": [
  {
   "cell_type": "markdown",
   "metadata": {},
   "source": [
    "# Load this notebook to the canvas after completing assigned coding/written response excercises. Question  2 will be graded based on github activity and 1, 3 and 4 based on written response/code in this notebook."
   ]
  },
  {
   "cell_type": "markdown",
   "metadata": {},
   "source": [
    "# Only one team member should complete activity in this cell\n",
    "\n",
    "- Create a project repository in the github.com(while creating repository give a appropriate repository name, select private and Initialize this repository with a README )\n",
    "- Add all the team members,  instructor (github id: **psnegi**) and GTA(github id: **pilotmitchw**) as collaborator(send an invite to us using collaborator option in the github)\n",
    "\n",
    "<font color =\"red\"> Let's know  if you don't want to share your github with us.</font>"
   ]
  },
  {
   "cell_type": "markdown",
   "metadata": {},
   "source": [
    "# Q1 (.5 point) -\n",
    "- *write your **repository url** here in this notebook.* Double click to edit this markdown cell.\n",
    "If we click on this url, it should navigate to your repository on the github.\n"
   ]
  },
  {
   "cell_type": "markdown",
   "metadata": {},
   "source": [
    "# Q2(1.5 points) Editing README.md markdown file about your project. content.\n",
    "\n",
    " Depending upon number of team members split following work of creating README.md file. Each team member(even if you are working alone)\n",
    " should create a local branch with the name **HW2_your_name_PROJECT_NAME_feature_name** and finish the work of editing a section of the README file. Push the  branch to remote too. \n",
    " \n",
    " <font color=\"red\">Don't delete the remote branch, we'll review the README contribution in the branch.</font>\n",
    "\n",
    "In the **README.md add following  headers** (use # for creating header). Share following 3 work items between team members.\n",
    "\n",
    "1.  Objective (Describe project objective(1  paragraph should be enough)\n",
    "1. Dataset attribute and meta data (If there are too many *(more than 15)* attribute) , just list some attributes you think are most important/interesting. For each attribute give 2 sample values(normal and a noisy one if it exist)\n",
    "1. Add a tentative timeline  in a tabular format for\n",
    "    + data collection(if collecting data)\n",
    "    + data cleanup\n",
    "    + transformation\n",
    "    + feature engineering\n",
    "    + statistical summary\n",
    "    + visualization\n",
    "    \n",
    "    \n",
    "Each team member should create a branch and \n",
    "should follow the git workflow for working in a team. \n",
    "\n",
    "*e.g if I agreed on writing objective part in a team working on world_bank_loan_analysis repository/project, my branch will be* **HW2_psnegi_world_bank_loan_analysis_objective**\n",
    "\n",
    "## One of the team members should put a tag named HW2_COMPLETED once each team member has done the assigned work. We'll use this tag to see final "
   ]
  },
  {
   "cell_type": "markdown",
   "metadata": {},
   "source": [
    "# Q3 (1= .5+ .5 points) Using python inbuilt *filter* function and *reduce function from functools*, find the product of all the odd numbers in x. Write one line for the solution code."
   ]
  },
  {
   "cell_type": "code",
   "execution_count": 13,
   "metadata": {},
   "outputs": [
    {
     "data": {
      "text/plain": [
       "[3, 9, 11]"
      ]
     },
     "execution_count": 13,
     "metadata": {},
     "output_type": "execute_result"
    }
   ],
   "source": [
    "import functools \n",
    "x = [3, 6, 9, 11, 20]\n",
    "list(filter(lambda x: x%2 != 0, x))"
   ]
  },
  {
   "cell_type": "code",
   "execution_count": 16,
   "metadata": {},
   "outputs": [
    {
     "data": {
      "text/plain": [
       "297"
      ]
     },
     "execution_count": 16,
     "metadata": {},
     "output_type": "execute_result"
    }
   ],
   "source": [
    "# write your code here\n",
    "functools.reduce(lambda a,b: a*b, filter(lambda x: x%2 != 0, x))"
   ]
  },
  {
   "cell_type": "markdown",
   "metadata": {},
   "source": [
    "# Q4(1 point) Some time in data science we need to create a subset of all the possible variables. Given following list of variables, print all the possible subset(tuple) of variables  using itertools *combination* function.\n",
    " Each combination of variables should be printed on a seperata line"
   ]
  },
  {
   "cell_type": "code",
   "execution_count": 20,
   "metadata": {},
   "outputs": [
    {
     "name": "stdout",
     "output_type": "stream",
     "text": [
      "['x1', 'x2', 'x3', 'x4']\n"
     ]
    }
   ],
   "source": [
    "import itertools as itt\n",
    "variables = ['x'+str(i) for i in range(1, 4 + 1)]\n",
    "print(variables)"
   ]
  },
  {
   "cell_type": "code",
   "execution_count": 26,
   "metadata": {},
   "outputs": [
    {
     "name": "stdout",
     "output_type": "stream",
     "text": [
      "('x1',)\n",
      "('x2',)\n",
      "('x3',)\n",
      "('x4',)\n",
      "('x1', 'x2')\n",
      "('x1', 'x3')\n",
      "('x1', 'x4')\n",
      "('x2', 'x3')\n",
      "('x2', 'x4')\n",
      "('x3', 'x4')\n",
      "('x1', 'x2', 'x3')\n",
      "('x1', 'x2', 'x4')\n",
      "('x1', 'x3', 'x4')\n",
      "('x2', 'x3', 'x4')\n",
      "('x1', 'x2', 'x3', 'x4')\n"
     ]
    }
   ],
   "source": [
    "# Write your code here. You should be done in 3 lines.\n",
    "for r in range(1, len(variables) + 1):\n",
    "    for var_comb in itt.combinations(variables, r):\n",
    "        print(var_comb)\n",
    "    "
   ]
  }
 ],
 "metadata": {
  "kernelspec": {
   "display_name": "Python 3",
   "language": "python",
   "name": "python3"
  },
  "language_info": {
   "codemirror_mode": {
    "name": "ipython",
    "version": 3
   },
   "file_extension": ".py",
   "mimetype": "text/x-python",
   "name": "python",
   "nbconvert_exporter": "python",
   "pygments_lexer": "ipython3",
   "version": "3.5.2"
  }
 },
 "nbformat": 4,
 "nbformat_minor": 2
}
