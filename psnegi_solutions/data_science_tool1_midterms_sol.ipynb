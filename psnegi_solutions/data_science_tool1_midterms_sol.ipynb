{
 "cells": [
  {
   "cell_type": "markdown",
   "metadata": {},
   "source": [
    "# Data Science tools1 midterm winter 2019. \n",
    "- Total Time 1.45 Hours\n",
    "- Please upload completed notebook to canvas before 8.50 p.m\n",
    "- You are allowed to use any thing to solve problem in this notebook\n",
    "- Talking online or to other person is not allowed"
   ]
  },
  {
   "cell_type": "markdown",
   "metadata": {},
   "source": [
    "# Q1"
   ]
  },
  {
   "cell_type": "code",
   "execution_count": 5,
   "metadata": {},
   "outputs": [
    {
     "name": "stdout",
     "output_type": "stream",
     "text": [
      "<table class=\"security-wait-times two-col entity entity-bean bean-security-wait-times\" about=\"/block/security-wait-times\" typeof=\"\">\r\n",
      "  <tbody>\r\n",
      "\r\n",
      "    <!-- Bridge -->\r\n",
      "    <tr class=\"security-checkpoint concourse-a-bridge odd\">\r\n",
      "      <td class=\"label\">\r\n",
      "        Bridge Security      </td>\r\n",
      "      <td class=\"status align-right\">23 min</td>\r\n",
      "    </tr>\r\n",
      "    \r\n",
      "        <!-- /Bridge -->\r\n",
      "\r\n",
      "    <!-- North Lines -->\r\n",
      "    <tr class=\"security-checkpoint north-lines odd\">\r\n",
      "      <td class=\"label\">\r\n",
      "        North Security      </td>\r\n",
      "      <td class=\"status align-right\">14 min</td>\r\n",
      "    </tr>\r\n",
      "    \r\n",
      "        <tr class=\"security-checkpoint precheck north-lines-precheck even\">\r\n",
      "      <td class=\"label\">\r\n",
      "        TSA PreCheck Lane\r\n",
      "      </td>\r\n",
      "      <td class=\"status align-right\">7 min</td>\r\n",
      "    </tr>\r\n",
      "        <!-- /North Lines -->\r\n",
      "\r\n",
      "    <!-- South Lines -->\r\n",
      "    <tr class=\"security-checkpoint south-lines odd\">\r\n",
      "      <td class=\"label\">\r\n",
      "        South Security      </td>\r\n",
      "      <td class=\"status align-right\">32 min</td>\r\n",
      "    </tr>\r\n",
      "    \r\n",
      "        <tr class=\"security-checkpoint precheck south-lines-precheck even\">\r\n",
      "      <td class=\"label\">\r\n",
      "        TSA PreCheck Lane\r\n",
      "      </td>\r\n",
      "      <td class=\"status align-right\">5 min</td>\r\n",
      "    </tr>\r\n",
      "        <!-- /South Lines -->\r\n",
      "\r\n",
      "  </tbody>\r\n",
      "</table>\r\n",
      "\r\n"
     ]
    }
   ],
   "source": [
    "! curl -s https://www.flydenver.com/security| grep -A 44 \"<table\""
   ]
  },
  {
   "cell_type": "markdown",
   "metadata": {},
   "source": [
    "# if you are looking for exact solution"
   ]
  },
  {
   "cell_type": "code",
   "execution_count": 31,
   "metadata": {},
   "outputs": [
    {
     "name": "stdout",
     "output_type": "stream",
     "text": [
      "<table class=\"security-wait-times two-col entity entity-bean bean-security-wait-times\" about=\"/block/security-wait-times\" typeof=\"\">\r\n",
      "  <tbody>\r\n",
      "\r\n",
      "    <!-- Bridge -->\r\n",
      "    <tr class=\"security-checkpoint concourse-a-bridge odd\">\r\n",
      "      <td class=\"label\">\r\n",
      "        Bridge Security      </td>\r\n",
      "      <td class=\"status align-right\">28 min</td>\r\n",
      "    </tr>\r\n",
      "    \r\n",
      "        <!-- /Bridge -->\r\n",
      "\r\n",
      "    <!-- North Lines -->\r\n",
      "    <tr class=\"security-checkpoint north-lines odd\">\r\n",
      "      <td class=\"label\">\r\n",
      "        North Security      </td>\r\n",
      "      <td class=\"status align-right\">14 min</td>\r\n",
      "    </tr>\r\n",
      "    \r\n",
      "        <tr class=\"security-checkpoint precheck north-lines-precheck even\">\r\n",
      "      <td class=\"label\">\r\n",
      "        TSA PreCheck Lane\r\n",
      "      </td>\r\n",
      "      <td class=\"status align-right\">7 min</td>\r\n",
      "    </tr>\r\n",
      "        <!-- /North Lines -->\r\n",
      "\r\n",
      "    <!-- South Lines -->\r\n",
      "    <tr class=\"security-checkpoint south-lines odd\">\r\n",
      "      <td class=\"label\">\r\n",
      "        South Security      </td>\r\n",
      "      <td class=\"status align-right\">32 min</td>\r\n",
      "    </tr>\r\n",
      "    \r\n",
      "        <tr class=\"security-checkpoint precheck south-lines-precheck even\">\r\n",
      "      <td class=\"label\">\r\n",
      "        TSA PreCheck Lane\r\n",
      "      </td>\r\n",
      "      <td class=\"status align-right\">5 min</td>\r\n",
      "    </tr>\r\n",
      "        <!-- /South Lines -->\r\n",
      "\r\n",
      "  </tbody>\r\n",
      "</table>\u0000"
     ]
    }
   ],
   "source": [
    "!curl -s https://www.flydenver.com/security|grep -zoE \"<table class.*table>\""
   ]
  },
  {
   "cell_type": "markdown",
   "metadata": {},
   "source": [
    "# Q2 2 points"
   ]
  },
  {
   "cell_type": "code",
   "execution_count": 7,
   "metadata": {},
   "outputs": [
    {
     "name": "stdout",
     "output_type": "stream",
     "text": [
      "23 min\r\n",
      "14 min\r\n",
      "7 min\r\n",
      "32 min\r\n",
      "5 min\r\n"
     ]
    }
   ],
   "source": [
    "! curl -s https://www.flydenver.com/security| grep -A 44 \"<table\"|grep -oE \"(closed)*([0-9]+ min)\""
   ]
  },
  {
   "cell_type": "markdown",
   "metadata": {},
   "source": [
    "# Q 3(2 = 1+1)  output to file and pandas"
   ]
  },
  {
   "cell_type": "code",
   "execution_count": 8,
   "metadata": {},
   "outputs": [],
   "source": [
    "! curl -s https://www.flydenver.com/security| grep -A 44 \"<table\" >security_line.html"
   ]
  },
  {
   "cell_type": "code",
   "execution_count": 9,
   "metadata": {},
   "outputs": [
    {
     "data": {
      "text/html": [
       "<div>\n",
       "<style scoped>\n",
       "    .dataframe tbody tr th:only-of-type {\n",
       "        vertical-align: middle;\n",
       "    }\n",
       "\n",
       "    .dataframe tbody tr th {\n",
       "        vertical-align: top;\n",
       "    }\n",
       "\n",
       "    .dataframe thead th {\n",
       "        text-align: right;\n",
       "    }\n",
       "</style>\n",
       "<table border=\"1\" class=\"dataframe\">\n",
       "  <thead>\n",
       "    <tr style=\"text-align: right;\">\n",
       "      <th></th>\n",
       "      <th>0</th>\n",
       "      <th>1</th>\n",
       "    </tr>\n",
       "  </thead>\n",
       "  <tbody>\n",
       "    <tr>\n",
       "      <th>0</th>\n",
       "      <td>Bridge Security</td>\n",
       "      <td>10 min</td>\n",
       "    </tr>\n",
       "    <tr>\n",
       "      <th>1</th>\n",
       "      <td>North Security</td>\n",
       "      <td>17 min</td>\n",
       "    </tr>\n",
       "    <tr>\n",
       "      <th>2</th>\n",
       "      <td>TSA PreCheck Lane</td>\n",
       "      <td>5 min</td>\n",
       "    </tr>\n",
       "    <tr>\n",
       "      <th>3</th>\n",
       "      <td>South Security</td>\n",
       "      <td>13 min</td>\n",
       "    </tr>\n",
       "    <tr>\n",
       "      <th>4</th>\n",
       "      <td>TSA PreCheck Lane</td>\n",
       "      <td>8 min</td>\n",
       "    </tr>\n",
       "  </tbody>\n",
       "</table>\n",
       "</div>"
      ],
      "text/plain": [
       "                   0       1\n",
       "0    Bridge Security  10 min\n",
       "1     North Security  17 min\n",
       "2  TSA PreCheck Lane   5 min\n",
       "3     South Security  13 min\n",
       "4  TSA PreCheck Lane   8 min"
      ]
     },
     "execution_count": 9,
     "metadata": {},
     "output_type": "execute_result"
    }
   ],
   "source": [
    "import pandas as pd\n",
    "pd.read_html('./security_line.htm', header=None)[0]"
   ]
  },
  {
   "cell_type": "markdown",
   "metadata": {},
   "source": [
    "# Q4 (2.5 points)\n",
    "Let's say you for a e-commerce company. Company has 10 installment plans for some of its product. A customer is enrolled when he pays first installment. Installment is closed when he pays last installment. Due to a bug some of the customer are getting charged a penny less in their last installment leaving their enrollment open.\n",
    "\n",
    "Assume that company has products with **integer** price value like \\\\$15 , \\\\$50.\n",
    "You job is to figure out which customer are getting charged a penny less and manually close the enrollment.\n",
    "Print **customer id, inst column and amount charged** using Linux commands.\n",
    "\n",
    "Hint:\n",
    "You output should look like\n",
    "\n",
    "2150:inst 10 charged:$15.99"
   ]
  },
  {
   "cell_type": "code",
   "execution_count": 76,
   "metadata": {},
   "outputs": [],
   "source": [
    "%%bash\n",
    "echo \"customer:2150:credit_card:xxxx-xxxx-xxxx:inst 10 charged:\\$15.99\n",
    "customer:2350:credit_card:xxxx-xxxx-xxxx:inst 9 charged:\\$2\n",
    "Paymenet gateway: STATUS 200\n",
    "customer:3456 payment failed\n",
    "customer:3350:credit_card:xxxx-xxxx-xxxx:inst 1 charged:\\$7\n",
    "customer:4350:credit_card:xxxx-xxxx-xxxx:inst 10 charged:\\$3.99\n",
    "customer:4355:credit_card:xxxx-xxxx-xxxx:inst 10 charged:\\$5.49\n",
    "customer:2350:credit_card:xxxx-xxxx-xxxx:inst 2 charged:\\$2\n",
    "customer:2150:credit_card:xxxx-xxxx-xxxx:inst 3 charged:\\$16\n",
    "customer:2220:credit_card:xxxx-xxxx-xxxx:inst 10 charged:\\$5.5\n",
    "customer:3350:credit_card:xxxx-xxxx-xxxx:inst 4 charged:\\$7\n",
    "customer:2351:credit_card:xxxx-xxxx-xxxx:inst 10 charged:\\$9\n",
    "customer:2350:credit_card:xxxx-xxxx-xxxx:inst 6 charged:\\$2\n",
    "customer:6350:credit_card:xxxx-xxxx-xxxx:inst 10 charged:\\$2.49\n",
    "customer:23350:credit_card:xxxx-xxxx-xxxx:inst 10 charged:\\$16.99\" > payment_gateway.logxx"
   ]
  },
  {
   "cell_type": "code",
   "execution_count": 10,
   "metadata": {},
   "outputs": [
    {
     "name": "stdout",
     "output_type": "stream",
     "text": [
      "2150:inst 10 charged:$15.99\r\n",
      "4350:inst 10 charged:$3.99\r\n",
      "4355:inst 10 charged:$5.49\r\n",
      "6350:inst 10 charged:$2.49\r\n",
      "23350:inst 10 charged:$16.99\r\n"
     ]
    }
   ],
   "source": [
    "! cat payment_gateway.logxx|grep -E \"[0-9]+\\.[0-9][9]\" |cut -d ':' -f 2,5,6"
   ]
  },
  {
   "cell_type": "markdown",
   "metadata": {},
   "source": [
    "# Q5(1 = .5+.5) Look for github developer API documentation and see how to use *issue* endpoint. Want to get all the open issue with data_science_tools1\n",
    "repository."
   ]
  },
  {
   "cell_type": "code",
   "execution_count": 12,
   "metadata": {},
   "outputs": [],
   "source": [
    "import requests"
   ]
  },
  {
   "cell_type": "code",
   "execution_count": 13,
   "metadata": {},
   "outputs": [],
   "source": [
    "parameters = {'state':'all'}\n",
    "api_end_point = 'https://api.github.com'+'/repos/psnegi/data_science_tools1/issues'\n",
    "response = requests.get(api_end_point, params=parameters)"
   ]
  },
  {
   "cell_type": "code",
   "execution_count": 14,
   "metadata": {},
   "outputs": [
    {
     "data": {
      "text/plain": [
       "200"
      ]
     },
     "execution_count": 14,
     "metadata": {},
     "output_type": "execute_result"
    }
   ],
   "source": [
    "response.status_code"
   ]
  },
  {
   "cell_type": "code",
   "execution_count": 15,
   "metadata": {},
   "outputs": [
    {
     "name": "stdout",
     "output_type": "stream",
     "text": [
      "[{'assignee': None,\n",
      "  'assignees': [],\n",
      "  'author_association': 'OWNER',\n",
      "  'body': 'Can these notebook linked to some compute environments',\n",
      "  'closed_at': '2019-02-13T22:05:06Z',\n",
      "  'comments': 1,\n",
      "  'comments_url': 'https://api.github.com/repos/psnegi/data_science_tools1/issues/4/comments',\n",
      "  'created_at': '2019-02-13T22:03:05Z',\n",
      "  'events_url': 'https://api.github.com/repos/psnegi/data_science_tools1/issues/4/events',\n",
      "  'html_url': 'https://github.com/psnegi/data_science_tools1/issues/4',\n",
      "  'id': 410024456,\n",
      "  'labels': [],\n",
      "  'labels_url': 'https://api.github.com/repos/psnegi/data_science_tools1/issues/4/labels{/name}',\n",
      "  'locked': False,\n",
      "  'milestone': None,\n",
      "  'node_id': 'MDU6SXNzdWU0MTAwMjQ0NTY=',\n",
      "  'number': 4,\n",
      "  'repository_url': 'https://api.github.com/repos/psnegi/data_science_tools1',\n",
      "  'state': 'closed',\n",
      "  'title': 'JupyterHub',\n",
      "  'updated_at': '2019-02-13T22:05:06Z',\n",
      "  'url': 'https://api.github.com/repos/psnegi/data_science_tools1/issues/4',\n",
      "  'user': {'avatar_url': 'https://avatars1.githubusercontent.com/u/8459533?v=4',\n",
      "           'events_url': 'https://api.github.com/users/psnegi/events{/privacy}',\n",
      "           'followers_url': 'https://api.github.com/users/psnegi/followers',\n",
      "           'following_url': 'https://api.github.com/users/psnegi/following{/other_user}',\n",
      "           'gists_url': 'https://api.github.com/users/psnegi/gists{/gist_id}',\n",
      "           'gravatar_id': '',\n",
      "           'html_url': 'https://github.com/psnegi',\n",
      "           'id': 8459533,\n",
      "           'login': 'psnegi',\n",
      "           'node_id': 'MDQ6VXNlcjg0NTk1MzM=',\n",
      "           'organizations_url': 'https://api.github.com/users/psnegi/orgs',\n",
      "           'received_events_url': 'https://api.github.com/users/psnegi/received_events',\n",
      "           'repos_url': 'https://api.github.com/users/psnegi/repos',\n",
      "           'site_admin': False,\n",
      "           'starred_url': 'https://api.github.com/users/psnegi/starred{/owner}{/repo}',\n",
      "           'subscriptions_url': 'https://api.github.com/users/psnegi/subscriptions',\n",
      "           'type': 'User',\n",
      "           'url': 'https://api.github.com/users/psnegi'}},\n",
      " {'assignee': None,\n",
      "  'assignees': [],\n",
      "  'author_association': 'OWNER',\n",
      "  'body': 'this is a great tool for data science',\n",
      "  'closed_at': '2019-02-13T20:50:50Z',\n",
      "  'comments': 2,\n",
      "  'comments_url': 'https://api.github.com/repos/psnegi/data_science_tools1/issues/3/comments',\n",
      "  'created_at': '2019-02-13T20:39:23Z',\n",
      "  'events_url': 'https://api.github.com/repos/psnegi/data_science_tools1/issues/3/events',\n",
      "  'html_url': 'https://github.com/psnegi/data_science_tools1/issues/3',\n",
      "  'id': 409991219,\n",
      "  'labels': [],\n",
      "  'labels_url': 'https://api.github.com/repos/psnegi/data_science_tools1/issues/3/labels{/name}',\n",
      "  'locked': False,\n",
      "  'milestone': None,\n",
      "  'node_id': 'MDU6SXNzdWU0MDk5OTEyMTk=',\n",
      "  'number': 3,\n",
      "  'repository_url': 'https://api.github.com/repos/psnegi/data_science_tools1',\n",
      "  'state': 'closed',\n",
      "  'title': 'anaconda for data science',\n",
      "  'updated_at': '2019-02-13T20:50:50Z',\n",
      "  'url': 'https://api.github.com/repos/psnegi/data_science_tools1/issues/3',\n",
      "  'user': {'avatar_url': 'https://avatars1.githubusercontent.com/u/8459533?v=4',\n",
      "           'events_url': 'https://api.github.com/users/psnegi/events{/privacy}',\n",
      "           'followers_url': 'https://api.github.com/users/psnegi/followers',\n",
      "           'following_url': 'https://api.github.com/users/psnegi/following{/other_user}',\n",
      "           'gists_url': 'https://api.github.com/users/psnegi/gists{/gist_id}',\n",
      "           'gravatar_id': '',\n",
      "           'html_url': 'https://github.com/psnegi',\n",
      "           'id': 8459533,\n",
      "           'login': 'psnegi',\n",
      "           'node_id': 'MDQ6VXNlcjg0NTk1MzM=',\n",
      "           'organizations_url': 'https://api.github.com/users/psnegi/orgs',\n",
      "           'received_events_url': 'https://api.github.com/users/psnegi/received_events',\n",
      "           'repos_url': 'https://api.github.com/users/psnegi/repos',\n",
      "           'site_admin': False,\n",
      "           'starred_url': 'https://api.github.com/users/psnegi/starred{/owner}{/repo}',\n",
      "           'subscriptions_url': 'https://api.github.com/users/psnegi/subscriptions',\n",
      "           'type': 'User',\n",
      "           'url': 'https://api.github.com/users/psnegi'}},\n",
      " {'assignee': None,\n",
      "  'assignees': [],\n",
      "  'author_association': 'OWNER',\n",
      "  'body': 'Google Colaboratory is a research tool for machine learning '\n",
      "          'education and research.\\r\\n'\n",
      "          'They have GPU support too. ',\n",
      "  'closed_at': None,\n",
      "  'comments': 2,\n",
      "  'comments_url': 'https://api.github.com/repos/psnegi/data_science_tools1/issues/2/comments',\n",
      "  'created_at': '2019-02-13T04:03:29Z',\n",
      "  'events_url': 'https://api.github.com/repos/psnegi/data_science_tools1/issues/2/events',\n",
      "  'html_url': 'https://github.com/psnegi/data_science_tools1/issues/2',\n",
      "  'id': 409615956,\n",
      "  'labels': [],\n",
      "  'labels_url': 'https://api.github.com/repos/psnegi/data_science_tools1/issues/2/labels{/name}',\n",
      "  'locked': False,\n",
      "  'milestone': None,\n",
      "  'node_id': 'MDU6SXNzdWU0MDk2MTU5NTY=',\n",
      "  'number': 2,\n",
      "  'repository_url': 'https://api.github.com/repos/psnegi/data_science_tools1',\n",
      "  'state': 'open',\n",
      "  'title': 'Add google Colab linking',\n",
      "  'updated_at': '2019-02-13T04:53:11Z',\n",
      "  'url': 'https://api.github.com/repos/psnegi/data_science_tools1/issues/2',\n",
      "  'user': {'avatar_url': 'https://avatars1.githubusercontent.com/u/8459533?v=4',\n",
      "           'events_url': 'https://api.github.com/users/psnegi/events{/privacy}',\n",
      "           'followers_url': 'https://api.github.com/users/psnegi/followers',\n",
      "           'following_url': 'https://api.github.com/users/psnegi/following{/other_user}',\n",
      "           'gists_url': 'https://api.github.com/users/psnegi/gists{/gist_id}',\n",
      "           'gravatar_id': '',\n",
      "           'html_url': 'https://github.com/psnegi',\n",
      "           'id': 8459533,\n",
      "           'login': 'psnegi',\n",
      "           'node_id': 'MDQ6VXNlcjg0NTk1MzM=',\n",
      "           'organizations_url': 'https://api.github.com/users/psnegi/orgs',\n",
      "           'received_events_url': 'https://api.github.com/users/psnegi/received_events',\n",
      "           'repos_url': 'https://api.github.com/users/psnegi/repos',\n",
      "           'site_admin': False,\n",
      "           'starred_url': 'https://api.github.com/users/psnegi/starred{/owner}{/repo}',\n",
      "           'subscriptions_url': 'https://api.github.com/users/psnegi/subscriptions',\n",
      "           'type': 'User',\n",
      "           'url': 'https://api.github.com/users/psnegi'}},\n",
      " {'assignee': None,\n",
      "  'assignees': [],\n",
      "  'author_association': 'OWNER',\n",
      "  'body': 'Binder logo needs to be displayed along with notebook',\n",
      "  'closed_at': '2019-02-13T04:02:00Z',\n",
      "  'comments': 1,\n",
      "  'comments_url': 'https://api.github.com/repos/psnegi/data_science_tools1/issues/1/comments',\n",
      "  'created_at': '2019-02-13T04:00:25Z',\n",
      "  'events_url': 'https://api.github.com/repos/psnegi/data_science_tools1/issues/1/events',\n",
      "  'html_url': 'https://github.com/psnegi/data_science_tools1/issues/1',\n",
      "  'id': 409615314,\n",
      "  'labels': [],\n",
      "  'labels_url': 'https://api.github.com/repos/psnegi/data_science_tools1/issues/1/labels{/name}',\n",
      "  'locked': False,\n",
      "  'milestone': None,\n",
      "  'node_id': 'MDU6SXNzdWU0MDk2MTUzMTQ=',\n",
      "  'number': 1,\n",
      "  'repository_url': 'https://api.github.com/repos/psnegi/data_science_tools1',\n",
      "  'state': 'closed',\n",
      "  'title': 'Binder logo',\n",
      "  'updated_at': '2019-02-13T04:02:00Z',\n",
      "  'url': 'https://api.github.com/repos/psnegi/data_science_tools1/issues/1',\n",
      "  'user': {'avatar_url': 'https://avatars1.githubusercontent.com/u/8459533?v=4',\n",
      "           'events_url': 'https://api.github.com/users/psnegi/events{/privacy}',\n",
      "           'followers_url': 'https://api.github.com/users/psnegi/followers',\n",
      "           'following_url': 'https://api.github.com/users/psnegi/following{/other_user}',\n",
      "           'gists_url': 'https://api.github.com/users/psnegi/gists{/gist_id}',\n",
      "           'gravatar_id': '',\n",
      "           'html_url': 'https://github.com/psnegi',\n",
      "           'id': 8459533,\n",
      "           'login': 'psnegi',\n",
      "           'node_id': 'MDQ6VXNlcjg0NTk1MzM=',\n",
      "           'organizations_url': 'https://api.github.com/users/psnegi/orgs',\n",
      "           'received_events_url': 'https://api.github.com/users/psnegi/received_events',\n",
      "           'repos_url': 'https://api.github.com/users/psnegi/repos',\n",
      "           'site_admin': False,\n",
      "           'starred_url': 'https://api.github.com/users/psnegi/starred{/owner}{/repo}',\n",
      "           'subscriptions_url': 'https://api.github.com/users/psnegi/subscriptions',\n",
      "           'type': 'User',\n",
      "           'url': 'https://api.github.com/users/psnegi'}}]\n"
     ]
    }
   ],
   "source": [
    "import pprint\n",
    "pprint.pprint(response.json())"
   ]
  },
  {
   "cell_type": "markdown",
   "metadata": {},
   "source": [
    "# Q6 (2 point) Using json from the response build a new list of dictionary(modifed_issues). In the new dictionary only store body, title, comments, created_at, closed_at and state from the response json."
   ]
  },
  {
   "cell_type": "code",
   "execution_count": 16,
   "metadata": {},
   "outputs": [],
   "source": [
    "import pandas as pd"
   ]
  },
  {
   "cell_type": "code",
   "execution_count": 17,
   "metadata": {},
   "outputs": [],
   "source": [
    "modifed_issues = []\n",
    "for issue in response.json():\n",
    "    modified_issue = {}\n",
    "    modified_issue['body'] = issue['body']\n",
    "    modified_issue['title'] = issue['title']\n",
    "    modified_issue['comments'] = issue['comments']\n",
    "    modified_issue['created_at'] = issue['created_at']\n",
    "    modified_issue['closed_at'] = issue['closed_at']\n",
    "    modified_issue['state'] = issue['state']\n",
    "    modifed_issues.append(modified_issue)"
   ]
  },
  {
   "cell_type": "code",
   "execution_count": 18,
   "metadata": {},
   "outputs": [
    {
     "data": {
      "text/plain": [
       "[{'body': 'Can these notebook linked to some compute environments',\n",
       "  'closed_at': '2019-02-13T22:05:06Z',\n",
       "  'comments': 1,\n",
       "  'created_at': '2019-02-13T22:03:05Z',\n",
       "  'state': 'closed',\n",
       "  'title': 'JupyterHub'},\n",
       " {'body': 'this is a great tool for data science',\n",
       "  'closed_at': '2019-02-13T20:50:50Z',\n",
       "  'comments': 2,\n",
       "  'created_at': '2019-02-13T20:39:23Z',\n",
       "  'state': 'closed',\n",
       "  'title': 'anaconda for data science'},\n",
       " {'body': 'Google Colaboratory is a research tool for machine learning education and research.\\r\\nThey have GPU support too. ',\n",
       "  'closed_at': None,\n",
       "  'comments': 2,\n",
       "  'created_at': '2019-02-13T04:03:29Z',\n",
       "  'state': 'open',\n",
       "  'title': 'Add google Colab linking'},\n",
       " {'body': 'Binder logo needs to be displayed along with notebook',\n",
       "  'closed_at': '2019-02-13T04:02:00Z',\n",
       "  'comments': 1,\n",
       "  'created_at': '2019-02-13T04:00:25Z',\n",
       "  'state': 'closed',\n",
       "  'title': 'Binder logo'}]"
      ]
     },
     "execution_count": 18,
     "metadata": {},
     "output_type": "execute_result"
    }
   ],
   "source": [
    "modifed_issues"
   ]
  },
  {
   "cell_type": "markdown",
   "metadata": {},
   "source": [
    "# Q7 (2= .5 +.5+.5+.5)\n",
    "Build a panda DataFrame using modifed_issues list.\n",
    "data type of closed_at and created_at are object type. We can't do any time arithmetic on these fields.Using pandas pandas.to_datetime change datatype from object to datetime\n",
    "create a new field time_to_close which calculated the time it took to close an issue since opening.\n",
    "Calculate mean time to close issues in this repository."
   ]
  },
  {
   "cell_type": "code",
   "execution_count": 19,
   "metadata": {},
   "outputs": [
    {
     "data": {
      "text/html": [
       "<div>\n",
       "<style scoped>\n",
       "    .dataframe tbody tr th:only-of-type {\n",
       "        vertical-align: middle;\n",
       "    }\n",
       "\n",
       "    .dataframe tbody tr th {\n",
       "        vertical-align: top;\n",
       "    }\n",
       "\n",
       "    .dataframe thead th {\n",
       "        text-align: right;\n",
       "    }\n",
       "</style>\n",
       "<table border=\"1\" class=\"dataframe\">\n",
       "  <thead>\n",
       "    <tr style=\"text-align: right;\">\n",
       "      <th></th>\n",
       "      <th>body</th>\n",
       "      <th>closed_at</th>\n",
       "      <th>comments</th>\n",
       "      <th>created_at</th>\n",
       "      <th>state</th>\n",
       "      <th>title</th>\n",
       "    </tr>\n",
       "  </thead>\n",
       "  <tbody>\n",
       "    <tr>\n",
       "      <th>0</th>\n",
       "      <td>Can these notebook linked to some compute envi...</td>\n",
       "      <td>2019-02-13T22:05:06Z</td>\n",
       "      <td>1</td>\n",
       "      <td>2019-02-13T22:03:05Z</td>\n",
       "      <td>closed</td>\n",
       "      <td>JupyterHub</td>\n",
       "    </tr>\n",
       "    <tr>\n",
       "      <th>1</th>\n",
       "      <td>this is a great tool for data science</td>\n",
       "      <td>2019-02-13T20:50:50Z</td>\n",
       "      <td>2</td>\n",
       "      <td>2019-02-13T20:39:23Z</td>\n",
       "      <td>closed</td>\n",
       "      <td>anaconda for data science</td>\n",
       "    </tr>\n",
       "    <tr>\n",
       "      <th>2</th>\n",
       "      <td>Google Colaboratory is a research tool for mac...</td>\n",
       "      <td>None</td>\n",
       "      <td>2</td>\n",
       "      <td>2019-02-13T04:03:29Z</td>\n",
       "      <td>open</td>\n",
       "      <td>Add google Colab linking</td>\n",
       "    </tr>\n",
       "    <tr>\n",
       "      <th>3</th>\n",
       "      <td>Binder logo needs to be displayed along with n...</td>\n",
       "      <td>2019-02-13T04:02:00Z</td>\n",
       "      <td>1</td>\n",
       "      <td>2019-02-13T04:00:25Z</td>\n",
       "      <td>closed</td>\n",
       "      <td>Binder logo</td>\n",
       "    </tr>\n",
       "  </tbody>\n",
       "</table>\n",
       "</div>"
      ],
      "text/plain": [
       "                                                body             closed_at  \\\n",
       "0  Can these notebook linked to some compute envi...  2019-02-13T22:05:06Z   \n",
       "1              this is a great tool for data science  2019-02-13T20:50:50Z   \n",
       "2  Google Colaboratory is a research tool for mac...                  None   \n",
       "3  Binder logo needs to be displayed along with n...  2019-02-13T04:02:00Z   \n",
       "\n",
       "   comments            created_at   state                      title  \n",
       "0         1  2019-02-13T22:03:05Z  closed                 JupyterHub  \n",
       "1         2  2019-02-13T20:39:23Z  closed  anaconda for data science  \n",
       "2         2  2019-02-13T04:03:29Z    open   Add google Colab linking  \n",
       "3         1  2019-02-13T04:00:25Z  closed                Binder logo  "
      ]
     },
     "execution_count": 19,
     "metadata": {},
     "output_type": "execute_result"
    }
   ],
   "source": [
    "issue_df=pd.DataFrame(modifed_issues)\n",
    "issue_df"
   ]
  },
  {
   "cell_type": "code",
   "execution_count": 20,
   "metadata": {},
   "outputs": [
    {
     "data": {
      "text/plain": [
       "body          object\n",
       "closed_at     object\n",
       "comments       int64\n",
       "created_at    object\n",
       "state         object\n",
       "title         object\n",
       "dtype: object"
      ]
     },
     "execution_count": 20,
     "metadata": {},
     "output_type": "execute_result"
    }
   ],
   "source": [
    "issue_df.dtypes"
   ]
  },
  {
   "cell_type": "code",
   "execution_count": 21,
   "metadata": {},
   "outputs": [],
   "source": [
    "issue_df.created_at= pd.to_datetime(issue_df.created_at)\n",
    "issue_df.closed_at = pd.to_datetime(issue_df.closed_at)"
   ]
  },
  {
   "cell_type": "code",
   "execution_count": 22,
   "metadata": {},
   "outputs": [
    {
     "data": {
      "text/plain": [
       "body                  object\n",
       "closed_at     datetime64[ns]\n",
       "comments               int64\n",
       "created_at    datetime64[ns]\n",
       "state                 object\n",
       "title                 object\n",
       "dtype: object"
      ]
     },
     "execution_count": 22,
     "metadata": {},
     "output_type": "execute_result"
    }
   ],
   "source": [
    "issue_df.dtypes"
   ]
  },
  {
   "cell_type": "code",
   "execution_count": 23,
   "metadata": {},
   "outputs": [],
   "source": [
    "issue_df['time_to_close'] = issue_df.closed_at - issue_df.created_at"
   ]
  },
  {
   "cell_type": "code",
   "execution_count": 24,
   "metadata": {},
   "outputs": [
    {
     "data": {
      "text/html": [
       "<div>\n",
       "<style scoped>\n",
       "    .dataframe tbody tr th:only-of-type {\n",
       "        vertical-align: middle;\n",
       "    }\n",
       "\n",
       "    .dataframe tbody tr th {\n",
       "        vertical-align: top;\n",
       "    }\n",
       "\n",
       "    .dataframe thead th {\n",
       "        text-align: right;\n",
       "    }\n",
       "</style>\n",
       "<table border=\"1\" class=\"dataframe\">\n",
       "  <thead>\n",
       "    <tr style=\"text-align: right;\">\n",
       "      <th></th>\n",
       "      <th>body</th>\n",
       "      <th>closed_at</th>\n",
       "      <th>comments</th>\n",
       "      <th>created_at</th>\n",
       "      <th>state</th>\n",
       "      <th>title</th>\n",
       "      <th>time_to_close</th>\n",
       "    </tr>\n",
       "  </thead>\n",
       "  <tbody>\n",
       "    <tr>\n",
       "      <th>0</th>\n",
       "      <td>Can these notebook linked to some compute envi...</td>\n",
       "      <td>2019-02-13 22:05:06</td>\n",
       "      <td>1</td>\n",
       "      <td>2019-02-13 22:03:05</td>\n",
       "      <td>closed</td>\n",
       "      <td>JupyterHub</td>\n",
       "      <td>00:02:01</td>\n",
       "    </tr>\n",
       "    <tr>\n",
       "      <th>1</th>\n",
       "      <td>this is a great tool for data science</td>\n",
       "      <td>2019-02-13 20:50:50</td>\n",
       "      <td>2</td>\n",
       "      <td>2019-02-13 20:39:23</td>\n",
       "      <td>closed</td>\n",
       "      <td>anaconda for data science</td>\n",
       "      <td>00:11:27</td>\n",
       "    </tr>\n",
       "    <tr>\n",
       "      <th>2</th>\n",
       "      <td>Google Colaboratory is a research tool for mac...</td>\n",
       "      <td>NaT</td>\n",
       "      <td>2</td>\n",
       "      <td>2019-02-13 04:03:29</td>\n",
       "      <td>open</td>\n",
       "      <td>Add google Colab linking</td>\n",
       "      <td>NaT</td>\n",
       "    </tr>\n",
       "    <tr>\n",
       "      <th>3</th>\n",
       "      <td>Binder logo needs to be displayed along with n...</td>\n",
       "      <td>2019-02-13 04:02:00</td>\n",
       "      <td>1</td>\n",
       "      <td>2019-02-13 04:00:25</td>\n",
       "      <td>closed</td>\n",
       "      <td>Binder logo</td>\n",
       "      <td>00:01:35</td>\n",
       "    </tr>\n",
       "  </tbody>\n",
       "</table>\n",
       "</div>"
      ],
      "text/plain": [
       "                                                body           closed_at  \\\n",
       "0  Can these notebook linked to some compute envi... 2019-02-13 22:05:06   \n",
       "1              this is a great tool for data science 2019-02-13 20:50:50   \n",
       "2  Google Colaboratory is a research tool for mac...                 NaT   \n",
       "3  Binder logo needs to be displayed along with n... 2019-02-13 04:02:00   \n",
       "\n",
       "   comments          created_at   state                      title  \\\n",
       "0         1 2019-02-13 22:03:05  closed                 JupyterHub   \n",
       "1         2 2019-02-13 20:39:23  closed  anaconda for data science   \n",
       "2         2 2019-02-13 04:03:29    open   Add google Colab linking   \n",
       "3         1 2019-02-13 04:00:25  closed                Binder logo   \n",
       "\n",
       "  time_to_close  \n",
       "0      00:02:01  \n",
       "1      00:11:27  \n",
       "2           NaT  \n",
       "3      00:01:35  "
      ]
     },
     "execution_count": 24,
     "metadata": {},
     "output_type": "execute_result"
    }
   ],
   "source": [
    "issue_df"
   ]
  },
  {
   "cell_type": "code",
   "execution_count": 25,
   "metadata": {},
   "outputs": [
    {
     "data": {
      "text/plain": [
       "Timedelta('0 days 00:05:01')"
      ]
     },
     "execution_count": 25,
     "metadata": {},
     "output_type": "execute_result"
    }
   ],
   "source": [
    "issue_df['time_to_close'].mean()"
   ]
  },
  {
   "cell_type": "markdown",
   "metadata": {},
   "source": [
    "# Q8 Print file name,  file size in byte, number of characters excluding white space in all the file with extension logxx"
   ]
  },
  {
   "cell_type": "markdown",
   "metadata": {},
   "source": [
    "Here is how we get the length of  string or word in bash"
   ]
  },
  {
   "cell_type": "code",
   "execution_count": 67,
   "metadata": {},
   "outputs": [
    {
     "name": "stdout",
     "output_type": "stream",
     "text": [
      "Length of word dataset is 7\n"
     ]
    }
   ],
   "source": [
    "%%bash\n",
    "aa='dataset'\n",
    "echo \"Length of word $aa is ${#aa}\""
   ]
  },
  {
   "cell_type": "markdown",
   "metadata": {},
   "source": [
    "Finish the script in the next cell to print file name, file size in bytes and total character excluding spaces."
   ]
  },
  {
   "cell_type": "code",
   "execution_count": 28,
   "metadata": {},
   "outputs": [
    {
     "name": "stdout",
     "output_type": "stream",
     "text": [
      "File size, # character or # words, # lines\n",
      "\n",
      "payment_gateway1.logxx, 665, 628\n",
      "payment_gateway2.logxx, 22, 18\n",
      "payment_gateway.logxx, 853, 807\n",
      "665 payment_gateway1.logxx 22 payment_gateway2.logxx 853 payment_gateway.logxx\n"
     ]
    }
   ],
   "source": [
    "%%bash\n",
    "echo -e \"test line1\\ntest line2\" > payment_gateway2.logxx\n",
    "file_info=`ls -l *.logxx |awk '  {print $5 \" \"  $NF}'`\n",
    "\n",
    "echo -e \"File size, # character or # words, # lines\\n\"\n",
    "\n",
    "echo \"$file_info\"|while read line\n",
    "do\n",
    " size=`echo $line| cut -d ' ' -f1`\n",
    " name=`echo $line| cut -d ' ' -f2`\n",
    " #echo $size  `wc $name`\n",
    " total_char=0\n",
    " for words in `cat $name`\n",
    " do\n",
    "  total_char=$(($total_char + ${#words}))\n",
    " done\n",
    " echo $name, $size, $total_char\n",
    "done \n",
    "echo $file_info\n"
   ]
  }
 ],
 "metadata": {
  "kernelspec": {
   "display_name": "Python 3",
   "language": "python",
   "name": "python3"
  },
  "language_info": {
   "codemirror_mode": {
    "name": "ipython",
    "version": 3
   },
   "file_extension": ".py",
   "mimetype": "text/x-python",
   "name": "python",
   "nbconvert_exporter": "python",
   "pygments_lexer": "ipython3",
   "version": "3.5.2"
  }
 },
 "nbformat": 4,
 "nbformat_minor": 2
}
