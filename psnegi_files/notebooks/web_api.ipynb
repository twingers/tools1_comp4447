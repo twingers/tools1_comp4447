{
 "cells": [
  {
   "cell_type": "markdown",
   "metadata": {},
   "source": [
    "# What is REST API and why to use api?\n",
    "\n",
    "[REST](https://www.ics.uci.edu/~fielding/pubs/dissertation/rest_arch_style.htm): **Representational State Transfer**\n",
    "\n",
    "- Architectural style for communication often used in Web service development.\n",
    "- Uses a stateless operation in client server protocol to manipulate  server resources(image, blog etc.) in the web.\n",
    "\n",
    "When using [http](https://www.ietf.org/rfc/rfc2616.txt)/https most common available operations are\n",
    "\n"
   ]
  },
  {
   "cell_type": "markdown",
   "metadata": {},
   "source": [
    "**GET**: To get the data from server\n",
    "\n",
    "**POST**: To submit data\n",
    "\n",
    "**PUT**: to update a resource\n",
    "\n",
    "**DELETE**: delete the resource\n",
    "\n",
    "\n",
    "Response will have a payload formatted in HTML, XML, **JSON**, or some other format."
   ]
  },
  {
   "cell_type": "markdown",
   "metadata": {},
   "source": [
    "# JSON (Java Script object notation)\n",
    "json is primary format used for data exchange. python has json library. we can use it to convert python object to string(**dumps method**) and  vice -versa **loads method**."
   ]
  },
  {
   "cell_type": "markdown",
   "metadata": {},
   "source": [
    "# Status code for GET request\n",
    "- 200: success\n",
    "- 400: bad request\n",
    "- 401: authentication failure\n",
    "- 404: resouce not found. Like wrong endpoint"
   ]
  },
  {
   "cell_type": "markdown",
   "metadata": {},
   "source": [
    "Client applications use URI/URL to access RESTFUL web services.\n",
    "\n",
    "REST API has __*base url + endpoint+ parameters*__\n",
    "\n",
    "e.g - https://api.github.com/users\n",
    "    - https://api.github.com/users/user_id/repos"
   ]
  },
  {
   "cell_type": "markdown",
   "metadata": {},
   "source": [
    "**Before using python Requests module, let's use curl to see rest API in action**\n",
    "\n",
    "Using github developer API we can get list of users as"
   ]
  },
  {
   "cell_type": "code",
   "execution_count": null,
   "metadata": {},
   "outputs": [],
   "source": [
    "!curl https://api.github.com/users"
   ]
  },
  {
   "cell_type": "markdown",
   "metadata": {},
   "source": [
    "# [Requests: HTTP for Humans](http://docs.python-requests.org/en/master/)\n",
    "\n",
    "From the website\n",
    "\n",
    "**\"*Requests allows you to send organic, grass-fed HTTP/1.1 requests, without the need for manual labor.*\"**\n",
    "\n",
    "Let's try to get NASA data using web API"
   ]
  },
  {
   "cell_type": "code",
   "execution_count": 3,
   "metadata": {},
   "outputs": [],
   "source": [
    "import requests"
   ]
  },
  {
   "cell_type": "markdown",
   "metadata": {},
   "source": [
    "## APOD( Astronomy Picture of the Day)\n",
    "For passing parameters to the API using python dictionary"
   ]
  },
  {
   "cell_type": "code",
   "execution_count": null,
   "metadata": {},
   "outputs": [],
   "source": [
    "parameters = {\"api_key\":\"DEMO_KEY\"}\n",
    "response = requests.get(\"https://api.nasa.gov/planetary/apod\", params=parameters)"
   ]
  },
  {
   "cell_type": "code",
   "execution_count": null,
   "metadata": {},
   "outputs": [],
   "source": [
    "print(response.status_code)"
   ]
  },
  {
   "cell_type": "markdown",
   "metadata": {},
   "source": [
    "Codes are available as"
   ]
  },
  {
   "cell_type": "code",
   "execution_count": null,
   "metadata": {},
   "outputs": [],
   "source": [
    "requests.codes.ok"
   ]
  },
  {
   "cell_type": "code",
   "execution_count": null,
   "metadata": {},
   "outputs": [],
   "source": [
    "response.headers"
   ]
  },
  {
   "cell_type": "code",
   "execution_count": null,
   "metadata": {},
   "outputs": [],
   "source": [
    "response.text"
   ]
  },
  {
   "cell_type": "code",
   "execution_count": null,
   "metadata": {},
   "outputs": [],
   "source": [
    "json_data = response.json()\n",
    "type(json_data)"
   ]
  },
  {
   "cell_type": "code",
   "execution_count": null,
   "metadata": {},
   "outputs": [],
   "source": [
    "#!pip install pillow"
   ]
  },
  {
   "cell_type": "code",
   "execution_count": null,
   "metadata": {},
   "outputs": [],
   "source": [
    "from PIL import Image\n",
    "from io import BytesIO\n",
    "response = requests.get(json_data['url'])\n",
    "img = Image.open(BytesIO(response.content))"
   ]
  },
  {
   "cell_type": "code",
   "execution_count": null,
   "metadata": {},
   "outputs": [],
   "source": [
    "%matplotlib inline\n",
    "import matplotlib.pyplot as plt\n"
   ]
  },
  {
   "cell_type": "code",
   "execution_count": null,
   "metadata": {
    "scrolled": false
   },
   "outputs": [],
   "source": [
    "fig, ax = plt.subplots(figsize=(14, 14))\n",
    "ax.imshow(img)"
   ]
  },
  {
   "cell_type": "markdown",
   "metadata": {},
   "source": [
    "## Mars rovers photo"
   ]
  },
  {
   "cell_type": "code",
   "execution_count": null,
   "metadata": {},
   "outputs": [],
   "source": [
    "parameters = {\"api_key\":\"DEMO_KEY\", \"sol\":1000, \"camera\":\"fhaz\"}\n",
    "api_end_point= \"https://api.nasa.gov/mars-photos/api/v1/rovers/curiosity/photos\"\n",
    "response = requests.get(api_end_point, params=parameters)\n",
    "response.status_code"
   ]
  },
  {
   "cell_type": "code",
   "execution_count": null,
   "metadata": {},
   "outputs": [],
   "source": [
    "json_data = response.json()\n",
    "json_data"
   ]
  },
  {
   "cell_type": "code",
   "execution_count": null,
   "metadata": {},
   "outputs": [],
   "source": [
    "\n",
    "for image_data in json_data['photos']:\n",
    "    response = requests.get(image_data['img_src'])\n",
    "    fig, ax = plt.subplots(figsize=(14, 14))\n",
    "    img = Image.open(BytesIO(response.content))\n",
    "    ax.imshow(img)"
   ]
  },
  {
   "cell_type": "markdown",
   "metadata": {},
   "source": [
    "# Twitter example with POST and GET"
   ]
  },
  {
   "cell_type": "markdown",
   "metadata": {},
   "source": [
    "1. create new app at https://apps.twitter.com/app/new\n",
    "1. [twitter api reference index](https://developer.twitter.com/en/docs/api-reference-index)\n"
   ]
  },
  {
   "cell_type": "markdown",
   "metadata": {},
   "source": [
    "# POST oauth2/token\n",
    "Allows a registered application to obtain an OAuth 2 Bearer Token, which can be used to make API requests on an application's own behalf, without a user context.\n",
    "https://developer.twitter.com/en/docs/basics/authentication/api-reference/token\n"
   ]
  },
  {
   "cell_type": "code",
   "execution_count": 5,
   "metadata": {},
   "outputs": [],
   "source": [
    "# Use your app credentials\n",
    "client_key = \n",
    "client_secret = "
   ]
  },
  {
   "cell_type": "code",
   "execution_count": 6,
   "metadata": {},
   "outputs": [],
   "source": [
    "import base64\n",
    "\n",
    "key_secret = '{}:{}'.format(client_key, client_secret).encode('ascii')\n",
    "b64_encoded_key = base64.b64encode(key_secret)\n",
    "b64_encoded_key = b64_encoded_key.decode('ascii')"
   ]
  },
  {
   "cell_type": "code",
   "execution_count": 7,
   "metadata": {},
   "outputs": [],
   "source": [
    "base_url = 'https://api.twitter.com/'\n",
    "auth_endpoint = base_url+'oauth2/token'\n",
    "\n",
    "auth_headers = { 'Authorization': 'Basic {}'.format(b64_encoded_key),\n",
    "                'Content-Type': 'application/x-www-form-urlencoded;charset=UTF-8'}\n",
    "\n",
    "auth_data = { 'grant_type': 'client_credentials'}\n",
    "\n"
   ]
  },
  {
   "cell_type": "markdown",
   "metadata": {},
   "source": [
    "Let's post to authentication endpoint and get the token to be used in subsequent REST API call"
   ]
  },
  {
   "cell_type": "code",
   "execution_count": 9,
   "metadata": {},
   "outputs": [
    {
     "data": {
      "text/plain": [
       "200"
      ]
     },
     "execution_count": 9,
     "metadata": {},
     "output_type": "execute_result"
    }
   ],
   "source": [
    "response = requests.post(auth_endpoint, headers=auth_headers, data=auth_data)\n",
    "response.status_code"
   ]
  },
  {
   "cell_type": "code",
   "execution_count": 10,
   "metadata": {},
   "outputs": [
    {
     "data": {
      "text/plain": [
       "{'access_token': 'AAAAAAAAAAAAAAAAAAAAAEGe9QAAAAAALnCjfdkTP%2FJGQxEZOPTqGQL7jUs%3DTVrscEzlzvKPhNerXde7Btkx2aJ2TYtpuCpaHC3TwRfIKnX4vL',\n",
       " 'token_type': 'bearer'}"
      ]
     },
     "execution_count": 10,
     "metadata": {},
     "output_type": "execute_result"
    }
   ],
   "source": [
    "json_data =  response.json()\n",
    "json_data"
   ]
  },
  {
   "cell_type": "code",
   "execution_count": 11,
   "metadata": {},
   "outputs": [],
   "source": [
    "access_token = json_data['access_token']"
   ]
  },
  {
   "cell_type": "markdown",
   "metadata": {},
   "source": [
    "# Let's do some search on climate change\n",
    "This is how we got search endpoint\n",
    "\n",
    "https://developer.twitter.com/en/docs/tweets/search/api-reference/get-search-tweets"
   ]
  },
  {
   "cell_type": "code",
   "execution_count": 12,
   "metadata": {},
   "outputs": [],
   "source": [
    "search_headers = {'Authorization': 'Bearer {}'.format(access_token)    \n",
    "}\n",
    "\n",
    "parameters = { 'q': 'climate change',\n",
    "                    'result_type': 'recent',\n",
    "                'count': 5 }\n",
    "\n",
    "search_url = base_url+'1.1/search/tweets.json'\n",
    "\n",
    "response = requests.get(search_url, headers=search_headers, params=parameters)"
   ]
  },
  {
   "cell_type": "code",
   "execution_count": null,
   "metadata": {
    "scrolled": true
   },
   "outputs": [],
   "source": [
    "json_tweet_data = response.json()\n"
   ]
  },
  {
   "cell_type": "code",
   "execution_count": 17,
   "metadata": {},
   "outputs": [],
   "source": [
    "import pprint"
   ]
  },
  {
   "cell_type": "code",
   "execution_count": null,
   "metadata": {},
   "outputs": [],
   "source": [
    "pprint.pprint(json_tweet_data)"
   ]
  },
  {
   "cell_type": "code",
   "execution_count": null,
   "metadata": {},
   "outputs": [],
   "source": [
    "for status in json_tweet_data['statuses']:\n",
    "    print(status['text'] + '\\n')"
   ]
  }
 ],
 "metadata": {
  "kernelspec": {
   "display_name": "Python 3",
   "language": "python",
   "name": "python3"
  },
  "language_info": {
   "codemirror_mode": {
    "name": "ipython",
    "version": 3
   },
   "file_extension": ".py",
   "mimetype": "text/x-python",
   "name": "python",
   "nbconvert_exporter": "python",
   "pygments_lexer": "ipython3",
   "version": "3.5.2"
  }
 },
 "nbformat": 4,
 "nbformat_minor": 2
}
