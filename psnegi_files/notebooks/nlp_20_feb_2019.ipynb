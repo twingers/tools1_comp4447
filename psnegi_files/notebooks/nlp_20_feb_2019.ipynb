{
 "cells": [
  {
   "cell_type": "markdown",
   "metadata": {
    "slideshow": {
     "slide_type": "slide"
    }
   },
   "source": [
    "# NLP(Natural language processing)\n",
    "\n",
    "  Natural languages(English, Japanese etc.) is different than computer language. It evolves and changes.\n",
    "  In NLP we are concerned with how to program computer to process and analyze natural language data(text).\n",
    "    NLP is defined as a  field of computer science  and artificial intelligence with roots in linguistics."
   ]
  },
  {
   "cell_type": "markdown",
   "metadata": {
    "slideshow": {
     "slide_type": "subslide"
    }
   },
   "source": [
    "# Why?\n",
    "- We have large volume of unstructured text data\n",
    "    + How to apply statistical analysis/machine learning to extract useful insight from this?\n",
    "- Most of the data analysis is numeric\n",
    "    + We need specialized technique like NLP"
   ]
  },
  {
   "cell_type": "markdown",
   "metadata": {
    "slideshow": {
     "slide_type": "subslide"
    }
   },
   "source": [
    "# Applications\n",
    "- Machine translation\n",
    "- Speech Recognition Systems\n",
    "- Question Answering Systems\n",
    "- Text summarization, categorization/classification/clustering\n",
    "    - Sentiment analysis\n",
    "    - Chatbots\n",
    "    - Spam detection\n",
    "\n"
   ]
  },
  {
   "cell_type": "markdown",
   "metadata": {
    "slideshow": {
     "slide_type": "subslide"
    }
   },
   "source": [
    "Building any of above application is a bit involved process as text is free flowing, unstructured data.\n",
    "It requires \n",
    "- cleaning (misspelled text, duplicates, removing stopwords),\n",
    "- tokenization: list of words.\n",
    "- tagging(POS), stemming, lemmatization and \n",
    "- conversion to word vector before using any machine learning or statistical technique"
   ]
  },
  {
   "cell_type": "markdown",
   "metadata": {
    "slideshow": {
     "slide_type": "slide"
    }
   },
   "source": [
    "- POS tagging: Each word has pos tag indicating  part of the speech.\n",
    "  + Here is some list list [penn pos](https://www.clips.uantwerpen.be/pages/mbsp-tags)\n",
    "  + Here is a demo [Parts-of-speech.Info](https://parts-of-speech.info/)\n",
    "\n"
   ]
  },
  {
   "cell_type": "markdown",
   "metadata": {
    "slideshow": {
     "slide_type": "slide"
    }
   },
   "source": [
    "# Stemming and lemmatization\n",
    "In NLP, Stemming and lemmatization are text normalization technique to prepare text(word, sentence etc.) for further processing. In web search and information retrieval it is a common activity to increase the recall. These are common step after tokenization of text."
   ]
  },
  {
   "cell_type": "markdown",
   "metadata": {
    "slideshow": {
     "slide_type": "subslide"
    }
   },
   "source": [
    "- Stem: Part of the words to which affixes can be added. \n",
    "A stem is a part of a word to which [inflectional](https://en.wikipedia.org/wiki/Inflection) affixes**(ed, ing, ize, s, de)** can be attached.   Stemming is the process of reducing inflected (or sometimes derived) words to their word stem or root(may not be a word). Like apple and apples down to appl if you [Porter stemmer](https://tartarus.org/martin/PorterStemmer/)\n",
    "- Lemma: A lemma is the  base form(part of the language) for a set of words like  geese to goose.\n",
    "    + Note: stem of these words woud be gees and goos as per Porter stemmer. Lemmatization((careful approach to removing inflections)) is the process of creating  base form typically based on lexical knowledge base like [WordNet](https://wordnet.princeton.edu/).\n",
    "\n",
    "Stemming is not perfect. Porter stemming stems both meanness and meaning to mean, creating a false equivalence.\n"
   ]
  },
  {
   "cell_type": "markdown",
   "metadata": {
    "slideshow": {
     "slide_type": "slide"
    }
   },
   "source": [
    "Let's see some available text data(Text corpora).\n",
    "# Text corpora\n",
    "\n",
    "Large amount of written or spoken textual data. It has usually associated with some meta data.\n"
   ]
  },
  {
   "cell_type": "markdown",
   "metadata": {
    "slideshow": {
     "slide_type": "subslide"
    }
   },
   "source": [
    "# Some popular corpora\n",
    "- Brown Corpus: This was the first million-word corpus for the English language, published by Kucera and Francis in 1961.\n",
    "- WordNet: This corpus is a semantic-oriented lexical database for the English language. It was created at Princeton University\n",
    "- Penn Treebank: This corpus consists of tagged and parsed English sentences including annotations like POS tags and grammar-based parse trees.\n",
    "- Google N-gram Corpus: The Google N-gram Corpus consists of over a trillion words from various sources including books, web pages etc.\n",
    "- Web, chat, email, tweets: We can gather this kind of textual data from social media.\n",
    "\n"
   ]
  },
  {
   "cell_type": "markdown",
   "metadata": {
    "slideshow": {
     "slide_type": "subslide"
    }
   },
   "source": [
    "# Some popular framework for text analysis\n",
    "- nltk Natural Language Toolkit\n",
    "- gensim: The gensim library has a rich set of capabilities for semantic analysis, including topic modeling and similarity analysis.\n",
    "- textblob: text processing, phrase extraction, classification, POS tagging, and sentiment analysis\n",
    "- spacy: claims to provide industrial-strength NLP capabilities by providing the best implementation of each technique and algorithm"
   ]
  },
  {
   "cell_type": "markdown",
   "metadata": {
    "slideshow": {
     "slide_type": "slide"
    }
   },
   "source": [
    "# Let's use nltk to access some corpora using nltk"
   ]
  },
  {
   "cell_type": "code",
   "execution_count": 1,
   "metadata": {
    "slideshow": {
     "slide_type": "subslide"
    }
   },
   "outputs": [
    {
     "name": "stdout",
     "output_type": "stream",
     "text": [
      "Requirement already satisfied: nltk in /media/psnegi/psn/du/teaching/teach_2019/prep/data_science_tools1/prep_dst1_env/lib/python3.5/site-packages (3.4)\n",
      "Requirement already satisfied: six in /media/psnegi/psn/du/teaching/teach_2019/prep/data_science_tools1/prep_dst1_env/lib/python3.5/site-packages (from nltk) (1.12.0)\n",
      "Requirement already satisfied: singledispatch in /media/psnegi/psn/du/teaching/teach_2019/prep/data_science_tools1/prep_dst1_env/lib/python3.5/site-packages (from nltk) (3.4.0.3)\n",
      "\u001b[33mYou are using pip version 18.1, however version 19.0.2 is available.\n",
      "You should consider upgrading via the 'pip install --upgrade pip' command.\u001b[0m\n"
     ]
    }
   ],
   "source": [
    "!pip install nltk"
   ]
  },
  {
   "cell_type": "code",
   "execution_count": 2,
   "metadata": {
    "slideshow": {
     "slide_type": "fragment"
    }
   },
   "outputs": [],
   "source": [
    "import nltk\n"
   ]
  },
  {
   "cell_type": "code",
   "execution_count": 3,
   "metadata": {
    "slideshow": {
     "slide_type": "fragment"
    }
   },
   "outputs": [
    {
     "name": "stderr",
     "output_type": "stream",
     "text": [
      "[nltk_data] Downloading collection 'all'\n",
      "[nltk_data]    | \n",
      "[nltk_data]    | Downloading package abc to /home/pooran/nltk_data...\n",
      "[nltk_data]    |   Package abc is already up-to-date!\n",
      "[nltk_data]    | Downloading package alpino to\n",
      "[nltk_data]    |     /home/pooran/nltk_data...\n",
      "[nltk_data]    |   Unzipping corpora/alpino.zip.\n",
      "[nltk_data]    | Downloading package biocreative_ppi to\n",
      "[nltk_data]    |     /home/pooran/nltk_data...\n",
      "[nltk_data]    |   Unzipping corpora/biocreative_ppi.zip.\n",
      "[nltk_data]    | Downloading package brown to\n",
      "[nltk_data]    |     /home/pooran/nltk_data...\n",
      "[nltk_data]    |   Package brown is already up-to-date!\n",
      "[nltk_data]    | Downloading package brown_tei to\n",
      "[nltk_data]    |     /home/pooran/nltk_data...\n",
      "[nltk_data]    |   Unzipping corpora/brown_tei.zip.\n",
      "[nltk_data]    | Downloading package cess_cat to\n",
      "[nltk_data]    |     /home/pooran/nltk_data...\n",
      "[nltk_data]    |   Unzipping corpora/cess_cat.zip.\n",
      "[nltk_data]    | Downloading package cess_esp to\n",
      "[nltk_data]    |     /home/pooran/nltk_data...\n",
      "[nltk_data]    |   Unzipping corpora/cess_esp.zip.\n",
      "[nltk_data]    | Downloading package chat80 to\n",
      "[nltk_data]    |     /home/pooran/nltk_data...\n",
      "[nltk_data]    |   Package chat80 is already up-to-date!\n",
      "[nltk_data]    | Downloading package city_database to\n",
      "[nltk_data]    |     /home/pooran/nltk_data...\n",
      "[nltk_data]    |   Package city_database is already up-to-date!\n",
      "[nltk_data]    | Downloading package cmudict to\n",
      "[nltk_data]    |     /home/pooran/nltk_data...\n",
      "[nltk_data]    |   Package cmudict is already up-to-date!\n",
      "[nltk_data]    | Downloading package comparative_sentences to\n",
      "[nltk_data]    |     /home/pooran/nltk_data...\n",
      "[nltk_data]    |   Unzipping corpora/comparative_sentences.zip.\n",
      "[nltk_data]    | Downloading package comtrans to\n",
      "[nltk_data]    |     /home/pooran/nltk_data...\n",
      "[nltk_data]    | Downloading package conll2000 to\n",
      "[nltk_data]    |     /home/pooran/nltk_data...\n",
      "[nltk_data]    |   Package conll2000 is already up-to-date!\n",
      "[nltk_data]    | Downloading package conll2002 to\n",
      "[nltk_data]    |     /home/pooran/nltk_data...\n",
      "[nltk_data]    |   Package conll2002 is already up-to-date!\n",
      "[nltk_data]    | Downloading package conll2007 to\n",
      "[nltk_data]    |     /home/pooran/nltk_data...\n",
      "[nltk_data]    | Downloading package crubadan to\n",
      "[nltk_data]    |     /home/pooran/nltk_data...\n",
      "[nltk_data]    |   Unzipping corpora/crubadan.zip.\n",
      "[nltk_data]    | Downloading package dependency_treebank to\n",
      "[nltk_data]    |     /home/pooran/nltk_data...\n",
      "[nltk_data]    |   Package dependency_treebank is already up-to-date!\n",
      "[nltk_data]    | Downloading package dolch to\n",
      "[nltk_data]    |     /home/pooran/nltk_data...\n",
      "[nltk_data]    |   Unzipping corpora/dolch.zip.\n",
      "[nltk_data]    | Downloading package europarl_raw to\n",
      "[nltk_data]    |     /home/pooran/nltk_data...\n",
      "[nltk_data]    |   Unzipping corpora/europarl_raw.zip.\n",
      "[nltk_data]    | Downloading package floresta to\n",
      "[nltk_data]    |     /home/pooran/nltk_data...\n",
      "[nltk_data]    |   Unzipping corpora/floresta.zip.\n",
      "[nltk_data]    | Downloading package framenet_v15 to\n",
      "[nltk_data]    |     /home/pooran/nltk_data...\n",
      "[nltk_data]    |   Unzipping corpora/framenet_v15.zip.\n",
      "[nltk_data]    | Downloading package framenet_v17 to\n",
      "[nltk_data]    |     /home/pooran/nltk_data...\n",
      "[nltk_data]    |   Unzipping corpora/framenet_v17.zip.\n",
      "[nltk_data]    | Downloading package gazetteers to\n",
      "[nltk_data]    |     /home/pooran/nltk_data...\n",
      "[nltk_data]    |   Unzipping corpora/gazetteers.zip.\n",
      "[nltk_data]    | Downloading package genesis to\n",
      "[nltk_data]    |     /home/pooran/nltk_data...\n",
      "[nltk_data]    |   Package genesis is already up-to-date!\n",
      "[nltk_data]    | Downloading package gutenberg to\n",
      "[nltk_data]    |     /home/pooran/nltk_data...\n",
      "[nltk_data]    |   Package gutenberg is already up-to-date!\n",
      "[nltk_data]    | Downloading package ieer to /home/pooran/nltk_data...\n",
      "[nltk_data]    |   Package ieer is already up-to-date!\n",
      "[nltk_data]    | Downloading package inaugural to\n",
      "[nltk_data]    |     /home/pooran/nltk_data...\n",
      "[nltk_data]    |   Package inaugural is already up-to-date!\n",
      "[nltk_data]    | Downloading package indian to\n",
      "[nltk_data]    |     /home/pooran/nltk_data...\n",
      "[nltk_data]    |   Unzipping corpora/indian.zip.\n",
      "[nltk_data]    | Downloading package jeita to\n",
      "[nltk_data]    |     /home/pooran/nltk_data...\n",
      "[nltk_data]    | Downloading package kimmo to\n",
      "[nltk_data]    |     /home/pooran/nltk_data...\n",
      "[nltk_data]    |   Unzipping corpora/kimmo.zip.\n",
      "[nltk_data]    | Downloading package knbc to /home/pooran/nltk_data...\n",
      "[nltk_data]    | Downloading package lin_thesaurus to\n",
      "[nltk_data]    |     /home/pooran/nltk_data...\n",
      "[nltk_data]    |   Unzipping corpora/lin_thesaurus.zip.\n",
      "[nltk_data]    | Downloading package mac_morpho to\n",
      "[nltk_data]    |     /home/pooran/nltk_data...\n",
      "[nltk_data]    |   Unzipping corpora/mac_morpho.zip.\n",
      "[nltk_data]    | Downloading package machado to\n",
      "[nltk_data]    |     /home/pooran/nltk_data...\n",
      "[nltk_data]    | Downloading package masc_tagged to\n",
      "[nltk_data]    |     /home/pooran/nltk_data...\n",
      "[nltk_data]    | Downloading package moses_sample to\n",
      "[nltk_data]    |     /home/pooran/nltk_data...\n",
      "[nltk_data]    |   Unzipping models/moses_sample.zip.\n",
      "[nltk_data]    | Downloading package movie_reviews to\n",
      "[nltk_data]    |     /home/pooran/nltk_data...\n",
      "[nltk_data]    |   Package movie_reviews is already up-to-date!\n",
      "[nltk_data]    | Downloading package names to\n",
      "[nltk_data]    |     /home/pooran/nltk_data...\n",
      "[nltk_data]    |   Package names is already up-to-date!\n",
      "[nltk_data]    | Downloading package nombank.1.0 to\n",
      "[nltk_data]    |     /home/pooran/nltk_data...\n",
      "[nltk_data]    | Downloading package nps_chat to\n",
      "[nltk_data]    |     /home/pooran/nltk_data...\n",
      "[nltk_data]    |   Package nps_chat is already up-to-date!\n",
      "[nltk_data]    | Downloading package omw to /home/pooran/nltk_data...\n",
      "[nltk_data]    |   Unzipping corpora/omw.zip.\n",
      "[nltk_data]    | Downloading package opinion_lexicon to\n",
      "[nltk_data]    |     /home/pooran/nltk_data...\n",
      "[nltk_data]    |   Unzipping corpora/opinion_lexicon.zip.\n",
      "[nltk_data]    | Downloading package paradigms to\n",
      "[nltk_data]    |     /home/pooran/nltk_data...\n",
      "[nltk_data]    |   Unzipping corpora/paradigms.zip.\n",
      "[nltk_data]    | Downloading package pil to /home/pooran/nltk_data...\n",
      "[nltk_data]    |   Unzipping corpora/pil.zip.\n",
      "[nltk_data]    | Downloading package pl196x to\n",
      "[nltk_data]    |     /home/pooran/nltk_data...\n",
      "[nltk_data]    |   Unzipping corpora/pl196x.zip.\n",
      "[nltk_data]    | Downloading package ppattach to\n",
      "[nltk_data]    |     /home/pooran/nltk_data...\n",
      "[nltk_data]    |   Package ppattach is already up-to-date!\n",
      "[nltk_data]    | Downloading package problem_reports to\n",
      "[nltk_data]    |     /home/pooran/nltk_data...\n",
      "[nltk_data]    |   Unzipping corpora/problem_reports.zip.\n",
      "[nltk_data]    | Downloading package propbank to\n",
      "[nltk_data]    |     /home/pooran/nltk_data...\n",
      "[nltk_data]    | Downloading package ptb to /home/pooran/nltk_data...\n",
      "[nltk_data]    |   Unzipping corpora/ptb.zip.\n",
      "[nltk_data]    | Downloading package product_reviews_1 to\n",
      "[nltk_data]    |     /home/pooran/nltk_data...\n",
      "[nltk_data]    |   Unzipping corpora/product_reviews_1.zip.\n",
      "[nltk_data]    | Downloading package product_reviews_2 to\n",
      "[nltk_data]    |     /home/pooran/nltk_data...\n",
      "[nltk_data]    |   Unzipping corpora/product_reviews_2.zip.\n",
      "[nltk_data]    | Downloading package pros_cons to\n",
      "[nltk_data]    |     /home/pooran/nltk_data...\n",
      "[nltk_data]    |   Unzipping corpora/pros_cons.zip.\n",
      "[nltk_data]    | Downloading package qc to /home/pooran/nltk_data...\n",
      "[nltk_data]    |   Unzipping corpora/qc.zip.\n",
      "[nltk_data]    | Downloading package reuters to\n",
      "[nltk_data]    |     /home/pooran/nltk_data...\n",
      "[nltk_data]    |   Package reuters is already up-to-date!\n",
      "[nltk_data]    | Downloading package rte to /home/pooran/nltk_data...\n",
      "[nltk_data]    |   Unzipping corpora/rte.zip.\n",
      "[nltk_data]    | Downloading package semcor to\n",
      "[nltk_data]    |     /home/pooran/nltk_data...\n",
      "[nltk_data]    | Downloading package senseval to\n",
      "[nltk_data]    |     /home/pooran/nltk_data...\n",
      "[nltk_data]    |   Package senseval is already up-to-date!\n",
      "[nltk_data]    | Downloading package sentiwordnet to\n",
      "[nltk_data]    |     /home/pooran/nltk_data...\n",
      "[nltk_data]    |   Unzipping corpora/sentiwordnet.zip.\n",
      "[nltk_data]    | Downloading package sentence_polarity to\n",
      "[nltk_data]    |     /home/pooran/nltk_data...\n"
     ]
    },
    {
     "name": "stderr",
     "output_type": "stream",
     "text": [
      "[nltk_data]    |   Unzipping corpora/sentence_polarity.zip.\n",
      "[nltk_data]    | Downloading package shakespeare to\n",
      "[nltk_data]    |     /home/pooran/nltk_data...\n",
      "[nltk_data]    |   Unzipping corpora/shakespeare.zip.\n",
      "[nltk_data]    | Downloading package sinica_treebank to\n",
      "[nltk_data]    |     /home/pooran/nltk_data...\n",
      "[nltk_data]    |   Unzipping corpora/sinica_treebank.zip.\n",
      "[nltk_data]    | Downloading package smultron to\n",
      "[nltk_data]    |     /home/pooran/nltk_data...\n",
      "[nltk_data]    |   Unzipping corpora/smultron.zip.\n",
      "[nltk_data]    | Downloading package state_union to\n",
      "[nltk_data]    |     /home/pooran/nltk_data...\n",
      "[nltk_data]    |   Package state_union is already up-to-date!\n",
      "[nltk_data]    | Downloading package stopwords to\n",
      "[nltk_data]    |     /home/pooran/nltk_data...\n",
      "[nltk_data]    |   Package stopwords is already up-to-date!\n",
      "[nltk_data]    | Downloading package subjectivity to\n",
      "[nltk_data]    |     /home/pooran/nltk_data...\n",
      "[nltk_data]    |   Unzipping corpora/subjectivity.zip.\n",
      "[nltk_data]    | Downloading package swadesh to\n",
      "[nltk_data]    |     /home/pooran/nltk_data...\n",
      "[nltk_data]    |   Package swadesh is already up-to-date!\n",
      "[nltk_data]    | Downloading package switchboard to\n",
      "[nltk_data]    |     /home/pooran/nltk_data...\n",
      "[nltk_data]    |   Unzipping corpora/switchboard.zip.\n",
      "[nltk_data]    | Downloading package timit to\n",
      "[nltk_data]    |     /home/pooran/nltk_data...\n",
      "[nltk_data]    |   Package timit is already up-to-date!\n",
      "[nltk_data]    | Downloading package toolbox to\n",
      "[nltk_data]    |     /home/pooran/nltk_data...\n",
      "[nltk_data]    |   Package toolbox is already up-to-date!\n",
      "[nltk_data]    | Downloading package treebank to\n",
      "[nltk_data]    |     /home/pooran/nltk_data...\n",
      "[nltk_data]    |   Package treebank is already up-to-date!\n",
      "[nltk_data]    | Downloading package twitter_samples to\n",
      "[nltk_data]    |     /home/pooran/nltk_data...\n",
      "[nltk_data]    |   Unzipping corpora/twitter_samples.zip.\n",
      "[nltk_data]    | Downloading package udhr to /home/pooran/nltk_data...\n",
      "[nltk_data]    |   Package udhr is already up-to-date!\n",
      "[nltk_data]    | Downloading package udhr2 to\n",
      "[nltk_data]    |     /home/pooran/nltk_data...\n",
      "[nltk_data]    |   Package udhr2 is already up-to-date!\n",
      "[nltk_data]    | Downloading package unicode_samples to\n",
      "[nltk_data]    |     /home/pooran/nltk_data...\n",
      "[nltk_data]    |   Package unicode_samples is already up-to-date!\n",
      "[nltk_data]    | Downloading package universal_treebanks_v20 to\n",
      "[nltk_data]    |     /home/pooran/nltk_data...\n",
      "[nltk_data]    | Downloading package verbnet to\n",
      "[nltk_data]    |     /home/pooran/nltk_data...\n",
      "[nltk_data]    |   Unzipping corpora/verbnet.zip.\n",
      "[nltk_data]    | Downloading package verbnet3 to\n",
      "[nltk_data]    |     /home/pooran/nltk_data...\n",
      "[nltk_data]    |   Unzipping corpora/verbnet3.zip.\n",
      "[nltk_data]    | Downloading package webtext to\n",
      "[nltk_data]    |     /home/pooran/nltk_data...\n",
      "[nltk_data]    |   Package webtext is already up-to-date!\n",
      "[nltk_data]    | Downloading package wordnet to\n",
      "[nltk_data]    |     /home/pooran/nltk_data...\n",
      "[nltk_data]    |   Package wordnet is already up-to-date!\n",
      "[nltk_data]    | Downloading package wordnet_ic to\n",
      "[nltk_data]    |     /home/pooran/nltk_data...\n",
      "[nltk_data]    |   Package wordnet_ic is already up-to-date!\n",
      "[nltk_data]    | Downloading package words to\n",
      "[nltk_data]    |     /home/pooran/nltk_data...\n",
      "[nltk_data]    |   Package words is already up-to-date!\n",
      "[nltk_data]    | Downloading package ycoe to /home/pooran/nltk_data...\n",
      "[nltk_data]    |   Unzipping corpora/ycoe.zip.\n",
      "[nltk_data]    | Downloading package rslp to /home/pooran/nltk_data...\n",
      "[nltk_data]    |   Unzipping stemmers/rslp.zip.\n",
      "[nltk_data]    | Downloading package maxent_treebank_pos_tagger to\n",
      "[nltk_data]    |     /home/pooran/nltk_data...\n",
      "[nltk_data]    |   Package maxent_treebank_pos_tagger is already up-\n",
      "[nltk_data]    |       to-date!\n",
      "[nltk_data]    | Downloading package universal_tagset to\n",
      "[nltk_data]    |     /home/pooran/nltk_data...\n",
      "[nltk_data]    |   Package universal_tagset is already up-to-date!\n",
      "[nltk_data]    | Downloading package maxent_ne_chunker to\n",
      "[nltk_data]    |     /home/pooran/nltk_data...\n",
      "[nltk_data]    |   Package maxent_ne_chunker is already up-to-date!\n",
      "[nltk_data]    | Downloading package punkt to\n",
      "[nltk_data]    |     /home/pooran/nltk_data...\n",
      "[nltk_data]    |   Package punkt is already up-to-date!\n",
      "[nltk_data]    | Downloading package book_grammars to\n",
      "[nltk_data]    |     /home/pooran/nltk_data...\n",
      "[nltk_data]    |   Package book_grammars is already up-to-date!\n",
      "[nltk_data]    | Downloading package sample_grammars to\n",
      "[nltk_data]    |     /home/pooran/nltk_data...\n",
      "[nltk_data]    |   Unzipping grammars/sample_grammars.zip.\n",
      "[nltk_data]    | Downloading package spanish_grammars to\n",
      "[nltk_data]    |     /home/pooran/nltk_data...\n",
      "[nltk_data]    |   Unzipping grammars/spanish_grammars.zip.\n",
      "[nltk_data]    | Downloading package basque_grammars to\n",
      "[nltk_data]    |     /home/pooran/nltk_data...\n",
      "[nltk_data]    |   Unzipping grammars/basque_grammars.zip.\n",
      "[nltk_data]    | Downloading package large_grammars to\n",
      "[nltk_data]    |     /home/pooran/nltk_data...\n",
      "[nltk_data]    |   Unzipping grammars/large_grammars.zip.\n",
      "[nltk_data]    | Downloading package tagsets to\n",
      "[nltk_data]    |     /home/pooran/nltk_data...\n",
      "[nltk_data]    |   Package tagsets is already up-to-date!\n",
      "[nltk_data]    | Downloading package snowball_data to\n",
      "[nltk_data]    |     /home/pooran/nltk_data...\n",
      "[nltk_data]    | Downloading package bllip_wsj_no_aux to\n",
      "[nltk_data]    |     /home/pooran/nltk_data...\n",
      "[nltk_data]    |   Unzipping models/bllip_wsj_no_aux.zip.\n",
      "[nltk_data]    | Downloading package word2vec_sample to\n",
      "[nltk_data]    |     /home/pooran/nltk_data...\n",
      "[nltk_data]    |   Unzipping models/word2vec_sample.zip.\n",
      "[nltk_data]    | Downloading package panlex_swadesh to\n",
      "[nltk_data]    |     /home/pooran/nltk_data...\n",
      "[nltk_data]    |   Package panlex_swadesh is already up-to-date!\n",
      "[nltk_data]    | Downloading package mte_teip5 to\n",
      "[nltk_data]    |     /home/pooran/nltk_data...\n",
      "[nltk_data]    |   Unzipping corpora/mte_teip5.zip.\n",
      "[nltk_data]    | Downloading package averaged_perceptron_tagger to\n",
      "[nltk_data]    |     /home/pooran/nltk_data...\n",
      "[nltk_data]    |   Package averaged_perceptron_tagger is already up-\n",
      "[nltk_data]    |       to-date!\n",
      "[nltk_data]    | Downloading package averaged_perceptron_tagger_ru to\n",
      "[nltk_data]    |     /home/pooran/nltk_data...\n",
      "[nltk_data]    |   Unzipping\n",
      "[nltk_data]    |       taggers/averaged_perceptron_tagger_ru.zip.\n",
      "[nltk_data]    | Downloading package perluniprops to\n",
      "[nltk_data]    |     /home/pooran/nltk_data...\n",
      "[nltk_data]    |   Unzipping misc/perluniprops.zip.\n",
      "[nltk_data]    | Downloading package nonbreaking_prefixes to\n",
      "[nltk_data]    |     /home/pooran/nltk_data...\n",
      "[nltk_data]    |   Unzipping corpora/nonbreaking_prefixes.zip.\n",
      "[nltk_data]    | Downloading package vader_lexicon to\n",
      "[nltk_data]    |     /home/pooran/nltk_data...\n",
      "[nltk_data]    | Downloading package porter_test to\n",
      "[nltk_data]    |     /home/pooran/nltk_data...\n",
      "[nltk_data]    |   Unzipping stemmers/porter_test.zip.\n",
      "[nltk_data]    | Downloading package wmt15_eval to\n",
      "[nltk_data]    |     /home/pooran/nltk_data...\n",
      "[nltk_data]    |   Unzipping models/wmt15_eval.zip.\n",
      "[nltk_data]    | Downloading package mwa_ppdb to\n",
      "[nltk_data]    |     /home/pooran/nltk_data...\n",
      "[nltk_data]    |   Unzipping misc/mwa_ppdb.zip.\n",
      "[nltk_data]    | \n",
      "[nltk_data]  Done downloading collection all\n"
     ]
    },
    {
     "data": {
      "text/plain": [
       "True"
      ]
     },
     "execution_count": 3,
     "metadata": {},
     "output_type": "execute_result"
    }
   ],
   "source": [
    "nltk.download('all')"
   ]
  },
  {
   "cell_type": "markdown",
   "metadata": {
    "slideshow": {
     "slide_type": "subslide"
    }
   },
   "source": [
    "# Accessing the Brown Corpus"
   ]
  },
  {
   "cell_type": "code",
   "execution_count": 235,
   "metadata": {
    "slideshow": {
     "slide_type": "fragment"
    }
   },
   "outputs": [
    {
     "data": {
      "text/plain": [
       "'BROWN CORPUS\\n\\nA Standard Corpus of Present-Day Edited American\\nEnglish, for use with Digital Computers.\\n\\nby W. N. Francis and H. Kucera (1964)\\nDepartment of Linguistics, Brown University\\nProvidence, Rhode Island, USA\\n\\nRevised 1971, Revised and Amplified 1979\\n\\nhttp://www.hit.uib.no/icame/brown/bcm.html\\n\\nDistributed with the permission of the copyright holder,\\nredistribution permitted.\\n'"
      ]
     },
     "execution_count": 235,
     "metadata": {},
     "output_type": "execute_result"
    }
   ],
   "source": [
    "from nltk.corpus import brown\n",
    "brown.readme()"
   ]
  },
  {
   "cell_type": "code",
   "execution_count": 5,
   "metadata": {
    "slideshow": {
     "slide_type": "fragment"
    }
   },
   "outputs": [
    {
     "data": {
      "text/plain": [
       "['adventure',\n",
       " 'belles_lettres',\n",
       " 'editorial',\n",
       " 'fiction',\n",
       " 'government',\n",
       " 'hobbies',\n",
       " 'humor',\n",
       " 'learned',\n",
       " 'lore',\n",
       " 'mystery',\n",
       " 'news',\n",
       " 'religion',\n",
       " 'reviews',\n",
       " 'romance',\n",
       " 'science_fiction']"
      ]
     },
     "execution_count": 5,
     "metadata": {},
     "output_type": "execute_result"
    }
   ],
   "source": [
    "brown.categories()"
   ]
  },
  {
   "cell_type": "markdown",
   "metadata": {
    "slideshow": {
     "slide_type": "subslide"
    }
   },
   "source": [
    "We can access the tokenized sentences like"
   ]
  },
  {
   "cell_type": "code",
   "execution_count": 8,
   "metadata": {
    "slideshow": {
     "slide_type": "fragment"
    }
   },
   "outputs": [],
   "source": [
    "sentences = brown.sents(categories='adventure')"
   ]
  },
  {
   "cell_type": "code",
   "execution_count": null,
   "metadata": {
    "slideshow": {
     "slide_type": "fragment"
    }
   },
   "outputs": [],
   "source": [
    "# remove, Get the original sentence\n",
    "# write code here\n"
   ]
  },
  {
   "cell_type": "markdown",
   "metadata": {
    "slideshow": {
     "slide_type": "slide"
    }
   },
   "source": [
    "# POS tagged sentences"
   ]
  },
  {
   "cell_type": "code",
   "execution_count": 21,
   "metadata": {
    "slideshow": {
     "slide_type": "subslide"
    }
   },
   "outputs": [
    {
     "data": {
      "text/plain": [
       "[[('It', 'PPS'), ('was', 'BEDZ'), ('among', 'IN'), ('these', 'DTS'), ('that', 'CS'), ('Hinkle', 'NP'), ('identified', 'VBD'), ('a', 'AT'), ('photograph', 'NN'), ('of', 'IN'), ('Barco', 'NP'), ('!', '.'), ('!', '.')], [('For', 'CS'), ('it', 'PPS'), ('seems', 'VBZ'), ('that', 'CS'), ('Barco', 'NP'), (',', ','), ('fancying', 'VBG'), ('himself', 'PPL'), ('a', 'AT'), (\"ladies'\", 'NNS$'), ('man', 'NN'), ('(', '('), ('and', 'CC'), ('why', 'WRB'), ('not', '*'), (',', ','), ('after', 'IN'), ('seven', 'CD'), ('marriages', 'NNS'), ('?', '.'), ('?', '.')], ...]"
      ]
     },
     "execution_count": 21,
     "metadata": {},
     "output_type": "execute_result"
    }
   ],
   "source": [
    "tagged_sents= brown.tagged_sents(categories='humor')\n",
    "tagged_sents"
   ]
  },
  {
   "cell_type": "markdown",
   "metadata": {
    "slideshow": {
     "slide_type": "slide"
    }
   },
   "source": [
    "# Let's get top noun in humor and see its distribution"
   ]
  },
  {
   "cell_type": "code",
   "execution_count": 19,
   "metadata": {
    "slideshow": {
     "slide_type": "subslide"
    }
   },
   "outputs": [
    {
     "data": {
      "text/plain": [
       "[('time', 43), ('Mr.', 36), ('way', 28)]"
      ]
     },
     "execution_count": 19,
     "metadata": {},
     "output_type": "execute_result"
    }
   ],
   "source": [
    "# write code here"
   ]
  },
  {
   "cell_type": "markdown",
   "metadata": {
    "slideshow": {
     "slide_type": "subslide"
    }
   },
   "source": [
    "# Can use nltk freqdist"
   ]
  },
  {
   "cell_type": "code",
   "execution_count": 23,
   "metadata": {
    "slideshow": {
     "slide_type": "fragment"
    }
   },
   "outputs": [],
   "source": [
    "nouns_freq = nltk.FreqDist(nouns_tags)"
   ]
  },
  {
   "cell_type": "code",
   "execution_count": 26,
   "metadata": {
    "slideshow": {
     "slide_type": "fragment"
    }
   },
   "outputs": [
    {
     "data": {
      "text/plain": [
       "[('time', 43), ('Mr.', 36), ('way', 28)]"
      ]
     },
     "execution_count": 26,
     "metadata": {},
     "output_type": "execute_result"
    }
   ],
   "source": [
    "nouns_freq.most_common(3)"
   ]
  },
  {
   "cell_type": "code",
   "execution_count": 31,
   "metadata": {
    "slideshow": {
     "slide_type": "subslide"
    }
   },
   "outputs": [
    {
     "data": {
      "text/plain": [
       "500"
      ]
     },
     "execution_count": 31,
     "metadata": {},
     "output_type": "execute_result"
    }
   ],
   "source": [
    "# orignal doc id\n",
    "len(brown.fileids())"
   ]
  },
  {
   "cell_type": "markdown",
   "metadata": {
    "slideshow": {
     "slide_type": "slide"
    }
   },
   "source": [
    "# Wordnet"
   ]
  },
  {
   "cell_type": "code",
   "execution_count": 32,
   "metadata": {
    "slideshow": {
     "slide_type": "subslide"
    }
   },
   "outputs": [],
   "source": [
    "from nltk.corpus import wordnet"
   ]
  },
  {
   "cell_type": "markdown",
   "metadata": {
    "slideshow": {
     "slide_type": "fragment"
    }
   },
   "source": [
    "word synsets"
   ]
  },
  {
   "cell_type": "code",
   "execution_count": 55,
   "metadata": {
    "slideshow": {
     "slide_type": "fragment"
    }
   },
   "outputs": [
    {
     "data": {
      "text/plain": [
       "[Synset('camping.n.01'),\n",
       " Synset('camp.v.01'),\n",
       " Synset('camp.v.02'),\n",
       " Synset('camp.v.03')]"
      ]
     },
     "execution_count": 55,
     "metadata": {},
     "output_type": "execute_result"
    }
   ],
   "source": [
    "word_synsets= wordnet.synsets('camping')\n",
    "word_synsets"
   ]
  },
  {
   "cell_type": "code",
   "execution_count": 56,
   "metadata": {},
   "outputs": [
    {
     "name": "stdout",
     "output_type": "stream",
     "text": [
      "name: camping.n.01\n",
      "definition: the act of encamping and living in tents in a camp\n",
      "examples: []\n",
      "name: camp.v.01\n",
      "definition: live in or as if in a tent\n",
      "examples: ['Can we go camping again this summer?', 'The circus tented near the town', 'The houseguests had to camp in the living room']\n",
      "name: camp.v.02\n",
      "definition: establish or set up a camp\n",
      "examples: []\n",
      "name: camp.v.03\n",
      "definition: give an artificially banal or sexual quality to\n",
      "examples: []\n"
     ]
    }
   ],
   "source": [
    "for synset in word_synsets:\n",
    "    print('name:',synset.name())\n",
    "    print('definition:',synset.definition())\n",
    "    print('examples:',synset.examples())"
   ]
  },
  {
   "cell_type": "markdown",
   "metadata": {
    "slideshow": {
     "slide_type": "slide"
    }
   },
   "source": [
    "# Text Preprocessing"
   ]
  },
  {
   "cell_type": "markdown",
   "metadata": {
    "slideshow": {
     "slide_type": "fragment"
    }
   },
   "source": [
    "# Tokenization\n",
    "\n",
    "Breaking down or splitting textual data into smaller meaningful components.\n",
    "- Sentence tokenization\n",
    "- words tokenization"
   ]
  },
  {
   "cell_type": "markdown",
   "metadata": {
    "slideshow": {
     "slide_type": "subslide"
    }
   },
   "source": [
    "# tokenizer in nltk\n",
    "- sent_tokenize\n",
    "- RegexpTokenizer\n",
    "\n",
    "Check the documentation for other tokenizer"
   ]
  },
  {
   "cell_type": "code",
   "execution_count": 57,
   "metadata": {
    "slideshow": {
     "slide_type": "slide"
    }
   },
   "outputs": [],
   "source": [
    "import nltk\n",
    "from nltk.corpus import gutenberg"
   ]
  },
  {
   "cell_type": "code",
   "execution_count": 83,
   "metadata": {
    "slideshow": {
     "slide_type": "fragment"
    }
   },
   "outputs": [
    {
     "data": {
      "text/plain": [
       "'[The Parent\\'s Assistant, by Maria Edgeworth]\\r\\n\\r\\n\\r\\nTHE ORPHANS.\\r\\n\\r\\nNear the ruins of the castle of Rossmore, in Ireland, is a small cabin,\\r\\nin which there once lived a widow and her four children.  As long as she\\r\\nwas able to work, she was very industrious, and was accounted the best\\r\\nspinner in the parish; but she overworked herself at last, and fell ill,\\r\\nso that she could not sit to her wheel as she used to do, and was obliged\\r\\nto give it up to her eldest daughter, Mary.\\r\\n\\r\\nMary was at this time about twelve years old.  One evening she was\\r\\nsitting at the foot of her mother\\'s bed spinning, and her little brothers\\r\\nand sisters were gathered round the fire eating their potatoes and milk\\r\\nfor supper.  \"Bless them, the poor young creatures!\" said the widow, who,\\r\\nas she lay on her bed, which she knew must be her deathbed, was thinking\\r\\nof what would become of her children after she was gone.  Mary stopped\\r\\nher wheel, for she was afraid that the noise of it had wakened her\\r\\nmother, and wo'"
      ]
     },
     "execution_count": 83,
     "metadata": {},
     "output_type": "execute_result"
    }
   ],
   "source": [
    "edgeworth = gutenberg.raw(fileids='edgeworth-parents.txt')\n",
    "edgeworth[0:1000]"
   ]
  },
  {
   "cell_type": "code",
   "execution_count": 84,
   "metadata": {
    "slideshow": {
     "slide_type": "fragment"
    }
   },
   "outputs": [],
   "source": [
    "edgeworth_sent_tkn = nltk.sent_tokenize(edgeworth)"
   ]
  },
  {
   "cell_type": "code",
   "execution_count": 86,
   "metadata": {
    "slideshow": {
     "slide_type": "subslide"
    }
   },
   "outputs": [
    {
     "name": "stdout",
     "output_type": "stream",
     "text": [
      "Total sentences  10096\n",
      "0 :: [The Parent's Assistant, by Maria Edgeworth]\r\n",
      "\r\n",
      "\r\n",
      "THE ORPHANS. \n",
      "\n",
      "1 :: Near the ruins of the castle of Rossmore, in Ireland, is a small cabin,\r\n",
      "in which there once lived a widow and her four children. \n",
      "\n",
      "2 :: As long as she\r\n",
      "was able to work, she was very industrious, and was accounted the best\r\n",
      "spinner in the parish; but she overworked herself at last, and fell ill,\r\n",
      "so that she could not sit to her wheel as she used to do, and was obliged\r\n",
      "to give it up to her eldest daughter, Mary. \n",
      "\n"
     ]
    }
   ],
   "source": [
    "print('Total sentences  {}'.format(len(edgeworth_sent_tkn)))\n",
    "for sidx, s in enumerate(edgeworth_sent_tkn[0:3]):\n",
    "    print(sidx,\"::\", s, '\\n')"
   ]
  },
  {
   "cell_type": "markdown",
   "metadata": {
    "slideshow": {
     "slide_type": "subslide"
    }
   },
   "source": [
    "# RegexpTokenizer"
   ]
  },
  {
   "cell_type": "code",
   "execution_count": 240,
   "metadata": {
    "slideshow": {
     "slide_type": "subslide"
    }
   },
   "outputs": [],
   "source": [
    "s =\"Price of a gallon milk is $3.50.  I'll buy 2. Thanks.\"\n"
   ]
  },
  {
   "cell_type": "code",
   "execution_count": 241,
   "metadata": {
    "slideshow": {
     "slide_type": "subslide"
    }
   },
   "outputs": [],
   "source": [
    "sent_regex = nltk.tokenize.RegexpTokenizer('\\w+|\\$\\d+\\.\\d+|\\S+')"
   ]
  },
  {
   "cell_type": "code",
   "execution_count": 242,
   "metadata": {
    "slideshow": {
     "slide_type": "fragment"
    }
   },
   "outputs": [
    {
     "data": {
      "text/plain": [
       "['Price',\n",
       " 'of',\n",
       " 'a',\n",
       " 'gallon',\n",
       " 'milk',\n",
       " 'is',\n",
       " '$3.50',\n",
       " '.',\n",
       " 'I',\n",
       " \"'ll\",\n",
       " 'buy',\n",
       " '2',\n",
       " '.',\n",
       " 'Thanks',\n",
       " '.']"
      ]
     },
     "execution_count": 242,
     "metadata": {},
     "output_type": "execute_result"
    }
   ],
   "source": [
    "sent_regex.tokenize(s)"
   ]
  },
  {
   "cell_type": "markdown",
   "metadata": {
    "slideshow": {
     "slide_type": "slide"
    }
   },
   "source": [
    "# Word Tokenization\n",
    "\n",
    "Converts sentence into word token. Typical process before stemming or lemmentizing.\n",
    "\n",
    "- word_tokenize\n",
    "- TreebankWordTokenizer. Based on the Penn Treebank and uses various regular expressions to tokenize the text.\n",
    "- RegexpTokenizer"
   ]
  },
  {
   "cell_type": "code",
   "execution_count": 243,
   "metadata": {
    "slideshow": {
     "slide_type": "subslide"
    }
   },
   "outputs": [],
   "source": [
    "s = 'I just absolutely adore Denver and the Boulder area.'"
   ]
  },
  {
   "cell_type": "code",
   "execution_count": 244,
   "metadata": {
    "slideshow": {
     "slide_type": "fragment"
    }
   },
   "outputs": [
    {
     "data": {
      "text/plain": [
       "['I',\n",
       " 'just',\n",
       " 'absolutely',\n",
       " 'adore',\n",
       " 'Denver',\n",
       " 'and',\n",
       " 'the',\n",
       " 'Boulder',\n",
       " 'area',\n",
       " '.']"
      ]
     },
     "execution_count": 244,
     "metadata": {},
     "output_type": "execute_result"
    }
   ],
   "source": [
    "nltk.word_tokenize(s)"
   ]
  },
  {
   "cell_type": "code",
   "execution_count": 108,
   "metadata": {
    "slideshow": {
     "slide_type": "subslide"
    }
   },
   "outputs": [
    {
     "data": {
      "text/plain": [
       "['I', 'just', 'absolutely', 'adore', 'Denver', 'and', 'the', 'Boulder', 'area']"
      ]
     },
     "execution_count": 108,
     "metadata": {},
     "output_type": "execute_result"
    }
   ],
   "source": [
    "word_regex= nltk.RegexpTokenizer(pattern=r'\\w+', gaps=False)\n",
    "word_regex.tokenize(s)"
   ]
  },
  {
   "cell_type": "markdown",
   "metadata": {
    "slideshow": {
     "slide_type": "subslide"
    }
   },
   "source": [
    "we can get start and end indices"
   ]
  },
  {
   "cell_type": "code",
   "execution_count": 112,
   "metadata": {
    "slideshow": {
     "slide_type": "subslide"
    }
   },
   "outputs": [
    {
     "data": {
      "text/plain": [
       "[(0, 1),\n",
       " (2, 6),\n",
       " (7, 17),\n",
       " (18, 23),\n",
       " (24, 30),\n",
       " (31, 34),\n",
       " (35, 38),\n",
       " (39, 46),\n",
       " (47, 51)]"
      ]
     },
     "execution_count": 112,
     "metadata": {},
     "output_type": "execute_result"
    }
   ],
   "source": [
    "list(word_regex.span_tokenize(s))"
   ]
  },
  {
   "cell_type": "code",
   "execution_count": 114,
   "metadata": {
    "slideshow": {
     "slide_type": "fragment"
    }
   },
   "outputs": [
    {
     "data": {
      "text/plain": [
       "['I', 'just', 'absolutely', 'adore', 'Denver', 'and', 'the', 'Boulder', 'area']"
      ]
     },
     "execution_count": 114,
     "metadata": {},
     "output_type": "execute_result"
    }
   ],
   "source": [
    "[s[st:en] for st, en in word_regex.span_tokenize(s)]"
   ]
  },
  {
   "cell_type": "markdown",
   "metadata": {
    "slideshow": {
     "slide_type": "subslide"
    }
   },
   "source": [
    "There are other word tokenizer classes. Check the documentation but to give you a flavour here is WordPunctTokenizer. It tokenize sentences into independent alphabetic and non-alphabetic tokens."
   ]
  },
  {
   "cell_type": "code",
   "execution_count": 116,
   "metadata": {
    "slideshow": {
     "slide_type": "fragment"
    }
   },
   "outputs": [
    {
     "data": {
      "text/plain": [
       "['He', 'couldn', \"'\", 't', 'swim']"
      ]
     },
     "execution_count": 116,
     "metadata": {},
     "output_type": "execute_result"
    }
   ],
   "source": [
    "wordpunkt_tkn = nltk.WordPunctTokenizer()\n",
    "wordpunkt_tkn.tokenize(\"He couldn't swim\" )"
   ]
  },
  {
   "cell_type": "markdown",
   "metadata": {
    "slideshow": {
     "slide_type": "slide"
    }
   },
   "source": [
    "# Text normalization or wrangling\n",
    "Apart from tokenization\n",
    "- Cleaning\n",
    "- Case conversion\n",
    "- Spell correction\n",
    "- Removing stop words\n",
    "- Stemming,\n",
    "- Lemmatization"
   ]
  },
  {
   "cell_type": "markdown",
   "metadata": {
    "slideshow": {
     "slide_type": "subslide"
    }
   },
   "source": [
    "# Cleaning text\n",
    " Remove any unnecessary tokens.\n",
    " \n",
    " Like from html we don't care about tags\n",
    "- use regex, Beautiful soup\n",
    "- clean_html from ntlk "
   ]
  },
  {
   "cell_type": "code",
   "execution_count": 142,
   "metadata": {
    "slideshow": {
     "slide_type": "subslide"
    }
   },
   "outputs": [],
   "source": [
    "# example to get text from html\n"
   ]
  },
  {
   "cell_type": "markdown",
   "metadata": {
    "slideshow": {
     "slide_type": "slide"
    }
   },
   "source": [
    "# Working on a corpus\n",
    "# Tokenization"
   ]
  },
  {
   "cell_type": "code",
   "execution_count": 163,
   "metadata": {
    "slideshow": {
     "slide_type": "subslide"
    }
   },
   "outputs": [
    {
     "data": {
      "text/plain": [
       "['Meet Google Fi, a different kind of phone plan @@plan',\n",
       " '*Simpler* pricing and smarter coverage. It has unlimited call and text at $20!']"
      ]
     },
     "execution_count": 163,
     "metadata": {},
     "output_type": "execute_result"
    }
   ],
   "source": [
    "corpus = ['Meet Google Fi, a different kind of phone plan @@plan',  '*Simpler* pricing and smarter coverage. It has unlimited call and text at $20!']\n",
    "corpus"
   ]
  },
  {
   "cell_type": "code",
   "execution_count": 164,
   "metadata": {
    "slideshow": {
     "slide_type": "subslide"
    }
   },
   "outputs": [
    {
     "data": {
      "text/plain": [
       "[['Meet Google Fi, a different kind of phone plan @@plan'],\n",
       " ['*Simpler* pricing and smarter coverage.',\n",
       "  'It has unlimited call and text at $20!']]"
      ]
     },
     "execution_count": 164,
     "metadata": {},
     "output_type": "execute_result"
    }
   ],
   "source": [
    "sent_tokens = []\n",
    "for doc in corpus:\n",
    "    sent_tokens.append(nltk.sent_tokenize(doc))\n",
    "sent_tokens    "
   ]
  },
  {
   "cell_type": "code",
   "execution_count": 167,
   "metadata": {
    "slideshow": {
     "slide_type": "subslide"
    }
   },
   "outputs": [],
   "source": [
    "words_tokens= []\n",
    "for doc in corpus:\n",
    "    sent_tokens= nltk.sent_tokenize(doc)\n",
    "    words_tokens.append([nltk.word_tokenize(sent) for sent in sent_tokens])\n",
    "        "
   ]
  },
  {
   "cell_type": "code",
   "execution_count": 169,
   "metadata": {
    "slideshow": {
     "slide_type": "subslide"
    }
   },
   "outputs": [
    {
     "data": {
      "text/plain": [
       "[[['Meet',\n",
       "   'Google',\n",
       "   'Fi',\n",
       "   ',',\n",
       "   'a',\n",
       "   'different',\n",
       "   'kind',\n",
       "   'of',\n",
       "   'phone',\n",
       "   'plan',\n",
       "   '@',\n",
       "   '@',\n",
       "   'plan']],\n",
       " [['*Simpler*', 'pricing', 'and', 'smarter', 'coverage', '.'],\n",
       "  ['It', 'has', 'unlimited', 'call', 'and', 'text', 'at', '$', '20', '!']]]"
      ]
     },
     "execution_count": 169,
     "metadata": {},
     "output_type": "execute_result"
    }
   ],
   "source": [
    "words_tokens"
   ]
  },
  {
   "cell_type": "code",
   "execution_count": 174,
   "metadata": {
    "slideshow": {
     "slide_type": "subslide"
    }
   },
   "outputs": [],
   "source": [
    "import re\n",
    "import string\n",
    "pattern = '[{}]'.format(re.escape(string.punctuation))"
   ]
  },
  {
   "cell_type": "code",
   "execution_count": 175,
   "metadata": {
    "slideshow": {
     "slide_type": "subslide"
    }
   },
   "outputs": [],
   "source": [
    "## ? build a regex to remove  punctuations \n",
    "## work with words_tokens[0][0] sentence\n",
    "\n",
    "\n"
   ]
  },
  {
   "cell_type": "markdown",
   "metadata": {
    "slideshow": {
     "slide_type": "subslide"
    }
   },
   "source": [
    "# Removing stop words\n",
    "\n",
    "Words that end up occurring the most like a, the, am."
   ]
  },
  {
   "cell_type": "code",
   "execution_count": 185,
   "metadata": {
    "slideshow": {
     "slide_type": "subslide"
    }
   },
   "outputs": [
    {
     "name": "stdout",
     "output_type": "stream",
     "text": [
      "['i', 'me', 'my', 'myself', 'we', 'our', 'ours', 'ourselves', 'you', \"you're\", \"you've\", \"you'll\", \"you'd\", 'your', 'yours', 'yourself', 'yourselves', 'he', 'him', 'his', 'himself', 'she', \"she's\", 'her', 'hers', 'herself', 'it', \"it's\", 'its', 'itself', 'they', 'them', 'their', 'theirs', 'themselves', 'what', 'which', 'who', 'whom', 'this', 'that', \"that'll\", 'these', 'those', 'am', 'is', 'are', 'was', 'were', 'be', 'been', 'being', 'have', 'has', 'had', 'having', 'do', 'does', 'did', 'doing', 'a', 'an', 'the', 'and', 'but', 'if', 'or', 'because', 'as', 'until', 'while', 'of', 'at', 'by', 'for', 'with', 'about', 'against', 'between', 'into', 'through', 'during', 'before', 'after', 'above', 'below', 'to', 'from', 'up', 'down', 'in', 'out', 'on', 'off', 'over', 'under', 'again', 'further', 'then', 'once', 'here', 'there', 'when', 'where', 'why', 'how', 'all', 'any', 'both', 'each', 'few', 'more', 'most', 'other', 'some', 'such', 'no', 'nor', 'not', 'only', 'own', 'same', 'so', 'than', 'too', 'very', 's', 't', 'can', 'will', 'just', 'don', \"don't\", 'should', \"should've\", 'now', 'd', 'll', 'm', 'o', 're', 've', 'y', 'ain', 'aren', \"aren't\", 'couldn', \"couldn't\", 'didn', \"didn't\", 'doesn', \"doesn't\", 'hadn', \"hadn't\", 'hasn', \"hasn't\", 'haven', \"haven't\", 'isn', \"isn't\", 'ma', 'mightn', \"mightn't\", 'mustn', \"mustn't\", 'needn', \"needn't\", 'shan', \"shan't\", 'shouldn', \"shouldn't\", 'wasn', \"wasn't\", 'weren', \"weren't\", 'won', \"won't\", 'wouldn', \"wouldn't\"]\n"
     ]
    },
    {
     "data": {
      "text/plain": [
       "['Meet', 'Google', 'Fi', 'different', 'kind', 'phone', 'plan', 'plan']"
      ]
     },
     "execution_count": 185,
     "metadata": {},
     "output_type": "execute_result"
    }
   ],
   "source": [
    "stopwords = nltk.corpus.stopwords.words('english')\n",
    "stop_clean_sent = [w for w in clean_sent if w not in stopwords]\n",
    "print(stopwords)\n",
    "stop_clean_sent"
   ]
  },
  {
   "cell_type": "markdown",
   "metadata": {
    "slideshow": {
     "slide_type": "slide"
    }
   },
   "source": [
    "# Stemming\n"
   ]
  },
  {
   "cell_type": "code",
   "execution_count": 188,
   "metadata": {
    "slideshow": {
     "slide_type": "subslide"
    }
   },
   "outputs": [],
   "source": [
    "from nltk.stem import PorterStemmer\n",
    "pstemmer = PorterStemmer()"
   ]
  },
  {
   "cell_type": "code",
   "execution_count": 191,
   "metadata": {
    "slideshow": {
     "slide_type": "subslide"
    }
   },
   "outputs": [
    {
     "data": {
      "text/plain": [
       "('help', 'help')"
      ]
     },
     "execution_count": 191,
     "metadata": {},
     "output_type": "execute_result"
    }
   ],
   "source": [
    "pstemmer.stem('helped'), pstemmer.stem('helping')"
   ]
  },
  {
   "cell_type": "code",
   "execution_count": 193,
   "metadata": {
    "slideshow": {
     "slide_type": "subslide"
    }
   },
   "outputs": [
    {
     "data": {
      "text/plain": [
       "'strang'"
      ]
     },
     "execution_count": 193,
     "metadata": {},
     "output_type": "execute_result"
    }
   ],
   "source": [
    "pstemmer.stem('strange')"
   ]
  },
  {
   "cell_type": "code",
   "execution_count": 195,
   "metadata": {
    "slideshow": {
     "slide_type": "subslide"
    }
   },
   "outputs": [
    {
     "data": {
      "text/plain": [
       "'strange'"
      ]
     },
     "execution_count": 195,
     "metadata": {},
     "output_type": "execute_result"
    }
   ],
   "source": [
    "from nltk.stem import LancasterStemmer\n",
    "ls_stemmer = LancasterStemmer()\n",
    "ls_stemmer.stem('strange')"
   ]
  },
  {
   "cell_type": "markdown",
   "metadata": {
    "slideshow": {
     "slide_type": "slide"
    }
   },
   "source": [
    "# Regex based stemmer"
   ]
  },
  {
   "cell_type": "code",
   "execution_count": 220,
   "metadata": {
    "slideshow": {
     "slide_type": "subslide"
    }
   },
   "outputs": [],
   "source": [
    "# write regex for words ending with ed or ing\n",
    "from nltk.stem import RegexpStemmer\n",
    "regex_stemmer = RegexpStemmer( ???, min=3)"
   ]
  },
  {
   "cell_type": "code",
   "execution_count": 221,
   "metadata": {
    "slideshow": {
     "slide_type": "fragment"
    }
   },
   "outputs": [
    {
     "data": {
      "text/plain": [
       "('play', 'apples')"
      ]
     },
     "execution_count": 221,
     "metadata": {},
     "output_type": "execute_result"
    }
   ],
   "source": [
    "regex_stemmer.stem('played'), regex_stemmer.stem('apples')"
   ]
  },
  {
   "cell_type": "markdown",
   "metadata": {
    "slideshow": {
     "slide_type": "slide"
    }
   },
   "source": [
    "# Lemmatization\n",
    "Get the root word in the dictionary."
   ]
  },
  {
   "cell_type": "code",
   "execution_count": 222,
   "metadata": {
    "slideshow": {
     "slide_type": "subslide"
    }
   },
   "outputs": [],
   "source": [
    "from nltk.stem import WordNetLemmatizer\n",
    "wnetl = WordNetLemmatizer()"
   ]
  },
  {
   "cell_type": "code",
   "execution_count": 223,
   "metadata": {
    "slideshow": {
     "slide_type": "subslide"
    }
   },
   "outputs": [
    {
     "data": {
      "text/plain": [
       "'bus'"
      ]
     },
     "execution_count": 223,
     "metadata": {},
     "output_type": "execute_result"
    }
   ],
   "source": [
    "# noun\n",
    "wnetl.lemmatize('buses', 'n')"
   ]
  },
  {
   "cell_type": "code",
   "execution_count": 226,
   "metadata": {
    "slideshow": {
     "slide_type": "fragment"
    }
   },
   "outputs": [
    {
     "data": {
      "text/plain": [
       "('run', 'eat')"
      ]
     },
     "execution_count": 226,
     "metadata": {},
     "output_type": "execute_result"
    }
   ],
   "source": [
    "# verb\n",
    "wnetl.lemmatize('running', 'v'), wnetl.lemmatize('ate', 'v')"
   ]
  },
  {
   "cell_type": "code",
   "execution_count": 228,
   "metadata": {
    "slideshow": {
     "slide_type": "fragment"
    }
   },
   "outputs": [
    {
     "data": {
      "text/plain": [
       "'easy'"
      ]
     },
     "execution_count": 228,
     "metadata": {},
     "output_type": "execute_result"
    }
   ],
   "source": [
    "# adjective\n",
    "wnetl.lemmatize('easier', 'a')"
   ]
  },
  {
   "cell_type": "markdown",
   "metadata": {
    "slideshow": {
     "slide_type": "subslide"
    }
   },
   "source": [
    "Use right part of speech"
   ]
  },
  {
   "cell_type": "code",
   "execution_count": 234,
   "metadata": {
    "slideshow": {
     "slide_type": "fragment"
    }
   },
   "outputs": [
    {
     "data": {
      "text/plain": [
       "'ate'"
      ]
     },
     "execution_count": 234,
     "metadata": {},
     "output_type": "execute_result"
    }
   ],
   "source": [
    "wnetl.lemmatize('ate','n')"
   ]
  },
  {
   "cell_type": "markdown",
   "metadata": {
    "slideshow": {
     "slide_type": "subslide"
    }
   },
   "source": [
    "# Side: getting bash output to python"
   ]
  },
  {
   "cell_type": "code",
   "execution_count": 60,
   "metadata": {
    "slideshow": {
     "slide_type": "subslide"
    }
   },
   "outputs": [],
   "source": [
    "%%bash --out out\n",
    "curl -s http://www.gutenberg.org/cache/epub/18674/pg18674.txt"
   ]
  },
  {
   "cell_type": "code",
   "execution_count": 61,
   "metadata": {
    "slideshow": {
     "slide_type": "subslide"
    }
   },
   "outputs": [
    {
     "data": {
      "text/plain": [
       "'\\ufeffProject Gutenberg\\'s A Chinese Wonder Book, by Norman Hinsdale Pitman\\r\\n\\r\\nThis eBook is for the use of anyone anywhere at no cost and with\\r\\nalmost no restrictions whatsoever.  You may copy it, give it away or\\r\\nre-use it under the terms of the Project Gutenberg License included\\r\\nwith this eBook or online at www.gutenberg.org\\r\\n\\r\\n\\r\\nTitle: A Chinese Wonder Book\\r\\n\\r\\nAuthor: Norman Hinsdale Pitman\\r\\n\\r\\nIllustrator: Li Chu-T\\'ang\\r\\n\\r\\nRelease Date: June 24, 2006 [EBook #18674]\\r\\n\\r\\nLanguage: English\\r\\n\\r\\n\\r\\n*** START OF THIS PROJECT GUTENBERG EBOOK A CHINESE WONDER BOOK ***\\r\\n\\r\\n\\r\\n\\r\\n\\r\\nProduced by Juliet Sutherland, David Garcia and the Online\\r\\nDistributed Proofreading Team at http://www.pgdp.net\\r\\n\\r\\n\\r\\n\\r\\n\\r\\n\\r\\n[Illustration: (Front cover image)]\\r\\n\\r\\n[Illustration: \"SNAKE\\'S BLOOD MIXED WITH POWDERED DEER-HORN.\"]\\r\\n\\r\\n\\r\\n\\r\\n\\r\\n\\r\\n\\r\\n             A CHINESE WONDER BOOK\\r\\n\\r\\n                      BY\\r\\n\\r\\n            NORMAN HINSDALE PITMAN\\r\\n\\r\\n\\r\\n                ILLUSTRATED BY\\r\\n                 LI CHU-T\\'ANG\\r\\n\\r\\n\\r\\n           [Illustration: Colophon]\\r\\n\\r\\n\\r\\n                   NEW YORK\\r\\n              E. P. DUTTON & CO.\\r\\n               681 FIFTH AVENUE\\r\\n\\r\\n\\r\\n\\r\\n\\r\\n               COPYRIGHT, 1919\\r\\n                      By\\r\\n            E. P. DUTTON & COMPANY\\r\\n\\r\\n             _All rights reserved_\\r\\n\\r\\n       *       *       *       *       *\\r\\n\\r\\n    Printed in the United States of America\\r\\n\\r\\n\\r\\n\\r\\n\\r\\nTABLE OF CONTENTS\\r\\n\\r\\n\\r\\n                                                                   PAGE\\r\\n\\r\\n  The Golden Beetle or Why the Dog Hates the Cat                      1\\r\\n\\r\\n  The Great Bell                                                     21\\r\\n\\r\\n  The Strange Tale of Doctor Dog                                     39\\r\\n\\r\\n  How Footbinding Started                                            52\\r\\n\\r\\n  The Talking Fish                                                   68\\r\\n\\r\\n  Bamboo and the Turtle                                              88\\r\\n\\r\\n  The Mad Goose and the Tiger Forest                                104\\r\\n\\r\\n  The Nodding Tiger                                                 120\\r\\n\\r\\n  The Princess Kwan-Yin                                             134\\r\\n\\r\\n  The Two Jugglers                                                  147\\r\\n\\r\\n  The Phantom Vessel                                                160\\r\\n\\r\\n  The Wooden Tablet                                                 172\\r\\n\\r\\n  The Golden Nugget                                                 187\\r\\n\\r\\n  The Man Who Would Not Scold                                       193\\r\\n\\r\\n  Lu-San, Daughter of Heaven                                        206\\r\\n\\r\\n\\r\\n\\r\\n\\r\\nILLUSTRATIONS\\r\\n\\r\\n\\r\\n                                                                 Facing\\r\\n                                                                   Page\\r\\n\\r\\n  \"Snake\\'s blood mixed with powdered deer-horn\"          _Frontispiece_\\r\\n\\r\\n  \"Here son!\" she cried, \"look at my treasure!\"                       8\\r\\n\\r\\n  Clinging to the animal\\'s shaggy hair was Honeysuckle               50\\r\\n\\r\\n  Throwing herself at his feet she thanked him for his mercy         56\\r\\n\\r\\n  \"Ah,\" sighed the turtle, \"if only the good god, P\\'anku,\\r\\n    were here\"                                                      102\\r\\n\\r\\n  Putting his bill close to her ear, he told Hu-Lin of\\r\\n    his recent discovery                                            108\\r\\n\\r\\n  The tiger gravely nodded his head                                 130\\r\\n\\r\\n  All day she was busy carrying water                               138\\r\\n\\r\\n  Higher and higher he climbed                                      154\\r\\n\\r\\n  They saw shining in the pathway directly in front of them\\r\\n    a lump of gold                                                  188\\r\\n\\r\\n  As she dressed herself she saw with surprise that her fingers\\r\\n    were shapely                                                    214\\r\\n\\r\\n\\r\\n\\r\\n\\r\\nTHE GOLDEN BEETLE OR WHY THE DOG HATES THE CAT\\r\\n\\r\\n[Illustration]\\r\\n\\r\\n\\r\\n\"What we shall eat to-morrow, I haven\\'t the slightest idea!\" said Widow\\r\\nWang to her eldest son, as he started out one morning in search of work.\\r\\n\\r\\n\"Oh, the gods will provide. I\\'ll find a few coppers somewhere,\" replied\\r\\nthe boy, trying to speak cheerfully, although in his heart he also had\\r\\nnot the slightest idea in which direction to turn.\\r\\n\\r\\nThe winter had been a hard one: extreme cold, deep snow, and violent\\r\\nwinds. The Wang house had suffered greatly. The roof had fallen in,\\r\\nweighed down by heavy snow. Then a hurricane had blown a wall over, and\\r\\nMing-li, the son, up all night and exposed to a bitter cold wind, had\\r\\ncaught pneumonia. Long days of illness followed, with the spending of\\r\\nextra money for medicine. All their scant savings had soon melted away,\\r\\nand at the shop where Ming-li had been employed his place was filled by\\r\\nanother. When at last he arose from his sick-bed he was too weak for\\r\\nhard labour and there seemed to be no work in the neighbouring villages\\r\\nfor him to do. Night after night he came home, trying not to be\\r\\ndiscouraged, but in his heart feeling the deep pangs of sorrow that come\\r\\nto the good son who sees his mother suffering for want of food and\\r\\nclothing.\\r\\n\\r\\n\"Bless his good heart!\" said the poor widow after he had gone. \"No\\r\\nmother ever had a better boy. I hope he is right in saying the gods will\\r\\nprovide. It has been getting so much worse these past few weeks that it\\r\\nseems now as if my stomach were as empty as a rich man\\'s brain. Why,\\r\\neven the rats have deserted our cottage, and there\\'s nothing left for\\r\\npoor Tabby, while old Blackfoot is nearly dead from starvation.\"\\r\\n\\r\\nWhen the old woman referred to the sorrows of her pets, her\\r\\nremarks were answered by a pitiful mewing and woebegone barking\\r\\nfrom the corner where the two unfed creatures were curled up together\\r\\ntrying to keep warm.\\r\\n\\r\\nJust then there was a loud knocking at the gate. When the widow Wang\\r\\ncalled out, \"Come in!\" she was surprised to see an old bald-headed\\r\\npriest standing in the doorway. \"Sorry, but we have nothing,\" she went\\r\\non, feeling sure the visitor had come in search of food. \"We have fed on\\r\\nscraps these two weeks--on scraps and scrapings--and now we are living\\r\\non the memories of what we used to have when my son\\'s father was living.\\r\\nOur cat was so fat she couldn\\'t climb to the roof. Now look at her. You\\r\\ncan hardly see her, she\\'s so thin. No, I\\'m sorry we can\\'t help you,\\r\\nfriend priest, but you see how it is.\"\\r\\n\\r\\n\"I didn\\'t come for alms,\" cried the clean-shaven one, looking at her\\r\\nkindly, \"but only to see what I could do to help you. The gods have\\r\\nlistened long to the prayers of your devoted son. They honour him\\r\\nbecause he has not waited till you die to do sacrifice for you. They\\r\\nhave seen how faithfully he has served you ever since his illness, and\\r\\nnow, when he is worn out and unable to work, they are resolved to reward\\r\\nhim for his virtue. You likewise have been a good mother and shall\\r\\nreceive the gift I am now bringing.\"\\r\\n\\r\\n\"What do you mean?\" faltered Mrs. Wang, hardly believing her ears at\\r\\nhearing a priest speak of bestowing mercies. \"Have you come here to\\r\\nlaugh at our misfortunes?\"\\r\\n\\r\\n\"By no means. Here in my hand I hold a tiny golden beetle which you will\\r\\nfind has a magic power greater than any you ever dreamed of. I will\\r\\nleave this precious thing with you, a present from the god of filial\\r\\nconduct.\"\\r\\n\\r\\n\"Yes, it will sell for a good sum,\" murmured the other, looking closely\\r\\nat the trinket, \"and will give us millet for several days. Thanks, good\\r\\npriest, for your kindness.\"\\r\\n\\r\\n\"But you must by no means sell this golden beetle, for it has the power\\r\\nto fill your stomachs as long as you live.\"\\r\\n\\r\\nThe widow stared in open-mouthed wonder at the priest\\'s surprising\\r\\nwords.\\r\\n\\r\\n\"Yes, you must not doubt me, but listen carefully to what I tell you.\\r\\nWhenever you wish food, you have only to place this ornament in a kettle\\r\\nof boiling water, saying over and over again the names of what you want\\r\\nto eat. In three minutes take off the lid, and there will be your\\r\\ndinner, smoking hot, and cooked more perfectly than any food you have\\r\\never eaten.\"\\r\\n\\r\\n\"May I try it now?\" she asked eagerly.\\r\\n\\r\\n\"As soon as I am gone.\"\\r\\n\\r\\nWhen the door was shut, the old woman hurriedly kindled a fire, boiled\\r\\nsome water, and then dropped in the golden beetle, repeating these words\\r\\nagain and again:\\r\\n\\r\\n\\r\\n  \"Dumplings, dumplings, come to me,\\r\\n   I am thin as thin can be.\\r\\n   Dumplings, dumplings, smoking hot,\\r\\n   Dumplings, dumplings, fill the pot.\"\\r\\n\\r\\n\\r\\nWould those three minutes never pass? Could the priest have told the\\r\\ntruth? Her old head was nearly wild with excitement as clouds of steam\\r\\nrose from the kettle. Off came the lid! She could wait no longer. Wonder\\r\\nof wonders! There before her unbelieving eyes was a pot, full to the\\r\\nbrim of pork dumplings, dancing up and down in the bubbling water, the\\r\\nbest, the most delicious dumplings she had ever tasted. She ate and ate\\r\\ntill there was no room left in her greedy stomach, and then she feasted\\r\\nthe cat and the dog until they were ready to burst.\\r\\n\\r\\n\"Good fortune has come at last,\" whispered Blackfoot, the dog, to\\r\\nWhitehead, the cat, as they lay down to sun themselves outside. \"I fear\\r\\nI couldn\\'t have held out another week without running away to look for\\r\\nfood. I don\\'t know just what\\'s happened, but there\\'s no use questioning\\r\\nthe gods.\"\\r\\n\\r\\nMrs. Wang fairly danced for joy at the thought of her son\\'s return and\\r\\nof how she would feast him.\\r\\n\\r\\n\"Poor boy, how surprised he will be at our fortune--and it\\'s all on\\r\\naccount of his goodness to his old mother.\"\\r\\n\\r\\nWhen Ming-li came, with a dark cloud overhanging his brow, the widow saw\\r\\nplainly that disappointment was written there.\\r\\n\\r\\n\"Come, come, lad!\" she cried cheerily, \"clear up your face and smile,\\r\\nfor the gods have been good to us and I shall soon show you how richly\\r\\nyour devotion has been rewarded.\" So saying, she dropped the golden\\r\\nbeetle into the boiling water and stirred up the fire.\\r\\n\\r\\nThinking his mother had gone stark mad for want of food, Ming-li stared\\r\\nsolemnly at her. Anything was preferable to this misery. Should he sell\\r\\nhis last outer garment for a few pennies and buy millet for her?\\r\\nBlackfoot licked his hand comfortingly, as if to say, \"Cheer up, master,\\r\\nfortune has turned in our favour.\" Whitehead leaped upon a bench,\\r\\npurring like a sawmill.\\r\\n\\r\\nMing-li did not have long to wait. Almost in the twinkling of an eye he\\r\\nheard his mother crying out,\\r\\n\\r\\n\"Sit down at the table, son, and eat these dumplings while they are\\r\\nsmoking hot.\"\\r\\n\\r\\nCould he have heard correctly? Did his ears deceive him? No, there on\\r\\nthe table was a huge platter full of the delicious pork dumplings he\\r\\nliked better than anything else in all the world, except, of course, his\\r\\nmother.\\r\\n\\r\\n\"Eat and ask no questions,\" counselled the Widow Wang. \"When you are\\r\\nsatisfied I will tell you everything.\"\\r\\n\\r\\nWise advice! Very soon the young man\\'s chopsticks were twinkling like\\r\\na little star in the verses. He ate long and happily, while his good\\r\\nmother watched him, her heart overflowing with joy at seeing him at last\\r\\nable to satisfy his hunger. But still the old woman could hardly wait\\r\\nfor him to finish, she was so anxious to tell him her wonderful secret.\\r\\n\\r\\n\"Here, son!\" she cried at last, as he began to pause between mouthfuls,\\r\\n\"look at my treasure!\" And she held out to him the golden beetle.\\r\\n\\r\\n\"First tell me what good fairy of a rich man has been filling our hands\\r\\nwith silver?\"\\r\\n\\r\\n\"That\\'s just what I am trying to tell you,\" she laughed, \"for there was\\r\\na fairy here this afternoon sure enough, only he was dressed like a bald\\r\\npriest. That golden beetle is all he gave me, but with it comes a secret\\r\\nworth thousands of cash to us.\"\\r\\n\\r\\nThe youth fingered the trinket idly, still doubting his senses, and\\r\\nwaiting impatiently for the secret of his delicious dinner. \"But,\\r\\nmother, what has this brass bauble to do with the dumplings, these\\r\\nwonderful pork dumplings, the finest I ever ate?\"\\r\\n\\r\\n\"Baubles indeed! Brass! Fie, fie, my boy! You little know what you are\\r\\nsaying. Only listen and you shall hear a tale that will open your eyes.\"\\r\\n\\r\\nShe then told him what had happened, and ended by setting all of the\\r\\nleft-over dumplings upon the floor for Blackfoot and Whitehead, a thing\\r\\nher son had never seen her do before, for they had been miserably poor\\r\\nand had had to save every scrap for the next meal.\\r\\n\\r\\nNow began a long period of perfect happiness. Mother, son, dog and\\r\\ncat--all enjoyed themselves to their hearts\\' content. All manner of new\\r\\nfoods such as they had never tasted were called forth from the pot by\\r\\nthe wonderful little beetle. Bird-nest soup, shark\\'s fins, and a hundred\\r\\nother delicacies were theirs for the asking, and soon Ming-li regained\\r\\nall his strength, but, I fear, at the same time grew somewhat lazy, for\\r\\nit was no longer necessary for him to work. As for the two animals, they\\r\\nbecame fat and sleek and their hair grew long and glossy.\\r\\n\\r\\n[Illustration: \"HERE SON!\" SHE CRIED, \"HAVE A LOOK AT MY TREASURE!\"]\\r\\n\\r\\nBut alas! according to a Chinese proverb, pride invites sorrow. The\\r\\nlittle family became so proud of their good fortune that they began to\\r\\nask friends and relatives to dinner that they might show off their good\\r\\nmeals. One day a Mr. and Mrs. Chu came from a distant village. They were\\r\\nmuch astonished at seeing the high style in which the Wangs lived. They\\r\\nhad expected a beggar\\'s meal, but went away with full stomachs.\\r\\n\\r\\n\"It\\'s the best stuff I ever ate,\" said Mr. Chu, as they entered their\\r\\nown tumble-down house.\\r\\n\\r\\n\"Yes, and I know where it came from,\" exclaimed his wife. \"I saw Widow\\r\\nWang take a little gold ornament out of the pot and hide it in a\\r\\ncupboard. It must be some sort of charm, for I heard her mumbling to\\r\\nherself about pork and dumplings just as she was stirring up the fire.\"\\r\\n\\r\\n\"A charm, eh? Why is it that other people have all the luck? It looks as\\r\\nif we were doomed forever to be poor.\"\\r\\n\\r\\n\"Why not borrow Mrs. Wang\\'s charm for a few days until we can pick up a\\r\\nlittle flesh to keep our bones from clattering? Turn about\\'s fair play.\\r\\nOf course, we\\'ll return it sooner or later.\"\\r\\n\\r\\n\"Doubtless they keep very close watch over it. When would you find them\\r\\naway from home, now that they don\\'t have to work any more? As their\\r\\nhouse only contains one room, and that no bigger than ours, it would be\\r\\ndifficult to borrow this golden trinket. It is harder, for more reasons\\r\\nthan one, to steal from a beggar than from a king.\"\\r\\n\\r\\n\"Luck is surely with us,\" cried Mrs. Chu, clapping her hands. \"They are\\r\\ngoing this very day to the Temple fair. I overheard Mrs. Wang tell her\\r\\nson that he must not forget he was to take her about the middle of the\\r\\nafternoon. I will slip back then and borrow the little charm from the\\r\\nbox in which she hid it.\"\\r\\n\\r\\n\"Aren\\'t you afraid of Blackfoot?\"\\r\\n\\r\\n\"Pooh! he\\'s so fat he can do nothing but roll. If the widow comes back\\r\\nsuddenly, I\\'ll tell her I came to look for my big hair-pin, that I lost\\r\\nit while I was at dinner.\"\\r\\n\\r\\n\"All right, go ahead, only of course we must remember we\\'re borrowing\\r\\nthe thing, not stealing it, for the Wangs have always been good friends\\r\\nto us, and then, too, we have just dined with them.\"\\r\\n\\r\\nSo skilfully did this crafty woman carry out her plans that within an\\r\\nhour she was back in her own house, gleefully showing the priest\\'s charm\\r\\nto her husband. Not a soul had seen her enter the Wang house. The dog\\r\\nhad made no noise, and the cat had only blinked her surprise at seeing a\\r\\nstranger and had gone to sleep again on the floor.\\r\\n\\r\\nGreat was the clamour and weeping when, on returning from the fair in\\r\\nexpectation of a hot supper, the widow found her treasure missing. It\\r\\nwas long before she could grasp the truth. She went back to the little\\r\\nbox in the cupboard ten times before she could believe it was empty, and\\r\\nthe room looked as if a cyclone had struck it, so long and carefully did\\r\\nthe two unfortunates hunt for the lost beetle.\\r\\n\\r\\nThen came days of hunger which were all the harder to bear since the\\r\\nrecent period of good food and plenty. Oh, if they had only not got used\\r\\nto such dainties! How hard it was to go back to scraps and scrapings!\\r\\n\\r\\nBut if the widow and her son were sad over the loss of the good meals,\\r\\nthe two pets were even more so. They were reduced to beggary and had to\\r\\ngo forth daily upon the streets in search of stray bones and refuse that\\r\\ndecent dogs and cats turned up their noses at.\\r\\n\\r\\nOne day, after this period of starvation had been going on for some\\r\\ntime, Whitehead began suddenly to frisk about in great excitement.\\r\\n\\r\\n\"Whatever is the matter with you?\" growled Blackfoot. \"Are you mad from\\r\\nhunger, or have you caught another flea?\"\\r\\n\\r\\n\"I was just thinking over our affairs, and now I know the cause of all\\r\\nour trouble.\"\\r\\n\\r\\n\"Do you indeed?\" sneered Blackfoot.\\r\\n\\r\\n\"Yes, I do indeed, and you\\'d better think twice before you mock me, for\\r\\nI hold your future in my paw, as you will very soon see.\"\\r\\n\\r\\n\"Well, you needn\\'t get angry about nothing. What wonderful discovery\\r\\nhave you made--that every rat has one tail?\"\\r\\n\\r\\n\"First of all, are you willing to help me bring good fortune back to our\\r\\nfamily?\"\\r\\n\\r\\n\"Of course I am. Don\\'t be silly,\" barked the dog, wagging his tail\\r\\njoyfully at the thought of another good dinner. \"Surely! surely! I will\\r\\ndo anything you like if it will bring Dame Fortune back again.\"\\r\\n\\r\\n\"All right. Here is the plan. There has been a thief in the house who\\r\\nhas stolen our mistress\\'s golden beetle. You remember all our big\\r\\ndinners that came from the pot? Well, every day I saw our mistress take\\r\\na little golden beetle out of the black box and put it into the pot. One\\r\\nday she held it up before me, saying, \\'Look, puss, there is the cause of\\r\\nall our happiness. Don\\'t you wish it was yours?\\' Then she laughed and\\r\\nput it back into the box that stays in the cupboard.\"\\r\\n\\r\\n\"Is that true?\" questioned Blackfoot. \"Why didn\\'t you say something\\r\\nabout it before?\"\\r\\n\\r\\n\"You remember the day Mr. and Mrs. Chu were here, and how Mrs. Chu\\r\\nreturned in the afternoon after master and mistress had gone to the\\r\\nfair? I saw her, out of the tail of my eye, go to that very black box\\r\\nand take out the golden beetle. I thought it curious, but never dreamed\\r\\nshe was a thief. Alas! I was wrong! She took the beetle, and if I am not\\r\\nmistaken, she and her husband are now enjoying the feasts that belong\\r\\nto us.\"\\r\\n\\r\\n\"Let\\'s claw them,\" growled Blackfoot, gnashing his teeth.\\r\\n\\r\\n\"That would do no good,\" counselled the other, \"for they would be sure\\r\\nto come out best in the end. We want the beetle back--that\\'s the main\\r\\nthing. We\\'ll leave revenge to human beings; it is none of our business.\"\\r\\n\\r\\n\"What do you suggest?\" said Blackfoot. \"I am with you through thick and\\r\\nthin.\"\\r\\n\\r\\n\"Let\\'s go to the Chu house and make off with the beetle.\"\\r\\n\\r\\n\"Alas, that I am not a cat!\" moaned Blackfoot. \"If we go there I\\r\\ncouldn\\'t get inside, for robbers always keep their gates well locked. If\\r\\nI were like you I could scale the wall. It is the first time in all my\\r\\nlife I ever envied a cat.\"\\r\\n\\r\\n\"We will go together,\" continued Whitehead. \"I will ride on your back\\r\\nwhen we are fording the river, and you can protect me from strange\\r\\nanimals. When we get to the Chu house, I will climb over the wall and\\r\\nmanage the rest of the business myself. Only you must wait outside to\\r\\nhelp me to get home with the prize.\"\\r\\n\\r\\nNo sooner arranged than done. The companions set out that very night on\\r\\ntheir adventure. They crossed the river as the cat had suggested, and\\r\\nBlackfoot really enjoyed the swim, for, as he said, it took him back to\\r\\nhis puppyhood, while the cat did not get a single drop of water on her\\r\\nface. It was midnight when they reached the Chu house.\\r\\n\\r\\n\"Just wait till I return,\" purred Whitehead in Blackfoot\\'s ear.\\r\\n\\r\\nWith a mighty spring she reached the top of the mud wall, and then\\r\\njumped down to the inside court. While she was resting in the shadow,\\r\\ntrying to decide just how to go about her work, a slight rustling\\r\\nattracted her attention, and pop! one giant spring, one stretch-out of\\r\\nthe claws, and she had caught a rat that had just come out of his hole\\r\\nfor a drink and a midnight walk.\\r\\n\\r\\nNow, Whitehead was so hungry that she would have made short work of this\\r\\ntempting prey if the rat had not opened its mouth and, to her amazement,\\r\\nbegun to talk in good cat dialect.\\r\\n\\r\\n\"Pray, good puss, not so fast with your sharp teeth! Kindly be careful\\r\\nwith your claws! Don\\'t you know it is the custom now to put prisoners on\\r\\ntheir honour? I will promise not to run away.\"\\r\\n\\r\\n\"Pooh! what honour has a rat?\"\\r\\n\\r\\n\"Most of us haven\\'t much, I grant you, but my family was brought up\\r\\nunder the roof of Confucius, and there we picked up so many crumbs of\\r\\nwisdom that we are exceptions to the rule. If you will spare me, I will\\r\\nobey you for life, in fact, will be your humble slave.\" Then, with a\\r\\nquick jerk, freeing itself, \"See, I am loose now, but honour holds me as\\r\\nif I were tied, and so I make no further attempt to get away.\"\\r\\n\\r\\n\"Much good it would do you,\" purred Whitehead, her fur crackling\\r\\nnoisily, and her mouth watering for a taste of rat steak. \"However,\\r\\nI am quite willing to put you to the test. First, answer a few polite\\r\\nquestions and I will see if you\\'re a truthful fellow. What kind of food\\r\\nis your master eating now, that you should be so round and plump when\\r\\nI am thin and scrawny?\"\\r\\n\\r\\n\"Oh, we have been in luck lately, I can tell you. Master and mistress\\r\\nfeed on the fat of the land, and of course we hangers-on get the\\r\\ncrumbs.\"\\r\\n\\r\\n\"But this is a poor tumble-down house. How can they afford such eating?\"\\r\\n\\r\\n\"That is a great secret, but as I am in honour bound to tell you, here\\r\\ngoes. My mistress has just obtained in some manner or other, a fairy\\'s\\r\\ncharm----\"\\r\\n\\r\\n\"She stole it from our place,\" hissed the cat, \"I will claw her eyes out\\r\\nif I get the chance. Why, we\\'ve been fairly starving for want of that\\r\\nbeetle. She stole it from us just after she had been an invited guest!\\r\\nWhat do you think of that for honour, Sir Rat? Were your mistress\\'s\\r\\nancestors followers of the sage?\"\\r\\n\\r\\n\"Oh, oh, oh! Why, that explains everything!\" wailed the rat. \"I have\\r\\noften wondered how they got the golden beetle, and yet of course I dared\\r\\nnot ask any questions.\"\\r\\n\\r\\n\"No, certainly not! But hark you, friend rat--you get that golden\\r\\ntrinket back for me, and I will set you free at once of all obligations.\\r\\nDo you know where she hides it?\"\\r\\n\\r\\n\"Yes, in a crevice where the wall is broken. I will bring it to you in\\r\\na jiffy, but how shall we exist when our charm is gone? There will be\\r\\na season of scanty food, I fear; beggars\\' fare for all of us.\"\\r\\n\\r\\n\"Live on the memory of your good deed,\" purred the cat. \"It is splendid,\\r\\nyou know, to be an honest beggar. Now scoot! I trust you completely,\\r\\nsince your people lived in the home of Confucius. I will wait here for\\r\\nyour return. Ah!\" laughed Whitehead to herself, \"luck seems to be coming\\r\\nour way again!\"\\r\\n\\r\\nFive minutes later the rat appeared, bearing the trinket in its mouth.\\r\\nIt passed the beetle over to the cat, and then with a whisk was off for\\r\\never. Its honour was safe, but it was afraid of Whitehead. It had seen\\r\\nthe gleam of desire in her green eyes, and the cat might have broken her\\r\\nword if she had not been so anxious to get back home where her mistress\\r\\ncould command the wonderful kettle once more to bring forth food.\\r\\n\\r\\nThe two adventurers reached the river just as the sun was rising above\\r\\nthe eastern hills.\\r\\n\\r\\n\"Be careful,\" cautioned Blackfoot, as the cat leaped upon his back for\\r\\nher ride across the stream, \"be careful not to forget the treasure. In\\r\\nshort, remember that even though you are a female, it is necessary to\\r\\nkeep your mouth closed till we reach the other side.\"\\r\\n\\r\\n\"Thanks, but I don\\'t think I need your advice,\" replied Whitehead,\\r\\npicking up the beetle and leaping on to the dog\\'s back.\\r\\n\\r\\nBut alas! just as they were nearing the farther shore, the excited cat\\r\\nforgot her wisdom for a moment. A fish suddenly leaped out of the water\\r\\ndirectly under her nose. It was too great a temptation. Snap! went her\\r\\njaws in a vain effort to land the scaly treasure, and the golden beetle\\r\\nsank to the bottom of the river.\\r\\n\\r\\n\"There!\" said the dog angrily, \"what did I tell you? Now all our trouble\\r\\nhas been in vain--all on account of your stupidity.\"\\r\\n\\r\\nFor a time there was a bitter dispute, and the companions called each\\r\\nother some very bad names--such as turtle and rabbit. Just as they were\\r\\nstarting away from the river, disappointed and discouraged, a friendly\\r\\nfrog who had by chance heard their conversation offered to fetch the\\r\\ntreasure from the bottom of the stream. No sooner said than done, and\\r\\nafter thanking this accommodating animal profusely, they turned homeward\\r\\nonce more.\\r\\n\\r\\nWhen they reached the cottage the door was shut, and, bark as he would,\\r\\nBlackfoot could not persuade his master to open it. There was the sound\\r\\nof loud wailing inside.\\r\\n\\r\\n\"Mistress is broken-hearted,\" whispered the cat, \"I will go to her and\\r\\nmake her happy.\"\\r\\n\\r\\nSo saying, she sprang lightly through a hole in the paper window, which,\\r\\nalas! was too small and too far from the ground for the faithful dog to\\r\\nenter.\\r\\n\\r\\nA sad sight greeted the gaze of Whitehead. The son was lying on the bed\\r\\nunconscious, almost dead for want of food, while his mother, in despair,\\r\\nwas rocking backwards and forwards wringing her wrinkled hands and\\r\\ncrying at the top of her voice for some one to come and save them.\\r\\n\\r\\n\"Here I am, mistress,\" cried Whitehead, \"and here is the treasure you\\r\\nare weeping for. I have rescued it and brought it back to you.\"\\r\\n\\r\\nThe widow, wild with joy at sight of the beetle, seized the cat in her\\r\\nscrawny arms and hugged the pet tightly to her bosom.\\r\\n\\r\\n\"Breakfast, son, breakfast! Wake up from your swoon! Fortune has come\\r\\nagain. We are saved from starvation!\"\\r\\n\\r\\nSoon a steaming hot meal was ready, and you may well imagine how the old\\r\\nwoman and her son, heaping praises upon Whitehead, filled the beast\\'s\\r\\nplatter with good things, but never a word did they say of the faithful\\r\\ndog, who remained outside sniffing the fragrant odours and waiting in\\r\\nsad wonder, for all this time the artful cat had said nothing of\\r\\nBlackfoot\\'s part in the rescue of the golden beetle.\\r\\n\\r\\nAt last, when breakfast was over, slipping away from the others,\\r\\nWhitehead jumped out through the hole in the window.\\r\\n\\r\\n\"Oh, my dear Blackfoot,\" she began laughingly, \"you should have been\\r\\ninside to see what a feast they gave me! Mistress was so delighted at\\r\\nmy bringing back her treasure that she could not give me enough to eat,\\r\\nnor say enough kind things about me. Too bad, old fellow, that you are\\r\\nhungry. You\\'d better run out into the street and hunt up a bone.\"\\r\\n\\r\\nMaddened by the shameful treachery of his companion, the enraged dog\\r\\nsprang upon the cat and in a few seconds had shaken her to death.\\r\\n\\r\\n\"So dies the one who forgets a friend and who loses honour,\" he cried\\r\\nsadly, as he stood over the body of his companion.\\r\\n\\r\\nRushing out into the street, he proclaimed the treachery of Whitehead\\r\\nto the members of his tribe, at the same time advising that all\\r\\nself-respecting dogs should from that time onwards make war upon the\\r\\nfeline race.\\r\\n\\r\\nAnd that is why the descendants of old Blackfoot, whether in China or\\r\\nin the great countries of the West, have waged continual war upon the\\r\\nchildren and grandchildren of Whitehead, for a thousand generations of\\r\\ndogs have fought them and hated them with a great and lasting hatred.\\r\\n\\r\\n\\r\\n\\r\\n\\r\\nTHE GREAT BELL\\r\\n\\r\\n[Illustration]\\r\\n\\r\\n\\r\\nThe mighty Yung-lo sat on the great throne surrounded by a hundred\\r\\nattendants. He was sad, for he could think of no wonderful thing to do\\r\\nfor his country. He flirted his silken fan nervously and snapped his\\r\\nlong finger-nails in the impatience of despair.\\r\\n\\r\\n\"Woe is me!\" he cried at last, his sorrow getting the better of his\\r\\nusual calmness. \"I have picked up the great capital and moved it from\\r\\nthe South to Peking and have built here a mighty city. I have surrounded\\r\\nmy city with a wall, even thicker and greater than the famous wall of\\r\\nChina. I have constructed in this city scores of temples and palaces.\\r\\nI have had the wise men and scholars compile a great book of wisdom,\\r\\nmade up of 23,000 volumes, the largest and most wonderful collection\\r\\nof learning ever gathered together by the hands of men. I have built\\r\\nwatch-towers, bridges, and giant monuments, and now, alas! as I approach\\r\\nthe end of my days as ruler of the Middle Kingdom there is nothing more\\r\\nto be done for my people. Better far that I should even now close my\\r\\ntired eyes for ever and mount up on high to be the guest of the dragon,\\r\\nthan live on in idleness, giving to my children an example of\\r\\nuselessness and sloth.\"\\r\\n\\r\\n\"But, your Majesty,\" began one of Yung-lo\\'s most faithful courtiers,\\r\\nnamed Ming-lin, falling upon his knees and knocking his head three times\\r\\non the ground, \"if you would only deign to listen to your humble slave,\\r\\nI would dare to suggest a great gift for which the many people of\\r\\nPeking, your children, would rise up and bless you both now and in\\r\\nfuture generations.\"\\r\\n\\r\\n\"Only tell me of such a gift and I will not only grant it to the\\r\\nimperial city, but as a sign of thanksgiving to you for your sage\\r\\ncounsel I will bestow upon you the royal peacock feather.\"\\r\\n\\r\\n\"It is not for one of my small virtues,\" replied the delighted official,\\r\\n\"to wear the feather when others so much wiser are denied it, but if it\\r\\nplease your Majesty, remember that in the northern district of the city\\r\\nthere has been erected a bell-tower which as yet remains empty. The\\r\\npeople of the city need a giant bell to sound out the fleeting hours of\\r\\nthe day, that they may be urged on to perform their labours and not be\\r\\nidle. The water-clock already marks the hours, but there is no bell to\\r\\nproclaim them to the populace.\"\\r\\n\\r\\n\"A good suggestion in sooth,\" answered the Emperor, smiling, \"and yet\\r\\nwho is there among us that has skill enough in bell-craft to do the task\\r\\nyou propose? I am told that to cast a bell worthy of our imperial city\\r\\nrequires the genius of a poet and the skill of an astronomer.\"\\r\\n\\r\\n\"True, most mighty one, and yet permit me to say that Kwan-yu, who so\\r\\nskilfully moulded the imperial cannon, can also cast a giant bell. He\\r\\nalone of all your subjects is worthy of the task, for he alone can do\\r\\nit justice.\"\\r\\n\\r\\nNow, the official who proposed the name of Kwan-yu to the Emperor had\\r\\ntwo objects in so doing. He wished to quiet the grief of Yung-lo, who\\r\\nwas mourning because he had nothing left to do for his people, and,\\r\\nat the same time, to raise Kwan-yu to high rank, for Kwan-yu\\'s only\\r\\ndaughter had for several years been betrothed to Ming-lin\\'s only\\r\\nson, and it would be a great stroke of luck for Ming-lin if his\\r\\ndaughter-in-law\\'s father should come under direct favour of the Emperor.\\r\\n\\r\\n\"Depend upon it, Kwan-yu can do the work better than any other man\\r\\nwithin the length and breadth of your empire,\" continued Ming-lin, again\\r\\nbowing low three times.\\r\\n\\r\\n\"Then summon Kwan-yu at once to my presence, that I may confer with him\\r\\nabout this important business.\"\\r\\n\\r\\nIn great glee Ming-lin arose and backed himself away from the golden\\r\\nthrone, for it would have been very improper for him to turn his\\r\\ncoat-tails on the Son of Heaven.\\r\\n\\r\\nBut it was with no little fear that Kwan-yu undertook the casting of the\\r\\ngreat bell.\\r\\n\\r\\n\"Can a carpenter make shoes?\" he had protested, when Ming-lin had broken\\r\\nthe Emperor\\'s message to him.\\r\\n\\r\\n\"Yes,\" replied the other quickly, \"if they be like those worn by the\\r\\nlittle island dwarfs, and, therefore, made of wood. Bells and cannon are\\r\\ncast from similar material. You ought easily to adapt yourself to this\\r\\nnew work.\"\\r\\n\\r\\nNow when Kwan-yu\\'s daughter found out what he was about to undertake,\\r\\nshe was filled with a great fear.\\r\\n\\r\\n\"Oh, honoured father,\" she cried, \"think well before you give this\\r\\npromise. As a cannon-maker you are successful, but who can say about the\\r\\nother task? And if you fail, the Great One\\'s wrath will fall heavily\\r\\nupon you.\"\\r\\n\\r\\n\"Just hear the girl,\" interrupted the ambitious mother. \"What do you\\r\\nknow about success and failure? You\\'d better stick to the subject of\\r\\ncooking and baby-clothes, for you will soon be married. As for your\\r\\nfather, pray let him attend to his own business. It is unseemly for\\r\\na girl to meddle in her father\\'s affairs.\"\\r\\n\\r\\nAnd so poor Ko-ai--for that was the maiden\\'s name--was silenced, and\\r\\nwent back to her fancy-work with a big tear stealing down her fair\\r\\ncheek, for she loved her father dearly and there had come into her heart\\r\\na strange terror at thought of his possible danger.\\r\\n\\r\\nMeanwhile, Kwan-yu was summoned to the Forbidden City, which is in the\\r\\ncentre of Peking, and in which stands the Imperial palace. There he\\r\\nreceived his instructions from the Son of Heaven.\\r\\n\\r\\n\"And remember,\" said Yung-lo in conclusion, \"this bell must be so great\\r\\nthat the sound of it will ring out to a distance of thirty-three miles\\r\\non every hand. To this end, you should add in proper proportions gold\\r\\nand brass, for they give depth and strength to everything with which\\r\\nthey mingle. Furthermore, in order that this giant may not be lacking in\\r\\nthe quality of sweetness, you must add silver in due proportion, while\\r\\nthe sayings of the sages must be graven on its sides.\"\\r\\n\\r\\nNow when Kwan-yu had really received his commission from the\\r\\nEmperor he searched the bookstalls of the city to find if possible\\r\\nsome ancient descriptions of the best methods used in bell-casting. Also\\r\\nhe offered generous wages to all who had ever had experience in the\\r\\ngreat work for which he was preparing. Soon his great foundry was alive\\r\\nwith labourers; huge fires were burning; great piles of gold, silver and\\r\\nother metals were lying here and there, ready to be weighed.\\r\\n\\r\\nWhenever Kwan-yu went out to a public tea-house all of his friends plied\\r\\nhim with questions about the great bell.\\r\\n\\r\\n\"Will it be the largest in the world?\"\\r\\n\\r\\n\"Oh, no,\" he would reply, \"that is not necessary, but it must be the\\r\\nsweetest-toned, for we Chinese strive not for size, but for purity; not\\r\\nfor greatness, but for virtue.\"\\r\\n\\r\\n\"When will it be finished?\"\\r\\n\\r\\n\"Only the gods can tell, for I have had little experience, and perhaps I\\r\\nshall fail to mix the metals properly.\"\\r\\n\\r\\nEvery few days the Son of Heaven himself would send an imperial\\r\\nmessenger to ask similar questions, for a king is likely to be just as\\r\\ncurious as his subjects, but Kwan-yu would always modestly reply that he\\r\\ncould not be certain; it was very doubtful when the bell would be ready.\\r\\n\\r\\nAt last, however, after consulting an astrologer, Kwan-yu appointed\\r\\na day for the casting, and then there came another courtier robed in\\r\\nsplendid garments, saying that at the proper hour the Great One himself\\r\\nwould for the first time cross Kwan-yu\\'s threshold--would come to see\\r\\nthe casting of the bell he had ordered for his people. On hearing this,\\r\\nKwan-yu was sore afraid, for he felt that somehow, in spite of all his\\r\\nreading, in spite of all the advice he had received from well-wishers,\\r\\nthere was something lacking in the mixture of the boiling metals that\\r\\nwould soon be poured into the giant mould. In short, Kwan-yu was about\\r\\nto discover an important truth that this great world has been thousands\\r\\nof years in learning--namely, that mere reading and advice cannot\\r\\nproduce skill, that true skill can come only from years of experience\\r\\nand practice. On the brink of despair, he sent a servant with money to\\r\\nthe temple, to pray to the gods for success in his venture. Truly,\\r\\ndespair and prayer rhyme in every language.\\r\\n\\r\\nKo-ai, his daughter, was also afraid when she saw the cloud on her\\r\\nfather\\'s brow, for she it was, you remember, who had tried to prevent\\r\\nhim from undertaking the Emperor\\'s commission. She also went to the\\r\\ntemple, in company with a faithful old servant, and prayed to heaven.\\r\\n\\r\\nThe great day dawned. The Emperor and his courtiers were assembled, the\\r\\nformer sitting on a platform built for the occasion. Three attendants\\r\\nwaved beautiful hand-painted fans about his imperial brow, for the room\\r\\nwas very warm, and a huge block of ice lay melting in a bowl of carved\\r\\nbrass, cooling the hot air before it should blow upon the head of the\\r\\nSon of Heaven.\\r\\n\\r\\nKwan-yu\\'s wife and daughter stood in a corner at the back of the room,\\r\\npeering anxiously towards the cauldron of molten liquid, for well they\\r\\nknew that Kwan-yu\\'s future rank and power depended on the success of\\r\\nthis enterprise. Around the walls stood Kwan-yu\\'s friends, and at the\\r\\nwindows groups of excited servants strained their necks, trying to catch\\r\\na glimpse of royalty, and for once afraid to chatter. Kwan-yu himself\\r\\nwas hurrying hither and thither, now giving a final order, now gazing\\r\\nanxiously at the empty mould, and again glancing towards the throne to\\r\\nsee if his imperial master was showing signs of impatience.\\r\\n\\r\\nAt last all was ready; everyone was waiting breathlessly for the sign\\r\\nfrom Yung-lo which should start the flowing of the metal. A slight bow\\r\\nof the head, a lifting of the finger! The glowing liquid, hissing with\\r\\ndelight at being freed even for a moment from its prison, ran forward\\r\\nfaster and faster along the channel that led into the great earthen bed.\\r\\n\\r\\nThe bell-maker covered his eyes with his fan, afraid to look at the\\r\\nswiftly-flowing stream. Were all his hopes to be suddenly dashed by the\\r\\nfailure of the metals to mix and harden properly? A heavy sigh escaped\\r\\nhim as at last he looked up at the thing he had created. Something had\\r\\nindeed gone wrong; he knew in the flash of an eye that misfortune had\\r\\novertaken him.\\r\\n\\r\\nYes! sure enough, when at last the earthen casting had been broken, even\\r\\nthe smallest child could see that the giant bell, instead of being a\\r\\nthing of beauty was a sorry mass of metals that would not blend.\\r\\n\\r\\n\"Alas!\" said Yung-lo, \"here is indeed a mighty failure, but even in this\\r\\ndisappointment I see an object lesson well worthy of consideration, for\\r\\nbehold! in yonder elements are all the materials of which this country\\r\\nis made up. There are gold and silver and the baser metals. United in\\r\\nthe proper manner they would make a bell so wonderfully beautiful and so\\r\\npure of tone that the very spirits of the Western heavens would pause to\\r\\nlook and listen. But divided they form a thing that is hideous to eye\\r\\nand ear. Oh, my China! how many wars are there from time to time among\\r\\nthe different sections, weakening the country and making it poor! If\\r\\nonly all these peoples, great and small, the gold and silver and the\\r\\nbaser elements, would unite, then would this land be really worthy of\\r\\nthe name of the Middle Kingdom!\"\\r\\n\\r\\nThe courtiers all applauded this speech of the great Yung-lo, but\\r\\nKwan-yu remained on the ground where he had thrown himself at the feet\\r\\nof his sovereign. Still bowing his head and moaning, he cried out:\\r\\n\\r\\n\"Ah! your Majesty! I urged you not to appoint me, and now indeed you see\\r\\nmy unfitness. Take my life, I beg you, as a punishment for my failure.\"\\r\\n\\r\\n\"Rise, Kwan-yu,\" said the great Prince. \"I would be a mean master indeed\\r\\nif I did not grant you another trial. Rise up and see that your next\\r\\ncasting profits by the lesson of this failure.\"\\r\\n\\r\\nSo Kwan-yu arose, for when the King speaks, all men must listen. The\\r\\nnext day he began his task once more, but still his heart was heavy,\\r\\nfor he knew not the reason of his failure and was therefore unable to\\r\\ncorrect his error. For many months he laboured night and day. Hardly a\\r\\nword would he speak to his wife, and when his daughter tried to tempt\\r\\nhim with a dish of sunflower seed that she had parched herself, he would\\r\\nreward her with a sad smile, but would by no means laugh with her and\\r\\njoke as had formerly been his custom. On the first and fifteenth day of\\r\\nevery moon he went himself to the temple and implored the gods to grant\\r\\nhim their friendly assistance, while Ko-ai added her prayers to his,\\r\\nburning incense and weeping before the grinning idols.\\r\\n\\r\\nAgain the great Yung-lo was seated on the platform in Kwan-yu\\'s foundry,\\r\\nand again his courtiers hovered round him, but this time, as it was\\r\\nwinter, they did not flirt the silken fans. The Great One was certain\\r\\nthat this casting would be successful. He had been lenient with Kwan-yu\\r\\non the first occasion, and now at last he and the great city were to\\r\\nprofit by that mercy.\\r\\n\\r\\nAgain he gave the signal; once more every neck was craned to see the\\r\\nflowing of the metal. But, alas! when the casing was removed it was seen\\r\\nthat the new bell was no better than the first. It was, in fact, a\\r\\ndreadful failure, cracked and ugly, for the gold and silver and the\\r\\nbaser elements had again refused to blend into a united whole.\\r\\n\\r\\nWith a bitter cry which touched the hearts of all those present, the\\r\\nunhappy Kwan-yu fell upon the floor. This time he did not bow before his\\r\\nmaster, for at the sight of the miserable conglomeration of useless\\r\\nmetals his courage failed him, and he fainted. When at last he came to,\\r\\nthe first sight that met his eyes was the scowling face of Yung-lo. Then\\r\\nhe heard, as in a dream, the stern voice of the Son of Heaven:\\r\\n\\r\\n\"Unhappy Kwan-yu, can it be that you, upon whom I have ever heaped my\\r\\nfavours, have twice betrayed the trust? The first time, I was sorry\\r\\nfor you and willing to forget, but now that sorrow has turned into\\r\\nanger--yea, the anger of heaven itself is upon you. Now, I bid you mark\\r\\nwell my words. A third chance you shall have to cast the bell, but if on\\r\\nthat third attempt you fail--then by order of the Vermilion Pencil both\\r\\nyou and Ming-lin, who recommended you, shall pay the penalty.\"\\r\\n\\r\\nFor a long time after the Emperor had departed, Kwan-yu lay on the floor\\r\\nsurrounded by his attendants, but chief of all those who tried to\\r\\nrestore him was his faithful daughter. For a whole week he wavered\\r\\nbetween life and death, and then at last there came a turn in his\\r\\nfavour. Once more he regained his health, once more he began his\\r\\npreparations.\\r\\n\\r\\nYet all the time he was about his work his heart was heavy, for he felt\\r\\nthat he would soon journey into the dark forest, the region of the great\\r\\nyellow spring, the place from which no pilgrim ever returns. Ko-ai, too,\\r\\nfelt more than ever that her father was in the presence of a great\\r\\ndanger.\\r\\n\\r\\n\"Surely,\" she said one day to her mother, \"a raven must have flown over\\r\\nhis head. He is like the proverb of the blind man on the blind horse\\r\\ncoming at midnight to a deep ditch. Oh, how can he cross over?\"\\r\\n\\r\\nWillingly would this dutiful daughter have done anything to save her\\r\\nloved one. Night and day she racked her brains for some plan, but all to\\r\\nno avail.\\r\\n\\r\\nOn the day before the third casting, as Ko-ai was sitting in front of\\r\\nher brass mirror braiding her long black hair, suddenly a little bird\\r\\nflew in at the window and perched upon her head. Immediately the\\r\\nstartled maiden seemed to hear a voice as if some good fairy were\\r\\nwhispering in her ear:\\r\\n\\r\\n\"Do not hesitate. You must go and consult the famous juggler who even\\r\\nnow is visiting the city. Sell your jade-stones and other jewels, for\\r\\nthis man of wisdom will not listen unless his attention is attracted\\r\\nby huge sums of money.\"\\r\\n\\r\\nThe feathered messenger flew out of her room, but Ko-ai had heard enough\\r\\nto make her happy. She despatched a trusted servant to sell her jade and\\r\\nher jewels, charging him on no account to tell her mother. Then, with a\\r\\ngreat sum of money in her possession she sought out the magician who was\\r\\nsaid to be wiser than the sages in knowledge of life and death.\\r\\n\\r\\n\"Tell me,\" she implored, as the greybeard summoned her to his presence,\\r\\n\"tell me how I can save my father, for the Emperor has ordered his death\\r\\nif he fails a third time in the casting of the bell.\"\\r\\n\\r\\nThe astrologer, after plying her with questions, put on his\\r\\ntortoise-shell glasses and searched long in his book of knowledge. He\\r\\nalso examined closely the signs of the heavens, consulting the mystic\\r\\ntables over and over again. Finally, he turned toward Ko-ai, who all the\\r\\ntime had been awaiting his answer with impatience.\\r\\n\\r\\n\"Nothing could be plainer than the reason of your father\\'s failure, for\\r\\nwhen a man seeks to do the impossible, he can expect Fate to give him no\\r\\nother answer. Gold cannot unite with silver, nor brass with iron, unless\\r\\nthe blood of a maiden is mingled with the molten metals, but the girl\\r\\nwho gives up her life to bring about the fusion must be pure and good.\"\\r\\n\\r\\nWith a sigh of despair Ko-ai heard the astrologer\\'s answer. She loved\\r\\nthe world and all its beauties; she loved her birds, her companions, her\\r\\nfather; she had expected to marry soon, and then there would have been\\r\\nchildren to love and cherish. But now all these dreams of happiness must\\r\\nbe forgotten. There was no other maiden to give up her life for Kwan-yu.\\r\\nShe, Ko-ai, loved her father and must make the sacrifice for his sake.\\r\\n\\r\\nAnd so the day arrived for the third trial, and a third time Yung-lo\\r\\ntook his place in Kwan-yu\\'s factory, surrounded by his courtiers. There\\r\\nwas a look of stern expectancy on his face. Twice he had excused his\\r\\nunderling for failure. Now there could be no thought of mercy. If the\\r\\nbell did not come from its cast perfect in tone and fair to look upon,\\r\\nKwan-yu must be punished with the severest punishment that could be\\r\\nmeted out to man--even death itself. That was why there was a look of\\r\\nstern expectancy on Yung-lo\\'s face, for he really loved Kwan-yu and did\\r\\nnot wish to send him to his death.\\r\\n\\r\\nAs for Kwan-yu himself, he had long ago given up all thought of success,\\r\\nfor nothing had happened since his second failure to make him any surer\\r\\nthis time of success. He had settled up his business affairs, arranging\\r\\nfor a goodly sum to go to his beloved daughter; he had bought the coffin\\r\\nin which his own body would be laid away and had stored it in one of the\\r\\nprincipal rooms of his dwelling; he had even engaged the priests and\\r\\nmusicians who should chant his funeral dirge, and, last but not least,\\r\\nhe had arranged with the man who would have charge of chopping off his\\r\\nhead, that one fold of skin should be left uncut, as this would bring\\r\\nhim better luck on his entry into the spiritual world than if the head\\r\\nwere severed entirely from the body.\\r\\n\\r\\nAnd so we may say that Kwan-yu was prepared to die. In fact, on the\\r\\nnight before the final casting he had a dream in which he saw himself\\r\\nkneeling before the headsman and cautioning him not to forget the\\r\\nbinding agreement the latter had entered into.\\r\\n\\r\\nOf all those present in the great foundry, perhaps the devoted Ko-ai was\\r\\nthe least excited. Unnoticed, she had slipped along the wall from the\\r\\nspot where she had been standing with her mother and had planted herself\\r\\ndirectly opposite the huge tank in which the molten, seething liquid\\r\\nbubbled, awaiting the signal when it should be set free. Ko-ai gazed at\\r\\nthe Emperor, watching intently for the well-known signal. When at last\\r\\nshe saw his head move forward she sprang with a wild leap into the\\r\\nboiling liquid, at the same time crying in her clear, sweet voice:\\r\\n\\r\\n\"For thee, dear father! It is the only way!\"\\r\\n\\r\\nThe molten white metal received the lovely girl into its ardent embrace,\\r\\nreceived her, and swallowed her up completely, as in a tomb of liquid\\r\\nfire.\\r\\n\\r\\nAnd Kwan-yu--what of Kwan-yu, the frantic father? Mad with grief at the\\r\\nsight of his loved one giving up her life, a sacrifice to save him, he\\r\\nhad sprung forward to hold her back from her terrible death, but had\\r\\nsucceeded only in catching one of her tiny jewelled slippers as she sank\\r\\nout of sight for ever--a dainty, silken slipper, to remind him always of\\r\\nher wonderful sacrifice. In his wild grief as he clasped this pitiful\\r\\nlittle memento to his heart he would himself have leaped in and followed\\r\\nher to her death, if his servants had not restrained him until the\\r\\nEmperor had repeated his signal and the liquid had been poured into the\\r\\ncast. As the sad eyes of all those present peered into the molten river\\r\\nof metals rushing to its earthen bed, they saw not a single sign\\r\\nremaining of the departed Ko-ai.\\r\\n\\r\\nThis, then, my children, is the time-worn legend of the great bell\\r\\nof Peking, a tale that has been repeated a million times by poets,\\r\\nstory-tellers and devoted mothers, for you must know that on this third\\r\\ncasting, when the earthen mould was removed, there stood revealed the\\r\\nmost beautiful bell that eye had ever looked upon, and when it was swung\\r\\nup into the bell-tower there was immense rejoicing among the people. The\\r\\nsilver and the gold and the iron and the brass, held together by the\\r\\nblood of the virgin, had blended perfectly, and the clear voice of the\\r\\nmonster bell rang out over the great city, sounding a deeper, richer\\r\\nmelody than that of any other bell within the limits of the Middle\\r\\nKingdom, or, for that matter, of all the world. And, strange to say,\\r\\neven yet the deep-voiced colossus seems to cry out the name of the\\r\\nmaiden who gave herself a living sacrifice, \"Ko-ai! Ko-ai! Ko-ai!\" so\\r\\nthat all the people may remember her deed of virtue ten thousand years\\r\\nago. And between the mellow peals of music there often seems to come a\\r\\nplaintive whisper that may be heard only by those standing near, \"Hsieh!\\r\\nhsieh\"--the Chinese word for slipper. \"Alas!\" say all who hear it,\\r\\n\"Ko-ai is crying for her slipper. Poor little Ko-ai!\"\\r\\n\\r\\nAnd now, my dear children, this tale is almost finished, but there is\\r\\nstill one thing you must by no means fail to remember. By order of the\\r\\nEmperor, the face of the great bell was graven with precious sayings\\r\\nfrom the classics, that even in its moments of silence the bell might\\r\\nteach lessons of virtue to the people.\\r\\n\\r\\n\"Behold,\" said Yung-lo, as he stood beside the grief-stricken father,\\r\\n\"amongst all yonder texts of wisdom, the priceless sayings of our\\r\\nhonoured sages, there is none that can teach to my children so sweet a\\r\\nlesson of filial love and devotion as that one last act of your devoted\\r\\ndaughter. For though she died to save you, her deed will still be sung\\r\\nand extolled by my people when you are passed away, yea, even when the\\r\\nbell itself has crumbled into ruins.\"\\r\\n\\r\\n\\r\\n\\r\\n\\r\\nTHE STRANGE TALE OF DOCTOR DOG\\r\\n\\r\\n[Illustration]\\r\\n\\r\\n\\r\\nFar up in the mountains of the Province of Hunan in the central part of\\r\\nChina, there once lived in a small village a rich gentleman who had only\\r\\none child. This girl, like the daughter of Kwan-yu in the story of the\\r\\nGreat Bell, was the very joy of her father\\'s life.\\r\\n\\r\\nNow Mr. Min, for that was this gentleman\\'s name, was famous throughout\\r\\nthe whole district for his learning, and, as he was also the owner of\\r\\nmuch property, he spared no effort to teach Honeysuckle the wisdom of\\r\\nthe sages, and to give her everything she craved. Of course this was\\r\\nenough to spoil most children, but Honeysuckle was not at all like other\\r\\nchildren. As sweet as the flower from which she took her name, she\\r\\nlistened to her father\\'s slightest command, and obeyed without ever\\r\\nwaiting to be told a second time.\\r\\n\\r\\nHer father often bought kites for her, of every kind and shape. There\\r\\nwere fish, birds, butterflies, lizards and huge dragons, one of which\\r\\nhad a tail more than thirty feet long. Mr. Min was very skilful in\\r\\nflying these kites for little Honeysuckle, and so naturally did his\\r\\nbirds and butterflies circle round and hover about in the air that\\r\\nalmost any little western boy would have been deceived and said, \"Why,\\r\\nthere is a real bird, and not a kite at all!\" Then again, he would\\r\\nfasten a queer little instrument to the string, which made a kind of\\r\\nhumming noise, as he waved his hand from side to side. \"It is the wind\\r\\nsinging, Daddy,\" cried Honeysuckle, clapping her hands with joy;\\r\\n\"singing a kite-song to both of us.\" Sometimes, to teach his little\\r\\ndarling a lesson if she had been the least naughty, Mr. Min would fasten\\r\\nqueerly twisted scraps of paper, on which were written many Chinese\\r\\nwords, to the string of her favourite kite.\\r\\n\\r\\n\"What are you doing, Daddy?\" Honeysuckle would ask. \"What can those\\r\\nqueer-looking papers be?\"\\r\\n\\r\\n\"On every piece is written a sin that we have done.\"\\r\\n\\r\\n\"What is a sin, Daddy?\"\\r\\n\\r\\n\"Oh, when Honeysuckle has been naughty; that is a sin!\" he answered\\r\\ngently. \"Your old nurse is afraid to scold you, and if you are to grow\\r\\nup to be a good woman, Daddy must teach you what is right.\"\\r\\n\\r\\nThen Mr. Min would send the kite up high--high over the house-tops,\\r\\neven higher than the tall Pagoda on the hillside. When all his cord\\r\\nwas let out, he would pick up two sharp stones, and, handing them to\\r\\nHoneysuckle, would say, \"Now, daughter, cut the string, and the wind\\r\\nwill carry away the sins that are written down on the scraps of paper.\"\\r\\n\\r\\n\"But, Daddy, the kite is so pretty. Mayn\\'t we keep our sins a little\\r\\nlonger?\" she would innocently ask.\\r\\n\\r\\n\"No, child; it is dangerous to hold on to one\\'s sins. Virtue is the\\r\\nfoundation of happiness,\" he would reply sternly, choking back his\\r\\nlaughter at her question. \"Make haste and cut the cord.\"\\r\\n\\r\\nSo Honeysuckle, always obedient--at least with her father--would saw\\r\\nthe string in two between the sharp stones, and with a childish cry of\\r\\ndespair would watch her favourite kite, blown by the wind, sail farther\\r\\nand farther away, until at last, straining her eyes, she could see it\\r\\nsink slowly to the earth in some far-distant meadow.\\r\\n\\r\\n\"Now laugh and be happy,\" Mr. Min would say, \"for your sins are all\\r\\ngone. See that you don\\'t get a new supply of them.\"\\r\\n\\r\\nHoneysuckle was also fond of seeing the Punch and Judy show, for,\\r\\nyou must know, this old-fashioned amusement for children was enjoyed\\r\\nby little folks in China, perhaps three thousand years before your\\r\\ngreat-grandfather was born. It is even said that the great Emperor, Mu,\\r\\nwhen he saw these little dancing images for the first time, was greatly\\r\\nenraged at seeing one of them making eyes at his favourite wife. He\\r\\nordered the showman to be put to death, and it was with difficulty the\\r\\npoor fellow persuaded his Majesty that the dancing puppets were not\\r\\nreally alive at all, but only images of cloth and clay.\\r\\n\\r\\nNo wonder then Honeysuckle liked to see Punch and Judy if the Son of\\r\\nHeaven himself had been deceived by their queer antics into thinking\\r\\nthem real people of flesh and blood.\\r\\n\\r\\nBut we must hurry on with our story, or some of our readers will be\\r\\nasking, \"But where is Dr. Dog? Are you never coming to the hero of this\\r\\ntale?\" One day when Honeysuckle was sitting inside a shady pavilion that\\r\\noverlooked a tiny fish-pond, she was suddenly seized with a violent\\r\\nattack of colic. Frantic with pain, she told a servant to summon her\\r\\nfather, and then without further ado, she fell over in a faint upon the\\r\\nground.\\r\\n\\r\\nWhen Mr. Min reached his daughter\\'s side, she was still unconscious.\\r\\nAfter sending for the family physician to come post haste, he got his\\r\\ndaughter to bed, but although she recovered from her fainting fit, the\\r\\nextreme pain continued until the poor girl was almost dead from\\r\\nexhaustion.\\r\\n\\r\\nNow, when the learned doctor arrived and peered at her from under his\\r\\ngigantic spectacles, he could not discover the cause of her trouble.\\r\\nHowever, like some of our western medical men, he did not confess his\\r\\nignorance, but proceeded to prescribe a huge dose of boiling water, to\\r\\nbe followed a little later by a compound of pulverized deer\\'s horn and\\r\\ndried toadskin.\\r\\n\\r\\nPoor Honeysuckle lay in agony for three days, all the time growing\\r\\nweaker and weaker from loss of sleep. Every great doctor in the district\\r\\nhad been summoned for consultation; two had come from Changsha, the\\r\\nchief city of the province, but all to no avail. It was one of those\\r\\ncases that seem to be beyond the power of even the most learned\\r\\nphysicians. In the hope of receiving the great reward offered by the\\r\\ndesperate father, these wise men searched from cover to cover in the\\r\\ngreat Chinese Cyclopedia of Medicine, trying in vain to find a method of\\r\\ntreating the unhappy maiden. There was even thought of calling in a\\r\\ncertain foreign physician from England, who was in a distant city, and\\r\\nwas supposed, on account of some marvellous cures he had brought to\\r\\npass, to be in direct league with the devil. However, the city\\r\\nmagistrate would not allow Mr. Min to call in this outsider, for fear\\r\\ntrouble might be stirred up among the people.\\r\\n\\r\\nMr. Min sent out a proclamation in every direction, describing his\\r\\ndaughter\\'s illness, and offering to bestow on her a handsome dowry and\\r\\ngive her in marriage to whoever should be the means of bringing her back\\r\\nto health and happiness. He then sat at her bedside and waited, feeling\\r\\nthat he had done all that was in his power. There were many answers to\\r\\nhis invitation. Physicians, old and young, came from every part of the\\r\\nEmpire to try their skill, and when they had seen poor Honeysuckle and\\r\\nalso the huge pile of silver shoes her father offered as a wedding gift,\\r\\nthey all fought with might and main for her life; some having been\\r\\nattracted by her great beauty and excellent reputation, others by the\\r\\ntremendous reward.\\r\\n\\r\\nBut, alas for poor Honeysuckle! Not one of all those wise men could cure\\r\\nher! One day, when she was feeling a slight change for the better, she\\r\\ncalled her father, and, clasping his hand with her tiny one said, \"Were\\r\\nit not for your love I would give up this hard fight and pass over into\\r\\nthe dark wood; or, as my old grandmother says, fly up into the Western\\r\\nHeavens. For your sake, because I am your only child, and especially\\r\\nbecause you have no son, I have struggled hard to live, but now I feel\\r\\nthat the next attack of that dreadful pain will carry me away. And oh,\\r\\nI do not want to die!\"\\r\\n\\r\\nHere Honeysuckle wept as if her heart would break, and her old father\\r\\nwept too, for the more she suffered the more he loved her.\\r\\n\\r\\nJust then her face began to turn pale. \"It is coming! The pain is\\r\\ncoming, father! Very soon I shall be no more. Good-bye, father!\\r\\nGood-bye; good----.\" Here her voice broke and a great sob almost broke\\r\\nher father\\'s heart. He turned away from her bedside; he could not bear\\r\\nto see her suffer. He walked outside and sat down on a rustic bench; his\\r\\nhead fell upon his bosom, and the great salt tears trickled down his\\r\\nlong grey beard.\\r\\n\\r\\nAs Mr. Min sat thus overcome with grief, he was startled at hearing a\\r\\nlow whine. Looking up he saw, to his astonishment, a shaggy mountain dog\\r\\nabout the size of a Newfoundland. The huge beast looked into the old\\r\\nman\\'s eyes with so intelligent and human an expression, with such a sad\\r\\nand wistful gaze, that the greybeard addressed him, saying, \"Why have\\r\\nyou come? To cure my daughter?\"\\r\\n\\r\\nThe dog replied with three short barks, wagging his tail vigorously and\\r\\nturning toward the half-opened door that led into the room where the\\r\\ngirl lay.\\r\\n\\r\\nBy this time, willing to try any chance whatever of reviving his\\r\\ndaughter, Mr. Min bade the animal follow him into Honeysuckle\\'s\\r\\napartment. Placing his forepaws upon the side of her bed, the dog looked\\r\\nlong and steadily at the wasted form before him and held his ear\\r\\nintently for a moment over the maiden\\'s heart. Then, with a slight cough\\r\\nhe deposited from his mouth into her outstretched hand, a tiny stone.\\r\\nTouching her wrist with his right paw, he motioned to her to swallow the\\r\\nstone.\\r\\n\\r\\n\"Yes, my dear, obey him,\" counselled her father, as she turned to him\\r\\ninquiringly, \"for good Dr. Dog has been sent to your bedside by the\\r\\nmountain fairies, who have heard of your illness and who wish to invite\\r\\nyou back to life again.\"\\r\\n\\r\\nWithout further delay the sick girl, who was by this time almost burned\\r\\naway by the fever, raised her hand to her lips and swallowed the tiny\\r\\ncharm. Wonder of wonders! No sooner had it passed her lips than a\\r\\nmiracle occurred. The red flush passed away from her face, the pulse\\r\\nresumed its normal beat, the pains departed from her body, and she arose\\r\\nfrom the bed well and smiling.\\r\\n\\r\\nFlinging her arms about her father\\'s neck, she cried out in joy, \"Oh,\\r\\nI am well again; well and happy; thanks to the medicine of the good\\r\\nphysician.\"\\r\\n\\r\\nThe noble dog barked three times, wild with delight at hearing these\\r\\ntearful words of gratitude, bowed low, and put his nose in Honeysuckle\\'s\\r\\noutstretched hand.\\r\\n\\r\\nMr. Min, greatly moved by his daughter\\'s magical recovery, turned to the\\r\\nstrange physician, saying, \"Noble Sir, were it not for the form you have\\r\\ntaken, for some unknown reason, I would willingly give four times the\\r\\nsum in silver that I promised for the cure of the girl, into your\\r\\npossession. As it is, I suppose you have no use for silver, but remember\\r\\nthat so long as we live, whatever we have is yours for the asking, and\\r\\nI beg of you to prolong your visit, to make this the home of your old\\r\\nage--in short, remain here for ever as my guest--nay, as a member of\\r\\nmy family.\"\\r\\n\\r\\nThe dog barked thrice, as if in assent. From that day he was treated as\\r\\nan equal by father and daughter. The many servants were commanded to\\r\\nobey his slightest whim, to serve him with the most expensive food on\\r\\nthe market, to spare no expense in making him the happiest and best-fed\\r\\ndog in all the world. Day after day he ran at Honeysuckle\\'s side as she\\r\\ngathered flowers in her garden, lay down before her door when she was\\r\\nresting, guarded her Sedan chair when she was carried by servants into\\r\\nthe city. In short, they were constant companions; a stranger would have\\r\\nthought they had been friends from childhood.\\r\\n\\r\\nOne day, however, just as they were returning from a journey outside her\\r\\nfather\\'s compound, at the very instant when Honeysuckle was alighting\\r\\nfrom her chair, without a moment\\'s warning, the huge animal dashed past\\r\\nthe attendants, seized his beautiful mistress in his mouth, and before\\r\\nanyone could stop him, bore her off to the mountains. By the time the\\r\\nalarm was sounded, darkness had fallen over the valley and as the night\\r\\nwas cloudy no trace could be found of the dog and his fair burden.\\r\\n\\r\\nOnce more the frantic father left no stone unturned to save his\\r\\ndaughter. Huge rewards were offered, bands of woodmen scoured the\\r\\nmountains high and low, but, alas, no sign of the girl could be found!\\r\\nThe unfortunate father gave up the search and began to prepare himself\\r\\nfor the grave. There was nothing now left in life that he cared\\r\\nfor--nothing but thoughts of his departed daughter. Honeysuckle was gone\\r\\nfor ever.\\r\\n\\r\\n\"Alas!\" said he, quoting the lines of a famous poet who had fallen into\\r\\ndespair:\\r\\n\\r\\n\\r\\n  \"My whiting hair would make an endless rope,\\r\\n  Yet would not measure all my depth of woe.\"\\r\\n\\r\\n\\r\\nSeveral long years passed by; years of sorrow for the ageing man, pining\\r\\nfor his departed daughter. One beautiful October day he was sitting in\\r\\nthe very same pavilion where he had so often sat with his darling. His\\r\\nhead was bowed forward on his breast, his forehead was lined with grief.\\r\\nA rustling of leaves attracted his attention. He looked up. Standing\\r\\ndirectly in front of him was Dr. Dog, and lo, riding on his back,\\r\\nclinging to the animal\\'s shaggy hair, was Honeysuckle, his long-lost\\r\\ndaughter; while standing near by were three of the handsomest boys he\\r\\nhad ever set eyes upon!\\r\\n\\r\\n\"Ah, my daughter! My darling daughter, where have you been all these\\r\\nyears?\" cried the delighted father, pressing the girl to his aching\\r\\nbreast. \"Have you suffered many a cruel pain since you were snatched\\r\\naway so suddenly? Has your life been filled with sorrow?\"\\r\\n\\r\\n\"Only at the thought of your grief,\" she replied, tenderly, stroking\\r\\nhis forehead with her slender fingers; \"only at the thought of your\\r\\nsuffering; only at the thought of how I should like to see you every day\\r\\nand tell you that my husband was kind and good to me. For you must know,\\r\\ndear father, this is no mere animal that stands beside you. This Dr.\\r\\nDog, who cured me and claimed me as his bride because of your promise,\\r\\nis a great magician. He can change himself at will into a thousand\\r\\nshapes. He chooses to come here in the form of a mountain beast so that\\r\\nno one may penetrate the secret of his distant palace.\"\\r\\n\\r\\n\"Then he is your husband?\" faltered the old man, gazing at the animal\\r\\nwith a new expression on his wrinkled face.\\r\\n\\r\\n\"Yes; my kind and noble husband, the father of my three sons, your\\r\\ngrandchildren, whom we have brought to pay you a visit.\"\\r\\n\\r\\n\"And where do you live?\"\\r\\n\\r\\n\"In a wonderful cave in the heart of the great mountains; a beautiful\\r\\ncave whose walls and floors are covered with crystals, and encrusted\\r\\nwith sparkling gems. The chairs and tables are set with jewels; the\\r\\nrooms are lighted by a thousand glittering diamonds. Oh, it is lovelier\\r\\nthan the palace of the Son of Heaven himself! We feed of the flesh of\\r\\nwild deer and mountain goats, and fish from the clearest mountain\\r\\nstream. We drink cold water out of golden goblets, without first boiling\\r\\nit, for it is purity itself. We breathe fragrant air that blows through\\r\\nforests of pine and hemlock. We live only to love each other and our\\r\\nchildren, and oh, we are so happy! And you, father, you must come back\\r\\nwith us to the great mountains and live there with us the rest of your\\r\\ndays, which, the gods grant, may be very many.\"\\r\\n\\r\\n[Illustration: \"CLINGING TO THE ANIMAL\\'S SHAGGY HAIR WAS HONEYSUCKLE\"]\\r\\n\\r\\nThe old man pressed his daughter once more to his breast and fondled the\\r\\nchildren, who clambered over him rejoicing at the discovery of a\\r\\ngrandfather they had never seen before.\\r\\n\\r\\nFrom Dr. Dog and his fair Honeysuckle are sprung, it is said, the\\r\\nwell-known race of people called the Yus, who even now inhabit the\\r\\nmountainous regions of the Canton and Hunan provinces. It is not for\\r\\nthis reason, however, that we have told the story here, but because we\\r\\nfelt sure every reader would like to learn the secret of the dog that\\r\\ncured a sick girl and won her for his bride.\\r\\n\\r\\n\\r\\n\\r\\n\\r\\nHOW FOOTBINDING STARTED\\r\\n\\r\\n[Illustration]\\r\\n\\r\\n\\r\\nIn the very beginning of all things, when the gods were creating the\\r\\nworld, at last the time came to separate the earth from the heavens.\\r\\nThis was hard work, and if it had not been for the coolness and skill of\\r\\na young goddess all would have failed. This goddess was named Lu-o. She\\r\\nhad been idly watching the growth of the planet, when, to her horror,\\r\\nshe saw the newly made ball slipping slowly from its place. In another\\r\\nsecond it would have shot down into the bottomless pit. Quick as a flash\\r\\nLu-o stopped it with her magic wand and held it firmly until the chief\\r\\ngod came dashing up to the rescue.\\r\\n\\r\\nBut this was not all. When men and women were put on the earth Lu-o\\r\\nhelped them greatly by setting an example of purity and kindness. Every\\r\\none loved her and pointed her out as the one who was always willing to\\r\\ndo a good deed. After she had left the world and gone into the land of\\r\\nthe gods, beautiful statues of her were set up in many temples to keep\\r\\nher image always before the eyes of sinful people. The greatest of these\\r\\nwas in the capital city. Thus, when sorrowful women wished to offer up\\r\\ntheir prayers to some virtuous goddess they would go to a temple of Lu-o\\r\\nand pour out their hearts before her shrine.\\r\\n\\r\\nAt one time the wicked Chow-sin, last ruler of the Yins, went to pray in\\r\\nthe city Temple. There his royal eyes were captivated by the sight of a\\r\\nwonderful face, the beauty of which was so great that he fell in love\\r\\nwith it at once, telling his ministers that he wished he might take this\\r\\ngoddess, who was no other than Lu-o, for one of his wives.\\r\\n\\r\\nNow Lu-o was terribly angry that an earthly prince should dare to make\\r\\nsuch a remark about her. Then and there she determined to punish the\\r\\nEmperor. Calling her assistant spirits, she told them of Chow-sin\\'s\\r\\ninsult. Of all her servants the most cunning was one whom we shall call\\r\\nFox Sprite, because he really belonged to the fox family. Lu-o ordered\\r\\nFox Sprite to spare himself no trouble in making the wicked ruler suffer\\r\\nfor his impudence.\\r\\n\\r\\nFor many days, try as he would, Chow-sin, the great Son of Heaven, could\\r\\nnot forget the face he had seen in the temple.\\r\\n\\r\\n\"He is stark mad,\" laughed his courtiers behind his back, \"to fall in\\r\\nlove with a statue.\"\\r\\n\\r\\n\"I must find a woman just like her,\" said the Emperor, \"and take her to\\r\\nwife.\"\\r\\n\\r\\n\"Why not, most Mighty One,\" suggested a favourite adviser, \"send forth a\\r\\ncommand throughout the length and breadth of your Empire, that no maiden\\r\\nshall be taken in marriage until you have chosen yourself a wife whose\\r\\nbeauty shall equal that of Lu-o?\"\\r\\n\\r\\nChow-sin was pleased with this suggestion and doubtless would have\\r\\nfollowed it had not his Prime Minister begged him to postpone issuing\\r\\nthe order. \"Your Imperial Highness,\" began the official, \"since you have\\r\\nbeen pleased once or twice to follow my counsel, I beg of you to give\\r\\near now to what I say.\"\\r\\n\\r\\n\"Speak, and your words shall have my best attention,\" replied Chow-sin,\\r\\nwith a gracious wave of the hand.\\r\\n\\r\\n\"Know then, Great One, that in the southern part of your realm there\\r\\ndwells a viceroy whose bravery has made him famous in battle.\"\\r\\n\\r\\n\"Are you speaking of Su-nan?\" questioned Chow-sin, frowning, for this\\r\\nSu-nan had once been a rebel.\\r\\n\\r\\n\"None other, mighty Son of Heaven. Famous is he as a soldier, but his\\r\\nname is now even greater in that he is the father of the most beautiful\\r\\ngirl in all China. This lovely flower that has bloomed of late within\\r\\nhis household is still unmarried. Why not order her father to bring her\\r\\nto the palace that you may wed her and place her in your royal\\r\\ndwelling?\"\\r\\n\\r\\n\"And are you sure of this wondrous beauty you describe so prettily?\"\\r\\nasked the ruler, a smile of pleasure lighting up his face.\\r\\n\\r\\n\"So sure that I will stake my head on your being satisfied.\"\\r\\n\\r\\n\"Enough! I command you at once to summon the viceroy and his daughter.\\r\\nAdd the imperial seal to the message.\"\\r\\n\\r\\nThe Prime Minister smilingly departed to give the order. In his heart he\\r\\nwas more than delighted that the Emperor had accepted his suggestion,\\r\\nfor Su-nan, the viceroy, had long been his chief enemy, and he planned\\r\\nin this way to overthrow him. The viceroy, as he knew, was a man of\\r\\niron. He would certainly not feel honoured at the thought of having his\\r\\ndaughter enter the Imperial Palace as a secondary wife. Doubtless he\\r\\nwould refuse to obey the order and would thus bring about his own\\r\\nimmediate downfall.\\r\\n\\r\\nNor was the Prime Minister mistaken. When Su-nan received the imperial\\r\\nmessage his heart was hot with anger against his sovereign. To be robbed\\r\\nof his lovely Ta-ki, even by the throne, was, in his eyes, a terrible\\r\\ndisgrace. Could he have been sure that she would be made Empress it\\r\\nmight have been different, but with so many others sharing Chow-sin\\'s\\r\\nfavour, her promotion to first place in the Great One\\'s household was by\\r\\nno means certain. Besides, she was Su-nan\\'s favourite child, and the old\\r\\nman could not bear the thought of separation from her. Rather would he\\r\\ngive up his life than let her go to this cruel ruler.\\r\\n\\r\\n\"No, you shall not do it,\" said he to Ta-ki, \"not though I must die to\\r\\nsave you.\"\\r\\n\\r\\nThe beautiful girl listened to her father\\'s words, in tears. Throwing\\r\\nherself at his feet she thanked him for his mercy and promised to love\\r\\nhim more fondly than ever. She told him that her vanity had not been\\r\\nflattered by what most girls might have thought an honour, that she\\r\\nwould rather have the love of one good man like her father, than share\\r\\nwith others the affections of a king.\\r\\n\\r\\nAfter listening to his daughter, the viceroy sent a respectful answer to\\r\\nthe palace, thanking the Emperor for his favour, but saying he could not\\r\\ngive up Ta-ki. \"She is unworthy of the honour you purpose doing her,\" he\\r\\nsaid, in conclusion, \"for, having been the apple of her father\\'s eye,\\r\\nshe would not be happy to share even your most august favour with the\\r\\nmany others you have chosen.\"\\r\\n\\r\\n[Illustration: \"THROWING HERSELF AT HIS FEET SHE THANKED HIM FOR HIS\\r\\nMERCY.\"]\\r\\n\\r\\nWhen the Emperor learned of Su-nan\\'s reply he could hardly believe his\\r\\nears. To have his command thus disobeyed was an unheard-of crime. Never\\r\\nbefore had a subject of the Middle Kingdom offered such an insult to a\\r\\nruler. Boiling with rage, he ordered his prime minister to send forth\\r\\nan army that would bring the viceroy to his senses. \"Tell him if he\\r\\ndisobeys that he and his family, together with all they possess, shall\\r\\nbe destroyed.\"\\r\\n\\r\\nDelighted at the success of his plot against Su-nan, the Prime Minister\\r\\nsent a regiment of soldiers to bring the rebel to terms. In the meantime\\r\\nthe friends of the daring viceroy had not been idle. Hearing of the\\r\\ndanger threatening their ruler, who had become a general favourite,\\r\\nhundreds of men offered him their aid against the army of Chow-sin. Thus\\r\\nwhen the Emperor\\'s banners were seen approaching and the war drums were\\r\\nheard rolling in the distance, the rebels, with a great shout, dashed\\r\\nforth to do battle for their leader. In the fight that took place the\\r\\nImperial soldiers were forced to run.\\r\\n\\r\\nWhen the Emperor heard of this defeat he was hot with anger. He called\\r\\ntogether his advisers and commanded that an army, double the size of the\\r\\nfirst one, should be sent to Su-nan\\'s country to destroy the fields and\\r\\nvillages of the people who had risen up against him. \"Spare not one of\\r\\nthem,\" he shouted, \"for they are traitors to the Dragon Throne.\"\\r\\n\\r\\nOnce more the viceroy\\'s friends resolved to support him, even to the\\r\\ndeath. Ta-ki, his daughter, went apart from the other members of the\\r\\nfamily, weeping most bitterly that she had brought such sorrow upon\\r\\nthem. \"Rather would I go into the palace and be the lowest among\\r\\nChow-sin\\'s women than to be the cause of all this grief,\" she cried,\\r\\nin desperation.\\r\\n\\r\\nBut her father soothed her, saying, \"Be of good cheer, Ta-ki. The\\r\\nEmperor\\'s army, though it be twice as large as mine, shall not overcome\\r\\nus. Right is on our side. The gods of battle will help those who fight\\r\\nfor justice.\"\\r\\n\\r\\nOne week later a second battle was fought, and the struggle was so close\\r\\nthat none could foresee the result. The Imperial army was commanded by\\r\\nthe oldest nobles in the kingdom, those most skilled in warfare, while\\r\\nthe viceroy\\'s men were young and poorly drilled. Moreover, the members\\r\\nof the Dragon Army had been promised double pay if they should\\r\\naccomplish the wishes of their sovereign, while Su-nan\\'s soldiers knew\\r\\nonly too well that they would be put to the sword if they should be\\r\\ndefeated.\\r\\n\\r\\nJust as the clash of arms was at its highest, the sound of gongs was\\r\\nheard upon a distant hill. The government troops were amazed at seeing\\r\\nfresh companies marching to the rescue of their foe. With a wild cry of\\r\\ndisappointment they turned and fled from the field. These unexpected\\r\\nreinforcements turned out to be women whom Ta-ki had persuaded to dress\\r\\nup as soldiers and go with her for the purpose of frightening the enemy.\\r\\nThus for a second time was Su-nan victorious.\\r\\n\\r\\nDuring the following year several battles occurred that counted for\\r\\nlittle, except that in each of them many of Su-nan\\'s followers were\\r\\nkilled. At last one of the viceroy\\'s best friends came to him, saying,\\r\\n\"Noble lord, it is useless to continue the struggle. I fear you must\\r\\ngive up the fight. You have lost more than half your supporters; the\\r\\nremaining bowmen are either sick or wounded and can be of little use.\\r\\nThe Emperor, moreover, is even now raising a new army from the distant\\r\\nprovinces, and will soon send against us a force ten times as great as\\r\\nany we have yet seen. There being no hope of victory, further fighting\\r\\nwould be folly. Lead, therefore, your daughter to the palace. Throw\\r\\nyourself upon the mercy of the throne. You must accept cheerfully the\\r\\nfate the gods have suffered you to bear.\"\\r\\n\\r\\nTa-ki, chancing to overhear this conversation, rushed in and begged her\\r\\nfather to hold out no longer, but to deliver her up to the greed of the\\r\\nwicked Chow-sin.\\r\\n\\r\\nWith a sigh, the viceroy yielded to their wishes. The next day he\\r\\ndespatched a messenger to the Emperor, promising to bring Ta-ki at once\\r\\nto the capital.\\r\\n\\r\\nNow we must not forget Fox Sprite, the demon, who had been commanded by\\r\\nthe good goddess Lu-o to bring a dreadful punishment upon the Emperor.\\r\\nThrough all the years of strife between Chow-sin and the rebels, Fox\\r\\nSprite had been waiting patiently for his chance. He knew well that some\\r\\nday, sooner or later, there would come an hour when Chow-sin would be at\\r\\nhis mercy. When the time came, therefore, for Ta-ki to go to the palace,\\r\\nFox Sprite felt that at last his chance had come. The beautiful maiden\\r\\nfor whom Chow-sin had given up so many hundreds of his soldiers, would\\r\\nclearly have great power over the Emperor. She must be made to help\\r\\nin the punishment of her wicked husband. So Fox Sprite made himself\\r\\ninvisible and travelled with the viceroy\\'s party as it went from central\\r\\nChina to the capital.\\r\\n\\r\\nOn the last night of their journey Su-nan and his daughter stopped for\\r\\nrest and food at a large inn. No sooner had the girl gone to her room\\r\\nfor the night than Fox Sprite followed her. Then he made himself\\r\\nvisible. At first she was frightened to see so strange a being in her\\r\\nroom, but when Fox Sprite told her he was a servant of the great\\r\\ngoddess, Lu-o, she was comforted, for she knew that Lu-o was the friend\\r\\nof women and children.\\r\\n\\r\\n\"But how can _I_ help to punish the Emperor?\" she faltered, when the\\r\\nsprite told her he wanted her assistance. \"I am but a helpless girl,\"\\r\\nand here she began to cry.\\r\\n\\r\\n\"Dry your tears,\" he said soothingly. \"It will be very easy. Only let me\\r\\ntake your form for a little. When I am the Emperor\\'s wife,\" laughing, \"I\\r\\nshall find a way to punish him, for no one can give a man more pain that\\r\\nhis wife can, if she desires to do so. You know, I am a servant of Lu-o\\r\\nand can do anything I wish.\"\\r\\n\\r\\n\"But the Emperor won\\'t have a fox for a wife,\" she sobbed.\\r\\n\\r\\n\"Though I am still a fox I shall look like the beautiful Ta-ki. Make\\r\\nyour heart easy. He will never know.\"\\r\\n\\r\\n\"Oh, I see,\" she smiled, \"you will put your spirit into my body and you\\r\\nwill look just like me, though you really won\\'t be me. But what will\\r\\nbecome of the real me? Shall I have to be a fox and look like you?\"\\r\\n\\r\\n\"No, not unless you want to. I will make you invisible, and you can be\\r\\nready to go back into your own body when I have got rid of the Emperor.\"\\r\\n\\r\\n\"Very well,\" replied the girl, somewhat relieved by his explanation,\\r\\n\"but try not to be too long about it, because I don\\'t like the idea of\\r\\nsomebody else walking about in my body.\"\\r\\n\\r\\nSo Fox Sprite caused his own spirit to enter the girl\\'s body, and no\\r\\none could have told by her outward appearance that any change had taken\\r\\nplace. The beautiful girl was now in reality the sly Fox Sprite, but in\\r\\none way only did she look like a fox. When the fox-spirit entered her\\r\\nbody, her feet suddenly shrivelled up and became very similar in shape\\r\\nand size to the feet of the animal who had her in his power. When the\\r\\nfox noticed this, at first he was somewhat annoyed, but, feeling that no\\r\\none else would know, he did not take the trouble to change the fox feet\\r\\nback to human form.\\r\\n\\r\\nOn the following morning, when the viceroy called his daughter for the\\r\\nlast stage of their journey, he greeted Fox Sprite without suspecting\\r\\nthat anything unusual had happened since he had last seen Ta-ki. So well\\r\\ndid this crafty spirit perform his part that the father was completely\\r\\ndeceived, by look, by voice, and by gesture.\\r\\n\\r\\nThe next day the travellers arrived at the capital and Su-nan presented\\r\\nhimself before Chow-sin, the Emperor, leading Fox Sprite with him. Of\\r\\ncourse the crafty fox with all his magic powers was soon able to gain\\r\\nthe mastery over the wicked ruler. The Great One pardoned Su-nan,\\r\\nalthough he had fully intended to put him to death as a rebel.\\r\\n\\r\\nNow the chance for which Fox Sprite had been waiting had come. He began\\r\\nat once, causing the Emperor to do many deeds of violence. The people\\r\\nhad already begun to dislike Chow-sin, and soon he became hateful in\\r\\ntheir sight. Many of the leading members of the court were put to death\\r\\nunjustly. Horrible tortures were devised for punishing those who did not\\r\\nfind favour with the crown. At last there was open talk of a rebellion.\\r\\nOf course, all these things delighted the wily fox, for he saw that,\\r\\nsooner or later, the Son of Heaven would be turned out of the palace,\\r\\nand he knew that then his work for the goddess Lu-o would be finished.\\r\\n\\r\\nBesides worming his way into the heart of the Emperor, the fox became\\r\\na general favourite with the ladies of the palace. These women saw in\\r\\nChow-sin\\'s latest wife the most beautiful woman who had ever lived in\\r\\nthe royal harem. One would think that this beauty might have caused\\r\\nthem to hate Fox Sprite, but such was not the case. They admired the\\r\\nplumpness of Fox Sprite\\'s body, the fairness of Fox Sprite\\'s complexion,\\r\\nthe fire in Fox Sprite\\'s eyes, but most of all they wondered at the\\r\\nsmallness of Fox Sprite\\'s feet, for, you remember, the supposed Ta-ki\\r\\nnow had fox\\'s feet instead of those of human shape.\\r\\n\\r\\nThus small feet became the fashion among women. All the court ladies,\\r\\nold and young, beautiful and ugly, began thinking of plans for making\\r\\ntheir own feet as tiny as those of Fox Sprite. In this way they thought\\r\\nto increase their chances of finding favour with the Emperor.\\r\\n\\r\\nGradually people outside the palace began to hear of this absurd\\r\\nfashion. Mothers bound the feet of their little girls, in such a manner\\r\\nas to stop their growth. The bones of the toes were bent backwards and\\r\\nbroken, so eager were the elders to have their daughters grow up into\\r\\ntiny-footed maidens. Thus, for several years of their girlhood the\\r\\nlittle ones were compelled to endure the most severe tortures. It was\\r\\nnot long before the new fashion took firm root in China. It became\\r\\nalmost impossible for parents to get husbands for their daughters unless\\r\\nthe girls had suffered the severe pains of foot-binding. And even to\\r\\nthis day we find that many of the people are still under the influence\\r\\nof Fox Sprite\\'s magic, and believe that a tiny, misshapen foot is more\\r\\nbeautiful than a natural one.\\r\\n\\r\\nBut let us return to the story of Fox Sprite and the wicked Emperor. For\\r\\na number of years matters grew continually worse in the country. At last\\r\\nthe people rose in a body against the ruler. A great battle was fought.\\r\\nThe wicked Chow-sin was overthrown and put to death by means of those\\r\\nvery instruments of torture he had used so often against his subjects.\\r\\nBy this time it had become known to all the lords and noblemen that the\\r\\nEmperor\\'s favourite had been the main cause of their ruler\\'s wickedness;\\r\\nhence they demanded the death of Fox Sprite. But no one wished to kill\\r\\nso lovely a creature. Every one appointed refused to do the deed.\\r\\n\\r\\nFinally, a grey-headed member of the court allowed himself to be\\r\\nblindfolded. With a sharp sword he pierced the body of Fox Sprite to the\\r\\nheart. Those standing near covered their eyes with their hands, for they\\r\\ncould not bear to see so wonderful a woman die. Suddenly, as they looked\\r\\nup, they saw a sight so strange that all were filled with amazement.\\r\\nInstead of falling to the ground, the graceful form swayed backward and\\r\\nforward for a moment, when all at once there seemed to spring from her\\r\\nside a huge mountain fox. The animal glanced around him, then, with a\\r\\ncry of fear, dashing past officials, courtiers and soldiers, he rushed\\r\\nthrough the gate of the enclosure.\\r\\n\\r\\n\"A fox!\" cried the people, full of wonder.\\r\\n\\r\\nAt that moment Ta-ki fell in a swoon upon the floor. When they picked\\r\\nher up, thinking, of course, that she had died from the sword thrust,\\r\\nthey could find no blood on her body, and, on looking more closely, they\\r\\nsaw that there was not even the slightest wound.\\r\\n\\r\\n\"Marvel of marvels!\" they all shouted. \"The gods have shielded her!\"\\r\\n\\r\\nJust then Ta-ki opened her eyes and looked about her. \"Where am I?\" she\\r\\nasked, in faint voice. \"Pray tell me what has happened.\"\\r\\n\\r\\nThen they told her what they had seen, and at last it was plain to the\\r\\nbeautiful woman that, after all these years, Fox Sprite had left her\\r\\nbody. She was herself once more. For a long time she could not make the\\r\\npeople believe her story; they all said that she must have lost her\\r\\nmind; that the gods had saved her life, but had punished her for her\\r\\nwickedness by taking away her reason.\\r\\n\\r\\nBut that night, when her maids were undressing her in the palace, they\\r\\nsaw her feet, which had once more become their natural size, and then\\r\\nthey knew she had been telling the truth.\\r\\n\\r\\nHow Ta-ki became the wife of a good nobleman who had long admired her\\r\\ngreat beauty is much too long a story to be told here. Of one thing,\\r\\nhowever, we are certain, that she lived long and was happy ever\\r\\nafterwards.\\r\\n\\r\\n\\r\\n\\r\\n\\r\\nTHE TALKING FISH\\r\\n\\r\\n[Illustration]\\r\\n\\r\\n\\r\\nLong, long before your great-grandfather was born there lived in the\\r\\nvillage of Everlasting Happiness two men called Li and Sing. Now, these\\r\\ntwo men were close friends, living together in the same house. Before\\r\\nsettling down in the village of Everlasting Happiness they had ruled as\\r\\nhigh officials for more than twenty years. They had often treated the\\r\\npeople very harshly, so that everybody, old and young, disliked and\\r\\nhated them. And yet, by robbing the wealthy merchants and by cheating\\r\\nthe poor, these two evil companions had become rich, and it was in order\\r\\nto spend their ill-gotten gains in idle amusements that they sought out\\r\\nthe village of Everlasting Happiness. \"For here,\" said they, \"we can\\r\\nsurely find that joy which has been denied us in every other place. Here\\r\\nwe shall no longer be scorned by men and reviled by women.\"\\r\\n\\r\\nConsequently these two men bought for themselves the finest house in\\r\\nthe village, furnished it in the most elegant manner, and decorated\\r\\nthe walls with scrolls filled with wise sayings and pictures by famous\\r\\nartists. Outside there were lovely gardens filled with flowers and\\r\\nbirds, and oh, ever so many trees with queer twisted branches growing\\r\\nin the shape of tigers and other wild animals.\\r\\n\\r\\nWhenever they felt lonely Li and Sing invited rich people of the\\r\\nneighbourhood to come and dine with them, and after they had eaten,\\r\\nsometimes they would go out upon the little lake in the centre of their\\r\\nestate, rowing in an awkward flat-bottomed boat that had been built by\\r\\nthe village carpenter.\\r\\n\\r\\nOne day, on such an occasion, when the sun had been beating down\\r\\nfiercely upon the clean-shaven heads of all those on the little barge,\\r\\nfor you must know this was long before the day when hats were worn--at\\r\\nleast, in the village of Everlasting Happiness--Mr. Li was suddenly\\r\\nseized with a giddy feeling, which rapidly grew worse and worse until\\r\\nhe was in a burning fever.\\r\\n\\r\\n\"Snake\\'s blood mixed with powdered deer-horn is the thing for him,\"\\r\\nsaid the wise-looking doctor who was called in, peering at Li carefully\\r\\nthrough his huge glasses, \"Be sure,\" he continued, addressing Li\\'s\\r\\npersonal attendant, and, at the same time, snapping his long\\r\\nfinger-nails nervously, \"be sure, above all, not to leave him alone, for\\r\\nhe is in danger of going raving mad at any moment, and I cannot say what\\r\\nhe may do if he is not looked after carefully. A man in his condition\\r\\nhas no more sense than a baby.\"\\r\\n\\r\\nNow, although these words of the doctor\\'s really made Mr. Li angry, he\\r\\nwas too ill to reply, for all this time his head had been growing hotter\\r\\nand hotter, until at last a feverish sleep overtook him. No sooner had\\r\\nhe closed his eyes than his faithful servant, half-famished, rushed out\\r\\nof the room to join his fellows at their mid-day meal.\\r\\n\\r\\nLi awoke with a start. He had slept only ten minutes. \"Water, water,\"\\r\\nhe moaned, \"bathe my head with cold water. I am half dead with pain!\"\\r\\nBut there was no reply, for the attendant was dining happily with his\\r\\nfellows.\\r\\n\\r\\n\"Air, air,\" groaned Mr. Li, tugging at the collar of his silk shirt.\\r\\n\"I\\'m dying for water. I\\'m starving for air. This blazing heat will kill\\r\\nme. It is hotter than the Fire god himself ever dreamed of making it.\\r\\nWang, Wang!\" clapping his hands feebly and calling to his servant,\\r\\n\"air and water, air and water!\"\\r\\n\\r\\nBut still no Wang.\\r\\n\\r\\nAt last, with the strength that is said to come from despair, Mr. Li\\r\\narose from his couch and staggered toward the doorway. Out he went into\\r\\nthe paved courtyard, and then, after only a moment\\'s hesitation, made\\r\\nhis way across it into a narrow passage that led into the lake garden.\\r\\n\\r\\n\"What do they care for a man when he is sick?\" he muttered. \"My good\\r\\nfriend Sing is doubtless even now enjoying his afternoon nap, with a\\r\\nservant standing by to fan him, and a block of ice near his head to cool\\r\\nthe air. What does he care if I die of a raging fever? Doubtless he\\r\\nexpects to inherit all my money. And my servants! That rascal Wang has\\r\\nbeen with me these ten years, living on me and growing lazier every\\r\\nseason! What does he care if I pass away? Doubtless he is certain that\\r\\nSing\\'s servants will think of something for him to do, and he will have\\r\\neven less work than he has now. Water, water! I shall die if I don\\'t\\r\\nsoon find a place to soak myself!\"\\r\\n\\r\\nSo saying, he arrived at the bank of a little brook that flowed in\\r\\nthrough a water gate at one side of the garden and emptied itself into\\r\\nthe big fish-pond. Flinging himself down by a little stream Li bathed\\r\\nhis hands and wrists in the cool water. How delightful! If only it were\\r\\ndeep enough to cover his whole body, how gladly would he cast himself in\\r\\nand enjoy the bliss of its refreshing embrace!\\r\\n\\r\\nFor a long time he lay on the ground, rejoicing at his escape from the\\r\\ndoctor\\'s clutches. Then, as the fever began to rise again, he sprang up\\r\\nwith a determined cry, \"What am I waiting for? I will do it. There\\'s no\\r\\none to prevent me, and it will do me a world of good. I will cast myself\\r\\nhead first into the fish-pond. It is not deep enough near the shore to\\r\\ndrown me if I should be too weak to swim, and I am sure it will restore\\r\\nme to strength and health.\"\\r\\n\\r\\nHe hastened along the little stream, almost running in his eagerness to\\r\\nreach the deeper water of the pond. He was like some small Tom Brown who\\r\\nhad escaped from the watchful eye of the master and run out to play in a\\r\\nforbidden spot.\\r\\n\\r\\nHark! Was that a servant calling? Had Wang discovered the absence of his\\r\\nemployer? Would he sound the alarm, and would the whole place soon be\\r\\nalive with men searching for the fever-stricken patient?\\r\\n\\r\\nWith one last sigh of satisfaction Li flung himself, clothes and all,\\r\\ninto the quiet waters of the fish-pond. Now Li had been brought up in\\r\\nFukien province on the seashore, and was a skilful swimmer. He dived and\\r\\nsplashed to his heart\\'s content, then floated on the surface. \"It takes\\r\\nme back to my boyhood,\" he cried, \"why, oh why, is it not the fashion\\r\\nto swim? I\\'d love to live in the water all the time and yet some of my\\r\\ncountrymen are even more afraid than a cat of getting their feet wet.\\r\\nAs for me, I\\'d give anything to stay here for ever.\"\\r\\n\\r\\n\"You would, eh?\" chuckled a hoarse voice just under him, and then there\\r\\nwas a sort of wheezing sound, followed by a loud burst of laughter. Mr.\\r\\nLi jumped as if an arrow had struck him, but when he noticed the fat,\\r\\nugly monster below, his fear turned into anger. \"Look here, what do you\\r\\nmean by giving a fellow such a start! Don\\'t you know what the Classics\\r\\nsay about such rudeness?\"\\r\\n\\r\\nThe giant fish laughed all the louder. \"What time do you suppose I have\\r\\nfor Classics? You make me laugh till I cry!\"\\r\\n\\r\\n\"But you must answer my question,\" cried Mr. Li, more and more\\r\\npersistently, forgetting for the moment that he was not trying some poor\\r\\nculprit for a petty crime. \"Why did you laugh? Speak out at once,\\r\\nfellow!\"\\r\\n\\r\\n\"Well, since you are such a saucy piece,\" roared the other, \"I will tell\\r\\nyou. It was because you awkward creatures, who call yourselves men, the\\r\\nmost highly civilized beings in the world, always think you understand a\\r\\nthing fully when you have only just found out how to do it.\"\\r\\n\\r\\n\"You are talking about the island dwarfs, the Japanese,\" interrupted Mr.\\r\\nLi, \"We Chinese seldom undertake to do anything new.\"\\r\\n\\r\\n\"Just hear the man!\" chuckled the fish. \"Now, fancy your wishing to stay\\r\\nin the water for ever! What do you know about water? Why you\\'re not even\\r\\nprovided with the proper equipment for swimming. What would you do if\\r\\nyou really lived here always?\"\\r\\n\\r\\n\"What am I doing now?\" spluttered Mr. Li, so angry that he sucked in a\\r\\nmouthful of water before he knew it.\\r\\n\\r\\n\"Floundering,\" retorted the other.\\r\\n\\r\\n\"Don\\'t you see me swimming? Are those big eyes of yours made of glass?\"\\r\\n\\r\\n\"Yes, I see you all right,\" guffawed the fish, \"that\\'s just it! I see\\r\\nyou too well. Why you tumble about as awkwardly as a water buffalo\\r\\nwallowing in a mud puddle!\"\\r\\n\\r\\nNow, as Mr. Li had always considered himself an expert in water sports,\\r\\nhe was, by this time, speechless with rage, and all he could do was to\\r\\npaddle feebly round and round with strokes just strong enough to keep\\r\\nhimself from sinking.\\r\\n\\r\\n\"Then, too,\" continued the fish, more and more calm as the other lost\\r\\nhis temper, \"you have a very poor arrangement for breathing. If I am not\\r\\nmistaken, at the bottom of this pond you would find yourself worse off\\r\\nthan I should be at the top of a palm tree. What would you do to keep\\r\\nyourself from starving? Do you think it would be convenient if you had\\r\\nto flop yourself out on to the land every time you wanted a bite to eat?\\r\\nAnd yet, being a man, I doubt seriously if you would be content to take\\r\\nthe proper food for fishes. You have hardly a single feature that would\\r\\nmake you contented if you were to join an under-water school. Look at\\r\\nyour clothes, too, water-soaked and heavy. Do you think them suitable\\r\\nto protect you from cold and sickness? Nature forgot to give you any\\r\\nscales. Now I\\'m going to tell you a joke, so you must be sure to laugh.\\r\\nFishes are like grocery shops--always judged by their scales. As you\\r\\nhaven\\'t a sign of a scale, how will people judge you? See the point, eh?\\r\\nNature gave you a skin, but forgot the outer covering, except, perhaps\\r\\nat the ends of your fingers and your toes You surely see by this time\\r\\nwhy I consider your idea ridiculous?\"\\r\\n\\r\\nSure enough, in spite of his recent severe attack of fever, Mr. Li had\\r\\nreally cooled completely off. He had never understood before what great\\r\\ndisadvantages there were connected with being a man. Why not make use of\\r\\nthis chance acquaintance, find out from him how to get rid of that\\r\\nmiserable possession he had called his manhood, and gain the delights\\r\\nthat only a fish can have? \"Then, are you indeed contented with your\\r\\nlot?\" he asked finally. \"Are there not moments when you would prefer to\\r\\nbe a man?\"\\r\\n\\r\\n\"I, a man!\" thundered the other, lashing the water with his tail. \"How\\r\\ndare you suggest such a disgraceful change! Can it be that you do not\\r\\nknow my rank? Why, my fellow, you behold in me a favourite nephew of\\r\\nthe king!\"\\r\\n\\r\\n\"Then, may it please your lordship,\" said Mr. Li, softly, \"I should\\r\\nbe exceedingly grateful if you would speak a kind word for me to your\\r\\nmaster. Do you think it possible that he could change me in some manner\\r\\ninto a fish and accept me as a subject?\"\\r\\n\\r\\n\"Of course!\" replied the other, \"all things are possible to the king.\\r\\nKnow you not that my sovereign is a loyal descendant of the great water\\r\\ndragon, and, as such, can never die, but lives on and on and on, for\\r\\never and ever and ever, like the ruling house of Japan?\"\\r\\n\\r\\n\"Oh, oh!\" gasped Mr. Li, \"even the Son of Heaven, our most worshipful\\r\\nemperor, cannot boast of such long years. Yes, I would give my fortune\\r\\nto be a follower of your imperial master.\"\\r\\n\\r\\n\"Then follow me,\" laughed the other, starting off at a rate that made\\r\\nthe water hiss and boil for ten feet around him.\\r\\n\\r\\nMr. Li struggled vainly to keep up. If he had thought himself a good\\r\\nswimmer, he now saw his mistake and every bit of remaining pride was\\r\\ntorn to tatters. \"Please wait a moment,\" he cried out politely, \"I beg\\r\\nof you to remember that I am only a man!\"\\r\\n\\r\\n\"Pardon me,\" replied the other, \"it was stupid of me to forget,\\r\\nespecially as I had just been talking about it.\"\\r\\n\\r\\nSoon they reached a sheltered inlet at the farther side of the pond.\\r\\nThere Mr. Li saw a gigantic carp idly floating about in a shallow pool,\\r\\nand then lazily flirting his huge tail or fluttering his fins proudly\\r\\nfrom side to side. Attendant courtiers darted hither and thither, ready\\r\\nto do the master\\'s slightest bidding. One of them, splendidly attired in\\r\\nroyal scarlet, announced, with a downward flip of the head, the approach\\r\\nof the King\\'s nephew who was leading Mr. Li to an audience with his\\r\\nMajesty.\\r\\n\\r\\n\"Whom have you here, my lad?\" began the ruler, as his nephew, hesitating\\r\\nfor words to explain his strange request, moved his fins nervously\\r\\nbackwards and forwards. \"Strange company, it seems to me, you are\\r\\nkeeping these days.\"\\r\\n\\r\\n\"Only a poor man, most royal sir,\" replied the other, \"who beseeches\\r\\nyour Highness to grant him your gracious favour.\"\\r\\n\\r\\n\\r\\n  \"When man asks favour of a fish,\\r\\n     \\'Tis hard to penetrate his wish--\\r\\n   He often seeks a lordly dish\\r\\n     To serve upon his table,\"\\r\\n\\r\\n\\r\\nrepeated the king, smiling. \"And yet, nephew, you think this fellow is\\r\\nreally peaceably inclined and is not coming among us as a spy?\"\\r\\n\\r\\nBefore his friend could answer, Mr. Li had cast himself upon his knees\\r\\nin the shallow water, before the noble carp, and bowed thrice, until his\\r\\nface was daubed with mud from the bottom of the pool. \"Indeed, your\\r\\nMajesty, I am only a poor mortal who seeks your kindly grace. If you\\r\\nwould but consent to receive me into your school of fishes. I would for\\r\\never be your ardent admirer and your lowly slave.\"\\r\\n\\r\\n\"In sooth, the fellow talks as if in earnest,\" remarked the king, after\\r\\na moment\\'s reflection, \"and though the request is, perhaps, the\\r\\nstrangest to which I have ever listened, I really see no reason why I\\r\\nshould not turn a fishly ear. But, have the goodness first to cease your\\r\\nbowing. You are stirring up enough mud to plaster the royal palace of a\\r\\nshark.\"\\r\\n\\r\\nPoor Li, blushing at the monarch\\'s reproof, waited patiently for the\\r\\nanswer to his request.\\r\\n\\r\\n\"Very well, so be it,\" cried the king impulsively, \"your wish is\\r\\ngranted. Sir Trout,\" turning to one of his courtiers, \"bring hither a\\r\\nfish-skin of proper size for this ambitious fellow.\"\\r\\n\\r\\nNo sooner said than done. The fish-skin was slipped over Mr. Li\\'s head,\\r\\nand his whole body was soon tucked snugly away in the scaly coat. Only\\r\\nhis arms remained uncovered. In the twinkling of an eye Li felt sharp\\r\\npains shoot through every part of his body. His arms began to shrivel up\\r\\nand his hands changed little by little until they made an excellent pair\\r\\nof fins, just as good as those of the king himself. As for his legs and\\r\\nfeet, they suddenly began to stick together until, wriggle as he would,\\r\\nLi could not separate them. \"Ah, ha!\" thought he, \"my kicking days are\\r\\nover, for my toes are now turned into a first-class tail.\"\\r\\n\\r\\n\"Not so fast,\" laughed the king, as Li, after thanking the royal\\r\\npersonage profusely, started out to try his new fins; \"not so fast, my\\r\\nfriend. Before you depart, perhaps I\\'d better give you a little friendly\\r\\nadvice, else your new powers are likely to land you on the hook of some\\r\\nlucky fisherman, and you will find yourself served up as a prize of the\\r\\npond.\"\\r\\n\\r\\n\"I will gladly listen to your lordly counsel, for the words of the Most\\r\\nHigh to his lowly slave are like pearls before sea slugs. However, as I\\r\\nwas once a man myself I think I understand the simple tricks they use to\\r\\ncatch us fish, and I am therefore in position to avoid trouble.\"\\r\\n\\r\\n\"Don\\'t be so sure about it. \\'A hungry carp often falls into danger,\\'\\r\\nas one of our sages so wisely remarked. There are two cautions I would\\r\\nimpress upon you. One is, never, never, eat a dangling worm; no matter\\r\\nhow tempting it looks there are sure to be horrible hooks inside.\\r\\nSecondly, always swim like lightning if you see a net, but in the\\r\\nopposite direction. Now, I will have you served your first meal out of\\r\\nthe royal pantry, but after that, you must hunt for yourself, like every\\r\\nother self-respecting citizen of the watery world.\"\\r\\n\\r\\nAfter Li had been fed with several slugs, followed by a juicy worm for\\r\\ndessert, and after again thanking the king and the king\\'s nephew for\\r\\ntheir kindness, he started forth to test his tail and fins. It was no\\r\\neasy matter, at first, to move them properly. A single flirt of the\\r\\ntail, no more vigorous than those he had been used to giving with his\\r\\nlegs, would send him whirling round and round in the water, for all\\r\\nthe world like a living top; and when he wriggled his fins, ever so\\r\\nslightly, as he thought, he found himself sprawling on his back in a\\r\\nmost ridiculous fashion for a dignified member of fishkind. It took\\r\\nseveral hours of constant practice to get the proper stroke, and then he\\r\\nfound he could move about without being conscious of any effort. It was\\r\\nthe easiest thing he had ever done in his life; and oh! the water was so\\r\\ncool and delightful! \"Would that I might enjoy that endless life the\\r\\npoets write of!\" he murmured blissfully.\\r\\n\\r\\nMany hours passed by until at last Li was compelled to admit that,\\r\\nalthough he was not tired, he was certainly hungry. How to get something\\r\\nto eat? Oh! why had he not asked the friendly nephew a few simple\\r\\nquestions? How easily his lordship might have told him the way to get\\r\\na good breakfast! But alas! without such advice, it would be a whale\\'s\\r\\ntask to accomplish it. Hither and thither he swam, into the deep\\r\\nstill water, and along the muddy shore; down, down to the pebbly\\r\\nbottom--always looking, looking for a tempting worm. He dived into the\\r\\nweeds and rushes, poked his nose among the lily pads. All for nothing!\\r\\nNo fly or worm of any kind to gladden his eager eyes! Another hour\\r\\npassed slowly away, and all the time his hunger was growing greater and\\r\\ngreater. Would the fish god, the mighty dragon, not grant him even one\\r\\nlittle morsel to satisfy his aching stomach, especially since, now that\\r\\nhe was a fish, he had no way of tightening up his belt, as hungry\\r\\nsoldiers do when they are on a forced march?\\r\\n\\r\\nJust as Li was beginning to think he could not wriggle his tail\\r\\nan instant longer, and that soon, very soon, he would feel himself\\r\\nslipping, slipping, slipping down to the bottom of the pond to die--at\\r\\nthat very moment, chancing to look up, he saw, oh joy! a delicious red\\r\\nworm dangling a few inches above his nose. The sight gave new strength\\r\\nto his weary fins and tail. Another minute, and he would have had the\\r\\ndelicate morsel in his mouth, when alas! he chanced to recall the advice\\r\\ngiven him the day before by great King Carp. \"No matter how tempting it\\r\\nlooks, there are sure to be horrible hooks inside.\" For an instant Li\\r\\nhesitated. The worm floated a trifle nearer to his half-open mouth. How\\r\\ntempting! After all, what was a hook to a fish when he was dying? Why be\\r\\na coward? Perhaps this worm was an exception to the rule, or perhaps,\\r\\nperhaps any thing--really a fish in such a plight as Mr. Li could not be\\r\\nexpected to follow advice--even the advice of a real KING.\\r\\n\\r\\nPop! He had it in his mouth. Oh, soft morsel, worthy of a king\\'s desire!\\r\\nNow he could laugh at words of wisdom, and eat whatever came before his\\r\\neye. But ugh! What was that strange feeling that--Ouch! it was the fatal\\r\\nhook!\\r\\n\\r\\nWith one frantic jerk, and a hundred twists and turns, poor Li sought\\r\\nto pull away from the cruel barb that stuck so fast in the roof of his\\r\\nmouth. It was now too late to wish he had kept away from temptation.\\r\\nBetter far to have starved at the bottom of the cool pond than to be\\r\\njerked out by some miserable fisherman to the light and sunshine of the\\r\\nbusy world. Nearer and nearer he approached the surface. The more he\\r\\nstruggled the sharper grew the cruel barb. Then, with one final splash,\\r\\nhe found himself dangling in mid-air, swinging helplessly at the end of\\r\\na long line. With a chunk he fell into a flat-bottomed boat, directly\\r\\non top of several smaller fish.\\r\\n\\r\\n\"Ah, a carp!\" shouted a well-known voice gleefully; \"the biggest fish\\r\\nI\\'ve caught these three moons. What good luck!\"\\r\\n\\r\\nIt was the voice of old Chang, the fisherman, who had been supplying\\r\\nMr. Li\\'s table ever since that official\\'s arrival in the village of\\r\\nEverlasting Happiness. Only a word of explanation, and he, Li, would be\\r\\nfree once more to swim about where he willed. And then there should be\\r\\nno more barbs for him. An escaped fish fears the hook.\\r\\n\\r\\n\"I say, Chang,\" he began, gasping for breath, \"really now, you must\\r\\nchuck me overboard at once, for, don\\'t you see, I am Mr. Li, your old\\r\\nmaster. Come, hurry up about it. I\\'ll excuse you this time for your\\r\\nmistake, for, of course, you had no way of knowing. Quick!\"\\r\\n\\r\\nBut Chang, with a savage jerk, pulled the hook from Li\\'s mouth, and\\r\\nlooked idly towards the pile of glistening fish, gloating over his\\r\\ncatch, and wondering how much money he could demand for it. He had heard\\r\\nnothing of Mr. Li\\'s remarks, for Chang had been deaf since childhood.\\r\\n\\r\\n\"Quick, quick, I am dying for air,\" moaned poor Li, and then, with a\\r\\ngroan, he remembered the fisherman\\'s affliction.\\r\\n\\r\\nBy this time they had arrived at the shore, and Li, in company with his\\r\\nfellow victims, found himself suddenly thrown into a wicker basket. Oh,\\r\\nthe horrors of that journey on land! Only a tiny bit of water remained\\r\\nin the closely-woven thing. It was all he could do to breathe.\\r\\n\\r\\nJoy of joys! At the door of his own house he saw his good friend Sing\\r\\njust coming out. \"Hey, Sing,\" he shouted, at the top of his voice,\\r\\n\"help, help! This son of a turtle wants to murder me. He has me in here\\r\\nwith these fish, and doesn\\'t seem to know that I am Li, his master.\\r\\nKindly order him to take me to the lake and throw me in, for it\\'s cool\\r\\nthere and I like the water life much better than that on land.\"\\r\\n\\r\\nLi paused to hear Sing\\'s reply, but there came not a single word.\\r\\n\\r\\n\"I beg your honour to have a look at my catch,\" said old Chang to Sing.\\r\\n\"Here is the finest fish of the season. I have brought him here so that\\r\\nyou and my honoured master, Mr. Li, may have a treat. Carp is his\\r\\nfavourite delicacy.\"\\r\\n\\r\\n\"Very kind of you, my good Chang, I\\'m sure, but I fear poor Mr. Li will\\r\\nnot eat fish for some time. He has a bad attack of fever.\"\\r\\n\\r\\n\"There\\'s where you\\'re wrong,\" shouted Li, from his basket, flopping\\r\\nabout with all his might, to attract attention, \"I\\'m going to die of a\\r\\nchill. Can\\'t you recognise your old friend? Help me out of this trouble\\r\\nand you may have all my money for your pains.\"\\r\\n\\r\\n\"Hey, what\\'s that!\" questioned Sing, attracted, as usual, by the word\\r\\nmoney. \"Shades of Confucius! It sounds as if the carp were talking.\"\\r\\n\\r\\n\"What, a talking fish,\" laughed Chang. \"Why, master, I\\'ve lived nigh on\\r\\nto sixty year, and such a fish has never come under my sight. There are\\r\\ntalking birds and talking beasts for that matter; but talking fish, who\\r\\never heard of such a wonder? No, I think your ears must have deceived\\r\\nyou, but this carp will surely cause talk when I get him into the\\r\\nkitchen. I\\'m sure the cook has never seen his like. Oh, master! I hope\\r\\nyou will be hungry when you sit down to this fish. What a pity Mr. Li\\r\\ncouldn\\'t help you to devour it!\"\\r\\n\\r\\n\"Help to devour myself, eh?\" grumbled poor Li, now almost dead for lack\\r\\nof water. \"You must take me for a cannibal, or some other sort of\\r\\nsavage.\"\\r\\n\\r\\nOld Chang had now gone round the house to the servants\\' quarters, and,\\r\\nafter calling out the cook, held up poor Li by the tail for the chef to\\r\\ninspect.\\r\\n\\r\\nWith a mighty jerk Li tore himself away and fell at the feet of his\\r\\nfaithful cook. \"Save me, save me!\" he cried out in despair; \"this\\r\\nmiserable Chang is deaf and doesn\\'t know that I am Mr. Li, his master.\\r\\nMy fish voice is not strong enough for his hearing. Only take me back to\\r\\nthe pond and set me free. You shall have a pension for life, wear good\\r\\nclothes and eat good food, all the rest of your days. Only hear me and\\r\\nobey! Listen, my dear cook, listen!\"\\r\\n\\r\\n\"The thing seems to be talking,\" muttered the cook, \"but such wonders\\r\\ncannot be. Only ignorant old women or foreigners would believe that a\\r\\nfish could talk.\" And seizing his former master by the tail, he swung\\r\\nhim on to a table, picked up a knife, and began to whet it on a stone.\\r\\n\\r\\n\"Oh, oh!\" screamed Li, \"you will stick a knife into me! You will scrape\\r\\noff my beautiful shiny scales! You will whack off my lovely new fins!\\r\\nYou will murder your old master!\"\\r\\n\\r\\n\"Well, you won\\'t talk much longer,\" growled the cook, \"I\\'ll show you a\\r\\ntrick or two with the blade.\"\\r\\n\\r\\nSo saying, with a gigantic thrust, he plunged the knife deep into the\\r\\nbody of the trembling victim.\\r\\n\\r\\nWith a shrill cry of horror and despair, Mr. Li awoke from the deep\\r\\nsleep into which he had fallen. His fever was gone, but he found himself\\r\\ntrembling with fear at thought of the terrible death that had come to\\r\\nhim in dreamland.\\r\\n\\r\\n\"Thanks be to Buddha, I am not a fish!\" he cried out joyfully; \"and now\\r\\nI shall be well enough to enjoy the feast to which Mr. Sing has bidden\\r\\nguests for to-morrow. But alas, now that I can eat the old fisherman\\'s\\r\\nprize carp, it has changed back into myself.\\r\\n\\r\\n\\r\\n  \"If only the good of our dreams came true,\\r\\n  I shouldn\\'t mind dreaming the whole day through.\"\\r\\n\\r\\n\\r\\n\\r\\n\\r\\nBAMBOO AND THE TURTLE\\r\\n\\r\\n[Illustration]\\r\\n\\r\\n\\r\\nA party of visitors had been seeing the sights at Hsi Ling. They had\\r\\njust passed down the Holy Way between the huge stone animals when\\r\\nBamboo, a little boy of twelve, son of a keeper, rushed out from his\\r\\nfather\\'s house to see the mandarins go by. Such a parade of great men\\r\\nhe had never seen before, even on the feast days. There were ten sedan\\r\\nchairs, with bearers dressed in flaming colours, ten long-handled, red\\r\\numbrellas, each carried far in front of its proud owner, and a long line\\r\\nof horsemen.\\r\\n\\r\\nWhen this gay procession had filed past, Bamboo was almost ready to cry\\r\\nbecause he could not run after the sightseers as they went from temple\\r\\nto temple and from tomb to tomb. But, alas! his father had ordered him\\r\\nnever to follow tourists. \"If you do, they will take you for a beggar,\\r\\nBamboo,\" he had said shrewdly, \"and if you\\'re a beggar, then your\\r\\ndaddy\\'s one too. Now they don\\'t want any beggars around the royal\\r\\ntombs.\" So Bamboo had never known the pleasure of pursuing the rich.\\r\\nMany times he had turned back to the little mud house, almost\\r\\nbroken-hearted at seeing his playmates running, full of glee, after the\\r\\ngreat men\\'s chairs.\\r\\n\\r\\nOn the day when this story opens, just as the last horseman had passed\\r\\nout of sight among the cedars, Bamboo chanced to look up toward one of\\r\\nthe smaller temple buildings of which his father was the keeper. It was\\r\\nthe house through which the visitors had just been shown. Could his eyes\\r\\nbe deceiving him? No, the great iron doors had been forgotten in the\\r\\nhurry of the moment, and there they stood wide open, as if inviting him\\r\\nto enter.\\r\\n\\r\\nIn great excitement he scurried toward the temple. How often he had\\r\\npressed his head against the bars and looked into the dark room, wishing\\r\\nand hoping that some day he might go in. And yet, not once had he been\\r\\ngranted this favour. Almost every day since babyhood he had gazed at the\\r\\nhigh stone shaft, or tablet, covered with Chinese writing, that stood\\r\\nin the centre of the lofty room, reaching almost to the roof. But\\r\\nwith still greater surprise his eyes had feasted on the giant turtle\\r\\nunderneath, on whose back the column rested. There are many such tablets\\r\\nto be seen in China, many such turtles patiently bearing their loads of\\r\\nstone, but this was the only sight of the kind that Bamboo had seen. He\\r\\nhad never been outside the Hsi Ling forest, and, of course, knew very\\r\\nlittle of the great world beyond.\\r\\n\\r\\nIt is no wonder then that the turtle and the tablet had always\\r\\nastonished him. He had asked his father to explain the mystery. \"Why\\r\\ndo they have a turtle? Why not a lion or an elephant?\" For he had seen\\r\\nstone figures of these animals in the park and had thought them much\\r\\nbetter able than his friend, the turtle, to carry loads on their backs.\\r\\n\"Why it\\'s just the custom,\" his father had replied--the answer always\\r\\ngiven when Bamboo asked a question, \"just the custom.\" The boy had tried\\r\\nto imagine it all for himself, but had never been quite sure that he\\r\\nwas right, and now, joy of all joys, he was about to enter the very\\r\\nturtle-room itself. Surely, once inside, he could find some answer\\r\\nto this puzzle of his childhood.\\r\\n\\r\\nBreathless, he dashed through the doorway, fearing every minute that\\r\\nsome one would notice the open gates and close them before he could\\r\\nenter. Just in front of the giant turtle he fell in a little heap on the\\r\\nfloor, which was covered inch-deep with dust. His face was streaked, his\\r\\nclothes were a sight to behold; but Bamboo cared nothing for such\\r\\ntrifles. He lay there for a few moments, not daring to move. Then,\\r\\nhearing a noise outside, he crawled under the ugly stone beast and\\r\\ncrouched in his narrow hiding-place, as still as a mouse.\\r\\n\\r\\n\"There, there!\" said a deep voice. \"See what you are doing, stirring up\\r\\nsuch a dust! Why, you will strangle me if you are not careful.\"\\r\\n\\r\\nIt was the turtle speaking, and yet Bamboo\\'s father had often told him\\r\\nthat it was not alive. The boy lay trembling for a minute, too much\\r\\nfrightened to get up and run.\\r\\n\\r\\n\"No use in shaking so, my lad,\" the voice continued, a little more\\r\\nkindly. \"I suppose all boys are alike--good for nothing but kicking up\\r\\na dust.\" He finished this sentence with a hoarse chuckle, and the boy,\\r\\nseeing that he was laughing, looked up with wonder at the strange\\r\\ncreature.\\r\\n\\r\\n\"I meant no harm in coming,\" said the child finally. \"I only wanted to\\r\\nlook at you more closely.\"\\r\\n\\r\\n\"Oh, that was it, hey? Well, that is strange. All the others come and\\r\\nstare at the tablet on my back. Sometimes they read aloud the nonsense\\r\\nwritten there about dead emperors and their titles, but they never so\\r\\nmuch as look at me, at _me_ whose father was one of the great four who\\r\\nmade the world.\"\\r\\n\\r\\nBamboo\\'s eyes shone with wonder. \"What! _your_ father helped make the\\r\\nworld?\" he gasped.\\r\\n\\r\\n\"Well, not my father exactly, but one of my grandfathers, and it amounts\\r\\nto the same thing, doesn\\'t it. But, hark! I hear a voice. The keeper is\\r\\ncoming back. Run up and close those doors, so he won\\'t notice that they\\r\\nhave not been locked. Then you may hide in the corner there until he has\\r\\npassed. I have something more to tell you.\"\\r\\n\\r\\nBamboo did as he was told. It took all his strength to swing the heavy\\r\\ndoors into place. He felt very important to think that he was doing\\r\\nsomething for the grandson of a maker of the world, and it would have\\r\\nbroken his heart if this visit had been ended just as it was beginning.\\r\\n\\r\\nSure enough, his father and the other keepers passed on, never dreaming\\r\\nthat the heavy locks were not fastened as usual. They were talking about\\r\\nthe great men who had just gone. They seemed very happy and were\\r\\njingling some coins in their hands.\\r\\n\\r\\n\"Now, my boy,\" said the stone turtle when the sound of voices had died\\r\\naway and Bamboo had come out from his corner, \"maybe you think I\\'m proud\\r\\nof my job. Here I\\'ve been holding up this chunk for a hundred years, I\\r\\nwho am fond of travel. During all this time night and day, I have been\\r\\ntrying to think of some way to give up my position. Perhaps it\\'s\\r\\nhonourable, but, you may well imagine, it\\'s not very pleasant.\"\\r\\n\\r\\n\"I should think you would have the backache,\" ventured Bamboo timidly.\\r\\n\\r\\n\"Backache! well, I think so; back, neck, legs, eyes, everything I have\\r\\nis aching, aching for freedom. But, you see, even if I had kicked up\\r\\nmy heels and overthrown this monument, I had no way of getting through\\r\\nthose iron bars,\" and he nodded toward the gate.\\r\\n\\r\\n\"Yes, I understand,\" agreed Bamboo, beginning to feel sorry for his old\\r\\nfriend.\\r\\n\\r\\n\"But, now that you are here, I have a plan, and a good one it is, too, I\\r\\nthink. The watchmen have forgotten to lock the gate. What is to prevent\\r\\nmy getting my freedom this very night? You open the gate, I walk out,\\r\\nand no one the wiser.\"\\r\\n\\r\\n\"But my father will lose his head if they find that he has failed to do\\r\\nhis duty and you have escaped.\"\\r\\n\\r\\n\"Oh, no; not at all. You can slip his keys to-night, lock the gates\\r\\nafter I am gone, and no one will know just what has happened. Why it\\r\\nwill make this building famous. It won\\'t hurt your father, but will do\\r\\nhim good. So many travellers will be anxious to see the spot from which\\r\\nI vanished. I am too heavy for a thief to carry off, and they will be\\r\\nsure that it is another miracle of the gods. Oh, I shall have a good\\r\\ntime out in the big world.\"\\r\\n\\r\\nJust here Bamboo began to cry.\\r\\n\\r\\n\"Now what is the silly boy blubbering about?\" sneered the turtle. \"Is he\\r\\nnothing but a cry-baby?\"\\r\\n\\r\\n\"No, but I don\\'t want you to go.\"\\r\\n\\r\\n\"Don\\'t want me to go, eh? Just like all the others. You\\'re a fine\\r\\nfellow! What reason have you for wanting to see me weighed down here all\\r\\nthe rest of my life with a mountain on my back? Why, I thought you were\\r\\nsorry for me, and it turns out that you are as mean as anybody else.\"\\r\\n\\r\\n\"It is so lonely here, and I have no playmates. You are the only friend\\r\\nI have.\"\\r\\n\\r\\nThe tortoise laughed loudly. \"Ho, ho! so it\\'s because I make you a\\r\\ngood playmate, eh? Now, if that\\'s your reason, that\\'s another story\\r\\naltogether. What do you say to going with me then? I, too, need a\\r\\nfriend, and if you help me to escape, why, you are the very friend\\r\\nfor me.\"\\r\\n\\r\\n\"But how shall you get the tablet off your back?\" questioned Bamboo\\r\\ndoubtfully. \"It\\'s very heavy.\"\\r\\n\\r\\n\"That\\'s easy, just walk out of the door. The tablet is too tall to go\\r\\nthrough. It will slide off and sit on the floor instead of on my shell.\"\\r\\n\\r\\nBamboo, wild with delight at the thought of going on a journey with the\\r\\nturtle, promised to obey the other\\'s commands. After supper, when all\\r\\nwere asleep in the little house of the keeper, he slipped from his bed,\\r\\ntook down the heavy key from its peg, and ran pell-mell to the temple.\\r\\n\\r\\n\"Well, you didn\\'t forget me, did you?\" asked the turtle when Bamboo\\r\\nswung the iron gates open.\\r\\n\\r\\n\"Oh, no, I would not break a promise. Are you ready?\"\\r\\n\\r\\n\"Yes, quite ready.\" So saying, the turtle took a step. The tablet swayed\\r\\nbackward and forward, but did not fall. On walked the turtle until\\r\\nfinally he stuck his ugly head through the doorway. \"Oh, how good it\\r\\nlooks outside,\" he said. \"How pleasant the fresh air feels! Is that the\\r\\nmoon rising over yonder? It\\'s the first time I\\'ve seen it for an age.\\r\\nMy word! just look at the trees! How they have grown since they set that\\r\\ntombstone on my back! There\\'s a regular forest outside now.\"\\r\\n\\r\\nBamboo was delighted when he saw the turtle\\'s glee at escaping. \"Be\\r\\ncareful,\" he cried, \"not to let the tablet fall hard enough to break\\r\\nit.\"\\r\\n\\r\\nEven as he spoke, the awkward beast waddled through the door. The upper\\r\\nend of the monument struck against the wall, toppled off, and fell with\\r\\na great crash to the floor. Bamboo shivered with fear. Would his father\\r\\ncome and find out what had happened?\\r\\n\\r\\n\"Don\\'t be afraid, my boy. No one will come at this hour of the night to\\r\\nspy on us.\"\\r\\n\\r\\nBamboo quickly locked the gates, ran back to the house, and hung the\\r\\nkey on its peg. He took a long look at his sleeping parents, and then\\r\\nreturned to his friend. After all, he would not be gone long and his\\r\\nfather would surely forgive him.\\r\\n\\r\\nSoon the comrades were walking down the broad road, very slowly, for the\\r\\ntortoise is not swift of foot and Bamboo\\'s legs were none too long.\\r\\n\\r\\n\"Where are you going?\" said the boy at last, after he had begun to feel\\r\\nmore at home with the turtle.\\r\\n\\r\\n\"Going? Where should you think I would want to go after my century in\\r\\nprison? Why, back to the first home of my father, back to the very spot\\r\\nwhere the great god, P\\'anku, and his three helpers hewed out the world.\"\\r\\n\\r\\n\"And is it far?\" faltered the boy, beginning to feel just the least bit\\r\\ntired.\\r\\n\\r\\n\"At this rate, yes, but, bless my life, you didn\\'t think we could travel\\r\\nall the way at this snail\\'s pace, I hope. Jump on my back, and I\\'ll show\\r\\nyou how to go. Before morning we shall be at the end of the world, or\\r\\nrather, the beginning.\"\\r\\n\\r\\n\"Where is the beginning of the world?\" asked Bamboo. \"I have never\\r\\nstudied geography.\"\\r\\n\\r\\n\"We must cross China, then Thibet, and at last in the mountains just\\r\\nbeyond we shall reach the spot which P\\'anku made the centre of his\\r\\nlabour.\"\\r\\n\\r\\nAt that moment Bamboo felt himself being lifted from the ground. At\\r\\nfirst he thought he would slip off the turtle\\'s rounded shell, and he\\r\\ncried out in fright.\\r\\n\\r\\n\"Never fear,\" said his friend. \"Only sit quietly, and there will be no\\r\\ndanger.\"\\r\\n\\r\\nThey had now risen far into the air, and Bamboo could look down over the\\r\\ngreat forest of Hsi Ling all bathed in moonlight. There were the broad\\r\\nwhite roads leading up to the royal tombs, the beautiful temples, the\\r\\nbuildings where oxen and sheep were prepared for sacrifice, the lofty\\r\\ntowers, and the high tree-covered hills under which the emperors were\\r\\nburied. Until that night Bamboo had not known the size of this royal\\r\\ngraveyard. Could it be that the turtle would carry him beyond the\\r\\nforest? Even as he asked himself this question he saw that they had\\r\\nreached a mountain, and the turtle was ascending higher, still higher,\\r\\nto cross the mighty wall of stone.\\r\\n\\r\\nBamboo grew dizzy as the turtle rose farther into the sky. He felt as he\\r\\nsometimes did when he played whirling games with his little friends, and\\r\\ngot so dizzy that he tumbled over upon the ground. However, this time\\r\\nhe knew that he must keep his head and not fall, for it must have been\\r\\nalmost a mile to the ground below him. At last they had passed over the\\r\\nmountain and were flying above a great plain. Far below Bamboo could see\\r\\nsleeping villages and little streams of water that looked like silver\\r\\nin the moonlight. Now, directly beneath them was a city. A few feeble\\r\\nlights could be seen in the dark narrow streets, and Bamboo thought he\\r\\ncould hear the faint cries of peddlers crying their midnight wares.\\r\\n\\r\\n\"That\\'s the capital of Shan-shi just below us,\" said the turtle,\\r\\nbreaking his long silence. \"It is almost two hundred miles from here to\\r\\nyour father\\'s house, and we have taken less than half an hour. Beyond\\r\\nthat is the Province of the Western Valleys. In one hour we shall be\\r\\nabove Thibet.\"\\r\\n\\r\\nOn they whizzed at lightning speed. If it had not been hot summer time\\r\\nBamboo would have been almost frozen. As it was, his hands and feet were\\r\\ncold and stiff. The turtle, as if knowing how chilly he was, flew nearer\\r\\nto the ground where it was warmer. How pleasant for Bamboo! He was so\\r\\ntired that he could keep his eyes open no longer and he was soon soaring\\r\\nin the land of dreams.\\r\\n\\r\\nWhen he waked up it was morning. He was lying on the ground in a wild,\\r\\nrocky region. Not far away burned a great wood fire, and the turtle was\\r\\nwatching some food that was cooking in a pot.\\r\\n\\r\\n\"Ho, ho, my lad! so you have at last waked up after your long ride. You\\r\\nsee we are a little early. No matter if the dragon does think he can fly\\r\\nfaster, I beat him, didn\\'t I? Why, even the phoenix laughs at me and\\r\\nsays I am slow, but the phoenix has not come yet either. Yes, I have\\r\\nclearly broken the record for speed, and I had a load to carry too,\\r\\nwhich neither of the others had, I am sure.\"\\r\\n\\r\\n\"Where are we?\" questioned Bamboo.\\r\\n\\r\\n\"In the land of the beginning,\" said the other wisely. \"We flew over\\r\\nThibet, and then went northwest for two hours. If you haven\\'t studied\\r\\ngeography you won\\'t know the name of the country. But, here we are, and\\r\\nthat is enough, isn\\'t it, enough for any one? And to-day is the yearly\\r\\nfeast-day in honour of the making of the world. It was very fortunate\\r\\nfor me that the gates were left open yesterday. I am afraid my old\\r\\nfriends, the dragon and the phoenix, have almost forgotten what I look\\r\\nlike. It is so long since they saw me. Lucky beasts they are, not to be\\r\\nloaded down under an emperor\\'s tablet. Hello! I hear the dragon coming\\r\\nnow, if I am not mistaken. Yes, here he is. How glad I am to see him!\"\\r\\n\\r\\nBamboo heard a great noise like the whirr of enormous wings, and then,\\r\\nlooking up, saw a huge dragon just in front of him. He knew it was a\\r\\ndragon from the pictures he had seen and the carvings in the temples.\\r\\n\\r\\nThe dragon and the turtle had no sooner greeted each other, both very\\r\\nhappy at the meeting, than they were joined by a queer-looking bird,\\r\\nunlike any that Bamboo had ever seen, but which he knew was the\\r\\nphoenix. This phoenix looked somewhat like a wild swan, but it had\\r\\nthe bill of a cock, the neck of a snake, the tail of a fish and the\\r\\nstripes of a dragon. Its feathers were of five colours.\\r\\n\\r\\nWhen the three friends had chatted merrily for a few minutes, the turtle\\r\\ntold them how Bamboo had helped him to escape from the temple.\\r\\n\\r\\n\"A clever boy,\" said the dragon, patting Bamboo gently on the back.\\r\\n\\r\\n\"Yes, yes, a clever boy indeed,\" echoed the phoenix.\\r\\n\\r\\n\"Ah,\" sighed the turtle, \"if only the good god, P\\'anku, were here,\\r\\nshouldn\\'t we be happy! But, I fear he will never come to this\\r\\nmeeting-place. No doubt he is off in some distant spot, cutting out\\r\\nanother world. If I could only see him once more, I feel that I should\\r\\ndie in peace.\"\\r\\n\\r\\n\"Just listen!\" laughed the dragon. \"As if one of us could die! Why, you\\r\\ntalk like a mere mortal.\"\\r\\n\\r\\nAll day long the three friends chatted, feasted, and had a good time\\r\\nlooking round at the places where they had lived so happily when P\\'anku\\r\\nhad been cutting out the world. They were good to Bamboo also and showed\\r\\nhim many wonderful things of which he had never dreamed.\\r\\n\\r\\n\"You are not half so mean-looking and so fierce as they paint you on the\\r\\nflags,\" said Bamboo in a friendly voice to the dragon just as they were\\r\\nabout to separate.\\r\\n\\r\\nThe three friends laughed heartily.\\r\\n\\r\\n\"Oh, no, he\\'s a very decent sort of fellow, even if he is covered with\\r\\nfish-scales,\" joked the phoenix.\\r\\n\\r\\nJust before they bade each other good-bye, the phoenix gave Bamboo a\\r\\nlong scarlet tail-feather for a keepsake, and the dragon gave him a\\r\\nlarge scale which turned to gold as soon as the boy took it into his\\r\\nhand.\\r\\n\\r\\n\"Come, come, we must hurry,\" said the turtle. \"I am afraid your father\\r\\nwill think you are lost.\" So Bamboo, after having spent the happiest day\\r\\nof his life, mounted the turtle\\'s back, and they rose once more above\\r\\nthe clouds. Back they flew even faster than they had come. Bamboo had so\\r\\nmany things to talk about that he did not once think of going to sleep,\\r\\nfor he had really seen the dragon and the phoenix, and if he never\\r\\nwere to see anything else in his life, he would always be happy.\\r\\n\\r\\nSuddenly the turtle stopped short in his swift flight, and Bamboo felt\\r\\nhimself slipping. Too late he screamed for help, too late he tried to\\r\\nsave himself. Down, down from that dizzy height he tumbled, turning,\\r\\ntwisting, thinking of the awful death that was surely coming. Swish!\\r\\nhe shot through the tree tops trying vainly to clutch the friendly\\r\\nbranches. Then with a loud scream he struck the ground, and his long\\r\\njourney was ended.\\r\\n\\r\\n[Illustration: \"AH,\" SIGHED THE TURTLE, \"IF ONLY THE GOOD GOD, P\\'ANKU,\\r\\nWERE HERE.\"]\\r\\n\\r\\n\"Come out from under that turtle, boy! What are you doing inside the\\r\\ntemple in the dirt? Don\\'t you know this is not the proper place for\\r\\nyou?\"\\r\\n\\r\\nBamboo rubbed his eyes. Though only half awake, he knew it was his\\r\\nfather\\'s voice.\\r\\n\\r\\n\"But didn\\'t it kill me?\" he said as his father pulled him out by the\\r\\nheel from under the great stone turtle.\\r\\n\\r\\n\"What killed you, foolish boy? What can you be talking about? But I\\'ll\\r\\nhalf-kill you if you don\\'t hurry out of this and come to your supper.\\r\\nReally I believe you are getting too lazy to eat. The idea of sleeping\\r\\nthe whole afternoon under that turtle\\'s belly!\"\\r\\n\\r\\nBamboo, not yet fully awake, stumbled out of the tablet room, and his\\r\\nfather locked the iron doors.\\r\\n\\r\\n\\r\\n\\r\\n\\r\\nTHE MAD GOOSE AND THE TIGER FOREST\\r\\n\\r\\n[Illustration]\\r\\n\\r\\n\\r\\nHu-lin was a little slave girl. She had been sold by her father when\\r\\nshe was scarcely more than a baby, and had lived for five years with\\r\\na number of other children in a wretched houseboat. Her cruel master\\r\\ntreated her very badly. He made her go out upon the street, with the\\r\\nother girls he had bought, to beg for a living. This kind of life was\\r\\nespecially hard for Hu-lin. She longed to play in the fields, above\\r\\nwhich the huge kites were sailing in the air like giant birds. She liked\\r\\nto see the crows and magpies flying hither and thither. It was great fun\\r\\nto watch them build their stick nests in the tall poplars. But if her\\r\\nmaster ever caught her idling her time away in this manner he beat her\\r\\nmost cruelly and gave her nothing to eat for a whole day. In fact he was\\r\\nso wicked and cruel that all the children called him Black Heart.\\r\\n\\r\\nEarly one morning when Hu-lin was feeling very sad about the way she was\\r\\ntreated, she resolved to run away, but, alas! she had not gone more than\\r\\na hundred yards from the houseboat when she saw Black Heart following\\r\\nher. He caught her, scolded her most dreadfully, and gave her such a\\r\\nbeating that she felt too faint to stir.\\r\\n\\r\\nFor several hours she lay on the ground without moving a muscle, moaning\\r\\nas if her heart would break. \"Ah! if only someone would save me!\" she\\r\\nthought, \"how good I would be all the rest of my days!\"\\r\\n\\r\\nNow, not far from the river there lived an old man in a tumble-down\\r\\nshanty. The only companion he had was a goose that watched the gate for\\r\\nhim at night and screamed out loudly if any stranger dared to prowl\\r\\nabout the place. Hu-lin and this goose were close friends, and the slave\\r\\ngirl often stopped to chat with the wise fowl as she was passing the old\\r\\nman\\'s cottage. In this way she had learned that the bird\\'s owner was a\\r\\nmiser who kept a great deal of money hidden in his yard. Ch\\'ang, the\\r\\ngoose, had an unusually long neck, and was thus able to pry into most of\\r\\nhis master\\'s affairs. As the fowl had no member of his own family to\\r\\ntalk with, he told all he knew to Hu-lin.\\r\\n\\r\\nOn the very morning when Black Heart gave Hu-lin a beating for trying\\r\\nto run away, Ch\\'ang made a startling discovery. His lord and master was\\r\\nnot really an old miser, but a young man in disguise. Ch\\'ang, feeling\\r\\nhungry, had slipped into the house at daybreak to see if any scraps had\\r\\nbeen left from the last evening\\'s meal. The bedroom door had blown open\\r\\nin the night, and there lay a young man sound asleep, instead of the\\r\\ngreybeard whom the gander called his master. Then, before his very eyes,\\r\\nthe youth changed suddenly into his former shape and was an old man\\r\\nagain.\\r\\n\\r\\nIn his excitement, forgetting all about his empty stomach, the\\r\\nterror-stricken goose rushed out into the yard to think over the\\r\\nmystery, but the longer he puzzled, the more strange it all seemed. Then\\r\\nhe thought of Hu-lin, and wished that she would come by, that he might\\r\\nask her opinion. He had a high regard for the slave girl\\'s knowledge and\\r\\nbelieved that she would understand fully what had taken place.\\r\\n\\r\\nCh\\'ang went to the gate. As usual, it was locked, and there was nothing\\r\\nfor him to do but wait for his master to rise. Two hours later the miser\\r\\nwalked out into the yard. He seemed in good spirits, and he gave Ch\\'ang\\r\\nmore to eat than usual. After taking his morning smoke on the street in\\r\\nfront of the house, he strolled around it leaving the front gate ajar.\\r\\n\\r\\nThis was precisely what the gander had been expecting. Slipping quietly\\r\\ninto the road, he turned towards the river where he could see the\\r\\nhouseboats lined up at the wharf. On the sand near by lay a well-known\\r\\nform.\\r\\n\\r\\n\"Hu-lin,\" he called as he drew near, \"wake up, for I have something to\\r\\ntell you.\"\\r\\n\\r\\n\"I am not asleep,\" she answered, turning her tear-stained face towards\\r\\nher friend.\\r\\n\\r\\n\"Why, what\\'s the matter? You\\'ve been crying again. Has old Black Heart\\r\\nbeen beating you?\"\\r\\n\\r\\n\"Hush! he\\'s taking a nap in the boat. Don\\'t let him hear you.\"\\r\\n\\r\\n\"It\\'s not likely he would understand goose-talk if he did,\" replied\\r\\nCh\\'ang, smiling. \"However, I suppose it\\'s always best to be on the safe\\r\\nside, so I\\'ll whisper what I have to say.\"\\r\\n\\r\\nPutting his bill close to her ear, he told Hu-lin of his recent\\r\\ndiscovery, and ended by asking her to tell him what it all meant.\\r\\n\\r\\nThe child forgot her own misery at hearing his wonderful story. \"Are you\\r\\nquite sure there was not some friend of the miser\\'s spending the night\\r\\nwith him?\" she asked gravely.\\r\\n\\r\\n\"Yes, yes, perfectly sure, for he has no friends,\" replied the gander.\\r\\n\"Besides, I was in the house just before he locked up for the night, and\\r\\nI saw neither hair nor hide of any other person.\"\\r\\n\\r\\n\"Then he must be a fairy in disguise!\" announced Hu-lin wisely.\\r\\n\\r\\n\"A fairy! what\\'s that?\" questioned Ch\\'ang, more and more excited.\\r\\n\\r\\n\"Why, you old goose, don\\'t you know what a fairy is?\" And Hu-lin laughed\\r\\noutright. By this time she had forgotten her own troubles and was\\r\\nbecoming more and more amused at what she had heard. \"Hark!\" she said in\\r\\na low tone, and speaking very slowly, \"a fairy is----\" Here she lowered\\r\\nher voice to a whisper.\\r\\n\\r\\nThe gander nodded violently as she went on with her explanation, and\\r\\nwhen she had finished, was speechless with amazement, for a few moments.\\r\\n\"Well,\" he said finally, \"if my master is that kind of man, suppose you\\r\\nslip away quietly and come with me, for, if a fairy is what you say he\\r\\nis, he can save you from all your troubles and make me happy for the\\r\\nrest of my days.\"\\r\\n\\r\\n[Illustration: \"PUTTING HIS BILL TO HER EAR, HE TOLD HU-LIN OF HIS\\r\\nRECENT DISCOVERY.\"]\\r\\n\\r\\n\"I wonder if I dare?\" she answered, looking round fearfully towards the\\r\\nhouseboat, from the open scuttle of which came the sound of deep\\r\\nsnoring.\\r\\n\\r\\n\"Yes, yes, of course!\" coaxed Ch\\'ang. \"He gave you such a beating that\\r\\nhe won\\'t be afraid of your taking to your heels again very soon.\"\\r\\n\\r\\nHurriedly they went to the miser\\'s compound. Hu-lin\\'s heart was beating\\r\\nfast as she tried to decide what to say when she should actually stand\\r\\nbefore the fairy. The gate was still partly open and the two friends\\r\\nentered boldly.\\r\\n\\r\\n\"Come this way,\" said Ch\\'ang. \"He must be in the back-yard digging in\\r\\nhis garden.\"\\r\\n\\r\\nBut when they reached the vegetable patch there was no one to be seen.\\r\\n\\r\\n\"This is very strange,\" whispered the gander. \"I don\\'t understand it,\\r\\nfor I have never known him to grow tired of work so early. Surely he\\r\\ncannot have gone in to rest.\"\\r\\n\\r\\nLed by her friend, Hu-lin entered the house on tiptoe. The door of the\\r\\nmiser\\'s bedroom stood wide open, and they saw that there was no one\\r\\neither in that room or any other room of the miserable cottage.\\r\\n\\r\\n\"Come! let\\'s see what kind of bed he sleeps on,\" said Hu-lin, filled\\r\\nwith curiosity. \"I have never been in a fairy\\'s room. It must be\\r\\ndifferent from other people\\'s rooms.\"\\r\\n\\r\\n\"No, no! just a plain brick bed, like all the rest,\" answered Ch\\'ang, as\\r\\nthey crossed the threshold.\\r\\n\\r\\n\"Does he have a fire in cold weather?\" asked Hu-lin, stooping to examine\\r\\nthe small fire hole in the bricks.\\r\\n\\r\\n\"Oh, yes, a hot fire every night, and even in spring when other people\\r\\nhave stopped having fires, the brick bed is hot every night.\"\\r\\n\\r\\n\"Well, that\\'s rather strange for a miser, don\\'t you think?\" said the\\r\\ngirl. \"It costs more to keep a fire going than it does to feed a man.\"\\r\\n\\r\\n\"Yes, that\\'s true,\" agreed Ch\\'ang, pruning his feathers. \"I hadn\\'t\\r\\nthought of that. It is strange, very. Hu-lin, you\\'re a wise child. Where\\r\\ndid you learn so much?\"\\r\\n\\r\\nAt that moment the gander turned pale at hearing the gate slam loudly\\r\\nand the bar thrown into place.\\r\\n\\r\\n\"Good gracious! what ever shall we do?\" asked Hu-lin. \"What will he say\\r\\nif he finds us here?\"\\r\\n\\r\\n\"No telling,\" said the other, trembling, \"but, my dear little friend, we\\r\\nare certainly caught, for we can\\'t get away without his seeing us.\"\\r\\n\\r\\n\"Yes, and I\\'ve already had one beating to-day! And such a hard one that\\r\\nI don\\'t believe I could live through another,\" sighed the child, as the\\r\\ntears began to flow.\\r\\n\\r\\n\"There, there, little girl, don\\'t worry! Let\\'s hide in this dark corner\\r\\nbehind the baskets,\" suggested the gander, just as the master\\'s step was\\r\\nheard at the front door.\\r\\n\\r\\nSoon the frightened companions were crouching on the ground, trying\\r\\nto hide. Much to their relief, however, the miser did not go into his\\r\\nbedroom, and they soon heard him hard at work in the garden. All that\\r\\nday the two remained in their hiding place, afraid to show themselves\\r\\noutside the door.\\r\\n\\r\\n\"I can\\'t imagine what he would say if he found out that his watch-goose\\r\\nhad brought a stranger into the house,\" said Ch\\'ang.\\r\\n\\r\\n\"Perhaps he would think we were trying to steal some of the money he\\r\\nhas hidden away,\" she answered, laughing, for as Hu-lin became used\\r\\nto her cramped quarters she grew less frightened. At any rate she\\r\\nwas not nearly so much afraid of the miser as she had thought she was.\\r\\n\"Besides,\" she reflected, \"he can\\'t be so bad as old Black Heart.\"\\r\\n\\r\\nThus the day wore on and darkness fell over the land. By this time girl\\r\\nand goose were fast asleep in one corner of the miser\\'s room and knew\\r\\nnothing more of what was happening.\\r\\n\\r\\nWhen the first light of a new day filtered through the paper-covered\\r\\nwindow above the miser\\'s bed, Hu-lin awoke with a start, and at first\\r\\nshe could not think where she was. Ch\\'ang was staring at her with\\r\\nwide-open frightened eyes that seemed to be asking, \"What can it all\\r\\nmean? It is more than my goose brain can think out.\"\\r\\n\\r\\nFor on the bed, instead of the miser, there lay a young man whose hair\\r\\nwas a black as a raven\\'s wing. A faint smile lightened up his handsome\\r\\nface, as if he was enjoying some delightful dream. A cry of wonder\\r\\nescaped Hu-lin\\'s lips before she could hold it back. The sleeper\\'s eyes\\r\\nopened instantly and were fixed upon her. The girl was so frightened\\r\\nthat she could not move, and the gander trembled violently as he saw the\\r\\nchange that had come over his master.\\r\\n\\r\\nThe young man was even more surprised than his guests, and for two\\r\\nminutes he was speechless. \"What does this mean?\" he asked, finally,\\r\\nlooking at Ch\\'ang. \"What are you doing in my bedroom and who is this\\r\\nchild who seems so frightened?\"\\r\\n\\r\\n\"Forgive me, kind sir, but what have you done to my master?\" asked the\\r\\ngander, giving question for question.\\r\\n\\r\\n\"Am I not your master, you mad creature?\" said the man, laughing. \"You\\r\\nare more stupid than ever this morning.\"\\r\\n\\r\\n\"My master was old and ugly, but you are still young and handsome,\"\\r\\nreplied Ch\\'ang in a tone of flattery.\\r\\n\\r\\n\"What,\" shouted the other, \"you say I am still young?\"\\r\\n\\r\\n\"Why, yes. Ask Hu-lin, if you don\\'t believe me.\"\\r\\n\\r\\nThe man turned towards the little girl.\\r\\n\\r\\n\"Yes, indeed you are, sir,\" she replied in answer to his look. \"Never\\r\\nhave I seen a man so beautiful.\"\\r\\n\\r\\n\"At last! at last!\" he cried, laughing joyfully, \"I am free, free, free\\r\\nfrom all my troubles, but how it has come about is more than I can say!\"\\r\\n\\r\\nFor a few minutes he stood in a deep study, snapping his long fingers\\r\\nas if trying to solve some hard problem. At last a smile lighted up his\\r\\nface. \"Ch\\'ang,\" he asked, \"what was it you called your guest when you\\r\\nspoke of her a minute ago?\"\\r\\n\\r\\n\"I am Hu-lin,\" said the child simply, \"Hu-lin, the slave girl.\"\\r\\n\\r\\nHe clapped his hands. \"That\\'s right! That\\'s right!\" he cried. \"I see it\\r\\nall now; it is as plain as day.\" Then, noticing the look of wonder on\\r\\nher face, \"It is to you that I owe my freedom from a wicked fairy, and\\r\\nif you like, I\\'ll tell you the story of my misfortune.\"\\r\\n\\r\\n\"Pray do, kind sir,\" she replied eagerly. \"I told Ch\\'ang that you were\\r\\na fairy, and I should like to know if I was right.\"\\r\\n\\r\\n\"Well, you see,\" he began, \"my father is a rich man who lives in a\\r\\ndistant county. When I was a boy he gave me everything I wished. I was\\r\\nso humoured and petted from earliest childhood that at last I began to\\r\\nthink there was nothing at all in the world I could not have for the\\r\\nasking, and nothing that I must not do if I wished to.\\r\\n\\r\\n\"My teacher often scolded me for having such notions. He told me there\\r\\nwas a proverb: \\'Men die for gain, birds perish to get food.\\' He thought\\r\\nsuch men were very foolish. He told me that money would go a long way\\r\\ntowards making a man happy, but he always ended by saying that the gods\\r\\nwere more powerful than men. He said I must always be careful not to\\r\\nmake the evil spirits angry. Sometimes I laughed in his face, telling\\r\\nhim that I was rich and could buy the favour of gods and fairies. The\\r\\ngood man would shake his head, saying, \\'Take care, my boy, or you will\\r\\nbe sorry for these rash speeches.\\'\"\\r\\n\\r\\n\"One day, after he had been giving me a long lecture of this sort, we\\r\\nwere walking in the garden of my father\\'s compound. I was even more\\r\\ndaring than usual and told him that I cared nothing for the rules other\\r\\npeople followed. \\'You say,\\' said I, \\'that this well here in my father\\'s\\r\\nyard is ruled by a spirit, and that if I were to anger him by jumping\\r\\nover it, he would be vexed and give me trouble.\\' \\'Yes,\\' said he, \\'that\\r\\nis exactly what I said, and I repeat it. Beware, young man, beware of\\r\\nidle boasting and of breaking the law.\\' \\'What do I care for a spirit\\r\\nthat lives on my father\\'s land?\\' I answered with a sneer. \\'I don\\'t\\r\\nbelieve there is a spirit in this well. If there is, it is only another\\r\\nof my father\\'s slaves.\\'\\r\\n\\r\\n\"So saying, and before my tutor could stop me, I leaped across the mouth\\r\\nof the well. No sooner had I touched the ground than I felt a strange\\r\\nshrinking of my body. My strength left me in the twinkling of an eye,\\r\\nmy bones shortened, my skin grew yellow and wrinkled. I looked at my\\r\\npigtail and found that the hair had suddenly grown thin and white. In\\r\\nevery way I had been changed completely into an old man.\\r\\n\\r\\n\"My teacher stared at me in amazement, and when I asked him what it all\\r\\nmeant my voice was as shrill as that of early childhood. \\'Alas! my dear\\r\\npupil,\\' he replied, \\'now you will believe what I told you. The spirit of\\r\\nthe well is angry at your wicked conduct and has punished you. You have\\r\\nbeen told a hundred times that it is wrong to leap over a well; yet you\\r\\ndid this very thing,\\' \\'But is there nothing that can be done,\\' I cried;\\r\\n\\'is there no way of restoring my lost youth?\\' He looked at me sadly and\\r\\nshook his head.\\r\\n\\r\\n\"When my father learned of my sad condition he was terribly upset. He\\r\\ndid everything that could be done to find some way for me to regain my\\r\\nyouth. He had incense burned at a dozen temples and he himself offered\\r\\nup prayers to various gods. I was his only son, and he could not be\\r\\nhappy without me. At last, when everything else had been done, my worthy\\r\\nteacher thought of asking a fortune-teller who had become famous in the\\r\\ncity. After inquiring about everything that had led up to my sad plight,\\r\\nthe wise man said that the spirit of the well, as a punishment, had\\r\\nchanged me into a miser. He said that only when I was sleeping would\\r\\nI be in my natural state, and even then if any one chanced to enter my\\r\\nroom or catch a glimpse of my face, I would be at once changed back into\\r\\na greybeard.\"\\r\\n\\r\\n\"I saw you yesterday morning,\" shouted the gander. \"You were young and\\r\\nhandsome, and then before my very eyes you were changed back into an old\\r\\nman!\"\\r\\n\\r\\n\"To continue my story,\" said the young man, \"the fortune-teller at last\\r\\nannounced that there was only one chance for my recovery and that a very\\r\\nsmall one. If at any time, while I was in my rightful shape, that is, as\\r\\nyou see me now, a mad goose should come in, leading a tiger-forest out\\r\\nof slavery, the charm would be broken, and the evil spirit would no\\r\\nlonger have control over me. When the fortune-teller\\'s answer was\\r\\nbrought to my father, he gave up hope, and so did I, for no one\\r\\nunderstood the meaning of such a senseless riddle.\\r\\n\\r\\n\"That night I left my native city, resolved not to disgrace my people\\r\\nany longer by living with them. I came to this place, bought this house\\r\\nwith some money my father had given me, and at once began living the\\r\\nlife of a miser. Nothing satisfied my greed for money. Everything must\\r\\nbe turned into cash. For five years I have been storing away money, and,\\r\\nat the same time, starving myself, body and soul.\\r\\n\\r\\n\"Soon after my arrival here, remembering the fortune-teller\\'s riddle,\\r\\nI decided that I would keep a goose to serve as night watch-man instead\\r\\nof a dog. In this way I made a start at working out the riddle.\"\\r\\n\\r\\n\"But I am not a mad goose,\" hissed the gander angrily. \"If it had not\\r\\nbeen for me you would still be a wrinkled miser.\"\\r\\n\\r\\n\"Quite right, dear Ch\\'ang, quite right,\" said the young man soothingly;\\r\\n\"you were not mad; so I gave you the name _Ch\\'ang_, which means mad, and\\r\\nthus made a mad goose of you.\"\\r\\n\\r\\n\"Oh, I see,\" said Hu-lin and Ch\\'ang together. \"How clever!\"\\r\\n\\r\\n\"So, you see, I had part of my cure here in my back-yard all the time;\\r\\nbut though I thought as hard as I could, I could think of no way of\\r\\nsecuring that Ch\\'ang should lead a tiger-forest into my room while I was\\r\\nsleeping. The thing seemed absurd, and I soon gave up trying to study it\\r\\nout. To-day by accident it has really come to pass.\"\\r\\n\\r\\n\"So I am the tiger-forest, am I?\" laughed Hu-lin.\\r\\n\\r\\n\"Yes, indeed, you are, my dear child, a pretty little tiger-forest, for\\r\\n_Hu_ means _tiger_, and _lin_ is surely good Chinese for a _grove of\\r\\ntrees_. Then, too, you told me you were a slave girl. Hence, Ch\\'ang led\\r\\nyou out of slavery.\"\\r\\n\\r\\n\"Oh, I am so glad!\" said Hu-lin, forgetting her own poverty, \"so glad\\r\\nthat you don\\'t have to be a horrible old miser any longer.\"\\r\\n\\r\\nJust at that moment there was a loud banging on the front gate.\\r\\n\\r\\n\"Who can be knocking in that fashion?\" asked the young man in\\r\\nastonishment.\\r\\n\\r\\n\"Alas! it must be Black Heart, my master,\" said Hu-lin, beginning to\\r\\ncry.\\r\\n\\r\\n\"Don\\'t be frightened,\" said the youth, soothingly stroking the child\\'s\\r\\nhead. \"You have saved me, and I shall certainly do as much for you. If\\r\\nthis Mr. Black Heart doesn\\'t agree to a fair proposal he shall have a\\r\\nblack eye to remember his visit by.\"\\r\\n\\r\\nIt did not take long for the grateful young man to buy Hu-lin\\'s liberty,\\r\\nespecially as he offered as much for her freedom as her master had\\r\\nexpected to get when she was fourteen or fifteen years of age.\\r\\n\\r\\nWhen Hu-lin was told of the bargain she was wild with delight. She bowed\\r\\nlow before her new master and then, kneeling, touched her head nine\\r\\ntimes on the floor. Rising, she cried out, \"Oh, how happy I am, for now\\r\\nI shall be yours for ever and ever and ever, and good old Ch\\'ang shall\\r\\nbe my playmate.\"\\r\\n\\r\\n\"Yes, indeed,\" he assured her, \"and when you are a little older I shall\\r\\nmake you my wife. At present you will go with me to my father\\'s house\\r\\nand become my little betrothed.\"\\r\\n\\r\\n\"And I shall never again have to beg for crusts on the street?\" she\\r\\nasked him, her eyes full of wonder.\\r\\n\\r\\n\"No! never!\" he answered, laughing, \"and you need never fear another\\r\\nbeating.\"\\r\\n\\r\\n\\r\\n\\r\\n\\r\\nTHE NODDING TIGER\\r\\n\\r\\n[Illustration]\\r\\n\\r\\n\\r\\nJust outside the walls of a Chinese city there lived a young woodcutter\\r\\nnamed T\\'ang and his old mother, a woman of seventy. They were very poor\\r\\nand had a tiny one-room shanty, built of mud and grass, which they\\r\\nrented from a neighbour. Every day young T\\'ang rose bright and early and\\r\\nwent up on the mountain near their house. There he spent the day cutting\\r\\nfirewood to sell in the city near by. In the evening he would return\\r\\nhome, take the wood to market, sell it, and bring back food for his\\r\\nmother and himself. Now, though these two people were poor, they were\\r\\nvery happy, for the young man loved his mother dearly, and the old woman\\r\\nthought there was no one like her son in all the world. Their friends,\\r\\nhowever, felt sorry for them and said, \"What a pity we have no\\r\\ngrasshoppers here, so that the T\\'angs could have some food from heaven!\"\\r\\n\\r\\nOne day young T\\'ang got up before daylight and started for the hills,\\r\\ncarrying his axe on his shoulder. He bade his mother good-bye, telling\\r\\nher that he would be back early with a heavier load of wood than usual,\\r\\nfor the morrow would be a holiday and they must eat good food. All day\\r\\nlong Widow T\\'ang waited patiently, saying to herself over and over as\\r\\nshe went about her simple work, \"The good boy, the good boy, how he\\r\\nloves his old mother!\"\\r\\n\\r\\nIn the afternoon she began watching for his return--but in vain.\\r\\nThe sun was sinking lower and lower in the west, but still he did not\\r\\ncome. At last the old woman was frightened. \"My poor son!\" she muttered.\\r\\n\"Something has happened to him.\" Straining her feeble eyes, she looked\\r\\nalong the mountain path. Nothing was to be seen there but a flock of\\r\\nsheep following the shepherd. \"Woe is me!\" moaned the woman. \"My boy!\\r\\nmy boy!\" She took her crutch from its corner and limped off to a\\r\\nneighbour\\'s house to tell him of her trouble and beg him to go and look\\r\\nfor the missing boy.\\r\\n\\r\\nNow this neighbour was kind-hearted, and willing to help old Mother\\r\\nT\\'ang, for he felt very sorry for her. \"There are many wild beasts in\\r\\nthe mountains,\" he said, shaking his head as he walked away with her,\\r\\nthinking to prepare the frightened woman for the worst, \"and I fear that\\r\\nyour son has been carried off by one of them.\" Widow T\\'ang gave a scream\\r\\nof horror and sank upon the ground. Her friend walked slowly up the\\r\\nmountain path, looking carefully for signs of a struggle. At last when\\r\\nhe had gone half way up the slope he came to a little pile of torn\\r\\nclothing spattered with blood. The woodman\\'s axe was lying by the side\\r\\nof the path, also his carrying pole and some rope. There could be no\\r\\nmistake: after making a brave fight, the poor youth had been carried off\\r\\nby a tiger.\\r\\n\\r\\nGathering up the torn garments, the man went sadly down the hill. He\\r\\ndreaded seeing the poor mother and telling her that her only boy was\\r\\nindeed gone for ever. At the foot of the mountain he found her still\\r\\nlying on the ground. When she looked up and saw what he was carrying,\\r\\nwith a cry of despair she fainted away. She did not need to be told what\\r\\nhad happened.\\r\\n\\r\\nFriends bore her into the little house and gave her food, but they could\\r\\nnot comfort her. \"Alas!\" she cried, \"of what use is it to live? He was\\r\\nmy only boy. Who will take care of me in my old age? Why have the gods\\r\\ntreated me in this cruel way?\"\\r\\n\\r\\nShe wept, tore her hair, and beat her chest, until people said she had\\r\\ngone mad. The longer she mourned, the more violent she became.\\r\\n\\r\\nThe next day, however, much to the surprise of her neighbours, she set\\r\\nout for the city, making her way along slowly by means of her crutch. It\\r\\nwas a pitiful sight to see her, so old, so feeble, and so lonely. Every\\r\\none was sorry for her and pointed her out, saying, \"See! the poor old\\r\\nsoul has no one to help her!\"\\r\\n\\r\\nIn the city she asked her way to the public hall. When she found the\\r\\nplace she knelt at the front gate, calling out loudly and telling of her\\r\\nill-fortune. Just at this moment the mandarin, or city judge, walked\\r\\ninto the court room to try any cases which might be brought before him.\\r\\nHe heard the old woman weeping and wailing outside, and bade one of the\\r\\nservants let her enter and tell him of her wrongs.\\r\\n\\r\\nNow this was just what the Widow T\\'ang had come for. Calming herself,\\r\\nshe hobbled into the great hall of trial.\\r\\n\\r\\n\"What is the matter, old woman? Why do you raise such an uproar in front\\r\\nof my yamen? Speak up quickly and tell me of your trouble.\"\\r\\n\\r\\n\"I am old and feeble,\" she began; \"lame and almost blind. I have no\\r\\nmoney and no way of earning money. I have not one relative now in all\\r\\nthe empire. I depended on my only son for a living. Every day he climbed\\r\\nthe mountain, for he was a woodcutter, and every evening he came back\\r\\nhome, bringing enough money for our food. But yesterday he went and did\\r\\nnot return. A mountain tiger carried him off and ate him, and now, alas!\\r\\nthere seems to be no help for it--I must die of hunger. My bleeding\\r\\nheart cries out for justice. I have come into this hall to-day, to beg\\r\\nyour worship to see that the slayer of my son is punished. Surely the\\r\\nlaw says that none may shed blood without giving his own blood in\\r\\npayment.\"\\r\\n\\r\\n\"But, woman, are you mad?\" cried the mandarin, laughing loudly. \"Did you\\r\\nnot say it was a tiger that killed your son? How can a tiger be brought\\r\\nto justice? Of a truth, you must have lost your senses.\"\\r\\n\\r\\nThe judge\\'s questions were of no avail. The Widow T\\'ang kept up her\\r\\nclamour. She would not be turned away until she had gained her purpose.\\r\\nThe hall echoed with the noise of her howling. The mandarin could stand\\r\\nit no longer. \"Hold! woman,\" he cried, \"stop your shrieking. I will do\\r\\nwhat you ask. Only go home and wait until I summon you to court. The\\r\\nslayer of your son shall be caught and punished.\"\\r\\n\\r\\nThe judge was, of course, only trying to get rid of the demented mother,\\r\\nthinking that if she were only once out of his sight, he could give\\r\\norders not to let her into the hall again. The old woman, however, was\\r\\ntoo sharp for him. She saw through his plan and became more stubborn\\r\\nthan ever.\\r\\n\\r\\n\"No, I cannot go,\" she answered, \"until I have seen you sign the order\\r\\nfor that tiger to be caught and brought into this judgment hall.\"\\r\\n\\r\\nNow, as the judge was not really a bad man, he decided to humour the old\\r\\nwoman in her strange plea. Turning to the assistants in the court room\\r\\nhe asked which of them would be willing to go in search of the tiger.\\r\\nOne of these men, named Li-neng, had been leaning against the wall, half\\r\\nasleep. He had been drinking heavily and so had not heard what had been\\r\\ngoing on in the room. One of his friends gave him a poke in the ribs\\r\\njust as the judge asked for volunteers.\\r\\n\\r\\nThinking the judge had called him by name, he stepped forward, knelt on\\r\\nthe floor, saying, \"I, Li-neng, can go and do the will of your worship.\"\\r\\n\\r\\n\"Very well, you will do,\" answered the judge. \"Here is your order. Go\\r\\nforth and do your duty.\" So saying, he handed the warrant to Li-neng.\\r\\n\"Now, old woman, are you satisfied?\" he continued.\\r\\n\\r\\n\"Quite satisfied, your worship,\" she replied.\\r\\n\\r\\n\"Then go home and wait there until I send for you.\"\\r\\n\\r\\nMumbling a few words of thanks, the unhappy mother left the building.\\r\\n\\r\\nWhen Li-neng went outside the court room, his friends crowded round him.\\r\\n\"Drunken sot!\" they laughed; \"do you know what you have done?\"\\r\\n\\r\\nLi-neng shook his head. \"Just a little business for the mandarin, isn\\'t\\r\\nit? Quite easy.\"\\r\\n\\r\\n\"Call it easy, if you like. What! man, arrest a tiger, a man-eating\\r\\ntiger and bring him to the city! Better go and say good-bye to your\\r\\nfather and mother. They will never see you again.\"\\r\\n\\r\\nLi-neng slept off his drunkenness, and then saw that his friends were\\r\\nright. He had been very foolish. But surely the judge had meant the\\r\\nwhole thing only as a joke! No such order had ever been written before!\\r\\nIt was plain that the judge had hit on this plan simply to get rid of\\r\\nthe wailing old woman. Li-neng took the warrant back to the judgment\\r\\nhall and told the mandarin that the tiger could not be found.\\r\\n\\r\\nBut the judge was in no mood for joking. \"Can\\'t be found? And why not?\\r\\nYou agreed to arrest this tiger. Why is it that to-day you try to get\\r\\nout of your promise? I can by no means permit this, for I have given my\\r\\nword to satisfy the old woman in her cry for justice.\"\\r\\n\\r\\nLi-neng knelt and knocked his head on the floor. \"I was drunk,\" he\\r\\ncried, \"when I gave my promise. I knew not what you were asking. I can\\r\\ncatch a man, but not a tiger. I know nothing of such matters. Still, if\\r\\nyou wish it, I can go into the hills and hire hunters to help me.\"\\r\\n\\r\\n\"Very well, it makes no difference how you catch him, as long as you\\r\\nbring him into court. If you fail in your duty, there is nothing left\\r\\nbut to beat you until you succeed. I give you five days.\"\\r\\n\\r\\nDuring the next few days Li-neng left no stone unturned in trying to\\r\\nfind the guilty tiger. The best hunters in the country were employed.\\r\\nNight and day they searched the hills, hiding in mountain caves,\\r\\nwatching and waiting, but finding nothing. It was all very trying for\\r\\nLi-neng, since he now feared the heavy hands of the judge more than the\\r\\nclaws of the tiger. On the fifth day he had to report his failure. He\\r\\nreceived a thorough beating, fifty blows on the back. But that was not\\r\\nthe worst of it. During the next six weeks, try as he would, he could\\r\\nfind no traces of the missing animal. At the end of each five days, he\\r\\ngot another beating for his pains. The poor fellow was in despair.\\r\\nAnother month of such treatment would lay him on his deathbed. This he\\r\\nknew very well, and yet he had little hope. His friends shook their\\r\\nheads when they saw him. \"He is drawing near the wood,\" they said to\\r\\neach other, meaning that he would soon be in his coffin. \"Why don\\'t you\\r\\nflee the country?\" they asked him. \"Follow the tiger\\'s example. You see\\r\\nhe has escaped completely. The judge would make no effort to catch you\\r\\nif you should go across the border into the next province.\"\\r\\n\\r\\nLi-neng shook his head on hearing this advice. He had no desire to leave\\r\\nhis family for ever, and he felt sure of being caught and put to death\\r\\nif he should try to run away.\\r\\n\\r\\nOne day after all the hunters had given up the search in disgust and\\r\\ngone back to their homes in the valley, Li-neng entered a mountain\\r\\ntemple to pray. The tears rained down his cheeks as he knelt before the\\r\\ngreat fierce-looking idol. \"Alas! I am a dead man!\" he moaned between\\r\\nhis prayers; \"a dead man, for now there is no hope. Would that I had\\r\\nnever touched a drop of wine!\"\\r\\n\\r\\nJust then he heard a slight rustling near by. Looking up, he saw a huge\\r\\ntiger standing at the temple gate. But Li-neng was no longer afraid of\\r\\ntigers. He knew there was only one way to save himself. \"Ah,\" he said,\\r\\nlooking the great cat straight in the eye, \"you have come to eat me,\\r\\nhave you? Well, I fear you would find my flesh a trifle tough, since I\\r\\nhave been beaten with four hundred blows during these six weeks. You are\\r\\nthe same fellow that carried off the woodman last month, aren\\'t you?\\r\\nThis woodman was an only son, the sole support of an old mother. Now\\r\\nthis poor woman has reported you to the mandarin, who, in turn, has had\\r\\na warrant drawn up for your arrest. I have been sent out to find you and\\r\\nlead you to trial. For some reason or other you have acted the coward,\\r\\nand remained in hiding. This has been the cause of my beating. Now I\\r\\ndon\\'t want to suffer any longer as a result of your murder. You must\\r\\ncome with me to the city and answer the charge of killing the woodman.\"\\r\\n\\r\\nAll the time Li-neng was speaking, the tiger listened closely. When\\r\\nthe man was silent, the animal made no effort to escape, but, on the\\r\\ncontrary, seemed willing and ready to be captured. He bent his head\\r\\nforward and let Li-neng slip a strong chain over it. Then he followed\\r\\nthe man quietly down the mountain, through the crowded streets of the\\r\\ncity, into the court room. All along the way there was great excitement.\\r\\n\"The man-slaying tiger has been caught,\" shouted the people. \"He is\\r\\nbeing led to trial.\"\\r\\n\\r\\nThe crowd followed Li-neng into the hall of justice. When the judge\\r\\nwalked in, every one became as quiet as the grave. All were filled with\\r\\nwonder at the strange sight of a tiger being called before a judge.\\r\\n\\r\\nThe great animal did not seem to be afraid of those who were watching so\\r\\ncuriously. He sat down in front of the mandarin, for all the world like\\r\\na huge cat. The judge rapped on the table as a signal that all was ready\\r\\nfor the trial.\\r\\n\\r\\n\"Tiger,\" said he, turning toward the prisoner, \"did you eat the woodman\\r\\nwhom you are charged with killing?\"\\r\\n\\r\\nThe tiger gravely nodded his head.\\r\\n\\r\\n\"Yes, he killed my boy!\" screamed the aged mother. \"Kill him! Give him\\r\\nthe death that he deserves!\"\\r\\n\\r\\n\"A life for a life is the law of the land,\" continued the judge, paying\\r\\nno attention to the forlorn mother, but looking the accused directly\\r\\nin the eye. \"Did you not know it? You have robbed a helpless old woman\\r\\nof her only son. There are no relatives to support her. She is crying\\r\\nfor vengeance. You must be punished for your crime. The law must be\\r\\nenforced. However, I am not a cruel judge. If you can promise to take\\r\\nthe place of this widow\\'s son and support the woman in her old age, I am\\r\\nquite willing to spare you from a disgraceful death. What say you, will\\r\\nyou accept my offer?\"\\r\\n\\r\\n[Illustration: \"THE TIGER GRAVELY NODDED HIS HEAD.\"]\\r\\n\\r\\nThe gaping people craned their necks to see what would happen, and once\\r\\nmore they were surprised to see the savage beast nod his head in silent\\r\\nagreement.\\r\\n\\r\\n\"Very well, then, you are free to return to your mountain home; only, of\\r\\ncourse, you must remember your promise.\"\\r\\n\\r\\nThe chains were taken from the tiger\\'s neck, and the great animal walked\\r\\nsilently out of the yamen, down the street, and through the gate opening\\r\\ntowards his beloved mountain cave.\\r\\n\\r\\nOnce more the old woman was very angry. As she hobbled from the room,\\r\\nshe cast sour glances at the judge, muttering over and over again, \"Who\\r\\never heard of a tiger taking the place of a son? A pretty game this is,\\r\\nto catch the brute, and then to set him free.\" There was nothing for her\\r\\nto do, however, but to return home, for the judge had given strict\\r\\norders that on no account was she to appear before him again.\\r\\n\\r\\nAlmost broken-hearted she entered her desolate hovel at the foot of the\\r\\nmountain. Her neighbours shook their heads as they saw her. \"She cannot\\r\\nlive long,\" they said. \"She has the look of death on her wrinkled face.\\r\\nPoor soul! she has nothing to live for, nothing to keep her from\\r\\nstarving.\"\\r\\n\\r\\nBut they were mistaken. Next morning when the old woman went outside to\\r\\nget a breath of fresh air she found a newly killed deer in front of her\\r\\ndoor. Her tiger-son had begun to keep his promise, for she could see the\\r\\nmarks of his claws on the dead animal\\'s body. She took the carcass into\\r\\nthe house and dressed it for the market. On the city streets next day\\r\\nshe had no trouble in selling the flesh and skin for a handsome sum of\\r\\nmoney. All had heard of the tiger\\'s first gift, and no one was anxious\\r\\nto drive a close bargain.\\r\\n\\r\\nLaden with food, the happy woman went home rejoicing, with money enough\\r\\nto keep her for many a day. A week later the tiger came to her door\\r\\nwith a roll of cloth and some money in his mouth. He dropped these new\\r\\ngifts at her feet and ran away without even waiting for her thank-you.\\r\\nThe Widow T\\'ang now saw that the judge had acted wisely. She stopped\\r\\ngrieving for her dead son and began to love in his stead the handsome\\r\\nanimal that had come to take his place so willingly.\\r\\n\\r\\nThe tiger grew much attached to his foster-mother and often purred\\r\\ncontentedly outside her door, waiting for her to come and stroke his\\r\\nsoft fur. He no longer had the old desire to kill. The sight of blood\\r\\nwas not nearly so tempting as it had been in his younger days. Year\\r\\nafter year he brought the weekly offerings to his mistress until she was\\r\\nas well provided for as any other widow in the country.\\r\\n\\r\\nAt last in the course of nature the good old soul died. Kind friends\\r\\nlaid her away in her last resting place at the foot of the great\\r\\nmountain. There was money enough left out of what she had saved to put\\r\\nup a handsome tombstone, on which this story was written just as you\\r\\nhave read it here. The faithful tiger mourned long for his dear\\r\\nmistress. He lay on her grave, wailing like a child that had lost its\\r\\nmother. Long he listened for the voice he had loved so well, long he\\r\\nsearched the mountain-slopes, returning each night to the empty cottage,\\r\\nbut all in vain. She whom he loved was gone for ever.\\r\\n\\r\\nOne night he vanished from the mountain, and from that day to this no\\r\\none in that province has ever seen him. Some who know this story say\\r\\nthat he died of grief in a secret cave which he had long used as a\\r\\nhiding-place. Others add, with a wise shrug of the shoulders, that, like\\r\\nShanwang, he was taken to the Western Heaven, there to be rewarded for\\r\\nhis deeds of virtue and to live as a fairy for ever afterwards.\\r\\n\\r\\n\\r\\n\\r\\n\\r\\nTHE PRINCESS KWAN-YIN\\r\\n\\r\\n[Illustration]\\r\\n\\r\\n\\r\\nOnce upon a time in China there lived a certain king who had three\\r\\ndaughters. The fairest and best of these was Kwan-yin, the youngest.\\r\\nThe old king was justly proud of this daughter, for of all the women who\\r\\nhad ever lived in the palace she was by far the most attractive. It did\\r\\nnot take him long, therefore, to decide that she should be the heir to\\r\\nhis throne, and her husband ruler of his kingdom. But, strange to say,\\r\\nKwan-yin was not pleased at this good fortune. She cared little for the\\r\\npomp and splendour of court life. She foresaw no pleasure for herself in\\r\\nruling as a queen, but even feared that in so high a station she might\\r\\nfeel out of place and unhappy.\\r\\n\\r\\nEvery day she went to her room to read and study. As a result of this\\r\\ndaily labour she soon went far beyond her sisters along the paths of\\r\\nknowledge, and her name was known in the farthest corner of the kingdom\\r\\nas \"Kwan-yin, the wise princess.\" Besides being very fond of books,\\r\\nKwan-yin was thoughtful of her friends. She was careful about her\\r\\nbehaviour both in public and in private. Her warm heart was open at all\\r\\ntimes to the cries of those in trouble. She was kind to the poor and\\r\\nsuffering. She won the love of the lower classes, and was to them a sort\\r\\nof goddess to whom they could appeal whenever they were hungry and in\\r\\nneed. Some people even believed that she was a fairy who had come to\\r\\nearth from her home within the Western Heaven, while others said that\\r\\nonce, long years before, she had lived in the world as a prince instead\\r\\nof a princess. However this may be, one thing is certain--Kwan-yin was\\r\\npure and good, and well deserved the praises that were showered upon\\r\\nher.\\r\\n\\r\\nOne day the king called this favourite daughter to the royal bedside,\\r\\nfor he felt that the hour of death was drawing near. Kwan-yin kowtowed\\r\\nbefore her royal father, kneeling and touching her forehead on the floor\\r\\nin sign of deepest reverence. The old man bade her rise and come closer.\\r\\nTaking her hand tenderly in his own, he said, \"Daughter, you know well\\r\\nhow I love you. Your modesty and virtue, your talent and your love of\\r\\nknowledge, have made you first in my heart. As you know already, I chose\\r\\nyou as heir to my kingdom long ago. I promised that your husband should\\r\\nbe made ruler in my stead. The time is almost ripe for me to ascend upon\\r\\nthe dragon and become a guest on high. It is necessary that you be given\\r\\nat once in marriage.\"\\r\\n\\r\\n\"But, most exalted father,\" faltered the princess, \"I am not ready to be\\r\\nmarried.\"\\r\\n\\r\\n\"Not ready, child! Why, are you not eighteen? Are not the daughters of\\r\\nour nation often wedded long before they reach that age? Because of your\\r\\ndesire for learning I have spared you thus far from any thought of a\\r\\nhusband, but now we can wait no longer.\"\\r\\n\\r\\n\"Royal father, hear your child, and do not compel her to give up her\\r\\ndearest pleasures. Let her go into a quiet convent where she may lead\\r\\na life of study!\"\\r\\n\\r\\nThe king sighed deeply at hearing these words. He loved his daughter and\\r\\ndid not wish to wound her. \"Kwan-yin,\" he continued, \"do you wish to\\r\\npass by the green spring of youth, to give up this mighty kingdom? Do\\r\\nyou wish to enter the doors of a convent where women say farewell to\\r\\nlife and all its pleasures? No! your father will not permit this. It\\r\\ngrieves me sorely to disappoint you, but one month from this very day\\r\\nyou shall be married. I have chosen for your royal partner a man of many\\r\\nnoble parts. You know him by name already, although you have not seen\\r\\nhim. Remember that, of the hundred virtues filial conduct is the chief,\\r\\nand that you owe more to me than to all else on earth.\"\\r\\n\\r\\nKwan-yin turned pale. Trembling, she would have sunk to the floor, but\\r\\nher mother and sisters supported her, and by their tender care brought\\r\\nher back to consciousness.\\r\\n\\r\\nEvery day of the month that followed, Kwan-yin\\'s relatives begged her to\\r\\ngive up what they called her foolish notion. Her sisters had long since\\r\\ngiven up hope of becoming queen. They were amazed at her stupidity. The\\r\\nvery thought of any one\\'s choosing a convent instead of a throne was to\\r\\nthem a sure sign of madness. Over and over again they asked her reason\\r\\nfor making so strange a choice. To every question, she shook her head,\\r\\nreplying, \"A voice from the heavens speaks to me, and I must obey it.\"\\r\\n\\r\\nOn the eve of the wedding day Kwan-yin slipped out of the palace, and,\\r\\nafter a weary journey, arrived at a convent called, \"The Cloister of the\\r\\nWhite Sparrow.\" She was dressed as a poor maiden. She said she wished to\\r\\nbecome a nun. The abbess, not knowing who she was, did not receive her\\r\\nkindly. Indeed, she told Kwan-yin that they could not receive her into\\r\\nthe sisterhood, that the building was full. Finally, after Kwan-yin had\\r\\nshed many tears, the abbess let her enter, but only as a sort of\\r\\nservant, who might be cast out for the slightest fault.\\r\\n\\r\\nNow that Kwan-yin found herself in the life which she had long dreamt\\r\\nof leading, she tried to be satisfied. But the nuns seemed to wish to\\r\\nmake her stay among them most miserable. They gave her the hardest tasks\\r\\nto do, and it was seldom that she had a minute to rest. All day long\\r\\nshe was busy, carrying water from a well at the foot of the convent hill\\r\\nor gathering wood from a neighbouring forest. At night when her back\\r\\nwas almost breaking, she was given many extra tasks, enough to have\\r\\ncrushed the spirit of any other woman than this brave daughter of\\r\\na king. Forgetting her grief, and trying to hide the lines of pain\\r\\nthat sometimes wrinkled her fair forehead, she tried to make these\\r\\nhard-hearted women love her. In return for their rough words, she\\r\\nspoke to them kindly, and never did she give way to anger.\\r\\n\\r\\nOne day while poor Kwan-yin was picking up brushwood in the forest she\\r\\nheard a tiger making his way through the bushes. Having no means of\\r\\ndefending herself, she breathed a silent prayer to the gods for help,\\r\\nand calmly awaited the coming of the great beast. To her surprise, when\\r\\nthe bloodthirsty animal appeared, instead of bounding up to tear her in\\r\\npieces, he began to make a soft purring noise. He did not try to hurt\\r\\nKwan-yin, but rubbed against her in a friendly manner, and let her pat\\r\\nhim on the head.\\r\\n\\r\\n[Illustration: \"ALL DAY SHE WAS BUSY CARRYING WATER.\"]\\r\\n\\r\\nThe next day the princess went back to the same spot. There she found\\r\\nno fewer than a dozen savage beasts working under the command of the\\r\\nfriendly tiger, gathering wood for her. In a short time enough brush and\\r\\nfirewood had been piled up to last the convent for six months. Thus,\\r\\neven the wild animals of the forest were better able to judge of her\\r\\ngoodness than the women of the sisterhood.\\r\\n\\r\\nAt another time when Kwan-yin was toiling up the hill for the twentieth\\r\\ntime, carrying two great pails of water on a pole, an enormous dragon\\r\\nfaced her in the road. Now, in China, the dragon is sacred, and Kwan-yin\\r\\nwas not at all frightened, for she knew that she had done no wrong.\\r\\n\\r\\nThe animal looked at her for a moment, switched its horrid tail, and\\r\\nshot out fire from its nostrils. Then, dashing the burden from the\\r\\nstartled maiden\\'s shoulder, it vanished. Full of fear, Kwan-yin hurried\\r\\nup the hill to the nunnery. As she drew near the inner court, she was\\r\\namazed to see in the centre of the open space a new building of solid\\r\\nstone. It had sprung up by magic since her last journey down the hill.\\r\\nOn going forward, she saw that there were four arched doorways to the\\r\\nfairy house. Above the door facing west was a tablet with these words\\r\\nwritten on it: \"In honour of Kwan-yin, the faithful princess.\" Inside\\r\\nwas a well of the purest water, while, for drawing this water, there a\\r\\nstrange machine, the like of which neither Kwan-yin nor the nuns had\\r\\never seen.\\r\\n\\r\\nThe sisters knew that this magic well was a monument to Kwan-yin\\'s\\r\\ngoodness. For a few days they treated her much better. \"Since the gods\\r\\nhave dug a well at our very gate,\" they said, \"this girl will no longer\\r\\nneed to bear water from the foot of the hill. For what strange reason,\\r\\nhowever, did the gods write this beggar\\'s name on the stone?\"\\r\\n\\r\\nKwan-yin heard their unkind remarks in silence. She could have explained\\r\\nthe meaning of the dragon\\'s gift, but she chose to let her companions\\r\\nremain in ignorance. At last the selfish nuns began to grow careless\\r\\nagain, and treated her even worse than before. They could not bear to\\r\\nsee the poor girl enjoy a moment\\'s idleness.\\r\\n\\r\\n\"This is a place for work,\" they told her. \"All of us have laboured hard\\r\\nto win our present station. You must do likewise.\" So they robbed her of\\r\\nevery chance for study and prayer, and gave her no credit for the magic\\r\\nwell.\\r\\n\\r\\nOne night the sisters were awakened from their sleep by strange noises,\\r\\nand soon they heard outside the walls of the compound the blare of a\\r\\ntrumpet. A great army had been sent by Kwan-yin\\'s father to attack the\\r\\nconvent, for his spies had at last been able to trace the runaway\\r\\nprincess to this holy retreat.\\r\\n\\r\\n\"Oh, who has brought this woe upon us?\" exclaimed all the women, looking\\r\\nat each other in great fear. \"Who has done this great evil? There is one\\r\\namong us who has sinned most terribly, and now the gods are about to\\r\\ndestroy us.\" They gazed at one another, but no one thought of Kwan-yin,\\r\\nfor they did not believe her of enough importance to attract the anger\\r\\nof heaven, even though she might have done the most shocking of deeds.\\r\\nThen, too, she had been so meek and lowly while in their holy order that\\r\\nthey did not once dream of charging her with any crime.\\r\\n\\r\\nThe threatening sounds outside grew louder and louder. All at once a\\r\\nfearful cry arose among the women: \"They are about to burn our sacred\\r\\ndwelling.\" Smoke was rising just beyond the enclosure where the soldiers\\r\\nwere kindling a great fire, the heat of which would soon be great enough\\r\\nto make the convent walls crumble into dust.\\r\\n\\r\\nSuddenly a voice was heard above the tumult of the weeping sisters:\\r\\n\"Alas! I am the cause of all this trouble.\"\\r\\n\\r\\nThe nuns, turning in amazement, saw that it was Kwan-yin who was\\r\\nspeaking. \"You?\" they exclaimed, astounded.\\r\\n\\r\\n\"Yes, I, for I am indeed the daughter of a king. My father did not wish\\r\\nme to take the vows of this holy order. I fled from the palace. He has\\r\\nsent his army here to burn these buildings and to drag me back a\\r\\nprisoner.\"\\r\\n\\r\\n\"Then, see what you have brought upon us, miserable girl!\" exclaimed the\\r\\nabbess. \"See how you have repaid our kindness! Our buildings will be\\r\\nburned above our heads! How wretched you have made us! May heaven\\'s\\r\\ncurses rest upon you!\"\\r\\n\\r\\n\"No, no!\" exclaimed Kwan-yin, springing up, and trying to keep the\\r\\nabbess from speaking these frightful words. \"You have no right to say\\r\\nthat, for I am innocent of evil. But, wait! You shall soon see whose\\r\\nprayers the gods will answer, yours or mine!\" So saying, she pressed her\\r\\nforehead to the floor, praying the almighty powers to save the convent\\r\\nand the sisters.\\r\\n\\r\\nOutside the crackling of the greedy flames could already be heard. The\\r\\nfire king would soon destroy every building on that hill-top. Mad with\\r\\nterror, the sisters prepared to leave the compound and give up all their\\r\\nbelongings to the cruel flames and still more cruel soldiers. Kwan-yin\\r\\nalone remained in the room, praying earnestly for help.\\r\\n\\r\\nSuddenly a soft breeze sprang up from the neighbouring forest, dark\\r\\nclouds gathered overhead, and, although it was the dry season a\\r\\ndrenching shower descended on the flames. Within five minutes the fire\\r\\nwas put out and the convent was saved. Just as the shivering nuns were\\r\\nthanking Kwan-yin for the divine help she had brought them, two soldiers\\r\\nwho had scaled the outer wall of the compound came in and roughly asked\\r\\nfor the princess.\\r\\n\\r\\nThe trembling girl, knowing that these men were obeying her father\\'s\\r\\norders, poured out a prayer to the gods, and straightway made herself\\r\\nknown. They dragged her from the presence of the nuns who had just begun\\r\\nto love her. Thus disgraced before her father\\'s army, she was taken to\\r\\nthe capital.\\r\\n\\r\\nOn the morrow, she was led before the old king. The father gazed sadly\\r\\nat his daughter, and then the stern look of a judge hardened his face as\\r\\nhe beckoned the guards to bring her forward.\\r\\n\\r\\nFrom a neighbouring room came the sounds of sweet music. A feast was\\r\\nbeing served there amid great splendour. The loud laughter of the guests\\r\\nreached the ears of the young girl as she bowed in disgrace before her\\r\\nfather\\'s throne. She knew that this feast had been prepared for her, and\\r\\nthat her father was willing to give her one more chance.\\r\\n\\r\\n\"Girl,\" said the king, at last regaining his voice, \"in leaving the\\r\\nroyal palace on the eve of your wedding day, not only did you insult\\r\\nyour father, but your king. For this act you deserve to die. However,\\r\\nbecause of the excellent record you had made for yourself before you ran\\r\\naway, I have decided to give you one more chance to redeem yourself.\\r\\nRefuse me, and the penalty is death: obey me, and all may yet be\\r\\nwell--the kingdom that you spurned is still yours for the asking. All\\r\\nthat I require is your marriage to the man whom I have chosen.\"\\r\\n\\r\\n\"And when, most august King, would you have me decide?\" asked Kwan-yin\\r\\nearnestly.\\r\\n\\r\\n\"This very day, this very hour, this very moment,\" he answered sternly.\\r\\n\"What! would you hesitate between love upon a throne and death? Speak,\\r\\nmy daughter, tell me that you love me and will do my bidding!\"\\r\\n\\r\\nIt was now all that Kwan-yin could do to keep from throwing herself at\\r\\nher father\\'s feet and yielding to his wishes, not because he offered her\\r\\na kingdom, but because she loved him and would gladly have made him\\r\\nhappy. But her strong will kept her from relenting. No power on earth\\r\\ncould have stayed her from doing what she thought her duty.\\r\\n\\r\\n\"Beloved father,\" she answered sadly, and her voice was full of\\r\\ntenderness, \"it is not a question of my love for you--of that there is\\r\\nno question, for all my life I have shown it in every action. Believe\\r\\nme, if I were free to do your bidding, gladly would I make you happy,\\r\\nbut a voice from the gods has spoken, has commanded that I remain a\\r\\nvirgin, that I devote my life to deeds of mercy. When heaven itself has\\r\\ncommanded, what can even a princess do but listen to that power which\\r\\nrules the earth?\"\\r\\n\\r\\nThe old king was far from satisfied with Kwan-yin\\'s answer. He grew\\r\\nfurious, his thin wrinkled skin turned purple as the hot blood rose to\\r\\nhis head. \"Then you refuse to do my bidding! Take her, men! Give to her\\r\\nthe death that is due to a traitor to the king!\" As they bore Kwan-yin\\r\\naway from his presence the white-haired monarch fell, swooning, from his\\r\\nchair.\\r\\n\\r\\nThat night, when Kwan-yin was put to death, she descended into the lower\\r\\nworld of torture. No sooner had she set foot in that dark country of the\\r\\ndead than the vast region of endless punishment suddenly blossomed forth\\r\\nand became like the gardens of Paradise. Pure white lilies sprang up on\\r\\nevery side, and the odour of a million flowers filled all the rooms and\\r\\ncorridors. King Yama, ruler of the dominion, rushed forth to learn the\\r\\ncause of this wonderful change. No sooner did his eyes rest upon the\\r\\nfair young face of Kwan-yin than he saw in her the emblem of a purity\\r\\nwhich deserved no home but heaven.\\r\\n\\r\\n\"Beautiful virgin, doer of many mercies,\" he began, after addressing\\r\\nher by her title, \"I beg you in the name of justice to depart from this\\r\\nbloody kingdom. It is not right that the fairest flower of heaven should\\r\\nenter and shed her fragrance in these halls. Guilt must suffer here, and\\r\\nsin find no reward. Depart thou, then, from my dominion. The peach of\\r\\nimmortal life shall be bestowed upon you, and heaven alone shall be your\\r\\ndwelling place.\"\\r\\n\\r\\nThus Kwan-yin became the Goddess of Mercy; thus she entered into that\\r\\nglad abode, surpassing all earthly kings and queens. And ever since that\\r\\ntime, on account of her exceeding goodness, thousands of poor people\\r\\nbreathe out to her each year their prayers for mercy. There is no fear\\r\\nin their gaze as they look at her beautiful image, for their eyes are\\r\\nfilled with tears of love.\\r\\n\\r\\n\\r\\n\\r\\n\\r\\nTHE TWO JUGGLERS\\r\\n\\r\\n[Illustration]\\r\\n\\r\\n\\r\\nOne beautiful spring day two men strolled into the public square of\\r\\na well-known Chinese city. They were plainly dressed and looked like\\r\\nordinary countrymen who had come in to see the sights. Judging by their\\r\\nfaces, they were father and son. The elder, a wrinkled man of perhaps\\r\\nfifty, wore a scant grey beard. The younger had a small box on his\\r\\nshoulder.\\r\\n\\r\\nAt the hour when these strangers entered the public square, a large\\r\\ncrowd had gathered, for it was a feast day, and every one was bent on\\r\\nhaving a good time. All the people seemed very happy. Some, seated in\\r\\nlittle open-air booths, were eating, drinking, and smoking. Others were\\r\\nbuying odds and ends from the street-vendors, tossing coins, and playing\\r\\nvarious games of chance.\\r\\n\\r\\nThe two men walked about aimlessly. They seemed to have no friends among\\r\\nthe pleasure-seekers. At last, however, as they stood reading a public\\r\\nnotice posted at the entrance of the town-hall or yamen, a bystander\\r\\nasked them who they were.\\r\\n\\r\\n\"Oh, we are jugglers from a distant province,\" said the elder, smiling\\r\\nand pointing towards the box. \"We can do many tricks for the amusement\\r\\nof the people.\"\\r\\n\\r\\nSoon it was spread about among the crowd that two famous jugglers had\\r\\njust arrived from the capital, and that they were able to perform many\\r\\nwonderful deeds. Now it happened that the mandarin or mayor of the city,\\r\\nat that very moment was entertaining a number of guests in the yamen.\\r\\nThey had just finished eating, and the host was wondering what he should\\r\\ndo to amuse his friends, when a servant told him of the jugglers.\\r\\n\\r\\n\"Ask them what they can do,\" said the mandarin eagerly. \"I will pay them\\r\\nwell if they can really amuse us, but I want something more than the old\\r\\ntricks of knife-throwing and balancing. They must show us something\\r\\nnew.\"\\r\\n\\r\\nThe servant went outside and spoke to the jugglers: \"The great man bids\\r\\nyou tell him what you can do. If you can amuse his visitors he will\\r\\nbring them out to the private grand stand, and let you perform before\\r\\nthem and the people who are gathered together.\"\\r\\n\\r\\n\"Tell your honourable master,\" said the elder, whom we shall call Chang,\\r\\n\"that, try us as he will, he will not be disappointed. Tell him that we\\r\\ncome from the unknown land of dreams and visions, that we can turn rocks\\r\\ninto mountains, rivers into oceans, mice into elephants, in short, that\\r\\nthere is nothing in magic too difficult for us to do.\"\\r\\n\\r\\nThe official was delighted when he heard the report of his servant.\\r\\n\"Now we may have a little fun,\" he said to his guests, \"for there are\\r\\njugglers outside who will perform their wonderful tricks before us.\"\\r\\n\\r\\nThe guests filed out on to the grand stand at one side of the public\\r\\nsquare. The mandarin commanded that a rope should be stretched across\\r\\nso as to leave an open space in full view of the crowd, where the two\\r\\nChangs might give their exhibition.\\r\\n\\r\\nFor a time the two strangers entertained the people with some of the\\r\\nsimpler tricks, such as spinning plates in the air, tossing bowls up and\\r\\ncatching them on chopsticks, making flowers grow from empty pots, and\\r\\ntransforming one object into another. At last, however, the mandarin\\r\\ncried out: \"These tricks are very good of their kind, but how about\\r\\nthose idle boasts of changing rivers into oceans and mice into\\r\\nelephants? Did you not say that you came from the land of dreams? These\\r\\ntricks you have done are stale and shopworn. Have you nothing new with\\r\\nwhich to regale my guests on this holiday?\"\\r\\n\\r\\n\"Most certainly, your excellency. But surely you would not have a\\r\\nlabourer do more than his employer requires? Would that not be quite\\r\\ncontrary to the teachings of our fathers? Be assured, sir, anything that\\r\\nyou demand I can do for you. Only say the word.\"\\r\\n\\r\\nThe mandarin laughed outright at this boasting language. \"Take care, my\\r\\nman! Do not go too far with your promises. There are too many impostors\\r\\naround for me to believe every stranger. Hark you! no lying, for if you\\r\\nlie in the presence of my guests, I shall take great pleasure in having\\r\\nyou beaten.\"\\r\\n\\r\\n\"My words are quite true, your excellency,\" repeated Chang earnestly.\\r\\n\"What have we to gain by deceit, we who have performed our miracles\\r\\nbefore the countless hosts of yonder Western Heaven?\"\\r\\n\\r\\n\"Ha, ha! hear the braggarts!\" shouted the guests. \"What shall we command\\r\\nthem to do?\"\\r\\n\\r\\nFor a moment they consulted together, whispering and laughing.\\r\\n\\r\\n\"I have it,\" cried the host finally. \"Our feast was short of fruit,\\r\\nsince this is the off season. Suppose we let this fellow supply us.\\r\\nHere, fellow, produce us a peach, and be quick about it. We have no time\\r\\nfor fooling.\"\\r\\n\\r\\n\"What, masters, a peach?\" exclaimed the elder Chang in mock dismay.\\r\\n\"Surely at this season you do not expect a peach.\"\\r\\n\\r\\n\"Caught at his own game,\" laughed the guests, and the people began to\\r\\nhoot derisively.\\r\\n\\r\\n\"But, father, you promised to do anything he required,\" urged the son.\\r\\n\"If he asks even a peach, how can you refuse and at the same time save\\r\\nyour face?\"\\r\\n\\r\\n\"Hear the boy talk,\" mumbled the father, \"and yet, perhaps he\\'s right.\\r\\nVery well, masters,\" turning to the crowd, \"if it\\'s a peach you want,\\r\\nwhy, a peach you shall have, even though I must send into the garden of\\r\\nthe Western Heaven for the fruit.\"\\r\\n\\r\\nThe people became silent and the mandarin\\'s guests forgot to laugh. The\\r\\nold man, still muttering, opened the box from which he had been taking\\r\\nthe magic bowls, plates, and other articles. \"To think of people wanting\\r\\npeaches at this season! What is the world coming to?\"\\r\\n\\r\\nAfter fumbling in the box for some moments he drew out a skein of golden\\r\\nthread, fine spun and as light as gossamer. No sooner had he unwound a\\r\\nportion of this thread than a sudden gust of wind carried it up into the\\r\\nair above the heads of the onlookers. Faster and faster the old man\\r\\npaid out the magic coil, higher and higher the free end rose into the\\r\\nheavens, until, strain his eyes as he would, no one present could see\\r\\ninto what far-region it had vanished.\\r\\n\\r\\n\"Wonderful, wonderful!\" shouted the people with one voice, \"the old man\\r\\nis a fairy.\"\\r\\n\\r\\nFor a moment they forgot all about the mandarin, the jugglers, and the\\r\\npeach, so amazed were they at beholding the flight of the magic thread.\\r\\n\\r\\nAt last the old man seemed satisfied with the distance to which his cord\\r\\nhad sailed, and, with a bow to the spectators, he tied the end to a\\r\\nlarge wooden pillar which helped to support the roof of the grand stand.\\r\\nFor a moment the structure trembled and swayed as if it too would be\\r\\ncarried off into the blue ether, the guests turned pale and clutched\\r\\ntheir chairs for support, but not even the mandarin dared to speak, so\\r\\nsure were they now that they were in the presence of fairies.\\r\\n\\r\\n\"Everything is ready for the journey,\" said old Chang calmly.\\r\\n\\r\\n\"What! shall you leave us?\" asked the mayor, finding his voice again.\\r\\n\\r\\n\"I? Oh, no, my old bones are not spry enough for quick climbing. My son\\r\\nhere will bring us the magic peach. He is handsome and active enough to\\r\\nenter that heavenly garden. Graceful, oh graceful is that peach tree--of\\r\\ncourse, you remember the line from the poem--and a graceful man must\\r\\npluck the fruit.\"\\r\\n\\r\\nThe mandarin was still more surprised at the juggler\\'s knowledge of a\\r\\nfamous poem from the classics. It made him and his friends all the more\\r\\ncertain that the newcomers were indeed fairies.\\r\\n\\r\\nThe young man at a sign from his father tightened his belt and the bands\\r\\nabout his ankles, and then, with a graceful gesture to the astonished\\r\\npeople, sprang upon the magic string, balanced himself for a moment on\\r\\nthe steep incline, and then ran as nimbly up as a sailor would have\\r\\nmounted a rope ladder. Higher and higher he climbed till he seemed no\\r\\nbigger than a lark ascending into the blue sky, and then, like some tiny\\r\\nspeck, far, far away, on the western horizon.\\r\\n\\r\\nThe people gazed in open-mouthed wonder. They were struck dumb and\\r\\nfilled with some nameless fear; they hardly dared to look at the\\r\\nenchanter who stood calmly in their midst, smoking his long-stemmed\\r\\npipe.\\r\\n\\r\\nThe mandarin, ashamed of having laughed at and threatened this man\\r\\nwho was clearly a fairy, did not know what to say. He snapped his long\\r\\nfinger nails and looked at his guests in mute astonishment. The visitors\\r\\nsilently drank their tea, and the crowd of sightseers craned their necks\\r\\nin a vain effort to catch sight of the vanished fairy. Only one in all\\r\\nthat assembly, a bright-eyed little boy of eight, dared to break the\\r\\nsilence, and he caused a hearty burst of merriment by crying out, \"Oh,\\r\\ndaddy, will the bad young man fly off into the sky and leave his poor\\r\\nfather all alone?\"\\r\\n\\r\\nThe greybeard laughed loudly with the others, and tossed the lad a\\r\\ncopper. \"Ah, the good boy,\" he said smiling, \"he has been well trained\\r\\nto love his father; no fear of foreign ways spoiling his filial piety.\"\\r\\n\\r\\nAfter a few moments of waiting, old Chang laid aside his pipe and fixed\\r\\nhis eyes once more on the western sky. \"It is coming,\" he said quietly.\\r\\n\"The peach will soon be here.\"\\r\\n\\r\\n[Illustration: \"HIGHER AND HIGHER HE CLIMBED.\"]\\r\\n\\r\\nSuddenly he held out his hand as if to catch some falling object, but,\\r\\nlook as they would, the people could see nothing. Swish! thud! it came\\r\\nlike a streak of light, and, lo, there in the magician\\'s fingers was a\\r\\npeach, the most beautiful specimen the people had ever seen, large and\\r\\nrosy. \"Straight from the garden of the gods,\" said Chang, handing the\\r\\nfruit to the mandarin, \"a peach in the Second Moon, and the snow hardly\\r\\noff the ground.\"\\r\\n\\r\\nTrembling with excitement, the official took the peach and cut it open.\\r\\nIt was large enough for all his guests to have a taste, and such a taste\\r\\nit was! They smacked their lips and wished for more, secretly thinking\\r\\nthat never again would ordinary fruit be worth the eating.\\r\\n\\r\\nBut all this time the old juggler, magician, fairy or whatever you\\r\\nchoose to call him, was looking anxiously into the sky. The result of\\r\\nthis trick was more than he had bargained for. True, he had been able to\\r\\nproduce the magic peach which the mandarin had called for, but his son,\\r\\nwhere was his son? He shaded his eyes and looked far up into the blue\\r\\nheavens, and so did the people, but no one could catch a glimpse of the\\r\\ndeparted youth.\\r\\n\\r\\n\"Oh, my son, my son,\" cried the old man in despair, \"how cruel is the\\r\\nfate that has robbed me of you, the only prop of my declining years! Oh,\\r\\nmy boy, my boy, would that I had not sent you on so perilous a journey!\\r\\nWho now will look after my grave when I am gone?\"\\r\\n\\r\\nSuddenly the silken cord on which the young man had sped so daringly\\r\\ninto the sky, gave a quick jerk which almost toppled over the post to\\r\\nwhich it was tied, and there, before the very eyes of the people, it\\r\\nfell from the lofty height, a silken pile on the ground in front of\\r\\nthem.\\r\\n\\r\\nThe greybeard uttered a loud cry and covered his face with his hands.\\r\\n\"Alas! the whole story is plain enough,\" he sobbed. \"My boy was caught\\r\\nin the act of plucking the magic peach from the garden of the gods, and\\r\\nthey have thrown him into prison. Woe is me! Ah! woe is me!\"\\r\\n\\r\\nThe mandarin and his friends were deeply touched by the old man\\'s grief,\\r\\nand tried in vain to comfort him. \"Perhaps he will return,\" they said.\\r\\n\"Have courage!\"\\r\\n\\r\\n\"Yes, but in what a shape?\" replied the magician. \"See! even now they\\r\\nare restoring him to his father.\"\\r\\n\\r\\nThe people looked, and they saw twirling and twisting through the air\\r\\nthe young man\\'s arm. It fell upon the ground in front of them at the\\r\\nfairy\\'s feet. Next came the head, a leg, the body. One by one before the\\r\\ngasping, shuddering people, the parts of the unfortunate young man were\\r\\nrestored to his father.\\r\\n\\r\\nAfter the first outburst of wild, frantic grief the old man by a great\\r\\neffort gained control of his feelings, and began to gather up these\\r\\nparts, putting them tenderly into the wooden box.\\r\\n\\r\\nBy this time many of the spectators were weeping at the sight of the\\r\\nfather\\'s affliction. \"Come,\" said the mandarin at last, deeply moved,\\r\\n\"let us present the old man with sufficient money to give his boy a\\r\\ndecent burial.\"\\r\\n\\r\\nAll present agreed willingly, for there is no sight in China that causes\\r\\ngreater pity than that of an aged parent robbed by death of an only son.\\r\\nThe copper cash fell in a shower at the juggler\\'s feet, and soon tears\\r\\nof gratitude were mingled with those of sorrow. He gathered up the money\\r\\nand tied it in a large black cloth. Then a wonderful change came over\\r\\nhis face. He seemed all of a sudden to forget his grief. Turning to the\\r\\nbox, he raised the lid. The people heard him say: \"Come, my son; the\\r\\ncrowd is waiting for you to thank them. Hurry up! They have been very\\r\\nkind to us.\"\\r\\n\\r\\nIn an instant the box was thrown open with a bang, and before the\\r\\nmandarin and his friends, before the eyes of all the sightseers the\\r\\nyoung man, strong and whole once more, stepped forth and bowed, clasping\\r\\nhis hands and giving the national salute.\\r\\n\\r\\nFor a moment all were silent. Then, as the wonder of the whole thing\\r\\ndawned upon them, the people broke forth into a tumult of shouts,\\r\\nlaughter, and compliments. \"The fairies have surely come to visit us!\"\\r\\nthey shouted. \"The city will be blessed with good fortune! Perhaps it is\\r\\nFairy Old Boy himself who is among us!\"\\r\\n\\r\\nThe mandarin rose and addressed the jugglers, thanking them in the name\\r\\nof the city for their visit and for the taste they had given to him and\\r\\nhis guests of the peach from the heavenly orchard.\\r\\n\\r\\nEven as he spoke, the magic box opened again; the two fairies\\r\\ndisappeared inside, the lid closed, and the chest rose from the ground\\r\\nabove the heads of the people. For a moment it floated round in a circle\\r\\nlike some homing pigeon trying to find its bearings before starting on\\r\\na return journey. Then, with a sudden burst of speed, it shot off into\\r\\nthe heavens and vanished from the sight of those below, and not a thing\\r\\nremained as proof of the strange visitors except the magic peach seed\\r\\nthat lay beside the teacups on the mandarin\\'s table.\\r\\n\\r\\nAccording to the most ancient writings there is now nothing left to tell\\r\\nof this story. It has been declared, however, by later scholars that the\\r\\nofficial and his friends who had eaten the magic peach, at once began to\\r\\nfeel a change in their lives. While, before the coming of the fairies,\\r\\nthey had lived unfairly, accepting bribes and taking part in many\\r\\nshameful practices, now, after tasting of the heavenly fruit, they began\\r\\nto grow better. The people soon began to honour and love them, saying,\\r\\n\"Surely these great men are not like others of their kind, for these men\\r\\nare just and honest in their dealings with us. They seem not to be\\r\\nruling for their own reward!\"\\r\\n\\r\\nHowever this may be, we do know that before many years their city became\\r\\nthe centre of the greatest peach-growing section of China, and even\\r\\nyet when strangers walk in the orchards and look up admiringly at the\\r\\nbeautiful sweet-smelling fruit, the natives sometimes ask proudly, \"And\\r\\nhave you never heard about the wonderful peach which was the beginning\\r\\nof all our orchards, the magic peach the fairies brought us from the\\r\\nWestern Heaven?\"\\r\\n\\r\\n\\r\\n\\r\\n\\r\\nTHE PHANTOM VESSEL\\r\\n\\r\\n[Illustration]\\r\\n\\r\\n\\r\\nOnce a ship loaded with pleasure-seekers was sailing from North China\\r\\nto Shanghai. High winds and stormy weather had delayed her, and she was\\r\\nstill one week from port when a great plague broke out on board. This\\r\\nplague was of the worst kind. It attacked passengers and sailors alike\\r\\nuntil there were so few left to sail the vessel that it seemed as if she\\r\\nwould soon be left to the mercy of winds and waves.\\r\\n\\r\\nOn all sides lay the dead, and the groans of the dying were most\\r\\nterrible to hear. Of that great company of travellers only one, a\\r\\nlittle boy named Ying-lo, had escaped. At last the few sailors, who\\r\\nhad been trying hard to save their ship, were obliged to lie down upon\\r\\nthe deck, a prey to the dreadful sickness, and soon they too were\\r\\ndead.\\r\\n\\r\\nYing-lo now found himself alone on the sea. For some reason--he did not\\r\\nknow why--the gods or the sea fairies had spared him, but as he looked\\r\\nabout in terror at the friends and loved ones who had died, he almost\\r\\nwished that he might join them.\\r\\n\\r\\nThe sails flapped about like great broken wings, while the giant waves\\r\\ndashed higher above the deck, washing many of the bodies overboard and\\r\\nwetting the little boy to the skin. Shivering with cold, he gave himself\\r\\nup for lost and prayed to the gods, whom his mother had often told him\\r\\nabout, to take him from this dreadful ship and let him escape the fatal\\r\\nillness.\\r\\n\\r\\nAs he lay there praying he heard a slight noise in the rigging just\\r\\nabove his head. Looking up, he saw a ball of fire running along a\\r\\nyardarm near the top of the mast. The sight was so strange that he\\r\\nforgot his prayer and stared with open-mouthed wonder. To his\\r\\nastonishment, the ball grew brighter and brighter, and then suddenly\\r\\nbegan slipping down the mast, all the time increasing in size. The poor\\r\\nboy did not know what to do or to think. Were the gods, in answer to his\\r\\nprayer, sending fire to burn the vessel? If so, he would soon escape.\\r\\nAnything would be better than to be alone upon the sea.\\r\\n\\r\\nNearer and nearer came the fireball. At last, when it reached the deck,\\r\\nto Ying-lo\\'s surprise, something very, very strange happened. Before he\\r\\nhad time to feel alarmed, the light vanished, and a funny little man\\r\\nstood in front of him peering anxiously into the child\\'s frightened\\r\\nface.\\r\\n\\r\\n\"Yes, you are the lad I\\'m looking for,\" he said at last, speaking in a\\r\\npiping voice that almost made Ying-lo smile. \"You are Ying-lo, and you\\r\\nare the only one left of this wretched company.\" This he said, pointing\\r\\ntowards the bodies lying here and there about the deck.\\r\\n\\r\\nAlthough he saw that the old man meant him no harm, the child could say\\r\\nnothing, but waited in silence, wondering what would happen next.\\r\\n\\r\\nBy this time the vessel was tossing and pitching so violently that it\\r\\nseemed every minute as if it would upset and go down beneath the foaming\\r\\nwaves, never to rise again. Not many miles distant on the right, some\\r\\njagged rocks stuck out of the water, lifting their cruel heads as if\\r\\nwaiting for the helpless ship.\\r\\n\\r\\nThe newcomer walked slowly towards the mast and tapped on it three times\\r\\nwith an iron staff he had been using as a cane. Immediately the sails\\r\\nspread, the vessel righted itself and began to glide over the sea so\\r\\nfast that the gulls were soon left far behind, while the threatening\\r\\nrocks upon which the ship had been so nearly dashed seemed like specks\\r\\nin the distance.\\r\\n\\r\\n\"Do you remember me?\" said the stranger, suddenly turning and coming up\\r\\nto Ying-lo, but his voice was lost in the whistling of the wind, and the\\r\\nboy knew only by the moving of his lips that the old man was talking.\\r\\nThe greybeard bent over until his mouth was at Ying-lo\\'s ear: \"Did you\\r\\never see me before?\"\\r\\n\\r\\nWith a puzzled look, at first the child shook his head. Then as he gazed\\r\\nmore closely there seemed to be something that he recognized about the\\r\\nwrinkled face. \"Yes, I think so, but I don\\'t know when.\"\\r\\n\\r\\nWith a tap of his staff the fairy stopped the blowing of the wind, and\\r\\nthen spoke once more to his small companion: \"One year ago I passed\\r\\nthrough your village. I was dressed in rags, and was begging my way\\r\\nalong the street, trying to find some one who would feel sorry for me.\\r\\nAlas! no one answered my cry for mercy. Not a crust was thrown into my\\r\\nbowl. All the people were deaf, and fierce dogs drove me from door to\\r\\ndoor. Finally when I was almost dying of hunger, I began to feel that\\r\\nhere was a village without one good person in it. Just then you saw my\\r\\nsuffering, ran into the house, and brought me out food. Your heartless\\r\\nmother saw you doing this and beat you cruelly. Do you remember now, my\\r\\nchild?\"\\r\\n\\r\\n\"Yes, I remember,\" he answered sadly, \"and that mother is now lying\\r\\ndead. Alas! all, all are dead, my father and my brothers also. Not one\\r\\nis left of my family.\"\\r\\n\\r\\n\"Little did you know, my boy, to whom you were giving food that day.\\r\\nYou took me for a lowly beggar, but, behold, it was not a poor man that\\r\\nyou fed, for I am Iron Staff. You must have heard of me when they were\\r\\ntelling of the fairies in the Western Heaven, and of their adventures\\r\\nhere on earth.\"\\r\\n\\r\\n\"Yes, yes,\" answered Ying-lo, trembling half with fear and half with\\r\\njoy, \"indeed I have heard of you many, many times, and all the people\\r\\nlove you for your kind deeds of mercy.\"\\r\\n\\r\\n\"Alas! they did not show their love, my little one. Surely you know that\\r\\nif any one wishes to reward the fairies for their mercies, he must begin\\r\\nto do deeds of the same kind himself. No one but you in all your village\\r\\nhad pity on me in my rags. If they had known that I was Iron Staff,\\r\\neverything would have been different; they would have given me a feast\\r\\nand begged for my protection.\\r\\n\\r\\n\\r\\n  \"The only love that loves aright\\r\\n   Is that which loves in every plight.\\r\\n   The beggar in his sad array\\r\\n   Is moulded of the selfsame clay.\\r\\n\\r\\n  \"Who knows a man by what he wears,\\r\\n   By what he says or by his prayers?\\r\\n   Hidden beneath that wrinkled skin\\r\\n   A fairy may reside within.\\r\\n\\r\\n  \"Then treat with kindness and with love\\r\\n   The lowly man, the god above;\\r\\n   A friendly nod, a welcome smile--\\r\\n   For love is ever worth the while.\"\\r\\n\\r\\n\\r\\nYing-lo listened in wonder to Iron Staff\\'s little poem, and when he had\\r\\nfinished, the boy\\'s face was glowing with the love of which the fairy\\r\\nhad spoken. \"My poor, poor father and mother!\" he cried; \"they knew\\r\\nnothing of these beautiful things you are telling me. They were brought\\r\\nup in poverty. As they were knocked about in childhood by those around\\r\\nthem, so they learned to beat others who begged them for help. Is it\\r\\nstrange that they did not have hearts full of pity for you when you\\r\\nlooked like a beggar?\"\\r\\n\\r\\n\"But what about you, my boy? You were not deaf when I asked you. Have\\r\\nyou not been whipped and punished all your life? How then did you learn\\r\\nto look with love at those in tears?\"\\r\\n\\r\\nThe child could not answer these questions, but only looked sorrowfully\\r\\nat Iron Staff. \"Oh, can you not, good fairy, will you not restore my\\r\\nparents and brothers, and give them another chance to be good and useful\\r\\npeople?\"\\r\\n\\r\\n\"Listen, Ying-lo; it is impossible--unless you do two things first,\" he\\r\\nanswered, stroking his beard gravely and leaning heavily upon his staff.\\r\\n\\r\\n\"What are they? What must I do to save my family? Anything you ask of me\\r\\nwill not be too much to pay for your kindness.\"\\r\\n\\r\\n\"First you must tell me of some good deed done by these people for whose\\r\\nlives you are asking. Name only one, for that will be enough; but it is\\r\\nagainst our rules to help those who have done nothing.\"\\r\\n\\r\\nYing-lo was silent, and for a moment his face was clouded. \"Yes, I\\r\\nknow,\" he said finally, brightening. \"They burned incense once at the\\r\\ntemple. That was certainly a deed of virtue.\"\\r\\n\\r\\n\"But when was it, little one, that they did this?\"\\r\\n\\r\\n\"When my big brother was sick, and they were praying for him to get\\r\\nwell. The doctors could not save him with boiled turnip juice or with\\r\\nany other of the medicines they used, so my parents begged the gods.\"\\r\\n\\r\\n\"Selfish, selfish!\" muttered Iron Staff. \"If their eldest son had not\\r\\nbeen dying they would have spent no money at the temple. They tried in\\r\\nthis way to buy back his health, for they were expecting him to support\\r\\nthem in their old age.\"\\r\\n\\r\\nYing-lo\\'s face fell. \"You are right,\" he answered.\\r\\n\\r\\n\"Can you think of nothing else?\"\\r\\n\\r\\n\"Yes, oh, yes, last year when the foreigner rode through our village and\\r\\nfell sick in front of our house, they took him in and cared for him.\"\\r\\n\\r\\n\"How long?\" asked the other sharply.\\r\\n\\r\\n\"Until he died the next week.\"\\r\\n\\r\\n\"And what did they do with the mule he was riding, his bed, and the\\r\\nmoney in his bag? Did they try to restore them to his people?\"\\r\\n\\r\\n\"No, they said they\\'d keep them to pay for the trouble.\" Ying-lo\\'s face\\r\\nturned scarlet.\\r\\n\\r\\n\"But try again, dear boy! Is there not one little deed of goodness that\\r\\nwas not selfish? Think once more.\"\\r\\n\\r\\nFor a long time Ying-lo did not reply. At length he spoke in a low\\r\\nvoice; \"I think of one, but I fear it amounts to nothing.\"\\r\\n\\r\\n\"No good, my child, is too small to be counted when the gods are\\r\\nweighing a man\\'s heart.\"\\r\\n\\r\\n\"Last spring the birds were eating in my father\\'s garden. My mother\\r\\nwanted to buy poison from the shop to destroy them, but my father said\\r\\nno, that the little things must live, and he for one was not in favour\\r\\nof killing them.\"\\r\\n\\r\\n\"At last, Ying-lo, you have named a real deed of mercy, and as he spared\\r\\nthe tiny birds from poison, so shall his life and the lives of your\\r\\nmother and brothers be restored from the deadly plague.\\r\\n\\r\\n\"But remember there is one other thing that depends on you.\"\\r\\n\\r\\nYing-lo\\'s eyes glistened gratefully. \"Then if it rests with me, and I\\r\\ncan do it, you have my promise. No sacrifice should be too great for a\\r\\nson to make for his loved ones even though his life itself is asked in\\r\\npayment.\"\\r\\n\\r\\n\"Very well, Ying-lo. What I require is that you carry out to the letter\\r\\nmy instructions. Now it is time for me to keep my promise to you.\"\\r\\n\\r\\nSo saying, Iron Staff called on Ying-lo to point out the members of his\\r\\nfamily, and, approaching them one by one, with the end of his iron stick\\r\\nhe touched their foreheads. In an instant each, without a word, arose.\\r\\nLooking round and recognising Ying-lo, they stood back, frightened at\\r\\nseeing him with the fairy. When the last had risen to his feet, Iron\\r\\nStaff beckoned all of them to listen. This they did willingly, too much\\r\\nterrified to speak, for they saw on all sides signs of the plague that\\r\\nhad swept over the vessel, and they remembered the frightful agony they\\r\\nhad suffered in dying. Each knew that he had been lifted by some magic\\r\\npower from darkness into light.\\r\\n\\r\\n\"My friends,\" began the fairy, \"little did you think when less than a\\r\\nyear ago you drove me from your door that soon you yourselves would be\\r\\nin need of mercy. To-day you have had a peep into the awful land of\\r\\nYama. You have seen the horror of his tortures, have heard the screams\\r\\nof his slaves, and by another night you would have been carried before\\r\\nhim to be judged. What power is it that has saved you from his clutches?\\r\\nAs you look back through your wicked lives can you think of any reason\\r\\nwhy you deserved this rescue? No, there is no memory of goodness in\\r\\nyour black hearts. Well, I shall tell you: it is this little boy, this\\r\\nYing-lo, who many times has felt the weight of your wicked hands and\\r\\nhas hidden in terror at your coming. To him alone you owe my help.\"\\r\\n\\r\\nFather, mother, and brothers all gazed in turn, first at the fairy and\\r\\nthen at the timid child whose eyes fell before their looks of gratitude.\\r\\n\\r\\n\"By reason of his goodness this child whom you have scorned is worthy of\\r\\na place within the Western Heaven. In truth, I came this very day to\\r\\nlead him to that fairyland. For you, however, he wishes to make a\\r\\nsacrifice. With sorrow I am yielding to his wishes. His sacrifice will\\r\\nbe that of giving up a place among the fairies and of continuing to live\\r\\nhere on this earth with you. He will try to make a change within your\\r\\nhousehold. If at any time you treat him badly and do not heed his\\r\\nwishes--mark you well my words--by the power of this magic staff which I\\r\\nshall place in his hands, he may enter at once into the land of the\\r\\nfairies, leaving you to die in your wickedness. This I command him to\\r\\ndo, and he has promised to obey my slightest wish.\\r\\n\\r\\n\"This plague took you off suddenly and ended your wicked lives. Ying-lo\\r\\nhas raised you from its grasp and his power can lift you from the bed of\\r\\nsin. No other hand than his can bear the rod which I am leaving. If one\\r\\nof you but touch it, instantly he will fall dead upon the ground.\\r\\n\\r\\n\"And now, my child, the time has come for me to leave you. First,\\r\\nhowever, I must show you what you are now able to do. Around you lie the\\r\\ncorpses of sailors and passengers. Tap three times upon the mast and\\r\\nwish that they shall come to life,\" So saying he handed Ying-lo the iron\\r\\nstaff.\\r\\n\\r\\nAlthough the magic rod was heavy, the child lifted it as if it were a\\r\\nfairy\\'s wand. Then, stepping forward to the mast, he rapped three times\\r\\nas he had been commanded. Immediately on all sides arose the bodies,\\r\\nonce more full of life and strength.\\r\\n\\r\\n\"Now command the ship to take you back to your home port, for such\\r\\nsinful creatures as these are in no way fit to make a journey among\\r\\nstrangers. They must first return and free their homes of sin.\"\\r\\n\\r\\nAgain rapping on the mast, the child willed the great vessel to take\\r\\nits homeward course. No sooner had he moved the staff than, like a bird\\r\\nwheeling in the heavens, the bark swung round and started on the return\\r\\njourney. Swifter than a flash of lightning flew the boat, for it was\\r\\nnow become a fairy vessel. Before the sailors and the travellers could\\r\\nrecover from their surprise, land was sighted and they saw that they\\r\\nwere indeed entering the harbour.\\r\\n\\r\\nJust as the ship was darting toward the shore the fairy suddenly, with\\r\\na parting word to Ying-lo, changed into a flaming ball of fire which\\r\\nrolled along the deck and ascended the spars. Then, as it reached the\\r\\ntop of the rigging, it floated off into the blue sky, and all on board,\\r\\nspeechless with surprise, watched it until it vanished.\\r\\n\\r\\nWith a cry of thanksgiving, Ying-lo flung his arms about his parents and\\r\\ndescended with them to the shore.\\r\\n\\r\\n\\r\\n\\r\\n\\r\\nTHE WOODEN TABLET\\r\\n\\r\\n[Illustration]\\r\\n\\r\\n\\r\\n\"Yes, my boy, whatever happens, be sure to save that tablet. It is the\\r\\nonly thing we have left worth keeping.\"\\r\\n\\r\\nK\\'ang-p\\'u\\'s father was just setting out for the city, to be gone all\\r\\nday. He had been telling K\\'ang-p\\'u about some work in the little garden,\\r\\nfor the boy was a strong and willing helper.\\r\\n\\r\\n\"All right, father, I\\'ll do what you tell me; but suppose the foreign\\r\\nsoldiers should come while you are gone? I heard that they were over at\\r\\nT\\'ang Shu yesterday and burned the village. If they should come here,\\r\\nwhat must I do?\"\\r\\n\\r\\nMr. Lin laughed heartily. \"Why, there\\'s nothing here for them to burn,\\r\\nif it comes to that!--a mud house, a grass roof, and a pile of ragged\\r\\nbedding. Surely they won\\'t bother my little hut. It\\'s loot they\\'re\\r\\nafter--money--or something they can sell.\"\\r\\n\\r\\n\"But, father,\" persisted the boy, \"haven\\'t you forgotten? Surely you\\r\\nwouldn\\'t wish them to burn your father\\'s tablet?\"\\r\\n\\r\\n\"Quite right; for the moment I did forget. Yes, yes, my boy, whatever\\r\\nhappens be sure to save the tablet. It is the only thing we have worth\\r\\nkeeping.\"\\r\\n\\r\\nWith that, Mr. Lin went out at the gate, leaving K\\'ang-p\\'u standing all\\r\\nalone. The little fellow was scarcely twelve years old. He had a bright,\\r\\nsunny face and a happy heart. Being left by himself did not mean tears\\r\\nand idleness for him.\\r\\n\\r\\nHe went into the poor little house and stood for a moment looking\\r\\nearnestly at the wooden tablet. It was on a shelf in the one-roomed\\r\\nshanty, an oblong piece of wood about twelve inches high, enclosed in\\r\\na wooden case. Through the carved screen work in the front, K\\'ang-p\\'u\\r\\ncould see his grandfather\\'s name written in Chinese characters on the\\r\\ntablet. Ever since babyhood K\\'ang-p\\'u had been taught to look at this\\r\\npiece of wood with a feeling of reverence.\\r\\n\\r\\n\"Your grandfather\\'s spirit is inside,\" his father had said one day. \"You\\r\\nmust worship his spirit, for he was a good man, far better than your\\r\\ndad. If I had obeyed him in all things, I, his only son, should not now\\r\\nbe living in this miserable hut.\"\\r\\n\\r\\n\"But didn\\'t he live here, too?\" asked K\\'ang-p\\'u in surprise.\\r\\n\\r\\n\"Oh, no, we lived in a big house over yonder in another village; in a\\r\\nbig house with a high stone wall.\"\\r\\n\\r\\nThe little fellow had gasped with surprise at hearing this, for there\\r\\nwas not such a thing as a stone wall in his village, and he felt that\\r\\nhis grandfather must have been a rich man. He had not asked any more\\r\\nquestions, but from that day on he had been rather afraid of the carved\\r\\nwooden box in which his grandfather\\'s spirit was supposed to live.\\r\\n\\r\\nSo, on this day when his father left him alone, the boy stood looking at\\r\\nthe tablet, wondering how a big man\\'s spirit could squeeze into such a\\r\\nsmall space. He put out his finger cautiously and touched the bottom of\\r\\nthe box, then drew back, half-frightened at his own daring. No bad\\r\\nresults followed. It seemed just like any other piece of wood. Somewhat\\r\\npuzzled, he walked out of the house into the little garden. His father\\r\\nhad told him to re-set some young cabbages. This was work which\\r\\nK\\'ang-p\\'u had done many times before. First, he gathered a basket of\\r\\nchicken feathers, for his father had told him that a few feathers placed\\r\\nat the roots of the young plant would do more to make it strong and\\r\\nhealthy than anything else that could be used.\\r\\n\\r\\nAll day K\\'ang-p\\'u worked steadily in the garden. He was just beginning\\r\\nto feel tired, when he heard a woman screaming in the distance. He\\r\\ndropped his basket and rushed to the gate. Down the road at the far\\r\\nside of the village he saw a crowd of women and children running hither\\r\\nand thither, and--yes! there were the soldiers--the dreaded foreign\\r\\nsoldiers! They were burning the houses; they were stealing whatever they\\r\\ncould find.\\r\\n\\r\\nNow, most boys would have been frightened--would have taken to their\\r\\nheels without thought of consequences. K\\'ang-p\\'u, however, though\\r\\nlike other lads afraid of soldiers, was too brave to run without first\\r\\ndoing his duty. He decided to stand his ground until he was sure the\\r\\nforeigners were coming his way. Perhaps they would grow tired of their\\r\\ncruel sport and leave the little house unharmed. He watched with\\r\\nwide-open eyes the work of pillage. Alas! these men did not seem to\\r\\ntire of their amusement. One after another the houses were entered and\\r\\nrobbed. Women were screaming and children crying. Nearly all the village\\r\\nmen were away in a distant market town, for none of them had expected\\r\\nan attack.\\r\\n\\r\\nNearer and nearer came the robbers. At last they were next door to\\r\\nK\\'ang-p\\'u\\'s hut, and he knew the time had come for him to do his duty.\\r\\nSeizing the basket of chicken feathers, he rushed into the house,\\r\\nsnatched the precious tablet from the shelf, and hid it in the bottom of\\r\\nthe basket. Then, without stopping to say good-bye to the spot which he\\r\\nhad known all his life, he rushed out of the gate and down the narrow\\r\\nstreet.\\r\\n\\r\\n\"Kill the kid!\" shouted a soldier, whom K\\'ang-p\\'u nearly ran against in\\r\\nhis hurry. \"Put down the basket, boy! No stealing here.\"\\r\\n\\r\\n\"Yes, kill him!\" shouted another with a loud laugh; \"he\\'d make a good\\r\\nbit of bacon.\"\\r\\n\\r\\nBut no one touched him, and K\\'ang-p\\'u, still holding tightly to his\\r\\nburden, was soon far out on the winding road among the cornfields. If\\r\\nthey should follow, he thought of hiding among the giant cornstalks. His\\r\\nlegs were tired now, and he sat down under a stone memorial arch near\\r\\nsome crossroads to rest.\\r\\n\\r\\nWhere was he going, and what should he do? These were the questions that\\r\\nfilled the boy\\'s whirling little brain. First, he must find out if the\\r\\nsoldiers were really destroying all the houses in his village. Perhaps\\r\\nsome of them would not be burned and he could return at night to join\\r\\nhis father.\\r\\n\\r\\nAfter several failures he managed to climb one of the stone pillars and\\r\\nfrom the arch above he could get a good view of the surrounding country.\\r\\nOver to the west was his village. His heart beat fast when he saw that\\r\\na great cloud of smoke was rising from the houses. Clearly, the thieves\\r\\nwere making quick work of the place, and soon there would be nothing\\r\\nleft but piles of mud, brick, ashes and other rubbish.\\r\\n\\r\\nNight came on. K\\'ang-p\\'u clambered down from his stone perch. He was\\r\\nbeginning to feel hungry, and yet he dared not turn back towards home.\\r\\nAnd besides, would not all the other villagers be hungry, too? He lay\\r\\ndown at the foot of the stone monument, placing the basket within reach\\r\\nat one side. Soon he fell fast asleep.\\r\\n\\r\\nHow long he had been sleeping he never knew; but it was not yet day when\\r\\nhe awoke with a start and looked round him in the moonlight. Some one\\r\\nhad called him distinctly by name. At first, he thought it must have\\r\\nbeen his father\\'s voice; and then as he grew wider and wider awake he\\r\\nknew this could not be, for the voice sounded like that of an old man.\\r\\nK\\'ang-p\\'u looked round in amazement, first at the stone columns, then\\r\\nat the arch above. No one was to be seen. Had he been dreaming?\\r\\n\\r\\nJust as he lay back to sleep once more, the voice sounded again very\\r\\nfaintly, \"K\\'ang-p\\'u! K\\'ang-p\\'u! why don\\'t you let me out? I can\\'t\\r\\nbreathe under all these feathers.\"\\r\\n\\r\\nQuick as a flash he knew what was the matter. Burying his hand in the\\r\\nbasket, he seized the wooden tablet, drew it from its hiding-place, and\\r\\nstood it up on the stone base. Wonder of wonders! There before his very\\r\\neyes he saw a tiny fellow, not six inches high, sitting on top of the\\r\\nwooden upright and dangling his legs over the front of the tablet. The\\r\\ndwarf had a long grey beard, and K\\'ang-p\\'u, without looking twice, knew\\r\\nthat this was the spirit of his dead grandfather come to life and\\r\\nclothed with flesh and blood.\\r\\n\\r\\n\"Ho, ho!\" said the small man, laughing, \"so you thought you\\'d bury your\\r\\nold grandfather in feathers, did you? A soft enough grave, but rather\\r\\nsmelly.\"\\r\\n\\r\\n\"But, sir,\" cried K\\'ang-p\\'u, \"I had to do it, to save you from the\\r\\nsoldiers! They were just about to burn our house and you in it.\"\\r\\n\\r\\n\"There, there, my boy! don\\'t be uneasy. I am not scolding you. You did\\r\\nthe best you could for your old gran\\'ther. If you had been like most\\r\\nlads, you would have taken to your heels and left me to those sea-devils\\r\\nwho were sacking the village. There is no doubt about it: you saved me\\r\\nfrom a second death much more terrible than the first one.\"\\r\\n\\r\\nK\\'ang-p\\'u shuddered, for he knew that his grandfather had been killed in\\r\\nbattle. He had heard his father tell the story many times.\\r\\n\\r\\n\"Now, what do you propose doing about it?\" asked the old man finally,\\r\\nlooking straight into the boy\\'s face.\\r\\n\\r\\n\"Doing about it, sir? Why, really, I don\\'t know. I thought that perhaps\\r\\nin the morning the soldiers would be gone and I could carry you back.\\r\\nSurely my father will be looking for me.\"\\r\\n\\r\\n\"What! looking for you in the ashes? And what could he do if he did find\\r\\nyou? Your house is burned, your chickens carried away and your cabbages\\r\\ntrampled underfoot. A sorry home he will return to. You would be just\\r\\none more mouth to feed. No! that plan will never do. If your father\\r\\nthinks you are dead, he will go off to another province to get work.\\r\\nThat would save him from starvation.\"\\r\\n\\r\\n\"But what am I to do?\" wailed poor K\\'ang-p\\'u. \"I don\\'t want him to leave\\r\\nme all alone!\"\\r\\n\\r\\n\"All alone! What! don\\'t you count your old grand-daddy? Surely you are\\r\\nnot a very polite youngster, even if you did save me from burning to\\r\\ndeath.\"\\r\\n\\r\\n\"Count you?\" repeated the boy, surprised. \"Why, surely you can\\'t help me\\r\\nto earn a living?\"\\r\\n\\r\\n\"Why not, boy? Is this an age when old men are good for nothing?\"\\r\\n\\r\\n\"But, sir, you are only the _spirit_ of my grandfather, and spirits\\r\\ncannot work!\"\\r\\n\\r\\n\"Ha, ha! just hear the child. Why, look you, I will show you what\\r\\nspirits can do, provided you will do exactly what I tell you.\"\\r\\n\\r\\nOf course, K\\'ang-p\\'u promised, for he was always obedient; and was not\\r\\nthis little man who spoke so strangely, the spirit of his grandfather?\\r\\nAnd is not every lad in China taught to honour his ancestors?\\r\\n\\r\\n\"Now, listen, my boy. First, let me say that if you had not been kind,\\r\\nbrave and filial, I should not take the trouble to help you out of your\\r\\nmisfortune. As it is, there is nothing else for me to do. I cast your\\r\\nfather off because he was disobedient. He has lived in a dirty hovel\\r\\never since. Doubtless, he has been sorry for his misdeeds, for I see\\r\\nthat although he was disgraced by being sent away from the family home,\\r\\nhe has taught you to honour and love me. Most boys would have snatched\\r\\nup a blanket or a piece of bread before running from the enemy, but you\\r\\nthought only of my tablet. You saved me and went to bed hungry. For this\\r\\nbravery, I shall give back to you the home of your ancestors.\"\\r\\n\\r\\n\"But I can\\'t live in it,\" said K\\'ang-p\\'u, full of wonder, \"if you will\\r\\nnot let my father come back to it. If he goes away he will have a very\\r\\nhard time: he will be lonely without me, and may die; and then I would\\r\\nnot be able to take care of his grave, or to burn incense there at the\\r\\nproper season!\"\\r\\n\\r\\n\"Quite right, K\\'ang-p\\'u. I see you love your father as well as your\\r\\ngrandfather\\'s tablet. Very well; you shall have your way. I daresay your\\r\\nfather is sorry by this time that he treated me so badly.\"\\r\\n\\r\\n\"Indeed, he must be,\" said the boy earnestly, \"for I have seen him kneel\\r\\nbefore your tablet many times and burn incense there on the proper days.\\r\\nI know he is very sorry.\"\\r\\n\\r\\n\"Very well; go to sleep again. Let us wait until morning and then I\\r\\nshall see what I can do for you. This moonlight is not bright enough for\\r\\nmy old eyes. I shall have to wait for morning.\"\\r\\n\\r\\nAs he spoke these last words, the little man began to grow smaller and\\r\\nsmaller before the eyes of his grandson, until at last he had altogether\\r\\ndisappeared.\\r\\n\\r\\nAt first, K\\'ang-p\\'u was too much excited to close his eyes. He remained\\r\\nfor a time looking up into the starry sky and wondering if what he had\\r\\nheard would really come true, or whether he could have dreamt the whole\\r\\nstory of his grandfather\\'s coming to life again. Could it really be that\\r\\nthe old family property would be given back to his father? He remembered\\r\\nnow that he had once heard his father speak of having lived in a large\\r\\nhouse on a beautiful compound. It was just before K\\'ang-p\\'u\\'s mother had\\r\\nbeen carried away by the fever. As she had lain tossing upon the rude\\r\\nstone bed, with none of those comforts which are so necessary for the\\r\\nsick, K\\'ang-p\\'u remembered that his father had said to her: \"What a\\r\\nshame that we are not living in my father\\'s house! There you might have\\r\\nhad every luxury. It is all my fault; I disobeyed my father.\"\\r\\n\\r\\nSoon after that his mother had died, but K\\'ang-p\\'u had remembered those\\r\\nwords ever since, and had often wished that he could hear more about\\r\\nthis house where his father had spent his boyhood. Could it be possible\\r\\nthat they would soon be living in it? No, surely there must be some\\r\\nmistake: the night fairies of his dreams had been deceiving him. With\\r\\na sigh he closed his eyes and once more fell asleep.\\r\\n\\r\\n       *       *       *       *       *\\r\\n\\r\\nWhen K\\'ang-p\\'u next awoke, the sun was shining full in his face. He\\r\\nlooked around him, sleepily rubbing his eyes and trying to remember\\r\\nall that had happened. Suddenly he thought of the tablet and of his\\r\\ngrandfather\\'s appearance at midnight. But, strange to say, the basket\\r\\nhad disappeared with all its contents. The tablet was nowhere to be\\r\\nseen, and even the stone arch under which he had gone to sleep had\\r\\ncompletely vanished. Alas! his grandfather\\'s tablet--how poorly he had\\r\\nguarded it! What terrible thing would happen now that it was gone!\\r\\n\\r\\nK\\'ang-p\\'u stood up and looked round him in trembling surprise. What\\r\\ncould have taken place while he was sleeping? At first, he did not know\\r\\nwhat to do. Fortunately, the path through the corn was still there, and\\r\\nhe decided to return to the village and see if he could find any trace\\r\\nof his father. His talk with the old man must have been only an idle\\r\\ndream, and some thief must have carried off the basket. If only the\\r\\nstone arch had not vanished K\\'ang-p\\'u would not have been so perplexed.\\r\\n\\r\\nHe hurried along the narrow road, trying to forget the empty stomach\\r\\nwhich was beginning to cry for food. If the soldiers were still in the\\r\\nvillage, surely they would not hurt an empty-handed little boy. More\\r\\nthan likely they had gone the day before. If he could only find his\\r\\nfather! Now he crossed the little brook where the women came to rub\\r\\ntheir clothes upon the rocks. There was the big mulberry tree where the\\r\\nboys used to gather leaves for their silkworms. Another turn of the road\\r\\nand he would see the village.\\r\\n\\r\\nWhen K\\'ang-p\\'u passed round the corner and looked for the ruins of the\\r\\nvillage hovels, an amazing sight met his gaze. There, rising directly\\r\\nbefore him, was a great stone wall, like those he had seen round the\\r\\nrich people\\'s houses when his father had taken him to the city. The\\r\\ngreat gate stood wide open, and the keeper, rushing out, exclaimed:\\r\\n\\r\\n\"Ah! the little master has come!\"\\r\\n\\r\\nCompletely bewildered, the boy followed the servant through the gateway,\\r\\npassed through several wide courts, and then into a garden where flowers\\r\\nand strangely-twisted trees were growing.\\r\\n\\r\\nThis, then, was the house which his grandfather had promised him--the\\r\\nhome of his ancestors. Ah! how beautiful! how beautiful! Many men and\\r\\nwomen servants bowed low as he passed, saluting with great respect and\\r\\ncrying out:\\r\\n\\r\\n\"Yes, it is really the little master! He has come back to his own!\"\\r\\n\\r\\nK\\'ang-p\\'u, seeing how well dressed the servants were, felt much ashamed\\r\\nof his own ragged garments, and put up his hands to hide a torn place.\\r\\nWhat was his amazement to find that he was no longer clad in soiled,\\r\\nragged clothes, that he was dressed in the handsomest embroidered silk.\\r\\nFrom head to foot he was fitted out like the young Prince his father had\\r\\npointed out to him one day in the city.\\r\\n\\r\\nThen they entered a magnificent reception-hall on the other side of the\\r\\ngarden. K\\'ang-p\\'u could not keep back his tears, for there stood his\\r\\nfather waiting to meet him.\\r\\n\\r\\n\"My boy! my boy!\" cried the father, \"you have come back to me. I feared\\r\\nyou had been stolen away for ever.\"\\r\\n\\r\\n\"Oh, no!\" said K\\'ang-p\\'u, \"you have not lost me, but I have lost the\\r\\ntablet. A thief came and took it last night while I was sleeping.\"\\r\\n\\r\\n\"Lost the tablet! A thief! Why, no, my son, you are mistaken! There it\\r\\nis, just before you.\"\\r\\n\\r\\nK\\'ang-p\\'u looked, and saw standing on a handsome carved table the\\r\\nvery thing he had mourned as lost. As he stared in surprise he almost\\r\\nexpected to see the tiny figure swinging its legs over the top, and to\\r\\nhear the high-pitched voice of his grandfather.\\r\\n\\r\\n\"Yes, it is really the lost tablet!\" he cried joyfully. \"How glad I am\\r\\nit is back in its rightful place once more.\"\\r\\n\\r\\nThen father and son fell upon their knees before the wooden emblem, and\\r\\nbowed reverently nine times to the floor, thanking the spirit for all it\\r\\nhad done for them. When they arose their hearts were full of a new\\r\\nhappiness.\\r\\n\\r\\n\\r\\n\\r\\n\\r\\nTHE GOLDEN NUGGET\\r\\n\\r\\n[Illustration]\\r\\n\\r\\n\\r\\nOnce upon a time many, many years ago, there lived in China two friends\\r\\nnamed Ki-wu and Pao-shu. These two young men, like Damon and Pythias,\\r\\nloved each other and were always together. No cross words passed between\\r\\nthem; no unkind thoughts marred their friendship. Many an interesting\\r\\ntale might be told of their unselfishness, and of how the good fairies\\r\\ngave them the true reward of virtue. One story alone, however, will be\\r\\nenough to show how strong was their affection and their goodness.\\r\\n\\r\\nIt was a bright beautiful day in early spring when Ki-wu and Pao-shu set\\r\\nout for a stroll together, for they were tired of the city and its\\r\\nnoises.\\r\\n\\r\\n\"Let us go into the heart of the pine forest,\" said Ki-wu lightly.\\r\\n\"There we can forget the cares that worry us; there we can breathe the\\r\\nsweetness of the flowers and lie on the moss-covered ground.\"\\r\\n\\r\\n\"Good!\" said Pao-shu, \"I, too, am tired. The forest is the place for\\r\\nrest.\"\\r\\n\\r\\nHappy as two lovers on a holiday, they passed along the winding road,\\r\\ntheir eyes turned in longing toward the distant tree-tops. Their hearts\\r\\nbeat fast in youthful pleasure as they drew nearer and nearer to the\\r\\nwoods.\\r\\n\\r\\n\"For thirty days I have worked over my books,\" sighed Ki-wu. \"For thirty\\r\\ndays I have not had a rest. My head is stuffed so full of wisdom, that I\\r\\nam afraid it will burst. Oh, for a breath of the pure air blowing\\r\\nthrough the greenwood.\"\\r\\n\\r\\n\"And I,\" added Pao-shu sadly, \"have worked like a slave at my counter\\r\\nand found it just as dull as you have found your books. My master treats\\r\\nme badly. It seems good, indeed, to get beyond his reach.\"\\r\\n\\r\\nNow they came to the border of the grove, crossed a little stream,\\r\\nand plunged headlong among the trees and shrubs. For many an hour they\\r\\nrambled on, talking and laughing merrily; when suddenly on passing round\\r\\na clump of flower-covered bushes, they saw shining in the pathway\\r\\ndirectly in front of them a lump of gold.\\r\\n\\r\\n\"See!\" said both, speaking at the same time, and pointing toward the\\r\\ntreasure.\\r\\n\\r\\n[Illustration: \"THEY SAW SHINING IN THE PATHWAY, DIRECTLY IN FRONT OF\\r\\nTHEM, A LUMP OF GOLD.\"]\\r\\n\\r\\nKi-wu, stooping, picked up the nugget. It was nearly as large as a\\r\\nlemon, and was very pretty. \"It is yours, my dear friend,\" said he, at\\r\\nthe same time handing it to Pao-shu; \"yours because you saw it first.\"\\r\\n\\r\\n\"No, no,\" answered Pao-shu, \"you are wrong, my brother, for you were\\r\\nfirst to speak. Now, you can never say hereafter that the good fairies\\r\\nhave not rewarded you for all your faithful hours of study.\"\\r\\n\\r\\n\"Repaid me for my study! Why, that is impossible. Are not the wise men\\r\\nalways saying that study brings its own reward? No, the gold is yours:\\r\\nI insist upon it. Think of your weeks of hard labour--of the masters that\\r\\nhave ground you to the bone! Here is something far better. Take it,\"\\r\\nlaughing. \"May it be the nest egg by means of which you may hatch out a\\r\\ngreat fortune.\"\\r\\n\\r\\nThus they joked for some minutes, each refusing to take the treasure\\r\\nfor himself; each insisting that it belonged to the other. At last, the\\r\\nchunk of gold was dropped in the very spot where they had first spied\\r\\nit, and the two comrades went away, each happy because he loved his\\r\\nfriend better than anything else in the world. Thus they turned their\\r\\nbacks on any chance of quarrelling.\\r\\n\\r\\n\"It was not for gold that we left the city,\" exclaimed Ki-wu warmly.\\r\\n\\r\\n\"No,\" replied his friend, \"One day in this forest is worth a thousand\\r\\nnuggets.\"\\r\\n\\r\\n\"Let us go to the spring and sit down on the rocks,\" suggested Ki-wu.\\r\\n\"It is the coolest spot in the whole grove.\"\\r\\n\\r\\nWhen they reached the spring they were sorry to find the place already\\r\\noccupied. A countryman was stretched at full length on the ground.\\r\\n\\r\\n\"Wake up, fellow!\" cried Pao-shu, \"there is money for you near by. Up\\r\\nyonder path a golden apple is waiting for some man to go and pick it\\r\\nup.\"\\r\\n\\r\\nThen they described to the unwelcome stranger the exact spot where the\\r\\ntreasure was, and were delighted to see him set out in eager search.\\r\\n\\r\\nFor an hour they enjoyed each other\\'s company, talking of all the hopes\\r\\nand ambitions of their future, and listening to the music of the birds\\r\\nthat hopped about on the branches overhead.\\r\\n\\r\\nAt last they were startled by the angry voice of the man who had gone\\r\\nafter the nugget. \"What trick is this you have played on me, masters?\\r\\nWhy do you make a poor man like me run his legs off for nothing on a\\r\\nhot day?\"\\r\\n\\r\\n\"What do you mean, fellow?\" asked Ki-wu, astonished. \"Did you not find\\r\\nthe fruit we told you about?\"\\r\\n\\r\\n\"No,\" he answered, in a tone of half-hidden rage, \"but in its place a\\r\\nmonster snake, which I cut in two with my blade. Now, the gods will\\r\\nbring me bad luck for killing something in the woods. If you thought you\\r\\ncould drive me from this place by such a trick, you\\'ll soon find you\\r\\nwere mistaken, for I was first upon this spot and you have no right to\\r\\ngive me orders.\"\\r\\n\\r\\n\"Stop your chatter, bumpkin, and take this copper for your trouble. We\\r\\nthought we were doing you a favour. If you are blind, there\\'s no one but\\r\\nyourself to blame. Come, Pao-shu, let us go back and have a look at this\\r\\nwonderful snake that has been hiding in a chunk of gold.\"\\r\\n\\r\\nLaughing merrily, the two companions left the countryman and turned back\\r\\nin search of the nugget.\\r\\n\\r\\n\"If I am not mistaken,\" said the student, \"the gold lies beyond that\\r\\nfallen tree.\"\\r\\n\\r\\n\"Quite true; we shall soon see the dead snake.\"\\r\\n\\r\\nQuickly they crossed the remaining stretch of pathway, with their eyes\\r\\nfixed intently on the ground. Arriving at the spot where they had left\\r\\nthe shining treasure, what was their surprise to see, not the lump of\\r\\ngold, not the dead snake described by the idler, but, instead, two\\r\\nbeautiful golden nuggets, each larger than the one they had seen at\\r\\nfirst.\\r\\n\\r\\nEach friend picked up one of these treasures and handed it joyfully to\\r\\nhis companion.\\r\\n\\r\\n\"At last the fairies have rewarded you for your unselfishness!\" said\\r\\nKi-wu.\\r\\n\\r\\n\"Yes,\" answered Pao-shu, \"by granting me a chance to give you your\\r\\ndeserts.\"\\r\\n\\r\\n\\r\\n\\r\\n\\r\\nTHE MAN WHO WOULD NOT SCOLD\\r\\n\\r\\n[Illustration]\\r\\n\\r\\n\\r\\nOld Wang lived in a village near Nanking. He cared for nothing in the\\r\\nworld but to eat good food and plenty of it. Now, though this Wang was\\r\\nby no means a poor man, it made him very sad to spend money, and so\\r\\npeople called him in sport, the Miser King, for Wang is the Chinese word\\r\\nfor king. His greatest pleasure was to eat at some one else\\'s table when\\r\\nhe knew that the food would cost him nothing, and you may be sure that\\r\\nat such times he always licked his chopsticks clean. But when he was\\r\\nspending his own money, he tightened his belt and drank a great deal\\r\\nof water, eating very little but scraps such as his friends would have\\r\\nthrown to the dogs. Thus people laughed at him and said:\\r\\n\\r\\n\\r\\n  \"When Wang an invitation gets,\\r\\n   He chews and chews until he sweats,\\r\\n   But, when his own food he must eat.\\r\\n   The tears flow down and wet his feet.\"\\r\\n\\r\\n\\r\\nOne day while Wang was lying half asleep on the bank of a stream that\\r\\nflowed near his house he began to feel hungry. He had been in that\\r\\nspot all day without tasting anything. At last he saw a flock of ducks\\r\\nswimming in the river. He knew that they belonged to a rich man named\\r\\nLin who lived in the village. They were fat ducks, so plump and tempting\\r\\nthat it made him hungry to look at them. \"Oh, for a boiled duck!\" he\\r\\nsaid to himself with a sigh. \"Why is it that the gods have not given me\\r\\na taste of duck during the past year? What have I done to be thus\\r\\ndenied?\"\\r\\n\\r\\nThen the thought flashed into his mind: \"Here am I asking why the gods\\r\\nhave not given me ducks to eat. Who knows but that they have sent this\\r\\nflock thinking I would have sense enough to grab one? Friend Lin, many\\r\\nthanks for your kindness. I think I shall accept your offer and take one\\r\\nof these fowls for my dinner.\" Of course Mr. Lin was nowhere near to\\r\\nhear old Wang thanking him.\\r\\n\\r\\nBy this time the flock had come to shore. The miser picked himself up\\r\\nlazily from the ground, and, after tiring himself out, he at last\\r\\nmanaged to pick one of the ducks up, too. He took it home joyfully,\\r\\nhiding it under his ragged garment. Once in his own yard, he lost no\\r\\ntime in killing and preparing it for dinner. He ate it, laughing to\\r\\nhimself all the time at his own slyness, and wondering what his friend\\r\\nLin would think if he chanced to count his ducks that night. \"No doubt\\r\\nhe will believe it was a giant hawk that carried off that bird,\" he\\r\\nsaid, chuckling. \"My word! but didn\\'t I do a great trick? I think I will\\r\\nrepeat the dose to-morrow. The first duck is well lodged in my stomach,\\r\\nand I am ready to take an oath that all the others will find a bed in\\r\\nthe same boarding-house before many weeks are past. It would be a pity\\r\\nto leave the first one to pine away in lonely grief. I could never be so\\r\\ncruel.\"\\r\\n\\r\\nSo old Wang went to bed happy. For several hours he snored away noisily,\\r\\ndreaming that a certain rich man had promised him good food all the rest\\r\\nof his life, and that he would never be forced to do another stroke of\\r\\nwork. At midnight, however, he was wakened from his sleep by an\\r\\nunpleasant itching. His whole body seemed to be on fire, and the pain\\r\\nwas more than he could bear. He got up and paced the floor. There was no\\r\\noil in the house for his lamp, and he had to wait until morning to see\\r\\nwhat was the matter. At early dawn he stepped outside his shanty. Lo,\\r\\nand behold! he found little red spots all over his body. Before his very\\r\\neyes he saw tiny duck feathers sprouting from these spots. As the\\r\\nmorning went by, the feathers grew larger and larger, until his whole\\r\\nbody was covered with them from head to foot. Only his face and hands\\r\\nwere free of the strange growth.\\r\\n\\r\\nWith a cry of horror, Wang began to pull the feathers out by handfuls,\\r\\nflinging them in the dirt and stamping on them. \"The gods have fooled\\r\\nme!\" he yelled. \"They made me take the duck and eat it, and now they are\\r\\npunishing me for stealing.\" But the faster he jerked the feathers out,\\r\\nthe faster they grew in again, longer and more glossy than before. Then,\\r\\ntoo, the pain was so great that he could scarcely keep from rolling on\\r\\nthe ground. At last completely worn out by his useless labour, and\\r\\nmoaning with despair, he took to his bed. \"Am I to be changed into a\\r\\nbird?\" he groaned. \"May the gods have mercy on me!\"\\r\\n\\r\\nHe tossed about on his bed: he could not sleep; his heart was sick with\\r\\nfear. Finally he fell into a troubled sleep, and, sleeping, had a dream.\\r\\nA fairy came to his bedside; it was Fairy Old Boy, the friend of the\\r\\npeople. \"Ah, my poor Wang,\" said the fairy, \"all this trouble you have\\r\\nbrought upon yourself by your shiftless, lazy habits. When others work,\\r\\nwhy do you lie down and sleep your time away? Why don\\'t you get up and\\r\\nshake your lazy legs? There is no place in the world for such a man as\\r\\nyou except the pig-sty.\"\\r\\n\\r\\n\"I know you are telling the truth,\" wailed Wang, \"but how, oh, how can I\\r\\never work with all these feathers sticking out of me? They will kill me!\\r\\nThey will kill me!\"\\r\\n\\r\\n\"Hear the man!\" laughed Old Boy. \"Now, if you were a hopeful, happy\\r\\nfellow, you would say, \\'What a stroke of luck! No need to buy garments.\\r\\nThe gods have given me a suit of clothes that will never wear out.\\' You\\r\\nare a pretty fellow to be complaining, aren\\'t you?\"\\r\\n\\r\\nAfter joking in this way for a little while, the good fairy changed his\\r\\ntone of voice and said, \"Now, Wang, are you really sorry for the way\\r\\nyou have lived, sorry for your years of idleness, sorry because you\\r\\ndisgraced your old Father and Mother? I hear your parents died of hunger\\r\\nbecause you would not help them.\"\\r\\n\\r\\nWang, seeing that Old Boy knew all about his past life, and, feeling his\\r\\npain growing worse and worse every minute, cried out at last: \"Yes! Yes!\\r\\nI will do anything you say. Only, I pray you, free me of these\\r\\nfeathers!\"\\r\\n\\r\\n\"I wouldn\\'t have your feathers,\" said Old Boy, \"and I cannot free you of\\r\\nthem. You will have to do the whole thing yourself. What you need is to\\r\\nhear a good scolding. Go and get Mr. Lin, the owner of the stolen duck,\\r\\nto scold freely. The harder he scolds, the sooner will your feathers\\r\\ndrop out.\"\\r\\n\\r\\nNow, of course, some readers will laugh and say, \"But this was only\\r\\na silly dream, and meant nothing.\" Mr. Wang, however, did not think\\r\\nin this way. He woke up very happy. He would go to Mr. Lin, confess\\r\\neverything and take the scolding. Then he would be free of his feathers\\r\\nand would go to work. Truly he had led a lazy life. What the good Fairy\\r\\nOld Boy had said about his father and mother had hurt him very badly,\\r\\nfor he knew that every word was true. From this day on, he would not be\\r\\nlazy; he would take a wife and become the father of a family.\\r\\n\\r\\nMiser Wang meant all right when he started out from his shanty. From his\\r\\nlittle hoard of money he took enough cash to pay Mr. Lin for the stolen\\r\\nduck. He would do everything the fairy had told him and even more. But\\r\\nthis doing more was just where he got into trouble. As he walked along\\r\\nthe road jingling the string of cash, and thinking that he must soon\\r\\ngive it up to his neighbour, he grew very sad. He loved every copper of\\r\\nhis money and he disliked to part with it. After all, Old Boy had not\\r\\ntold him he must confess to the owner of the duck; he had said he must\\r\\ngo to Lin and get Lin to give a good scolding. \"Old Boy did not say that\\r\\nLin must scold _me_,\" thought the miser. \"All that I need do is to get\\r\\nhim to _scold_, and then my feathers will drop off and I shall be happy.\\r\\nWhy not tell him that old Sen stole his duck, and get him to give Sen a\\r\\nscolding? That will surely do just as well, and I shall save my money as\\r\\nwell as my face. Besides, if I tell Lin that I am a thief, perhaps he\\r\\nwill send for a policeman and they will haul me off to prison. Surely\\r\\ngoing to jail would be as bad as wearing feathers. Ha, ha! This will be\\r\\na good joke on Sen, Lin, and the whole lot of them. I shall fool Fairy\\r\\nOld Boy too. Really he had no right to speak of my father and mother in\\r\\nthe way he did. After all, they died of fever, and I was no doctor to\\r\\ncure them. How could he say it was my fault?\"\\r\\n\\r\\nThe longer Wang talked to himself, the surer he became that it was\\r\\nuseless to tell Lin that he had stolen the duck. By the time he had\\r\\nreached the duck man\\'s house he had fully made up his mind to deceive\\r\\nhim. Mr. Lin invited him to come in and sit down. He was a plain-spoken,\\r\\nhonest kind of man, this Lin. Everybody liked him, for he never spoke\\r\\nill of any man and he always had something good to say of his\\r\\nneighbours.\\r\\n\\r\\n\"Well, what\\'s your business, friend Wang? You have come out bright and\\r\\nearly, and it\\'s a long walk from your place to mine.\"\\r\\n\\r\\n\"Oh, I had something important I wanted to talk to you about,\" began\\r\\nWang slyly. \"That\\'s a fine flock of ducks you have over in the meadow.\"\\r\\n\\r\\n\"Yes,\" said Mr. Lin smiling, \"a fine flock indeed.\" But he said nothing\\r\\nof the stolen fowl.\\r\\n\\r\\n\"How many have you?\" questioned Wang more boldly.\\r\\n\\r\\n\"I counted them yesterday morning and there were fifteen.\"\\r\\n\\r\\n\"But did you count them again last night?\"\\r\\n\\r\\n\"Yes, I did,\" answered Lin slowly.\\r\\n\\r\\n\"And there were only fourteen then?\"\\r\\n\\r\\n\"Quite right, friend Wang, one of them was missing; but one duck is of\\r\\nlittle importance. Why do you speak of it?\"\\r\\n\\r\\n\"What, no importance! losing a duck? How can you say so? A duck\\'s a\\r\\nduck, isn\\'t it, and surely you would like to know how you lost it?\"\\r\\n\\r\\n\"A hawk most likely.\"\\r\\n\\r\\n\"No, it wasn\\'t a hawk, but if you would go and look in old Sen\\'s duck\\r\\nyard, you would likely find feathers.\"\\r\\n\\r\\n\"Nothing more natural, I am sure, in a duck yard.\"\\r\\n\\r\\n\"Yes, but your duck\\'s feathers,\" persisted Wang.\\r\\n\\r\\n\"What! you think old Sen is a thief, do you, and that he has been\\r\\nstealing from me?\"\\r\\n\\r\\n\"Exactly! you have it now.\"\\r\\n\\r\\n\"Well, well, that is too bad! I am sorry the old fellow is having such\\r\\na hard time. He is a good worker and deserves better luck. I should\\r\\nwillingly have given him the duck if he had only asked for it. Too bad\\r\\nthat he had to steal it.\"\\r\\n\\r\\nWang waited to see how Mr. Lin planned to punish the thief, feeling sure\\r\\nthat the least he could do, would be to go and give him a good scolding.\\r\\n\\r\\nBut nothing of the kind happened. Instead of growing angry, Mr. Lin\\r\\nseemed to be sorry for Sen, sorry that he was poor, sorry that he was\\r\\nwilling to steal.\\r\\n\\r\\n\"Aren\\'t you even going to give him a scolding?\" asked Wang in disgust.\\r\\n\"Better go to his house with me and give him a good raking over the\\r\\ncoals.\"\\r\\n\\r\\n\"What use, what use? Hurt a neighbour\\'s feelings just for a duck? That\\r\\nwould be foolish indeed.\"\\r\\n\\r\\nBy this time the Miser King had begun to feel an itching all over his\\r\\nbody. The feathers had begun hurting again, and he was frightened once\\r\\nmore. He became excited and threw himself on the floor in front of Mr.\\r\\nLin.\\r\\n\\r\\n\"Hey! what\\'s the matter, man?\" cried Lin, thinking Wang was in a fit.\\r\\n\"What\\'s the matter? Are you ill?\"\\r\\n\\r\\n\"Yes, very ill,\" wailed Wang. \"Mr. Lin, I\\'m a bad man, and I may as well\\r\\nown it at once and be done with it. There is no use trying to dodge the\\r\\ntruth or hide a fault. I stole your duck last night, and to-day I came\\r\\nsneaking over here and tried to put the thing off on old Sen.\"\\r\\n\\r\\n\"Yes, I knew it,\" answered Lin. \"I saw you carrying the duck off under\\r\\nyour garment. Why did you come to see me at all if you thought I did not\\r\\nknow you were guilty?\"\\r\\n\\r\\n\"Only wait, and I\\'ll tell you everything,\" said Wang, bowing still\\r\\nlower. \"After I had boiled your duck and eaten it, I went to bed. Pretty\\r\\nsoon I felt an itching all over my body. I could not sleep and in the\\r\\nmorning I found that I had a thick growth of duck\\'s feathers from head\\r\\nto foot. The more I pulled them out, the thicker they grew in. I could\\r\\nhardly keep from screaming. I took to my bed, and after I had tossed\\r\\nabout for hours a fairy came and told me that I could never get rid of\\r\\nmy trouble unless I got you to give me a thorough scolding. Here is the\\r\\nmoney for your duck. Now for the love of mercy, scold, and do it\\r\\nquickly, for I can\\'t stand the pain much longer.\"\\r\\n\\r\\nWang was grovelling in the dirt at Lin\\'s feet, but Lin answered him only\\r\\nwith a loud laugh which finally burst into a roar. \"Duck feathers! ha!\\r\\nha! ha! and all over your body? Why, that\\'s too good a story to believe!\\r\\nYou\\'ll be wanting to live in the water next. Ha! Ha! Ha!\"\\r\\n\\r\\n\"Scold me! scold me!\" begged Wang, \"for the love of the gods scold me!\"\\r\\n\\r\\nBut Lin only laughed the louder. \"Pray let me see this wonderful growth\\r\\nof feathers first, and then we\\'ll talk about the scolding.\"\\r\\n\\r\\nWang willingly opened his garment and showed the doubting Lin that he\\r\\nhad been really speaking the truth.\\r\\n\\r\\n\"They must be warm,\" said Lin, laughing. \"Winter is soon coming and you\\r\\nare not over fond of work. Won\\'t they save you the trouble of wearing\\r\\nclothing?\"\\r\\n\\r\\n\"But they make me itch so I can scarcely stand it! I feel like screaming\\r\\nout, the pain is so great,\" and again Wang got down and began to kowtow\\r\\nto the other; that is, he knelt and bumped his forehead against the\\r\\nground.\\r\\n\\r\\n\"Be calm, my friend, and give me time to think of some good\\r\\nscold-words,\" said Lin at last. \"I am not in the habit of using strong\\r\\nlanguage, and very seldom lose my temper. Really you must give me time\\r\\nto think of what to say.\"\\r\\n\\r\\nBy this time Wang was in such pain that he lost all power over himself.\\r\\nHe seized Mr. Lin by the legs crying out, \"Scold me! scold me!\"\\r\\n\\r\\nMr. Lin was now out of patience with his visitor. Besides Wang was\\r\\nholding him so tightly that it really felt as if Lin were being pinched\\r\\nby some gigantic crawfish. Suddenly Lin could hold his tongue no longer:\\r\\n\"You lazy hound! you whelp! you turtle! you lazy, good-for-nothing\\r\\ncreature! I wish you would hurry up and roll out of this!\"\\r\\n\\r\\nNow, in China, this is very strong language, and, with a cry of joy,\\r\\nWang leaped from the ground, for he knew that Lin had scolded him. No\\r\\nsooner had the first hasty words been spoken than the feathers began\\r\\nfalling from the lazy man\\'s body, and, at last, the dreadful itching\\r\\nhad entirely stopped. On the floor in front of Lin lay a great pile of\\r\\nfeathers, and Wang freed from his trouble, pointed to them and said,\\r\\n\"Thank you kindly, my dear friend, for the pretty names you have called\\r\\nme. You have saved my life, and, although I have paid for the duck, I\\r\\nwish to add to the bargain by making you a present of these handsome\\r\\nfeathers. They will, in a measure, repay you for your splendid set of\\r\\nscold-words. I have learned my lesson well, I hope, and I shall go out\\r\\nfrom here a better man. Fairy Old Boy told me that I was lazy. You agree\\r\\nwith the fairy. From this day, however, you shall see that I can bend my\\r\\nback like a good fellow. Good-bye, and, many thanks for your kindness.\"\\r\\n\\r\\nSo saying, with many low bows and polite words, Wang left the duck\\r\\nowner\\'s house, a happier and a wiser man.\\r\\n\\r\\n\\r\\n\\r\\n\\r\\nLU-SAN, DAUGHTER OF HEAVEN\\r\\n\\r\\n[Illustration]\\r\\n\\r\\n\\r\\nLu-san went to bed without any supper, but her little heart was hungry\\r\\nfor something more than food. She nestled up close beside her sleeping\\r\\nbrothers, but even in their slumber they seemed to deny her that love\\r\\nwhich she craved. The gentle lapping of the water against the sides of\\r\\nthe houseboat, music which had so often lulled her into dreamland, could\\r\\nnot quiet her now. Scorned and treated badly by the entire family, her\\r\\nshort life had been full of grief and shame.\\r\\n\\r\\nLu-san\\'s father was a fisherman. His life had been one long fight\\r\\nagainst poverty. He was ignorant and wicked. He had no more feeling of\\r\\nlove for his wife and five children than for the street dogs of his\\r\\nnative city. Over and over he had threatened to drown them one and all,\\r\\nand had been prevented from doing so only by fear of the new mandarin.\\r\\nHis wife did not try to stop her husband when he sometimes beat the\\r\\nchildren until they fell half dead upon the deck. In fact, she herself\\r\\nwas cruel to them, and often gave the last blow to Lu-san, her only\\r\\ndaughter. Not on one day in the little girl\\'s memory had she escaped\\r\\nthis daily whipping, not once had her parents pitied her.\\r\\n\\r\\nOn the night with which this story opens, not knowing that\\r\\nLu-san was listening, her father and mother were planning how to\\r\\nget rid of her.\\r\\n\\r\\n\"The mandarin cares only about boys,\" said he roughly. \"A man might kill\\r\\na dozen girls and he wouldn\\'t say a word.\"\\r\\n\\r\\n\"Lu-san\\'s no good anyway,\" added the mother. \"Our boat is small, and\\r\\nshe\\'s always in the wrong place.\"\\r\\n\\r\\n\"Yes, and it takes as much to feed her as if she were a boy. If you say\\r\\nso, I\\'ll do it this very night.\"\\r\\n\\r\\n\"All right,\" she answered, \"but you\\'d better wait till the moon has\\r\\nset.\"\\r\\n\\r\\n\"Very well, wife, we\\'ll let the moon go down first, and then the girl.\"\\r\\n\\r\\nNo wonder Lu-san\\'s little heart beat fast with terror, for there could\\r\\nbe no doubt as to the meaning of her parents\\' words.\\r\\n\\r\\nAt last when she heard them snoring and knew they were both sound\\r\\nasleep, she got up silently, dressed herself, and climbed the ladder\\r\\nleading to the deck. Only one thought was in her heart, to save herself\\r\\nby instant flight. There were no extra clothes, not a bite of food to\\r\\ntake with her. Besides the rags on her back there was only one thing\\r\\nshe could call her own, a tiny soapstone image of the goddess Kwan-yin,\\r\\nwhich she had found one day while walking in the sand. This was the only\\r\\ntreasure and plaything of her childhood, and if she had not watched\\r\\ncarefully, her mother would have taken even this away from her. Oh,\\r\\nhow she had nursed this idol, and how closely she had listened to the\\r\\nstories an old priest had told about Kwan-yin the Goddess of Mercy, the\\r\\nbest friend of women and children, to whom they might always pray in\\r\\ntime of trouble.\\r\\n\\r\\nIt was very dark when Lu-san raised the trapdoor leading to the outer\\r\\nair, and looked out into the night. The moon had just gone down, and\\r\\nfrogs were croaking along the shore. Slowly and carefully she pushed\\r\\nagainst the door, for she was afraid that the wind coming in suddenly\\r\\nmight awaken the sleepers or, worse still, cause her to let the trap\\r\\nfall with a bang. At last, however, she stood on the deck, alone and\\r\\nready to go out into the big world. As she stepped to the side of the\\r\\nboat the black water did not make her feel afraid, and she went ashore\\r\\nwithout the slightest tremble.\\r\\n\\r\\nNow she ran quickly along the bank, shrinking back into the shadows\\r\\nwhenever she heard the noise of footsteps, and thus hiding from the\\r\\npassers-by. Only once did her heart quake, full of fear. A huge boat dog\\r\\nran out at her barking furiously. The snarling beast, however, was not\\r\\ndangerous, and when he saw this trembling little girl of ten he sniffed\\r\\nin disgust at having noticed any one so small, and returned to watch his\\r\\ngate.\\r\\n\\r\\nLu-san had made no plans. She thought that if she could escape the\\r\\ndeath her parents had talked about, they would be delighted at her\\r\\nleaving them and would not look for her. It was not, then, her own\\r\\npeople that she feared as she passed the rows of dark houses lining the\\r\\nshore. She had often heard her father tell of the dreadful deeds done\\r\\nin many of these houseboats. The darkest memory of her childhood was of\\r\\nthe night when he had almost decided to sell her as a slave to the owner\\r\\nof a boat like these she was now passing. Her mother had suggested that\\r\\nthey should wait until Lu-san was a little older, for she would then be\\r\\nworth more money. So her father had not sold her. Lately, perhaps, he\\r\\nhad tried and failed.\\r\\n\\r\\nThat was why she hated the river dwellers and was eager to get past\\r\\ntheir houses. On and on she sped as fast as her little legs could carry\\r\\nher. She would flee far away from the dark water, for she loved the\\r\\nbright sunshine and the land.\\r\\n\\r\\nAs Lu-san ran past the last houseboat she breathed a sigh of relief and\\r\\na minute later fell in a little heap upon the sand. Not until now had\\r\\nshe noticed how lonely it was. Over there was the great city with its\\r\\nthousands of sleepers. Not one of them was her friend. She knew nothing\\r\\nof friendship, for she had had no playmates. Beyond lay the open fields,\\r\\nthe sleeping villages, the unknown world. Ah, how tired she was! How far\\r\\nshe had run! Soon, holding the precious image tightly in her little hand\\r\\nand whispering a childish prayer to Kwan-yin, she fell asleep.\\r\\n\\r\\nWhen Lu-san awoke, a cold chill ran through her body, for bending over\\r\\nher stood a strange person. Soon she saw to her wonder that it was a\\r\\nwoman dressed in beautiful clothes like those worn by a princess. The\\r\\nchild had never seen such perfect features or so fair a face. At first,\\r\\nconscious of her own filthy rags, she shrank back fearfully, wondering\\r\\nwhat would happen if this beautiful being should chance to touch her and\\r\\nthus soil those slender white fingers. As the child lay there trembling\\r\\non the ground, she felt as if she would like to spring into the fairy\\r\\ncreature\\'s arms and beg for mercy. Only the fear that the lovely one\\r\\nwould vanish kept her from so doing. Finally, unable to hold back any\\r\\nlonger, the little girl, bending forward, stretched out her hand to the\\r\\nwoman, saying, \"Oh, you are so beautiful! Take this, for it must be you\\r\\nwho lost it in the sand.\"\\r\\n\\r\\nThe princess took the soapstone figure, eyed it curiously, and then with\\r\\na start of surprise said, \"And do you know, my little creature, to whom\\r\\nyou are thus giving your treasure?\"\\r\\n\\r\\n\"No,\" answered the child simply, \"but it is the only thing I have in all\\r\\nthe world, and you are so lovely that I know it belongs to you. I found\\r\\nit on the river bank.\"\\r\\n\\r\\nThen a strange thing happened. The graceful, queenly woman bent over,\\r\\nand held out her arms to the ragged, dirty child. With a cry of joy the\\r\\nlittle one sprang forward; she had found the love for which she had been\\r\\nlooking so long.\\r\\n\\r\\n\"My precious child, this little stone which you have kept so lovingly,\\r\\nand which without a thought of self you have given to me--do you know of\\r\\nwhom it is the image?\"\\r\\n\\r\\n\"Yes,\" answered Lu-san, the colour coming to her cheeks again as she\\r\\nsnuggled up contentedly in her new friend\\'s warm embrace, \"it is the\\r\\ndear goddess Kwan-yin, she who makes the children happy.\"\\r\\n\\r\\n\"And has this gracious goddess brought sunshine into your life, my\\r\\npretty one?\" said the other, a slight flush covering her fair cheeks at\\r\\nthe poor child\\'s innocent words.\\r\\n\\r\\n\"Oh, yes indeed; if it had not been for her I should not have escaped\\r\\nto-night. My father would have killed me, but the good lady of heaven\\r\\nlistened to my prayer and bade me stay awake. She told me to wait until\\r\\nhe was sleeping, then to arise and leave the houseboat.\"\\r\\n\\r\\n\"And where are you going, Lu-san, now that you have left your father?\\r\\nAre you not afraid to be alone here at night on the bank of this great\\r\\nriver?\"\\r\\n\\r\\n\"No, oh no! for the blessed mother will shield me. She has heard my\\r\\nprayers, and I know she will show me where to go.\"\\r\\n\\r\\nThe lady clasped Lu-san still more tightly, and something glistened in\\r\\nher radiant eye. A tear-drop rolled down her cheek and fell upon the\\r\\nchild\\'s head, but Lu-san did not see it, for she had fallen fast asleep\\r\\nin her protector\\'s arms.\\r\\n\\r\\nWhen Lu-san awoke, she was lying all alone on her bed in the houseboat,\\r\\nbut, strange to say, she was not frightened at finding herself once more\\r\\nnear her parents. A ray of sunlight came in, lighting up the child\\'s\\r\\nface and telling her that a new day had dawned. At last she heard the\\r\\nsound of low voices, but she did not know who were the speakers. Then\\r\\nas the tones grew louder she knew that her parents were talking. Their\\r\\nspeech, however, seemed to be less harsh than usual, as if they were\\r\\nnear the bed of some sleeper whom they did not wish to wake.\\r\\n\\r\\n\"Why,\" said her father, \"when I bent over to lift her from the bed,\\r\\nthere was a strange light about her face. I touched her on the arm, and\\r\\nat once my hand hung limp as if it had been shot. Then I heard a voice\\r\\nwhispering in my ears, \\'What! would you lay your wicked hands on one who\\r\\nmade the tears of Kwan-yin flow? Do you not know that when she cries the\\r\\ngods themselves are weeping?\\'\"\\r\\n\\r\\n\"I too heard that voice,\" said the mother, her voice trembling; \"I heard\\r\\nit, and it seemed as if a hundred wicked imps pricked me with spears, at\\r\\nevery prick repeating these terrible words, \\'And would you kill a\\r\\ndaughter of the gods?\\'\"\\r\\n\\r\\n\"It is strange,\" he added, \"to think how we had begun to hate this\\r\\nchild, when all the time she belonged to another world than ours. How\\r\\nwicked we must be since we could not see her goodness.\"\\r\\n\\r\\n\"Yes, and no doubt for every time we have struck her, a thousand blows\\r\\nwill be given us by Yama, for our insults to the gods.\"\\r\\n\\r\\nLu-san waited no longer, but rose to dress herself. Her heart was\\r\\nburning with love for everything around her. She would tell her parents\\r\\nthat she forgave them, tell them how she loved them still in spite of\\r\\nall their wickedness. To her surprise the ragged clothes were nowhere\\r\\nto be seen. In place of them she found on one side of the bed the most\\r\\nbeautiful garments. The softest of silks, bright with flowers--so lovely\\r\\nthat she fancied they must have been taken from the garden of the\\r\\ngods--were ready to slip on her little body. As she dressed herself she\\r\\nsaw with surprise that her fingers were shapely, that her skin was soft\\r\\nand smooth. Only the day before, her hands had been rough and cracked by\\r\\nhard work and the cold of winter. More and more amazed, she stooped to\\r\\nput on her shoes. Instead of the worn-out soiled shoes of yesterday, the\\r\\nprettiest little satin slippers were there all ready for her tiny feet.\\r\\n\\r\\n[Illustration: AS SHE DRESSED HERSELF SHE SAW WITH SURPRISE THAT HER\\r\\nFINGERS WERE SHAPELY.]\\r\\n\\r\\nFinally she climbed the rude ladder, and lo, everything she touched\\r\\nseemed to be changed as if by magic, like her gown. The narrow rounds of\\r\\nthe ladder had become broad steps of polished wood, and it seemed as if\\r\\nshe was mounting the polished stairway of some fairy-built pagoda. When\\r\\nshe reached the deck everything was changed. The ragged patchwork which\\r\\nhad served so long as a sail had become a beautiful sheet of canvas that\\r\\nrolled and floated proudly in the river breeze. Below were the dirty\\r\\nfishing smacks which Lu-san was used to, but here was a stately ship,\\r\\nlarger and fairer than any she had ever dreamed of, a ship which had\\r\\nsprung into being as if at the touch of her feet.\\r\\n\\r\\nAfter searching several minutes for her parents she found them trembling\\r\\nin a corner, with a look of great fear on their faces. They were clad\\r\\nin rags, as usual, and in no way changed except that their savage faces\\r\\nseemed to have become a trifle softened. Lu-san drew near the wretched\\r\\ngroup and bowed low before them.\\r\\n\\r\\nHer mother tried to speak; her lips moved, but made no sound: she had\\r\\nbeen struck dumb with fear.\\r\\n\\r\\n\"A goddess, a goddess!\" murmured the father, bending forward three times\\r\\nand knocking his head on the deck. As for the brothers, they hid their\\r\\nfaces in their hands as if dazzled by a sudden burst of sunlight.\\r\\n\\r\\nFor a moment Lu-san paused. Then, stretching out her hand, she touched\\r\\nher father on the shoulder. \"Do you not know me, father? It is Lu-san,\\r\\nyour little daughter.\"\\r\\n\\r\\nThe man looked at her in wonder. His whole body shook, his lips\\r\\ntrembled, his hard brutish face had on it a strange light. Suddenly he\\r\\nbent far over and touched his forehead to her feet. Mother and sons\\r\\nfollowed his example. Then all gazed at her as if waiting for her\\r\\ncommand.\\r\\n\\r\\n\"Speak, father,\" said Lu-san. \"Tell me that you love me, say that you\\r\\nwill not kill your child.\"\\r\\n\\r\\n\"Daughter of the gods, and not of mine,\" he mumbled, and then paused as\\r\\nif afraid to continue.\\r\\n\\r\\n\"What is it, father? Have no fear.\"\\r\\n\\r\\n\"First, tell me that you forgive me.\"\\r\\n\\r\\nThe child put her left hand upon her father\\'s forehead and held the\\r\\nright above the heads of the others, \"As the Goddess of Mercy has given\\r\\nme her favour, so I in her name bestow on you the love of heaven. Live\\r\\nin peace, my parents. Brothers, speak no angry words. Oh, my dear ones,\\r\\nlet joy be yours for ever. When only love shall rule your lives, this\\r\\nship is yours and all that is in it.\"\\r\\n\\r\\nThus did Lu-san change her loved ones. The miserable family which had\\r\\nlived in poverty now found itself enjoying peace and happiness. At first\\r\\nthey did not know how to live as Lu-san had directed. The father\\r\\nsometimes lost his temper and the mother spoke spiteful words; but as\\r\\nthey grew in wisdom and courage they soon began to see that only love\\r\\nmust rule.\\r\\n\\r\\nAll this time the great boat was moving up and down the river. Its\\r\\ncompany of sailors obeyed Lu-san\\'s slightest wish. When their nets were\\r\\ncast overboard they were always drawn back full of the largest, choicest\\r\\nfish. These fish were sold at the city markets, and soon people began to\\r\\nsay that Lu-san was the richest person in the whole country.\\r\\n\\r\\nOne beautiful day during the Second Moon, the family had just returned\\r\\nfrom the temple. It was Kwan-yin\\'s birthday, and, led by Lu-san, they\\r\\nhad gone gladly to do the goddess honour. They had just mounted to the\\r\\nvessel\\'s deck when Lu-san\\'s father, who had been looking off towards the\\r\\nwest, suddenly called the family to his side. \"See!\" he exclaimed. \"What\\r\\nkind of bird is that yonder in the sky?\"\\r\\n\\r\\nAs they looked, they saw that the strange object was coming nearer and\\r\\nnearer, and directly towards the ship. Every one was excited except\\r\\nLu-san. She was calm, as if waiting for something she had long expected.\\r\\n\\r\\n\"It is a flight of doves,\" cried the father in astonishment, \"and they\\r\\nseem to be drawing something through the air.\"\\r\\n\\r\\nAt last, as the birds flew right over the vessel, the surprised\\r\\nonlookers saw that floating beneath their wings was a wonderful chair,\\r\\nall white and gold, more dazzling even than the one they had dreamed the\\r\\nEmperor himself sat in on the Dragon Throne. Around each snow-white neck\\r\\nwas fastened a long streamer of pure gold, and these silken ribbons were\\r\\ntied to the chair in such a manner as to hold it floating wherever its\\r\\nlight-winged coursers chose to fly.\\r\\n\\r\\nDown, down, over the magic vessel came the empty chair, and as it\\r\\ndescended, a shower of pure white lilies fell about the feet of Lu-san,\\r\\nuntil she, the queen of all the flowers, was almost buried. The doves\\r\\nhovered above her head for an instant, and then gently lowered their\\r\\nburden until it was just in front of her.\\r\\n\\r\\nWith a farewell wave to her father and mother, Lu-san stepped into the\\r\\nfairy car. As the birds began to rise, a voice from the clouds spoke in\\r\\ntones of softest music: \"Thus Kwan-yin, Mother of Mercies, rewards\\r\\nLu-san, daughter of the earth. Out of the dust spring the flowers; out\\r\\nof the soil comes goodness. Lu-san! that tear which you drew from\\r\\nKwan-yin\\'s eye fell upon the dry ground and softened it; it touched the\\r\\nhearts of those who loved you not. Daughter of earth no longer, rise\\r\\ninto the Western Heaven, there to take your place among the fairies,\\r\\nthere to be a star within the azure realms above.\"\\r\\n\\r\\nAs Lu-san\\'s doves disappeared in the distant skies, a rosy light\\r\\nsurrounded her flying car. It seemed to those who gazed in wonder that\\r\\nheaven\\'s gates were opening to receive her. At last when she was gone\\r\\nbeyond their sight, suddenly it grew dark upon the earth, and the eyes\\r\\nof all that looked were wet with tears.\\r\\n\\r\\n       *       *       *       *       *\\r\\n\\r\\n[Transcriber\\'s Notes: In the list of illustrations, the following typos\\r\\nwere corrected: climed for climbed, lamp for lump. Note also that a few\\r\\nof the captions do not match the text on the images, this idiosyncracy\\r\\nis in the original and has not been corrected. On page 6 the missing\\r\\nword \\'the\\' was added: \"for joy at thought\" became \"for joy at the\\r\\nthought\". The Front Matter in the original is unnumbered, and has been\\r\\nassigned i-vi for disambiguation in the HTML.]\\r\\n\\r\\n\\r\\n\\r\\n\\r\\n\\r\\n\\r\\nEnd of Project Gutenberg\\'s A Chinese Wonder Book, by Norman Hinsdale Pitman\\r\\n\\r\\n*** END OF THIS PROJECT GUTENBERG EBOOK A CHINESE WONDER BOOK ***\\r\\n\\r\\n***** This file should be named 18674.txt or 18674.zip *****\\r\\nThis and all associated files of various formats will be found in:\\r\\n        http://www.gutenberg.org/1/8/6/7/18674/\\r\\n\\r\\nProduced by Juliet Sutherland, David Garcia and the Online\\r\\nDistributed Proofreading Team at http://www.pgdp.net\\r\\n\\r\\n\\r\\nUpdated editions will replace the previous one--the old editions\\r\\nwill be renamed.\\r\\n\\r\\nCreating the works from public domain print editions means that no\\r\\none owns a United States copyright in these works, so the Foundation\\r\\n(and you!) can copy and distribute it in the United States without\\r\\npermission and without paying copyright royalties.  Special rules,\\r\\nset forth in the General Terms of Use part of this license, apply to\\r\\ncopying and distributing Project Gutenberg-tm electronic works to\\r\\nprotect the PROJECT GUTENBERG-tm concept and trademark.  Project\\r\\nGutenberg is a registered trademark, and may not be used if you\\r\\ncharge for the eBooks, unless you receive specific permission.  If you\\r\\ndo not charge anything for copies of this eBook, complying with the\\r\\nrules is very easy.  You may use this eBook for nearly any purpose\\r\\nsuch as creation of derivative works, reports, performances and\\r\\nresearch.  They may be modified and printed and given away--you may do\\r\\npractically ANYTHING with public domain eBooks.  Redistribution is\\r\\nsubject to the trademark license, especially commercial\\r\\nredistribution.\\r\\n\\r\\n\\r\\n\\r\\n*** START: FULL LICENSE ***\\r\\n\\r\\nTHE FULL PROJECT GUTENBERG LICENSE\\r\\nPLEASE READ THIS BEFORE YOU DISTRIBUTE OR USE THIS WORK\\r\\n\\r\\nTo protect the Project Gutenberg-tm mission of promoting the free\\r\\ndistribution of electronic works, by using or distributing this work\\r\\n(or any other work associated in any way with the phrase \"Project\\r\\nGutenberg\"), you agree to comply with all the terms of the Full Project\\r\\nGutenberg-tm License (available with this file or online at\\r\\nhttp://gutenberg.org/license).\\r\\n\\r\\n\\r\\nSection 1.  General Terms of Use and Redistributing Project Gutenberg-tm\\r\\nelectronic works\\r\\n\\r\\n1.A.  By reading or using any part of this Project Gutenberg-tm\\r\\nelectronic work, you indicate that you have read, understand, agree to\\r\\nand accept all the terms of this license and intellectual property\\r\\n(trademark/copyright) agreement.  If you do not agree to abide by all\\r\\nthe terms of this agreement, you must cease using and return or destroy\\r\\nall copies of Project Gutenberg-tm electronic works in your possession.\\r\\nIf you paid a fee for obtaining a copy of or access to a Project\\r\\nGutenberg-tm electronic work and you do not agree to be bound by the\\r\\nterms of this agreement, you may obtain a refund from the person or\\r\\nentity to whom you paid the fee as set forth in paragraph 1.E.8.\\r\\n\\r\\n1.B.  \"Project Gutenberg\" is a registered trademark.  It may only be\\r\\nused on or associated in any way with an electronic work by people who\\r\\nagree to be bound by the terms of this agreement.  There are a few\\r\\nthings that you can do with most Project Gutenberg-tm electronic works\\r\\neven without complying with the full terms of this agreement.  See\\r\\nparagraph 1.C below.  There are a lot of things you can do with Project\\r\\nGutenberg-tm electronic works if you follow the terms of this agreement\\r\\nand help preserve free future access to Project Gutenberg-tm electronic\\r\\nworks.  See paragraph 1.E below.\\r\\n\\r\\n1.C.  The Project Gutenberg Literary Archive Foundation (\"the Foundation\"\\r\\nor PGLAF), owns a compilation copyright in the collection of Project\\r\\nGutenberg-tm electronic works.  Nearly all the individual works in the\\r\\ncollection are in the public domain in the United States.  If an\\r\\nindividual work is in the public domain in the United States and you are\\r\\nlocated in the United States, we do not claim a right to prevent you from\\r\\ncopying, distributing, performing, displaying or creating derivative\\r\\nworks based on the work as long as all references to Project Gutenberg\\r\\nare removed.  Of course, we hope that you will support the Project\\r\\nGutenberg-tm mission of promoting free access to electronic works by\\r\\nfreely sharing Project Gutenberg-tm works in compliance with the terms of\\r\\nthis agreement for keeping the Project Gutenberg-tm name associated with\\r\\nthe work.  You can easily comply with the terms of this agreement by\\r\\nkeeping this work in the same format with its attached full Project\\r\\nGutenberg-tm License when you share it without charge with others.\\r\\n\\r\\n1.D.  The copyright laws of the place where you are located also govern\\r\\nwhat you can do with this work.  Copyright laws in most countries are in\\r\\na constant state of change.  If you are outside the United States, check\\r\\nthe laws of your country in addition to the terms of this agreement\\r\\nbefore downloading, copying, displaying, performing, distributing or\\r\\ncreating derivative works based on this work or any other Project\\r\\nGutenberg-tm work.  The Foundation makes no representations concerning\\r\\nthe copyright status of any work in any country outside the United\\r\\nStates.\\r\\n\\r\\n1.E.  Unless you have removed all references to Project Gutenberg:\\r\\n\\r\\n1.E.1.  The following sentence, with active links to, or other immediate\\r\\naccess to, the full Project Gutenberg-tm License must appear prominently\\r\\nwhenever any copy of a Project Gutenberg-tm work (any work on which the\\r\\nphrase \"Project Gutenberg\" appears, or with which the phrase \"Project\\r\\nGutenberg\" is associated) is accessed, displayed, performed, viewed,\\r\\ncopied or distributed:\\r\\n\\r\\nThis eBook is for the use of anyone anywhere at no cost and with\\r\\nalmost no restrictions whatsoever.  You may copy it, give it away or\\r\\nre-use it under the terms of the Project Gutenberg License included\\r\\nwith this eBook or online at www.gutenberg.org\\r\\n\\r\\n1.E.2.  If an individual Project Gutenberg-tm electronic work is derived\\r\\nfrom the public domain (does not contain a notice indicating that it is\\r\\nposted with permission of the copyright holder), the work can be copied\\r\\nand distributed to anyone in the United States without paying any fees\\r\\nor charges.  If you are redistributing or providing access to a work\\r\\nwith the phrase \"Project Gutenberg\" associated with or appearing on the\\r\\nwork, you must comply either with the requirements of paragraphs 1.E.1\\r\\nthrough 1.E.7 or obtain permission for the use of the work and the\\r\\nProject Gutenberg-tm trademark as set forth in paragraphs 1.E.8 or\\r\\n1.E.9.\\r\\n\\r\\n1.E.3.  If an individual Project Gutenberg-tm electronic work is posted\\r\\nwith the permission of the copyright holder, your use and distribution\\r\\nmust comply with both paragraphs 1.E.1 through 1.E.7 and any additional\\r\\nterms imposed by the copyright holder.  Additional terms will be linked\\r\\nto the Project Gutenberg-tm License for all works posted with the\\r\\npermission of the copyright holder found at the beginning of this work.\\r\\n\\r\\n1.E.4.  Do not unlink or detach or remove the full Project Gutenberg-tm\\r\\nLicense terms from this work, or any files containing a part of this\\r\\nwork or any other work associated with Project Gutenberg-tm.\\r\\n\\r\\n1.E.5.  Do not copy, display, perform, distribute or redistribute this\\r\\nelectronic work, or any part of this electronic work, without\\r\\nprominently displaying the sentence set forth in paragraph 1.E.1 with\\r\\nactive links or immediate access to the full terms of the Project\\r\\nGutenberg-tm License.\\r\\n\\r\\n1.E.6.  You may convert to and distribute this work in any binary,\\r\\ncompressed, marked up, nonproprietary or proprietary form, including any\\r\\nword processing or hypertext form.  However, if you provide access to or\\r\\ndistribute copies of a Project Gutenberg-tm work in a format other than\\r\\n\"Plain Vanilla ASCII\" or other format used in the official version\\r\\nposted on the official Project Gutenberg-tm web site (www.gutenberg.org),\\r\\nyou must, at no additional cost, fee or expense to the user, provide a\\r\\ncopy, a means of exporting a copy, or a means of obtaining a copy upon\\r\\nrequest, of the work in its original \"Plain Vanilla ASCII\" or other\\r\\nform.  Any alternate format must include the full Project Gutenberg-tm\\r\\nLicense as specified in paragraph 1.E.1.\\r\\n\\r\\n1.E.7.  Do not charge a fee for access to, viewing, displaying,\\r\\nperforming, copying or distributing any Project Gutenberg-tm works\\r\\nunless you comply with paragraph 1.E.8 or 1.E.9.\\r\\n\\r\\n1.E.8.  You may charge a reasonable fee for copies of or providing\\r\\naccess to or distributing Project Gutenberg-tm electronic works provided\\r\\nthat\\r\\n\\r\\n- You pay a royalty fee of 20% of the gross profits you derive from\\r\\n     the use of Project Gutenberg-tm works calculated using the method\\r\\n     you already use to calculate your applicable taxes.  The fee is\\r\\n     owed to the owner of the Project Gutenberg-tm trademark, but he\\r\\n     has agreed to donate royalties under this paragraph to the\\r\\n     Project Gutenberg Literary Archive Foundation.  Royalty payments\\r\\n     must be paid within 60 days following each date on which you\\r\\n     prepare (or are legally required to prepare) your periodic tax\\r\\n     returns.  Royalty payments should be clearly marked as such and\\r\\n     sent to the Project Gutenberg Literary Archive Foundation at the\\r\\n     address specified in Section 4, \"Information about donations to\\r\\n     the Project Gutenberg Literary Archive Foundation.\"\\r\\n\\r\\n- You provide a full refund of any money paid by a user who notifies\\r\\n     you in writing (or by e-mail) within 30 days of receipt that s/he\\r\\n     does not agree to the terms of the full Project Gutenberg-tm\\r\\n     License.  You must require such a user to return or\\r\\n     destroy all copies of the works possessed in a physical medium\\r\\n     and discontinue all use of and all access to other copies of\\r\\n     Project Gutenberg-tm works.\\r\\n\\r\\n- You provide, in accordance with paragraph 1.F.3, a full refund of any\\r\\n     money paid for a work or a replacement copy, if a defect in the\\r\\n     electronic work is discovered and reported to you within 90 days\\r\\n     of receipt of the work.\\r\\n\\r\\n- You comply with all other terms of this agreement for free\\r\\n     distribution of Project Gutenberg-tm works.\\r\\n\\r\\n1.E.9.  If you wish to charge a fee or distribute a Project Gutenberg-tm\\r\\nelectronic work or group of works on different terms than are set\\r\\nforth in this agreement, you must obtain permission in writing from\\r\\nboth the Project Gutenberg Literary Archive Foundation and Michael\\r\\nHart, the owner of the Project Gutenberg-tm trademark.  Contact the\\r\\nFoundation as set forth in Section 3 below.\\r\\n\\r\\n1.F.\\r\\n\\r\\n1.F.1.  Project Gutenberg volunteers and employees expend considerable\\r\\neffort to identify, do copyright research on, transcribe and proofread\\r\\npublic domain works in creating the Project Gutenberg-tm\\r\\ncollection.  Despite these efforts, Project Gutenberg-tm electronic\\r\\nworks, and the medium on which they may be stored, may contain\\r\\n\"Defects,\" such as, but not limited to, incomplete, inaccurate or\\r\\ncorrupt data, transcription errors, a copyright or other intellectual\\r\\nproperty infringement, a defective or damaged disk or other medium, a\\r\\ncomputer virus, or computer codes that damage or cannot be read by\\r\\nyour equipment.\\r\\n\\r\\n1.F.2.  LIMITED WARRANTY, DISCLAIMER OF DAMAGES - Except for the \"Right\\r\\nof Replacement or Refund\" described in paragraph 1.F.3, the Project\\r\\nGutenberg Literary Archive Foundation, the owner of the Project\\r\\nGutenberg-tm trademark, and any other party distributing a Project\\r\\nGutenberg-tm electronic work under this agreement, disclaim all\\r\\nliability to you for damages, costs and expenses, including legal\\r\\nfees.  YOU AGREE THAT YOU HAVE NO REMEDIES FOR NEGLIGENCE, STRICT\\r\\nLIABILITY, BREACH OF WARRANTY OR BREACH OF CONTRACT EXCEPT THOSE\\r\\nPROVIDED IN PARAGRAPH F3.  YOU AGREE THAT THE FOUNDATION, THE\\r\\nTRADEMARK OWNER, AND ANY DISTRIBUTOR UNDER THIS AGREEMENT WILL NOT BE\\r\\nLIABLE TO YOU FOR ACTUAL, DIRECT, INDIRECT, CONSEQUENTIAL, PUNITIVE OR\\r\\nINCIDENTAL DAMAGES EVEN IF YOU GIVE NOTICE OF THE POSSIBILITY OF SUCH\\r\\nDAMAGE.\\r\\n\\r\\n1.F.3.  LIMITED RIGHT OF REPLACEMENT OR REFUND - If you discover a\\r\\ndefect in this electronic work within 90 days of receiving it, you can\\r\\nreceive a refund of the money (if any) you paid for it by sending a\\r\\nwritten explanation to the person you received the work from.  If you\\r\\nreceived the work on a physical medium, you must return the medium with\\r\\nyour written explanation.  The person or entity that provided you with\\r\\nthe defective work may elect to provide a replacement copy in lieu of a\\r\\nrefund.  If you received the work electronically, the person or entity\\r\\nproviding it to you may choose to give you a second opportunity to\\r\\nreceive the work electronically in lieu of a refund.  If the second copy\\r\\nis also defective, you may demand a refund in writing without further\\r\\nopportunities to fix the problem.\\r\\n\\r\\n1.F.4.  Except for the limited right of replacement or refund set forth\\r\\nin paragraph 1.F.3, this work is provided to you \\'AS-IS\\', WITH NO OTHER\\r\\nWARRANTIES OF ANY KIND, EXPRESS OR IMPLIED, INCLUDING BUT NOT LIMITED TO\\r\\nWARRANTIES OF MERCHANTIBILITY OR FITNESS FOR ANY PURPOSE.\\r\\n\\r\\n1.F.5.  Some states do not allow disclaimers of certain implied\\r\\nwarranties or the exclusion or limitation of certain types of damages.\\r\\nIf any disclaimer or limitation set forth in this agreement violates the\\r\\nlaw of the state applicable to this agreement, the agreement shall be\\r\\ninterpreted to make the maximum disclaimer or limitation permitted by\\r\\nthe applicable state law.  The invalidity or unenforceability of any\\r\\nprovision of this agreement shall not void the remaining provisions.\\r\\n\\r\\n1.F.6.  INDEMNITY - You agree to indemnify and hold the Foundation, the\\r\\ntrademark owner, any agent or employee of the Foundation, anyone\\r\\nproviding copies of Project Gutenberg-tm electronic works in accordance\\r\\nwith this agreement, and any volunteers associated with the production,\\r\\npromotion and distribution of Project Gutenberg-tm electronic works,\\r\\nharmless from all liability, costs and expenses, including legal fees,\\r\\nthat arise directly or indirectly from any of the following which you do\\r\\nor cause to occur: (a) distribution of this or any Project Gutenberg-tm\\r\\nwork, (b) alteration, modification, or additions or deletions to any\\r\\nProject Gutenberg-tm work, and (c) any Defect you cause.\\r\\n\\r\\n\\r\\nSection  2.  Information about the Mission of Project Gutenberg-tm\\r\\n\\r\\nProject Gutenberg-tm is synonymous with the free distribution of\\r\\nelectronic works in formats readable by the widest variety of computers\\r\\nincluding obsolete, old, middle-aged and new computers.  It exists\\r\\nbecause of the efforts of hundreds of volunteers and donations from\\r\\npeople in all walks of life.\\r\\n\\r\\nVolunteers and financial support to provide volunteers with the\\r\\nassistance they need, is critical to reaching Project Gutenberg-tm\\'s\\r\\ngoals and ensuring that the Project Gutenberg-tm collection will\\r\\nremain freely available for generations to come.  In 2001, the Project\\r\\nGutenberg Literary Archive Foundation was created to provide a secure\\r\\nand permanent future for Project Gutenberg-tm and future generations.\\r\\nTo learn more about the Project Gutenberg Literary Archive Foundation\\r\\nand how your efforts and donations can help, see Sections 3 and 4\\r\\nand the Foundation web page at http://www.pglaf.org.\\r\\n\\r\\n\\r\\nSection 3.  Information about the Project Gutenberg Literary Archive\\r\\nFoundation\\r\\n\\r\\nThe Project Gutenberg Literary Archive Foundation is a non profit\\r\\n501(c)(3) educational corporation organized under the laws of the\\r\\nstate of Mississippi and granted tax exempt status by the Internal\\r\\nRevenue Service.  The Foundation\\'s EIN or federal tax identification\\r\\nnumber is 64-6221541.  Its 501(c)(3) letter is posted at\\r\\nhttp://pglaf.org/fundraising.  Contributions to the Project Gutenberg\\r\\nLiterary Archive Foundation are tax deductible to the full extent\\r\\npermitted by U.S. federal laws and your state\\'s laws.\\r\\n\\r\\nThe Foundation\\'s principal office is located at 4557 Melan Dr. S.\\r\\nFairbanks, AK, 99712., but its volunteers and employees are scattered\\r\\nthroughout numerous locations.  Its business office is located at\\r\\n809 North 1500 West, Salt Lake City, UT 84116, (801) 596-1887, email\\r\\nbusiness@pglaf.org.  Email contact links and up to date contact\\r\\ninformation can be found at the Foundation\\'s web site and official\\r\\npage at http://pglaf.org\\r\\n\\r\\nFor additional contact information:\\r\\n     Dr. Gregory B. Newby\\r\\n     Chief Executive and Director\\r\\n     gbnewby@pglaf.org\\r\\n\\r\\nSection 4.  Information about Donations to the Project Gutenberg\\r\\nLiterary Archive Foundation\\r\\n\\r\\nProject Gutenberg-tm depends upon and cannot survive without wide\\r\\nspread public support and donations to carry out its mission of\\r\\nincreasing the number of public domain and licensed works that can be\\r\\nfreely distributed in machine readable form accessible by the widest\\r\\narray of equipment including outdated equipment.  Many small donations\\r\\n($1 to $5,000) are particularly important to maintaining tax exempt\\r\\nstatus with the IRS.\\r\\n\\r\\nThe Foundation is committed to complying with the laws regulating\\r\\ncharities and charitable donations in all 50 states of the United\\r\\nStates.  Compliance requirements are not uniform and it takes a\\r\\nconsiderable effort, much paperwork and many fees to meet and keep up\\r\\nwith these requirements.  We do not solicit donations in locations\\r\\nwhere we have not received written confirmation of compliance.  To\\r\\nSEND DONATIONS or determine the status of compliance for any\\r\\nparticular state visit http://pglaf.org\\r\\n\\r\\nWhile we cannot and do not solicit contributions from states where we\\r\\nhave not met the solicitation requirements, we know of no prohibition\\r\\nagainst accepting unsolicited donations from donors in such states who\\r\\napproach us with offers to donate.\\r\\n\\r\\nInternational donations are gratefully accepted, but we cannot make\\r\\nany statements concerning tax treatment of donations received from\\r\\noutside the United States.  U.S. laws alone swamp our small staff.\\r\\n\\r\\nPlease check the Project Gutenberg Web pages for current donation\\r\\nmethods and addresses.  Donations are accepted in a number of other\\r\\nways including checks, online payments and credit card\\r\\ndonations.  To donate, please visit: http://pglaf.org/donate\\r\\n\\r\\n\\r\\nSection 5.  General Information About Project Gutenberg-tm electronic\\r\\nworks.\\r\\n\\r\\nProfessor Michael S. Hart is the originator of the Project Gutenberg-tm\\r\\nconcept of a library of electronic works that could be freely shared\\r\\nwith anyone.  For thirty years, he produced and distributed Project\\r\\nGutenberg-tm eBooks with only a loose network of volunteer support.\\r\\n\\r\\nProject Gutenberg-tm eBooks are often created from several printed\\r\\neditions, all of which are confirmed as Public Domain in the U.S.\\r\\nunless a copyright notice is included.  Thus, we do not necessarily\\r\\nkeep eBooks in compliance with any particular paper edition.\\r\\n\\r\\nMost people start at our Web site which has the main PG search facility:\\r\\n\\r\\n     http://www.gutenberg.org\\r\\n\\r\\nThis Web site includes information about Project Gutenberg-tm,\\r\\nincluding how to make donations to the Project Gutenberg Literary\\r\\nArchive Foundation, how to help produce our new eBooks, and how to\\r\\nsubscribe to our email newsletter to hear about new eBooks.\\r\\n\\r\\n*** END: FULL LICENSE ***\\r\\n'"
      ]
     },
     "execution_count": 61,
     "metadata": {},
     "output_type": "execute_result"
    }
   ],
   "source": [
    "out"
   ]
  }
 ],
 "metadata": {
  "celltoolbar": "Slideshow",
  "kernelspec": {
   "display_name": "Python 3",
   "language": "python",
   "name": "python3"
  },
  "language_info": {
   "codemirror_mode": {
    "name": "ipython",
    "version": 3
   },
   "file_extension": ".py",
   "mimetype": "text/x-python",
   "name": "python",
   "nbconvert_exporter": "python",
   "pygments_lexer": "ipython3",
   "version": "3.5.2"
  }
 },
 "nbformat": 4,
 "nbformat_minor": 2
}
