{
 "cells": [
  {
   "cell_type": "markdown",
   "metadata": {
    "slideshow": {
     "slide_type": "slide"
    }
   },
   "source": [
    "# Visualization in python"
   ]
  },
  {
   "cell_type": "markdown",
   "metadata": {
    "slideshow": {
     "slide_type": "subslide"
    }
   },
   "source": [
    "Python has many visualization libraries. See this link https://www.anaconda.com/python-data-visualization-2018-why-so-many-libraries/.\n",
    "\n",
    "Some of them are domain specfic like [pastalog](https://github.com/rewonc/pastalog) for neural network visualization. We'll cover **matplotlib**, a generic visualization library and small portion of  **seaborn** for statistical visualization."
   ]
  },
  {
   "cell_type": "markdown",
   "metadata": {
    "slideshow": {
     "slide_type": "slide"
    }
   },
   "source": [
    "# [Matplotlib](https://matplotlib.org/)\n",
    "\n",
    "It is a widely used visualization library in python. As shown in above link, many other libraries(**pandas etc.**) depend on on matplotlib for visualization part. It is a massive library with extensive documentation.\n",
    "\n",
    "\n"
   ]
  },
  {
   "cell_type": "markdown",
   "metadata": {
    "slideshow": {
     "slide_type": "subslide"
    }
   },
   "source": [
    "[John D Hunter](https://en.wikipedia.org/wiki/John_D._Hunter) started matplotlib during post-doctoral research in neurobiology.\n",
    "\n",
    "Here is link to his talk [matplotlib: Lessons from middle age](https://www.youtube.com/watch?v=e3lTby5RI54) at scipy 2012"
   ]
  },
  {
   "cell_type": "markdown",
   "metadata": {
    "slideshow": {
     "slide_type": "subslide"
    }
   },
   "source": [
    "%pylab: matplotlib  has connection with MATLAB. pylab provides a MATLAB like interface for plotting.\n",
    "\n",
    "Check this page for warning.\n",
    "\n",
    "https://matplotlib.org/users/shell.html#ipython-to-the-rescue"
   ]
  },
  {
   "cell_type": "markdown",
   "metadata": {
    "slideshow": {
     "slide_type": "slide"
    }
   },
   "source": [
    "# Matplotlib structure"
   ]
  },
  {
   "cell_type": "markdown",
   "metadata": {
    "slideshow": {
     "slide_type": "subslide"
    }
   },
   "source": [
    "Everything in matplotlib is a hierarchy of nested objects.\n",
    "\n",
    "- **figure** is the outermost object\n",
    "    + It contains multiple **Axes** object(plots)"
   ]
  },
  {
   "cell_type": "code",
   "execution_count": null,
   "metadata": {
    "slideshow": {
     "slide_type": "subslide"
    }
   },
   "outputs": [],
   "source": [
    "# install it if required\n",
    "!pip install matplotlib"
   ]
  },
  {
   "cell_type": "markdown",
   "metadata": {
    "slideshow": {
     "slide_type": "slide"
    }
   },
   "source": [
    "# Anatomy of figures"
   ]
  },
  {
   "cell_type": "markdown",
   "metadata": {
    "slideshow": {
     "slide_type": "subslide"
    }
   },
   "source": [
    "<img height=\"500\" width=\"700\" src=\"https://matplotlib.org/_images/anatomy.png\">"
   ]
  },
  {
   "cell_type": "code",
   "execution_count": 1,
   "metadata": {
    "slideshow": {
     "slide_type": "subslide"
    }
   },
   "outputs": [],
   "source": [
    "import matplotlib.pyplot as plt\n",
    "# to inline the graphics in notebook\n",
    "%matplotlib inline "
   ]
  },
  {
   "cell_type": "code",
   "execution_count": 8,
   "metadata": {
    "slideshow": {
     "slide_type": "subslide"
    }
   },
   "outputs": [
    {
     "name": "stdout",
     "output_type": "stream",
     "text": [
      "Help on function subplots in module matplotlib.pyplot:\n",
      "\n",
      "subplots(nrows=1, ncols=1, sharex=False, sharey=False, squeeze=True, subplot_kw=None, gridspec_kw=None, **fig_kw)\n",
      "    Create a figure and a set of subplots.\n",
      "    \n",
      "    This utility wrapper makes it convenient to create common layouts of\n",
      "    subplots, including the enclosing figure object, in a single call.\n",
      "    \n",
      "    Parameters\n",
      "    ----------\n",
      "    nrows, ncols : int, optional, default: 1\n",
      "        Number of rows/columns of the subplot grid.\n",
      "    \n",
      "    sharex, sharey : bool or {'none', 'all', 'row', 'col'}, default: False\n",
      "        Controls sharing of properties among x (`sharex`) or y (`sharey`)\n",
      "        axes:\n",
      "    \n",
      "            - True or 'all': x- or y-axis will be shared among all\n",
      "              subplots.\n",
      "            - False or 'none': each subplot x- or y-axis will be\n",
      "              independent.\n",
      "            - 'row': each subplot row will share an x- or y-axis.\n",
      "            - 'col': each subplot column will share an x- or y-axis.\n",
      "    \n",
      "        When subplots have a shared x-axis along a column, only the x tick\n",
      "        labels of the bottom subplot are created. Similarly, when subplots\n",
      "        have a shared y-axis along a row, only the y tick labels of the first\n",
      "        column subplot are created. To later turn other subplots' ticklabels\n",
      "        on, use `~matplotlib.axes.Axes.tick_params`.\n",
      "    \n",
      "    squeeze : bool, optional, default: True\n",
      "        - If True, extra dimensions are squeezed out from the returned\n",
      "          array of `~matplotlib.axes.Axes`:\n",
      "    \n",
      "            - if only one subplot is constructed (nrows=ncols=1), the\n",
      "              resulting single Axes object is returned as a scalar.\n",
      "            - for Nx1 or 1xM subplots, the returned object is a 1D numpy\n",
      "              object array of Axes objects.\n",
      "            - for NxM, subplots with N>1 and M>1 are returned as a 2D array.\n",
      "    \n",
      "        - If False, no squeezing at all is done: the returned Axes object is\n",
      "          always a 2D array containing Axes instances, even if it ends up\n",
      "          being 1x1.\n",
      "    \n",
      "    num : integer or string, optional, default: None\n",
      "        A `.pyplot.figure` keyword that sets the figure number or label.\n",
      "    \n",
      "    subplot_kw : dict, optional\n",
      "        Dict with keywords passed to the\n",
      "        `~matplotlib.figure.Figure.add_subplot` call used to create each\n",
      "        subplot.\n",
      "    \n",
      "    gridspec_kw : dict, optional\n",
      "        Dict with keywords passed to the `~matplotlib.gridspec.GridSpec`\n",
      "        constructor used to create the grid the subplots are placed on.\n",
      "    \n",
      "    **fig_kw :\n",
      "        All additional keyword arguments are passed to the\n",
      "        `.pyplot.figure` call.\n",
      "    \n",
      "    Returns\n",
      "    -------\n",
      "    fig : `~.figure.Figure`\n",
      "    \n",
      "    ax : `.axes.Axes` object or array of Axes objects.\n",
      "        *ax* can be either a single `~matplotlib.axes.Axes` object or an\n",
      "        array of Axes objects if more than one subplot was created.  The\n",
      "        dimensions of the resulting array can be controlled with the squeeze\n",
      "        keyword, see above.\n",
      "    \n",
      "    Examples\n",
      "    --------\n",
      "    ::\n",
      "    \n",
      "        #First create some toy data:\n",
      "        x = np.linspace(0, 2*np.pi, 400)\n",
      "        y = np.sin(x**2)\n",
      "    \n",
      "        #Creates just a figure and only one subplot\n",
      "        fig, ax = plt.subplots()\n",
      "        ax.plot(x, y)\n",
      "        ax.set_title('Simple plot')\n",
      "    \n",
      "        #Creates two subplots and unpacks the output array immediately\n",
      "        f, (ax1, ax2) = plt.subplots(1, 2, sharey=True)\n",
      "        ax1.plot(x, y)\n",
      "        ax1.set_title('Sharing Y axis')\n",
      "        ax2.scatter(x, y)\n",
      "    \n",
      "        #Creates four polar axes, and accesses them through the returned array\n",
      "        fig, axes = plt.subplots(2, 2, subplot_kw=dict(polar=True))\n",
      "        axes[0, 0].plot(x, y)\n",
      "        axes[1, 1].scatter(x, y)\n",
      "    \n",
      "        #Share a X axis with each column of subplots\n",
      "        plt.subplots(2, 2, sharex='col')\n",
      "    \n",
      "        #Share a Y axis with each row of subplots\n",
      "        plt.subplots(2, 2, sharey='row')\n",
      "    \n",
      "        #Share both X and Y axes with all subplots\n",
      "        plt.subplots(2, 2, sharex='all', sharey='all')\n",
      "    \n",
      "        #Note that this is the same as\n",
      "        plt.subplots(2, 2, sharex=True, sharey=True)\n",
      "    \n",
      "        #Creates figure number 10 with a single subplot\n",
      "        #and clears it if it already exists.\n",
      "        fig, ax=plt.subplots(num=10, clear=True)\n",
      "    \n",
      "    See Also\n",
      "    --------\n",
      "    .pyplot.figure\n",
      "    .pyplot.subplot\n",
      "    .pyplot.axes\n",
      "    .Figure.subplots\n",
      "    .Figure.add_subplot\n",
      "\n"
     ]
    }
   ],
   "source": [
    "help(plt.subplots)"
   ]
  },
  {
   "cell_type": "code",
   "execution_count": 3,
   "metadata": {
    "slideshow": {
     "slide_type": "subslide"
    }
   },
   "outputs": [
    {
     "name": "stdout",
     "output_type": "stream",
     "text": [
      "<class 'matplotlib.figure.Figure'>\n",
      "<class 'matplotlib.axes._subplots.AxesSubplot'>\n"
     ]
    },
    {
     "data": {
      "image/png": "[encoded data removed]",
      "text/plain": [
       "<Figure size 432x288 with 1 Axes>"
      ]
     },
     "metadata": {
      "needs_background": "light"
     },
     "output_type": "display_data"
    }
   ],
   "source": [
    "f, ax = plt.subplots()\n",
    "print(type(f))\n",
    "print(type(ax))"
   ]
  },
  {
   "cell_type": "markdown",
   "metadata": {
    "slideshow": {
     "slide_type": "subslide"
    }
   },
   "source": [
    "Let's see some nested objects"
   ]
  },
  {
   "cell_type": "code",
   "execution_count": 4,
   "metadata": {
    "slideshow": {
     "slide_type": "fragment"
    }
   },
   "outputs": [
    {
     "name": "stdout",
     "output_type": "stream",
     "text": [
      "[<matplotlib.axes._subplots.AxesSubplot object at 0x7fcf83f9fc88>]\n"
     ]
    }
   ],
   "source": [
    "print(f.axes)\n"
   ]
  },
  {
   "cell_type": "code",
   "execution_count": 17,
   "metadata": {
    "slideshow": {
     "slide_type": "fragment"
    }
   },
   "outputs": [
    {
     "data": {
      "text/plain": [
       "['__class__',\n",
       " '__delattr__',\n",
       " '__dict__',\n",
       " '__dir__',\n",
       " '__doc__',\n",
       " '__eq__',\n",
       " '__format__',\n",
       " '__ge__',\n",
       " '__getattribute__',\n",
       " '__getstate__',\n",
       " '__gt__',\n",
       " '__hash__',\n",
       " '__init__',\n",
       " '__le__',\n",
       " '__lt__',\n",
       " '__module__',\n",
       " '__ne__',\n",
       " '__new__',\n",
       " '__reduce__',\n",
       " '__reduce_ex__',\n",
       " '__repr__',\n",
       " '__setattr__',\n",
       " '__setstate__',\n",
       " '__sizeof__',\n",
       " '__str__',\n",
       " '__subclasshook__',\n",
       " '__weakref__',\n",
       " '_add_text',\n",
       " '_adjustable',\n",
       " '_agg_filter',\n",
       " '_alpha',\n",
       " '_anchor',\n",
       " '_animated',\n",
       " '_aspect',\n",
       " '_autoscaleXon',\n",
       " '_autoscaleYon',\n",
       " '_autotitlepos',\n",
       " '_axes',\n",
       " '_axes_class',\n",
       " '_axes_locator',\n",
       " '_axisbelow',\n",
       " '_cachedRenderer',\n",
       " '_clipon',\n",
       " '_clippath',\n",
       " '_connected',\n",
       " '_contains',\n",
       " '_current_image',\n",
       " '_facecolor',\n",
       " '_frameon',\n",
       " '_gci',\n",
       " '_gen_axes_patch',\n",
       " '_gen_axes_spines',\n",
       " '_get_axis_list',\n",
       " '_get_lines',\n",
       " '_get_patches_for_fill',\n",
       " '_get_view',\n",
       " '_gid',\n",
       " '_gridOn',\n",
       " '_hold',\n",
       " '_in_layout',\n",
       " '_init_axis',\n",
       " '_label',\n",
       " '_layoutbox',\n",
       " '_left_title',\n",
       " '_make_twin_axes',\n",
       " '_mouseover',\n",
       " '_mouseover_set',\n",
       " '_navigate',\n",
       " '_navigate_mode',\n",
       " '_oid',\n",
       " '_on_units_changed',\n",
       " '_originalPosition',\n",
       " '_path_effects',\n",
       " '_pcolorargs',\n",
       " '_picker',\n",
       " '_position',\n",
       " '_poslayoutbox',\n",
       " '_process_unit_info',\n",
       " '_prop_order',\n",
       " '_propobservers',\n",
       " '_quiver_units',\n",
       " '_rasterization_zorder',\n",
       " '_rasterized',\n",
       " '_remove_legend',\n",
       " '_remove_method',\n",
       " '_right_title',\n",
       " '_sci',\n",
       " '_set_artist_props',\n",
       " '_set_gc_clip',\n",
       " '_set_lim_and_transforms',\n",
       " '_set_position',\n",
       " '_set_title_offset_trans',\n",
       " '_set_view',\n",
       " '_set_view_from_bbox',\n",
       " '_shared_x_axes',\n",
       " '_shared_y_axes',\n",
       " '_sharex',\n",
       " '_sharey',\n",
       " '_sketch',\n",
       " '_snap',\n",
       " '_stale',\n",
       " '_sticky_edges',\n",
       " '_subplotspec',\n",
       " '_tight',\n",
       " '_transform',\n",
       " '_transformSet',\n",
       " '_twinned_axes',\n",
       " '_update_image_limits',\n",
       " '_update_line_limits',\n",
       " '_update_patch_limits',\n",
       " '_update_title_position',\n",
       " '_update_transScale',\n",
       " '_url',\n",
       " '_use_sticky_edges',\n",
       " '_validate_converted_limits',\n",
       " '_visible',\n",
       " '_xaxis_transform',\n",
       " '_xcid',\n",
       " '_xmargin',\n",
       " '_yaxis_transform',\n",
       " '_ycid',\n",
       " '_ymargin',\n",
       " 'acorr',\n",
       " 'add_artist',\n",
       " 'add_callback',\n",
       " 'add_child_axes',\n",
       " 'add_collection',\n",
       " 'add_container',\n",
       " 'add_image',\n",
       " 'add_line',\n",
       " 'add_patch',\n",
       " 'add_table',\n",
       " 'aname',\n",
       " 'angle_spectrum',\n",
       " 'annotate',\n",
       " 'apply_aspect',\n",
       " 'arrow',\n",
       " 'artists',\n",
       " 'autoscale',\n",
       " 'autoscale_view',\n",
       " 'axes',\n",
       " 'axhline',\n",
       " 'axhspan',\n",
       " 'axis',\n",
       " 'axison',\n",
       " 'axvline',\n",
       " 'axvspan',\n",
       " 'bar',\n",
       " 'barbs',\n",
       " 'barh',\n",
       " 'bbox',\n",
       " 'boxplot',\n",
       " 'broken_barh',\n",
       " 'bxp',\n",
       " 'callbacks',\n",
       " 'can_pan',\n",
       " 'can_zoom',\n",
       " 'change_geometry',\n",
       " 'child_axes',\n",
       " 'cla',\n",
       " 'clabel',\n",
       " 'clear',\n",
       " 'clipbox',\n",
       " 'cohere',\n",
       " 'colNum',\n",
       " 'collections',\n",
       " 'containers',\n",
       " 'contains',\n",
       " 'contains_point',\n",
       " 'contour',\n",
       " 'contourf',\n",
       " 'convert_xunits',\n",
       " 'convert_yunits',\n",
       " 'csd',\n",
       " 'dataLim',\n",
       " 'drag_pan',\n",
       " 'draw',\n",
       " 'draw_artist',\n",
       " 'end_pan',\n",
       " 'errorbar',\n",
       " 'eventplot',\n",
       " 'eventson',\n",
       " 'figbox',\n",
       " 'figure',\n",
       " 'fill',\n",
       " 'fill_between',\n",
       " 'fill_betweenx',\n",
       " 'findobj',\n",
       " 'fmt_xdata',\n",
       " 'fmt_ydata',\n",
       " 'format_coord',\n",
       " 'format_cursor_data',\n",
       " 'format_xdata',\n",
       " 'format_ydata',\n",
       " 'get_adjustable',\n",
       " 'get_agg_filter',\n",
       " 'get_alpha',\n",
       " 'get_anchor',\n",
       " 'get_animated',\n",
       " 'get_aspect',\n",
       " 'get_autoscale_on',\n",
       " 'get_autoscalex_on',\n",
       " 'get_autoscaley_on',\n",
       " 'get_axes_locator',\n",
       " 'get_axisbelow',\n",
       " 'get_children',\n",
       " 'get_clip_box',\n",
       " 'get_clip_on',\n",
       " 'get_clip_path',\n",
       " 'get_contains',\n",
       " 'get_cursor_data',\n",
       " 'get_data_ratio',\n",
       " 'get_data_ratio_log',\n",
       " 'get_default_bbox_extra_artists',\n",
       " 'get_facecolor',\n",
       " 'get_fc',\n",
       " 'get_figure',\n",
       " 'get_frame_on',\n",
       " 'get_geometry',\n",
       " 'get_gid',\n",
       " 'get_gridspec',\n",
       " 'get_images',\n",
       " 'get_in_layout',\n",
       " 'get_label',\n",
       " 'get_legend',\n",
       " 'get_legend_handles_labels',\n",
       " 'get_lines',\n",
       " 'get_navigate',\n",
       " 'get_navigate_mode',\n",
       " 'get_path_effects',\n",
       " 'get_picker',\n",
       " 'get_position',\n",
       " 'get_rasterization_zorder',\n",
       " 'get_rasterized',\n",
       " 'get_renderer_cache',\n",
       " 'get_shared_x_axes',\n",
       " 'get_shared_y_axes',\n",
       " 'get_sketch_params',\n",
       " 'get_snap',\n",
       " 'get_subplotspec',\n",
       " 'get_tightbbox',\n",
       " 'get_title',\n",
       " 'get_transform',\n",
       " 'get_transformed_clip_path_and_affine',\n",
       " 'get_url',\n",
       " 'get_visible',\n",
       " 'get_window_extent',\n",
       " 'get_xaxis',\n",
       " 'get_xaxis_text1_transform',\n",
       " 'get_xaxis_text2_transform',\n",
       " 'get_xaxis_transform',\n",
       " 'get_xbound',\n",
       " 'get_xgridlines',\n",
       " 'get_xlabel',\n",
       " 'get_xlim',\n",
       " 'get_xmajorticklabels',\n",
       " 'get_xminorticklabels',\n",
       " 'get_xscale',\n",
       " 'get_xticklabels',\n",
       " 'get_xticklines',\n",
       " 'get_xticks',\n",
       " 'get_yaxis',\n",
       " 'get_yaxis_text1_transform',\n",
       " 'get_yaxis_text2_transform',\n",
       " 'get_yaxis_transform',\n",
       " 'get_ybound',\n",
       " 'get_ygridlines',\n",
       " 'get_ylabel',\n",
       " 'get_ylim',\n",
       " 'get_ymajorticklabels',\n",
       " 'get_yminorticklabels',\n",
       " 'get_yscale',\n",
       " 'get_yticklabels',\n",
       " 'get_yticklines',\n",
       " 'get_yticks',\n",
       " 'get_zorder',\n",
       " 'grid',\n",
       " 'has_data',\n",
       " 'have_units',\n",
       " 'hexbin',\n",
       " 'hist',\n",
       " 'hist2d',\n",
       " 'hitlist',\n",
       " 'hlines',\n",
       " 'ignore_existing_data_limits',\n",
       " 'images',\n",
       " 'imshow',\n",
       " 'in_axes',\n",
       " 'indicate_inset',\n",
       " 'indicate_inset_zoom',\n",
       " 'inset_axes',\n",
       " 'invert_xaxis',\n",
       " 'invert_yaxis',\n",
       " 'is_figure_set',\n",
       " 'is_first_col',\n",
       " 'is_first_row',\n",
       " 'is_last_col',\n",
       " 'is_last_row',\n",
       " 'is_transform_set',\n",
       " 'label_outer',\n",
       " 'legend',\n",
       " 'legend_',\n",
       " 'lines',\n",
       " 'locator_params',\n",
       " 'loglog',\n",
       " 'magnitude_spectrum',\n",
       " 'margins',\n",
       " 'matshow',\n",
       " 'minorticks_off',\n",
       " 'minorticks_on',\n",
       " 'mouseover',\n",
       " 'mouseover_set',\n",
       " 'name',\n",
       " 'numCols',\n",
       " 'numRows',\n",
       " 'patch',\n",
       " 'patches',\n",
       " 'pchanged',\n",
       " 'pcolor',\n",
       " 'pcolorfast',\n",
       " 'pcolormesh',\n",
       " 'phase_spectrum',\n",
       " 'pick',\n",
       " 'pickable',\n",
       " 'pie',\n",
       " 'plot',\n",
       " 'plot_date',\n",
       " 'properties',\n",
       " 'psd',\n",
       " 'quiver',\n",
       " 'quiverkey',\n",
       " 'redraw_in_frame',\n",
       " 'relim',\n",
       " 'remove',\n",
       " 'remove_callback',\n",
       " 'reset_position',\n",
       " 'rowNum',\n",
       " 'scatter',\n",
       " 'semilogx',\n",
       " 'semilogy',\n",
       " 'set',\n",
       " 'set_adjustable',\n",
       " 'set_agg_filter',\n",
       " 'set_alpha',\n",
       " 'set_anchor',\n",
       " 'set_animated',\n",
       " 'set_aspect',\n",
       " 'set_autoscale_on',\n",
       " 'set_autoscalex_on',\n",
       " 'set_autoscaley_on',\n",
       " 'set_axes_locator',\n",
       " 'set_axis_off',\n",
       " 'set_axis_on',\n",
       " 'set_axisbelow',\n",
       " 'set_clip_box',\n",
       " 'set_clip_on',\n",
       " 'set_clip_path',\n",
       " 'set_contains',\n",
       " 'set_facecolor',\n",
       " 'set_fc',\n",
       " 'set_figure',\n",
       " 'set_frame_on',\n",
       " 'set_gid',\n",
       " 'set_in_layout',\n",
       " 'set_label',\n",
       " 'set_navigate',\n",
       " 'set_navigate_mode',\n",
       " 'set_path_effects',\n",
       " 'set_picker',\n",
       " 'set_position',\n",
       " 'set_prop_cycle',\n",
       " 'set_rasterization_zorder',\n",
       " 'set_rasterized',\n",
       " 'set_sketch_params',\n",
       " 'set_snap',\n",
       " 'set_subplotspec',\n",
       " 'set_title',\n",
       " 'set_transform',\n",
       " 'set_url',\n",
       " 'set_visible',\n",
       " 'set_xbound',\n",
       " 'set_xlabel',\n",
       " 'set_xlim',\n",
       " 'set_xmargin',\n",
       " 'set_xscale',\n",
       " 'set_xticklabels',\n",
       " 'set_xticks',\n",
       " 'set_ybound',\n",
       " 'set_ylabel',\n",
       " 'set_ylim',\n",
       " 'set_ymargin',\n",
       " 'set_yscale',\n",
       " 'set_yticklabels',\n",
       " 'set_yticks',\n",
       " 'set_zorder',\n",
       " 'specgram',\n",
       " 'spines',\n",
       " 'spy',\n",
       " 'stackplot',\n",
       " 'stale',\n",
       " 'stale_callback',\n",
       " 'start_pan',\n",
       " 'stem',\n",
       " 'step',\n",
       " 'sticky_edges',\n",
       " 'streamplot',\n",
       " 'table',\n",
       " 'tables',\n",
       " 'text',\n",
       " 'texts',\n",
       " 'tick_params',\n",
       " 'ticklabel_format',\n",
       " 'title',\n",
       " 'titleOffsetTrans',\n",
       " 'transAxes',\n",
       " 'transData',\n",
       " 'transLimits',\n",
       " 'transScale',\n",
       " 'tricontour',\n",
       " 'tricontourf',\n",
       " 'tripcolor',\n",
       " 'triplot',\n",
       " 'twinx',\n",
       " 'twiny',\n",
       " 'update',\n",
       " 'update_datalim',\n",
       " 'update_datalim_bounds',\n",
       " 'update_from',\n",
       " 'update_params',\n",
       " 'use_sticky_edges',\n",
       " 'viewLim',\n",
       " 'violin',\n",
       " 'violinplot',\n",
       " 'vlines',\n",
       " 'xaxis',\n",
       " 'xaxis_date',\n",
       " 'xaxis_inverted',\n",
       " 'xcorr',\n",
       " 'yaxis',\n",
       " 'yaxis_date',\n",
       " 'yaxis_inverted',\n",
       " 'zorder']"
      ]
     },
     "execution_count": 17,
     "metadata": {},
     "output_type": "execute_result"
    }
   ],
   "source": [
    "dir(f.axes[0])"
   ]
  },
  {
   "cell_type": "markdown",
   "metadata": {
    "slideshow": {
     "slide_type": "subslide"
    }
   },
   "source": [
    "Let's see axes[x,y] property"
   ]
  },
  {
   "cell_type": "code",
   "execution_count": 5,
   "metadata": {
    "slideshow": {
     "slide_type": "fragment"
    }
   },
   "outputs": [
    {
     "name": "stdout",
     "output_type": "stream",
     "text": [
      "<class 'matplotlib.axis.XAxis'>\n"
     ]
    }
   ],
   "source": [
    "print(type(f.axes[0].xaxis))"
   ]
  },
  {
   "cell_type": "code",
   "execution_count": 31,
   "metadata": {
    "slideshow": {
     "slide_type": "fragment"
    }
   },
   "outputs": [
    {
     "name": "stdout",
     "output_type": "stream",
     "text": [
      "<class 'matplotlib.axis.XTick'>\n",
      "<class 'matplotlib.axis.XTick'>\n",
      "<class 'matplotlib.text.Text'>\n"
     ]
    }
   ],
   "source": [
    "print(type(f.axes[0].xaxis.get_major_ticks()[0]))\n",
    "print(type(f.axes[0].xaxis.majorTicks[0]))\n",
    "print(type(f.axes[0].xaxis.label))\n"
   ]
  },
  {
   "cell_type": "markdown",
   "metadata": {
    "slideshow": {
     "slide_type": "slide"
    }
   },
   "source": [
    "# plt(pyplot) interface\n",
    "function in plt operate on current figure , axes or creating one if it doesn't exists."
   ]
  },
  {
   "cell_type": "code",
   "execution_count": 6,
   "metadata": {
    "slideshow": {
     "slide_type": "fragment"
    }
   },
   "outputs": [
    {
     "name": "stdout",
     "output_type": "stream",
     "text": [
      "Figure(432x288)\n",
      "AxesSubplot(0.125,0.125;0.775x0.755)\n"
     ]
    },
    {
     "data": {
      "image/png": "[encoded data removed]",
      "text/plain": [
       "<Figure size 432x288 with 1 Axes>"
      ]
     },
     "metadata": {
      "needs_background": "light"
     },
     "output_type": "display_data"
    }
   ],
   "source": [
    "print(plt.gcf())\n",
    "print(plt.gca())\n"
   ]
  },
  {
   "cell_type": "markdown",
   "metadata": {
    "slideshow": {
     "slide_type": "subslide"
    }
   },
   "source": [
    "# An example"
   ]
  },
  {
   "cell_type": "code",
   "execution_count": 7,
   "metadata": {
    "slideshow": {
     "slide_type": "fragment"
    }
   },
   "outputs": [
    {
     "data": {
      "text/plain": [
       "Text(0.5, 1.0, 'sin(x)')"
      ]
     },
     "execution_count": 7,
     "metadata": {},
     "output_type": "execute_result"
    },
    {
     "data": {
      "image/png": "[encoded data removed]",
      "text/plain": [
       "<Figure size 432x288 with 1 Axes>"
      ]
     },
     "metadata": {
      "needs_background": "light"
     },
     "output_type": "display_data"
    }
   ],
   "source": [
    "import numpy as np\n",
    "x = np.linspace(-10,10,100)\n",
    "plt.plot(x, np.sin(x))\n",
    "plt.title('sin(x)')"
   ]
  },
  {
   "cell_type": "markdown",
   "metadata": {
    "slideshow": {
     "slide_type": "subslide"
    }
   },
   "source": [
    "see how plot operates on current axes\n",
    "\n",
    "- plot \n",
    "https://github.com/matplotlib/matplotlib/blob/e0d31298647954cffcb415fbf87f0332e711aed5/lib/matplotlib/pyplot.py#L2771\n",
    "\n",
    "- title\n",
    "https://github.com/matplotlib/matplotlib/blob/e0d31298647954cffcb415fbf87f0332e711aed5/lib/matplotlib/pyplot.py#L3039"
   ]
  },
  {
   "cell_type": "markdown",
   "metadata": {
    "slideshow": {
     "slide_type": "slide"
    }
   },
   "source": [
    "# plot revisit\n",
    "plotting x vs y as line or marker\n",
    "\n",
    "## Let's explicitly create figure and axes\n"
   ]
  },
  {
   "cell_type": "code",
   "execution_count": 15,
   "metadata": {
    "slideshow": {
     "slide_type": "subslide"
    }
   },
   "outputs": [
    {
     "data": {
      "image/png": "[encoded data removed]",
      "text/plain": [
       "<Figure size 432x288 with 1 Axes>"
      ]
     },
     "metadata": {
      "needs_background": "light"
     },
     "output_type": "display_data"
    }
   ],
   "source": [
    "f, ax = plt.subplots()\n",
    "ax.plot(x, np.tan(x), 'm-', lw=8)\n",
    "ax.set_title('plot of $x$ vs $tan(x)$')\n",
    "ax.set_xlabel('x(radian)')\n",
    "ax.set_ylabel('$tan(x)$')\n",
    "ax.grid(which='major', axis='both', linestyle='--')\n",
    "\n"
   ]
  },
  {
   "cell_type": "markdown",
   "metadata": {
    "slideshow": {
     "slide_type": "fragment"
    }
   },
   "source": [
    "What happened here\n",
    "- subplots created a figure and a axes\n",
    "- used ax for \n",
    "    + plot created line plot with line property(color red and style --)\n",
    "    + set labels\n",
    "    + set grid"
   ]
  },
  {
   "cell_type": "markdown",
   "metadata": {
    "slideshow": {
     "slide_type": "subslide"
    }
   },
   "source": [
    "# hist plot"
   ]
  },
  {
   "cell_type": "code",
   "execution_count": 21,
   "metadata": {
    "slideshow": {
     "slide_type": "subslide"
    }
   },
   "outputs": [
    {
     "name": "stdout",
     "output_type": "stream",
     "text": [
      "[ 5.39692261  5.84563402  6.29434543  6.74305684  7.19176825  7.64047966\n",
      "  8.08919107  8.53790248  8.98661389  9.4353253   9.88403671 10.33274812\n",
      " 10.78145953 11.23017094 11.67888235 12.12759376 12.57630517 13.02501658\n",
      " 13.47372799 13.9224394  14.37115081]\n",
      "[0.02228604 0.04457208 0.         0.02228604 0.02228604 0.1114302\n",
      " 0.15600227 0.22286039 0.22286039 0.20057435 0.20057435 0.24514643\n",
      " 0.17828831 0.13371623 0.13371623 0.13371623 0.02228604 0.08914416\n",
      " 0.02228604 0.04457208]\n"
     ]
    },
    {
     "data": {
      "image/png": "[encoded data removed]",
      "text/plain": [
       "<Figure size 1008x504 with 1 Axes>"
      ]
     },
     "metadata": {
      "needs_background": "light"
     },
     "output_type": "display_data"
    }
   ],
   "source": [
    "import numpy as np\n",
    "np.random.seed(1)\n",
    "mu =10\n",
    "std=2\n",
    "y1 = 2*np.random.randn(100) + mu\n",
    "\n",
    "f, ax = plt.subplots( figsize=(14 ,7))\n",
    "n, bins, patches=ax.hist(y1, bins=20, color='m', density=True)\n",
    "ax.set_title('histogram of normal distribution with mean {} and std= {}'.format(mu, std))\n",
    "ax.set_xlabel('sample from')\n",
    "ax.set_ylabel('densty')\n",
    "ax.grid(which='major', axis='both', linestyle='-')\n",
    "\n",
    "print(bins)\n",
    "print(n)"
   ]
  },
  {
   "cell_type": "markdown",
   "metadata": {
    "slideshow": {
     "slide_type": "subslide"
    }
   },
   "source": [
    "# Let's draw expected distribution"
   ]
  },
  {
   "cell_type": "code",
   "execution_count": 22,
   "metadata": {
    "slideshow": {
     "slide_type": "subslide"
    }
   },
   "outputs": [
    {
     "data": {
      "image/png": "[encoded data removed]",
      "text/plain": [
       "<Figure size 1008x504 with 1 Axes>"
      ]
     },
     "metadata": {
      "needs_background": "light"
     },
     "output_type": "display_data"
    }
   ],
   "source": [
    "from scipy.stats import norm\n",
    "\n",
    "np.random.seed(1)\n",
    "mu =10\n",
    "std=2\n",
    "y1 = 2*np.random.randn(100) + mu\n",
    "\n",
    "\n",
    "f, ax = plt.subplots( figsize=(14 ,7))\n",
    "n, bins, patches=ax.hist(y1, bins=20, color='m', density= True,alpha= .2)\n",
    "y_density = norm.pdf(bins, mu, std)\n",
    "\n",
    "ax.plot(bins, y_density, 'r-', linewidth=2.5)\n",
    "ax.set_title('histogram of normal distribution with mean {} and std= {}'.format(mu, std))\n",
    "ax.set_xlabel('sample from')\n",
    "ax.set_ylabel('densty')\n",
    "ax.grid(True)\n"
   ]
  },
  {
   "cell_type": "markdown",
   "metadata": {
    "slideshow": {
     "slide_type": "subslide"
    }
   },
   "source": [
    "# note bins are open inter val [   ) except last which is closed interval"
   ]
  },
  {
   "cell_type": "markdown",
   "metadata": {
    "slideshow": {
     "slide_type": "subslide"
    }
   },
   "source": [
    "## scatter and hist plot"
   ]
  },
  {
   "cell_type": "code",
   "execution_count": 23,
   "metadata": {
    "slideshow": {
     "slide_type": "subslide"
    }
   },
   "outputs": [
    {
     "name": "stdout",
     "output_type": "stream",
     "text": [
      "(100,)\n",
      "(100, 2)\n"
     ]
    },
    {
     "data": {
      "text/plain": [
       "Text(0.5, 1.0, 'x1 and x2 histogram')"
      ]
     },
     "execution_count": 23,
     "metadata": {},
     "output_type": "execute_result"
    },
    {
     "data": {
      "image/png": "[encoded data removed]",
      "text/plain": [
       "<Figure size 1008x504 with 2 Axes>"
      ]
     },
     "metadata": {
      "needs_background": "light"
     },
     "output_type": "display_data"
    }
   ],
   "source": [
    "# Try stacked option\n",
    "mu =10\n",
    "x1 = np.random.randn(100) + mu\n",
    "x2 = np.random.randn(100) + mu\n",
    "\n",
    "print(x1.shape)\n",
    "x_vstacked = np.column_stack((x1,x2))\n",
    "                             \n",
    "print(x_vstacked.shape)\n",
    "f, ax = plt.subplots(nrows=1, ncols=2, figsize=(14 ,7))\n",
    "ax[0].scatter(x1, x2, marker= 'o')\n",
    "ax[0].set_title('scatter plot x1 vs x2 from normal distribution with mean {}'.format(mu))\n",
    "ax[0].set_xlabel('x1')\n",
    "ax[0].set_ylabel('x2')\n",
    "ax[0].grid(which='major', axis='both', linestyle='--')\n",
    "\n",
    "ax[1].hist(x_vstacked, bins =10, label=('x1', 'x2'))\n",
    "\n",
    "ax[1].legend(loc='upper right')\n",
    "\n",
    "ax[1].set_title('x1 and x2 histogram')\n",
    "\n"
   ]
  },
  {
   "cell_type": "markdown",
   "metadata": {
    "slideshow": {
     "slide_type": "slide"
    }
   },
   "source": [
    "# More subplots customization gridspec\n",
    "## Let's use data from\n",
    "\n",
    "http://data.opencolorado.org/dataset/city-and-county-of-denver-real-property-apartment-and-commercial-characteristics"
   ]
  },
  {
   "cell_type": "code",
   "execution_count": 24,
   "metadata": {
    "slideshow": {
     "slide_type": "subslide"
    }
   },
   "outputs": [],
   "source": [
    "import pandas as pd"
   ]
  },
  {
   "cell_type": "code",
   "execution_count": 25,
   "metadata": {
    "slideshow": {
     "slide_type": "subslide"
    }
   },
   "outputs": [
    {
     "name": "stdout",
     "output_type": "stream",
     "text": [
      "  % Total    % Received % Xferd  Average Speed   Time    Time     Time  Current\n",
      "                                 Dload  Upload   Total   Spent    Left  Speed\n",
      "100 10.1M  100 10.1M    0     0  4405k      0  0:00:02  0:00:02 --:--:-- 4407k\n"
     ]
    }
   ],
   "source": [
    "!curl -O https://www.denvergov.org/media/gis/DataCatalog/real_property_apartment_and_commercial_characteristics/csv/real_property_apartment_and_commercial_characteristics.csv"
   ]
  },
  {
   "cell_type": "code",
   "execution_count": 26,
   "metadata": {
    "slideshow": {
     "slide_type": "fragment"
    }
   },
   "outputs": [],
   "source": [
    "p_df = pd.read_csv('real_property_apartment_and_commercial_characteristics.csv', encoding = \"ISO-8859-1\")"
   ]
  },
  {
   "cell_type": "code",
   "execution_count": 27,
   "metadata": {
    "slideshow": {
     "slide_type": "subslide"
    }
   },
   "outputs": [
    {
     "data": {
      "text/html": [
       "<div>\n",
       "<style scoped>\n",
       "    .dataframe tbody tr th:only-of-type {\n",
       "        vertical-align: middle;\n",
       "    }\n",
       "\n",
       "    .dataframe tbody tr th {\n",
       "        vertical-align: top;\n",
       "    }\n",
       "\n",
       "    .dataframe thead th {\n",
       "        text-align: right;\n",
       "    }\n",
       "</style>\n",
       "<table border=\"1\" class=\"dataframe\">\n",
       "  <thead>\n",
       "    <tr style=\"text-align: right;\">\n",
       "      <th></th>\n",
       "      <th>PIN</th>\n",
       "      <th>SCHEDNUM</th>\n",
       "      <th>CD</th>\n",
       "      <th>OFCARD</th>\n",
       "      <th>OWNER</th>\n",
       "      <th>CO_OWNER</th>\n",
       "      <th>OWNER_NUM</th>\n",
       "      <th>OWNER_DIR</th>\n",
       "      <th>OWNER_ST</th>\n",
       "      <th>OWNER_TYPE</th>\n",
       "      <th>...</th>\n",
       "      <th>ASMT_APPR_LAND</th>\n",
       "      <th>TOTAL_VALUE</th>\n",
       "      <th>ASDLAND</th>\n",
       "      <th>ASSESS_VALUE</th>\n",
       "      <th>ASMT_TAXABLE</th>\n",
       "      <th>ASMT_EXEMPT_AMT</th>\n",
       "      <th>TOT_UNITS</th>\n",
       "      <th>NBHD_1</th>\n",
       "      <th>NBHD_1_CN</th>\n",
       "      <th>LEGL_DESCRIPTION</th>\n",
       "    </tr>\n",
       "  </thead>\n",
       "  <tbody>\n",
       "    <tr>\n",
       "      <th>0</th>\n",
       "      <td>160431257</td>\n",
       "      <td>1100001000</td>\n",
       "      <td>1</td>\n",
       "      <td>1</td>\n",
       "      <td>CITY AND COUNTY OF DENVER</td>\n",
       "      <td>NaN</td>\n",
       "      <td>201</td>\n",
       "      <td>W</td>\n",
       "      <td>COLFAX</td>\n",
       "      <td>AVE</td>\n",
       "      <td>...</td>\n",
       "      <td>3987400</td>\n",
       "      <td>3987400</td>\n",
       "      <td>1156346</td>\n",
       "      <td>1156346</td>\n",
       "      <td>0</td>\n",
       "      <td>1156350</td>\n",
       "      <td>0</td>\n",
       "      <td>4</td>\n",
       "      <td>GATEWAY N</td>\n",
       "      <td>T3 R66 S1 BEG NW COR E         5287.84FT S 150...</td>\n",
       "    </tr>\n",
       "    <tr>\n",
       "      <th>1</th>\n",
       "      <td>160431265</td>\n",
       "      <td>2100002000</td>\n",
       "      <td>1</td>\n",
       "      <td>1</td>\n",
       "      <td>CITY AND COUNTY OF DENVER</td>\n",
       "      <td>NaN</td>\n",
       "      <td>201</td>\n",
       "      <td>W</td>\n",
       "      <td>COLFAX</td>\n",
       "      <td>AVE</td>\n",
       "      <td>...</td>\n",
       "      <td>1811100</td>\n",
       "      <td>1811100</td>\n",
       "      <td>525219</td>\n",
       "      <td>525219</td>\n",
       "      <td>0</td>\n",
       "      <td>525220</td>\n",
       "      <td>0</td>\n",
       "      <td>4</td>\n",
       "      <td>GATEWAY N</td>\n",
       "      <td>T3 R66 S2 NW/4 EXC PT IN ADAMS COUNTY</td>\n",
       "    </tr>\n",
       "    <tr>\n",
       "      <th>2</th>\n",
       "      <td>160431273</td>\n",
       "      <td>2100003000</td>\n",
       "      <td>1</td>\n",
       "      <td>1</td>\n",
       "      <td>CITY AND COUNTY OF DENVER</td>\n",
       "      <td>NaN</td>\n",
       "      <td>201</td>\n",
       "      <td>W</td>\n",
       "      <td>COLFAX</td>\n",
       "      <td>AVE</td>\n",
       "      <td>...</td>\n",
       "      <td>1811100</td>\n",
       "      <td>1811100</td>\n",
       "      <td>525219</td>\n",
       "      <td>525219</td>\n",
       "      <td>0</td>\n",
       "      <td>525220</td>\n",
       "      <td>0</td>\n",
       "      <td>4</td>\n",
       "      <td>GATEWAY N</td>\n",
       "      <td>T3 R66 S2 NE/4 EXC PT TO ADAMS COUNTY</td>\n",
       "    </tr>\n",
       "    <tr>\n",
       "      <th>3</th>\n",
       "      <td>162883065</td>\n",
       "      <td>3100012000</td>\n",
       "      <td>1</td>\n",
       "      <td>1</td>\n",
       "      <td>CITY AND COUNTY OF DENVER</td>\n",
       "      <td>NaN</td>\n",
       "      <td>201</td>\n",
       "      <td>W</td>\n",
       "      <td>COLFAX</td>\n",
       "      <td>AVE</td>\n",
       "      <td>...</td>\n",
       "      <td>147000</td>\n",
       "      <td>148000</td>\n",
       "      <td>42630</td>\n",
       "      <td>42920</td>\n",
       "      <td>0</td>\n",
       "      <td>42920</td>\n",
       "      <td>0</td>\n",
       "      <td>4</td>\n",
       "      <td>GATEWAY N</td>\n",
       "      <td>T3 R66 S3 BEG 70FT E OF NW COR S3 E 933.31FT S...</td>\n",
       "    </tr>\n",
       "    <tr>\n",
       "      <th>4</th>\n",
       "      <td>163408632</td>\n",
       "      <td>3100014000</td>\n",
       "      <td>1</td>\n",
       "      <td>1</td>\n",
       "      <td>ACM HIGH POINT VI LLC</td>\n",
       "      <td>NaN</td>\n",
       "      <td>4100</td>\n",
       "      <td>E</td>\n",
       "      <td>MISSISSIPPI</td>\n",
       "      <td>AVE</td>\n",
       "      <td>...</td>\n",
       "      <td>200</td>\n",
       "      <td>200</td>\n",
       "      <td>58</td>\n",
       "      <td>58</td>\n",
       "      <td>60</td>\n",
       "      <td>0</td>\n",
       "      <td>0</td>\n",
       "      <td>4</td>\n",
       "      <td>GATEWAY N</td>\n",
       "      <td>T3S R66W S3 NE/4 PT N/2 COM    N/4 COR SD S3 T...</td>\n",
       "    </tr>\n",
       "    <tr>\n",
       "      <th>5</th>\n",
       "      <td>163408641</td>\n",
       "      <td>3100015000</td>\n",
       "      <td>1</td>\n",
       "      <td>1</td>\n",
       "      <td>ACM HIGH POINT VI LLC</td>\n",
       "      <td>NaN</td>\n",
       "      <td>4100</td>\n",
       "      <td>E</td>\n",
       "      <td>MISSISSIPPI</td>\n",
       "      <td>AVE</td>\n",
       "      <td>...</td>\n",
       "      <td>200</td>\n",
       "      <td>200</td>\n",
       "      <td>58</td>\n",
       "      <td>58</td>\n",
       "      <td>60</td>\n",
       "      <td>0</td>\n",
       "      <td>0</td>\n",
       "      <td>4</td>\n",
       "      <td>GATEWAY N</td>\n",
       "      <td>T3S R66W S3 NE/4 PT N/2 COM    N/4 COR SD S3 T...</td>\n",
       "    </tr>\n",
       "    <tr>\n",
       "      <th>6</th>\n",
       "      <td>163408659</td>\n",
       "      <td>3100016000</td>\n",
       "      <td>1</td>\n",
       "      <td>1</td>\n",
       "      <td>ACM HIGH POINT VI LLC</td>\n",
       "      <td>NaN</td>\n",
       "      <td>4100</td>\n",
       "      <td>E</td>\n",
       "      <td>MISSISSIPPI</td>\n",
       "      <td>AVE</td>\n",
       "      <td>...</td>\n",
       "      <td>15300</td>\n",
       "      <td>15300</td>\n",
       "      <td>4437</td>\n",
       "      <td>4437</td>\n",
       "      <td>4440</td>\n",
       "      <td>0</td>\n",
       "      <td>0</td>\n",
       "      <td>4</td>\n",
       "      <td>GATEWAY N</td>\n",
       "      <td>T3 R66 S3 BEG NE COR S3 TH W   2641.8FT S 1391...</td>\n",
       "    </tr>\n",
       "    <tr>\n",
       "      <th>7</th>\n",
       "      <td>163484541</td>\n",
       "      <td>3100020000</td>\n",
       "      <td>1</td>\n",
       "      <td>1</td>\n",
       "      <td>ACM HIGH POINT VI LLC</td>\n",
       "      <td>NaN</td>\n",
       "      <td>4100</td>\n",
       "      <td>E</td>\n",
       "      <td>MISSISSIPPI</td>\n",
       "      <td>AVE</td>\n",
       "      <td>...</td>\n",
       "      <td>12900</td>\n",
       "      <td>12900</td>\n",
       "      <td>3741</td>\n",
       "      <td>3741</td>\n",
       "      <td>3740</td>\n",
       "      <td>0</td>\n",
       "      <td>0</td>\n",
       "      <td>4</td>\n",
       "      <td>GATEWAY N</td>\n",
       "      <td>T3 R66 S3 PT S3 BEG 70FT E OF  NW/4 SE DAF    ...</td>\n",
       "    </tr>\n",
       "    <tr>\n",
       "      <th>8</th>\n",
       "      <td>163547560</td>\n",
       "      <td>3100025000</td>\n",
       "      <td>1</td>\n",
       "      <td>2</td>\n",
       "      <td>MENIFEE MART INC</td>\n",
       "      <td>NaN</td>\n",
       "      <td>10174</td>\n",
       "      <td>NaN</td>\n",
       "      <td>OLD GROVE</td>\n",
       "      <td>RD</td>\n",
       "      <td>...</td>\n",
       "      <td>2168600</td>\n",
       "      <td>7299400</td>\n",
       "      <td>628894</td>\n",
       "      <td>2116826</td>\n",
       "      <td>2116820</td>\n",
       "      <td>0</td>\n",
       "      <td>0</td>\n",
       "      <td>4</td>\n",
       "      <td>GATEWAY N</td>\n",
       "      <td>T3 R66 S3 NW/4 PART COM SELY   MOST COR 69TH R...</td>\n",
       "    </tr>\n",
       "    <tr>\n",
       "      <th>9</th>\n",
       "      <td>163556381</td>\n",
       "      <td>3100028000</td>\n",
       "      <td>1</td>\n",
       "      <td>1</td>\n",
       "      <td>SANDRN MANAGEMENT INC</td>\n",
       "      <td>NaN</td>\n",
       "      <td>17125</td>\n",
       "      <td>NaN</td>\n",
       "      <td>CORNERSTONE</td>\n",
       "      <td>LN</td>\n",
       "      <td>...</td>\n",
       "      <td>299100</td>\n",
       "      <td>323700</td>\n",
       "      <td>86739</td>\n",
       "      <td>93873</td>\n",
       "      <td>93870</td>\n",
       "      <td>0</td>\n",
       "      <td>0</td>\n",
       "      <td>4</td>\n",
       "      <td>GATEWAY N</td>\n",
       "      <td>T3 R66 S3 NW/4 PT COM SE MOST  COR 69TH AVE RO...</td>\n",
       "    </tr>\n",
       "    <tr>\n",
       "      <th>10</th>\n",
       "      <td>163596315</td>\n",
       "      <td>3100036000</td>\n",
       "      <td>1</td>\n",
       "      <td>1</td>\n",
       "      <td>CORPOREX HIGH POINT LLC</td>\n",
       "      <td>NaN</td>\n",
       "      <td>188</td>\n",
       "      <td>NaN</td>\n",
       "      <td>INVERNESS</td>\n",
       "      <td>DR</td>\n",
       "      <td>...</td>\n",
       "      <td>2985400</td>\n",
       "      <td>2985400</td>\n",
       "      <td>865766</td>\n",
       "      <td>865766</td>\n",
       "      <td>865770</td>\n",
       "      <td>0</td>\n",
       "      <td>0</td>\n",
       "      <td>4</td>\n",
       "      <td>GATEWAY N</td>\n",
       "      <td>T3S R66W PT OF NW/4 SEC 3 DAF  *</td>\n",
       "    </tr>\n",
       "    <tr>\n",
       "      <th>11</th>\n",
       "      <td>163596323</td>\n",
       "      <td>3100037000</td>\n",
       "      <td>1</td>\n",
       "      <td>1</td>\n",
       "      <td>MH HHOUSE LLC</td>\n",
       "      <td>NaN</td>\n",
       "      <td>2725</td>\n",
       "      <td>NaN</td>\n",
       "      <td>ROCKY MOUNTAIN</td>\n",
       "      <td>AVE</td>\n",
       "      <td>...</td>\n",
       "      <td>2099000</td>\n",
       "      <td>10720100</td>\n",
       "      <td>608710</td>\n",
       "      <td>3108829</td>\n",
       "      <td>3108830</td>\n",
       "      <td>0</td>\n",
       "      <td>0</td>\n",
       "      <td>4</td>\n",
       "      <td>GATEWAY N</td>\n",
       "      <td>T3S R66W PT OF NW/4 SEC 3 DAF  *</td>\n",
       "    </tr>\n",
       "    <tr>\n",
       "      <th>12</th>\n",
       "      <td>163625765</td>\n",
       "      <td>3100039000</td>\n",
       "      <td>1</td>\n",
       "      <td>1</td>\n",
       "      <td>HIGH POINT BUSINESS CENTER LLC</td>\n",
       "      <td>NaN</td>\n",
       "      <td>1982</td>\n",
       "      <td>NaN</td>\n",
       "      <td>CRESTRIDGE</td>\n",
       "      <td>DR</td>\n",
       "      <td>...</td>\n",
       "      <td>1400</td>\n",
       "      <td>1400</td>\n",
       "      <td>406</td>\n",
       "      <td>406</td>\n",
       "      <td>410</td>\n",
       "      <td>0</td>\n",
       "      <td>0</td>\n",
       "      <td>4</td>\n",
       "      <td>GATEWAY N</td>\n",
       "      <td>T3 R66 S3 PT SW/4 DIF          RCP# 2008005380...</td>\n",
       "    </tr>\n",
       "    <tr>\n",
       "      <th>13</th>\n",
       "      <td>163625781</td>\n",
       "      <td>3100040000</td>\n",
       "      <td>1</td>\n",
       "      <td>1</td>\n",
       "      <td>ACM HIGH POINT VI LLC</td>\n",
       "      <td>NaN</td>\n",
       "      <td>4100</td>\n",
       "      <td>E</td>\n",
       "      <td>MISSISSIPPI</td>\n",
       "      <td>AVE</td>\n",
       "      <td>...</td>\n",
       "      <td>1000</td>\n",
       "      <td>1000</td>\n",
       "      <td>290</td>\n",
       "      <td>290</td>\n",
       "      <td>230</td>\n",
       "      <td>61</td>\n",
       "      <td>0</td>\n",
       "      <td>4</td>\n",
       "      <td>GATEWAY N</td>\n",
       "      <td>T3 R66 S3 PT SW/4 DIF          RCP# 2009001505...</td>\n",
       "    </tr>\n",
       "    <tr>\n",
       "      <th>14</th>\n",
       "      <td>163951182</td>\n",
       "      <td>3100047000</td>\n",
       "      <td>1</td>\n",
       "      <td>3</td>\n",
       "      <td>BD OMNI #1 LLC</td>\n",
       "      <td>NaN</td>\n",
       "      <td>299</td>\n",
       "      <td>NaN</td>\n",
       "      <td>MILWAUKEE</td>\n",
       "      <td>ST</td>\n",
       "      <td>...</td>\n",
       "      <td>3889100</td>\n",
       "      <td>7973600</td>\n",
       "      <td>1127839</td>\n",
       "      <td>2312344</td>\n",
       "      <td>1568980</td>\n",
       "      <td>743374</td>\n",
       "      <td>0</td>\n",
       "      <td>4</td>\n",
       "      <td>GATEWAY N</td>\n",
       "      <td>S3 3S 66W PT NW/4 SW/4 S3 COM  NW COR S3 TH S ...</td>\n",
       "    </tr>\n",
       "    <tr>\n",
       "      <th>15</th>\n",
       "      <td>163963351</td>\n",
       "      <td>3100048000</td>\n",
       "      <td>1</td>\n",
       "      <td>1</td>\n",
       "      <td>ACM HIGH POINT VI LLC</td>\n",
       "      <td>NaN</td>\n",
       "      <td>4100</td>\n",
       "      <td>E</td>\n",
       "      <td>MISSISSIPPI</td>\n",
       "      <td>AVE</td>\n",
       "      <td>...</td>\n",
       "      <td>1304100</td>\n",
       "      <td>1304100</td>\n",
       "      <td>378189</td>\n",
       "      <td>378189</td>\n",
       "      <td>378190</td>\n",
       "      <td>0</td>\n",
       "      <td>0</td>\n",
       "      <td>4</td>\n",
       "      <td>GATEWAY N</td>\n",
       "      <td>T3S R66W NW/4 S3 DAF COM @ W/4 COR E 70 TPOB N...</td>\n",
       "    </tr>\n",
       "    <tr>\n",
       "      <th>16</th>\n",
       "      <td>164009361</td>\n",
       "      <td>3100051000</td>\n",
       "      <td>1</td>\n",
       "      <td>1</td>\n",
       "      <td>DIA TOWER ROAD LLC</td>\n",
       "      <td>NaN</td>\n",
       "      <td>2260</td>\n",
       "      <td>S</td>\n",
       "      <td>XANADU</td>\n",
       "      <td>WAY</td>\n",
       "      <td>...</td>\n",
       "      <td>1348100</td>\n",
       "      <td>10417401</td>\n",
       "      <td>390949</td>\n",
       "      <td>3021046</td>\n",
       "      <td>3021050</td>\n",
       "      <td>0</td>\n",
       "      <td>111</td>\n",
       "      <td>4</td>\n",
       "      <td>GATEWAY N</td>\n",
       "      <td>S3 3S 66W PT SW/4 SEC 3 COM    W/4 S3 TH E 70....</td>\n",
       "    </tr>\n",
       "    <tr>\n",
       "      <th>17</th>\n",
       "      <td>164025138</td>\n",
       "      <td>3100052000</td>\n",
       "      <td>1</td>\n",
       "      <td>1</td>\n",
       "      <td>DIA DEVELOPMENT LLC</td>\n",
       "      <td>NaN</td>\n",
       "      <td>7300</td>\n",
       "      <td>NaN</td>\n",
       "      <td>BLANCO</td>\n",
       "      <td>RD</td>\n",
       "      <td>...</td>\n",
       "      <td>1700600</td>\n",
       "      <td>8777200</td>\n",
       "      <td>493174</td>\n",
       "      <td>2545388</td>\n",
       "      <td>2545380</td>\n",
       "      <td>0</td>\n",
       "      <td>100</td>\n",
       "      <td>4</td>\n",
       "      <td>GATEWAY N</td>\n",
       "      <td>3/3/66 PT SW/4                 DAF            ...</td>\n",
       "    </tr>\n",
       "    <tr>\n",
       "      <th>18</th>\n",
       "      <td>164025146</td>\n",
       "      <td>3100053000</td>\n",
       "      <td>1</td>\n",
       "      <td>1</td>\n",
       "      <td>DIA ARGONNE DEVELOPMENT LLC</td>\n",
       "      <td>NaN</td>\n",
       "      <td>7300</td>\n",
       "      <td>NaN</td>\n",
       "      <td>BLANCO</td>\n",
       "      <td>RD</td>\n",
       "      <td>...</td>\n",
       "      <td>922100</td>\n",
       "      <td>922100</td>\n",
       "      <td>267409</td>\n",
       "      <td>267409</td>\n",
       "      <td>267410</td>\n",
       "      <td>0</td>\n",
       "      <td>0</td>\n",
       "      <td>4</td>\n",
       "      <td>GATEWAY N</td>\n",
       "      <td>3/3/66 PT SW/4 COM W/4 COR     SEC3 E 324.02FT...</td>\n",
       "    </tr>\n",
       "    <tr>\n",
       "      <th>19</th>\n",
       "      <td>164025154</td>\n",
       "      <td>3100054000</td>\n",
       "      <td>1</td>\n",
       "      <td>1</td>\n",
       "      <td>LNR CPI HIGH POINT LLC</td>\n",
       "      <td>NaN</td>\n",
       "      <td>4350</td>\n",
       "      <td>NaN</td>\n",
       "      <td>VON KARMAN</td>\n",
       "      <td>AVE</td>\n",
       "      <td>...</td>\n",
       "      <td>1125900</td>\n",
       "      <td>1125900</td>\n",
       "      <td>326511</td>\n",
       "      <td>326511</td>\n",
       "      <td>326510</td>\n",
       "      <td>0</td>\n",
       "      <td>0</td>\n",
       "      <td>4</td>\n",
       "      <td>GATEWAY N</td>\n",
       "      <td>3/3/66 PT SW/4                 DAF            ...</td>\n",
       "    </tr>\n",
       "    <tr>\n",
       "      <th>20</th>\n",
       "      <td>164094971</td>\n",
       "      <td>3100056000</td>\n",
       "      <td>1</td>\n",
       "      <td>1</td>\n",
       "      <td>ACM HIGH POINT VI LLC</td>\n",
       "      <td>NaN</td>\n",
       "      <td>4100</td>\n",
       "      <td>E</td>\n",
       "      <td>MISSISSIPPI</td>\n",
       "      <td>AVE</td>\n",
       "      <td>...</td>\n",
       "      <td>2000</td>\n",
       "      <td>2000</td>\n",
       "      <td>580</td>\n",
       "      <td>580</td>\n",
       "      <td>580</td>\n",
       "      <td>0</td>\n",
       "      <td>0</td>\n",
       "      <td>4</td>\n",
       "      <td>GATEWAY N</td>\n",
       "      <td>S3 3S 66W PT NW/4 S3 COM W/4   S3 SE TH S 720....</td>\n",
       "    </tr>\n",
       "    <tr>\n",
       "      <th>21</th>\n",
       "      <td>164094989</td>\n",
       "      <td>3100057000</td>\n",
       "      <td>1</td>\n",
       "      <td>1</td>\n",
       "      <td>ACM HIGH POINT VI LLC</td>\n",
       "      <td>NaN</td>\n",
       "      <td>4100</td>\n",
       "      <td>E</td>\n",
       "      <td>MISSISSIPPI</td>\n",
       "      <td>AVE</td>\n",
       "      <td>...</td>\n",
       "      <td>100</td>\n",
       "      <td>100</td>\n",
       "      <td>29</td>\n",
       "      <td>29</td>\n",
       "      <td>30</td>\n",
       "      <td>0</td>\n",
       "      <td>0</td>\n",
       "      <td>4</td>\n",
       "      <td>GATEWAY N</td>\n",
       "      <td>S3 3S 66W PT NW/4 S3 COM NW/4  S3 TH S 704.49F...</td>\n",
       "    </tr>\n",
       "    <tr>\n",
       "      <th>22</th>\n",
       "      <td>164231641</td>\n",
       "      <td>3100058000</td>\n",
       "      <td>1</td>\n",
       "      <td>1</td>\n",
       "      <td>ACM HIGH POINT VI LLC</td>\n",
       "      <td>NaN</td>\n",
       "      <td>4100</td>\n",
       "      <td>E</td>\n",
       "      <td>MISSISSIPPI</td>\n",
       "      <td>AVE</td>\n",
       "      <td>...</td>\n",
       "      <td>13300</td>\n",
       "      <td>13300</td>\n",
       "      <td>3857</td>\n",
       "      <td>3857</td>\n",
       "      <td>3860</td>\n",
       "      <td>0</td>\n",
       "      <td>0</td>\n",
       "      <td>4</td>\n",
       "      <td>GATEWAY N</td>\n",
       "      <td>T3 66W PT NW/4 SEC 3 COM NW/4  SEC 3 TH E 70.0...</td>\n",
       "    </tr>\n",
       "    <tr>\n",
       "      <th>23</th>\n",
       "      <td>164231650</td>\n",
       "      <td>3100059000</td>\n",
       "      <td>1</td>\n",
       "      <td>1</td>\n",
       "      <td>ACM HIGH POINT VI LLC</td>\n",
       "      <td>NaN</td>\n",
       "      <td>4100</td>\n",
       "      <td>E</td>\n",
       "      <td>MISSISSIPPI</td>\n",
       "      <td>AVE</td>\n",
       "      <td>...</td>\n",
       "      <td>7700</td>\n",
       "      <td>7700</td>\n",
       "      <td>2233</td>\n",
       "      <td>2233</td>\n",
       "      <td>2230</td>\n",
       "      <td>0</td>\n",
       "      <td>0</td>\n",
       "      <td>4</td>\n",
       "      <td>GATEWAY N</td>\n",
       "      <td>T3 66W PT SW/4 SEC 3 COM       S/4 COR S3 TH N...</td>\n",
       "    </tr>\n",
       "    <tr>\n",
       "      <th>24</th>\n",
       "      <td>162628022</td>\n",
       "      <td>3101001000</td>\n",
       "      <td>1</td>\n",
       "      <td>1</td>\n",
       "      <td>FIRST INN FRANCHISE INC</td>\n",
       "      <td>NaN</td>\n",
       "      <td>Post Office BOX</td>\n",
       "      <td>NaN</td>\n",
       "      <td>607</td>\n",
       "      <td>NaN</td>\n",
       "      <td>...</td>\n",
       "      <td>697600</td>\n",
       "      <td>1224500</td>\n",
       "      <td>202304</td>\n",
       "      <td>355105</td>\n",
       "      <td>355100</td>\n",
       "      <td>0</td>\n",
       "      <td>0</td>\n",
       "      <td>4</td>\n",
       "      <td>GATEWAY N</td>\n",
       "      <td>SUNRISE GATEWAY FLG NO 2 B1 L1</td>\n",
       "    </tr>\n",
       "    <tr>\n",
       "      <th>25</th>\n",
       "      <td>162628031</td>\n",
       "      <td>3101002000</td>\n",
       "      <td>1</td>\n",
       "      <td>1</td>\n",
       "      <td>7050 TOWER LLC</td>\n",
       "      <td>NaN</td>\n",
       "      <td>141</td>\n",
       "      <td>E</td>\n",
       "      <td>MEADOW</td>\n",
       "      <td>DR</td>\n",
       "      <td>...</td>\n",
       "      <td>774800</td>\n",
       "      <td>1373100</td>\n",
       "      <td>224692</td>\n",
       "      <td>398199</td>\n",
       "      <td>398200</td>\n",
       "      <td>0</td>\n",
       "      <td>0</td>\n",
       "      <td>4</td>\n",
       "      <td>GATEWAY N</td>\n",
       "      <td>SUNRISE GATEWAY FLG NO 2 B1 L2</td>\n",
       "    </tr>\n",
       "    <tr>\n",
       "      <th>26</th>\n",
       "      <td>162628049</td>\n",
       "      <td>3101003000</td>\n",
       "      <td>1</td>\n",
       "      <td>1</td>\n",
       "      <td>DAY ONE LLC</td>\n",
       "      <td>NaN</td>\n",
       "      <td>4949</td>\n",
       "      <td>S</td>\n",
       "      <td>NIAGARA</td>\n",
       "      <td>ST</td>\n",
       "      <td>...</td>\n",
       "      <td>616900</td>\n",
       "      <td>5034200</td>\n",
       "      <td>178901</td>\n",
       "      <td>1459918</td>\n",
       "      <td>1459920</td>\n",
       "      <td>0</td>\n",
       "      <td>104</td>\n",
       "      <td>4</td>\n",
       "      <td>GATEWAY N</td>\n",
       "      <td>SUNRISE GATEWAY FLG NO 2 B1 L3</td>\n",
       "    </tr>\n",
       "    <tr>\n",
       "      <th>27</th>\n",
       "      <td>162628057</td>\n",
       "      <td>3101004000</td>\n",
       "      <td>1</td>\n",
       "      <td>1</td>\n",
       "      <td>RAM ONE LLC</td>\n",
       "      <td>NaN</td>\n",
       "      <td>4949</td>\n",
       "      <td>S</td>\n",
       "      <td>NIAGARA</td>\n",
       "      <td>ST</td>\n",
       "      <td>...</td>\n",
       "      <td>603500</td>\n",
       "      <td>5932100</td>\n",
       "      <td>175015</td>\n",
       "      <td>1720309</td>\n",
       "      <td>1720310</td>\n",
       "      <td>0</td>\n",
       "      <td>102</td>\n",
       "      <td>4</td>\n",
       "      <td>GATEWAY N</td>\n",
       "      <td>SUNRISE GATEWAY FLG NO 2 B1 L4</td>\n",
       "    </tr>\n",
       "    <tr>\n",
       "      <th>28</th>\n",
       "      <td>162628065</td>\n",
       "      <td>3101005000</td>\n",
       "      <td>1</td>\n",
       "      <td>1</td>\n",
       "      <td>TOWER HOSPITALITY LLC</td>\n",
       "      <td>NaN</td>\n",
       "      <td>7010</td>\n",
       "      <td>NaN</td>\n",
       "      <td>TOWER</td>\n",
       "      <td>RD</td>\n",
       "      <td>...</td>\n",
       "      <td>832700</td>\n",
       "      <td>4704800</td>\n",
       "      <td>241483</td>\n",
       "      <td>1364392</td>\n",
       "      <td>1364390</td>\n",
       "      <td>0</td>\n",
       "      <td>86</td>\n",
       "      <td>4</td>\n",
       "      <td>GATEWAY N</td>\n",
       "      <td>SUNRISE GATEWAY FLG NO 2 B1 L5</td>\n",
       "    </tr>\n",
       "    <tr>\n",
       "      <th>29</th>\n",
       "      <td>163579666</td>\n",
       "      <td>3102002000</td>\n",
       "      <td>1</td>\n",
       "      <td>2</td>\n",
       "      <td>DIA HIFS LLC</td>\n",
       "      <td>NaN</td>\n",
       "      <td>660</td>\n",
       "      <td>NaN</td>\n",
       "      <td>NEWPORT CENTER</td>\n",
       "      <td>DR</td>\n",
       "      <td>...</td>\n",
       "      <td>2239900</td>\n",
       "      <td>14844900</td>\n",
       "      <td>586090</td>\n",
       "      <td>3884310</td>\n",
       "      <td>3884310</td>\n",
       "      <td>0</td>\n",
       "      <td>161</td>\n",
       "      <td>4</td>\n",
       "      <td>GATEWAY N</td>\n",
       "      <td>SUNRISE GATEWAY FLG 2 BLK 2 PT OF L 1 DAF BEG ...</td>\n",
       "    </tr>\n",
       "    <tr>\n",
       "      <th>...</th>\n",
       "      <td>...</td>\n",
       "      <td>...</td>\n",
       "      <td>...</td>\n",
       "      <td>...</td>\n",
       "      <td>...</td>\n",
       "      <td>...</td>\n",
       "      <td>...</td>\n",
       "      <td>...</td>\n",
       "      <td>...</td>\n",
       "      <td>...</td>\n",
       "      <td>...</td>\n",
       "      <td>...</td>\n",
       "      <td>...</td>\n",
       "      <td>...</td>\n",
       "      <td>...</td>\n",
       "      <td>...</td>\n",
       "      <td>...</td>\n",
       "      <td>...</td>\n",
       "      <td>...</td>\n",
       "      <td>...</td>\n",
       "      <td>...</td>\n",
       "    </tr>\n",
       "    <tr>\n",
       "      <th>24502</th>\n",
       "      <td>162454563</td>\n",
       "      <td>1233100085000</td>\n",
       "      <td>1</td>\n",
       "      <td>1</td>\n",
       "      <td>CITY AND COUNTY OF DENVER</td>\n",
       "      <td>NaN</td>\n",
       "      <td>201</td>\n",
       "      <td>W</td>\n",
       "      <td>COLFAX</td>\n",
       "      <td>AVE</td>\n",
       "      <td>...</td>\n",
       "      <td>155600</td>\n",
       "      <td>155600</td>\n",
       "      <td>45124</td>\n",
       "      <td>45124</td>\n",
       "      <td>0</td>\n",
       "      <td>45120</td>\n",
       "      <td>0</td>\n",
       "      <td>4</td>\n",
       "      <td>GATEWAY N</td>\n",
       "      <td>PT T2 R65 S33 UNITED AIRLINES  CARGO FACILITY ...</td>\n",
       "    </tr>\n",
       "    <tr>\n",
       "      <th>24503</th>\n",
       "      <td>162454571</td>\n",
       "      <td>1233100086000</td>\n",
       "      <td>1</td>\n",
       "      <td>1</td>\n",
       "      <td>CITY AND COUNTY OF DENVER</td>\n",
       "      <td>NaN</td>\n",
       "      <td>27000</td>\n",
       "      <td>E</td>\n",
       "      <td>75TH</td>\n",
       "      <td>AVE</td>\n",
       "      <td>...</td>\n",
       "      <td>0</td>\n",
       "      <td>3593100</td>\n",
       "      <td>0</td>\n",
       "      <td>1041999</td>\n",
       "      <td>0</td>\n",
       "      <td>1042000</td>\n",
       "      <td>0</td>\n",
       "      <td>4</td>\n",
       "      <td>GATEWAY N</td>\n",
       "      <td>PT T2 R65 S33 UNITED AIRLINES  CARGO FACILITY ...</td>\n",
       "    </tr>\n",
       "    <tr>\n",
       "      <th>24504</th>\n",
       "      <td>162454580</td>\n",
       "      <td>1233100087000</td>\n",
       "      <td>1</td>\n",
       "      <td>1</td>\n",
       "      <td>CITY AND COUNTY OF DENVER</td>\n",
       "      <td>NaN</td>\n",
       "      <td>201</td>\n",
       "      <td>W</td>\n",
       "      <td>COLFAX</td>\n",
       "      <td>AVE</td>\n",
       "      <td>...</td>\n",
       "      <td>187100</td>\n",
       "      <td>187100</td>\n",
       "      <td>54259</td>\n",
       "      <td>54259</td>\n",
       "      <td>0</td>\n",
       "      <td>54260</td>\n",
       "      <td>0</td>\n",
       "      <td>4</td>\n",
       "      <td>GATEWAY N</td>\n",
       "      <td>T2 R65 S33 PT UNITED AIRLINES  GROUND EQUIPMEN...</td>\n",
       "    </tr>\n",
       "    <tr>\n",
       "      <th>24505</th>\n",
       "      <td>162454598</td>\n",
       "      <td>1233100088000</td>\n",
       "      <td>1</td>\n",
       "      <td>1</td>\n",
       "      <td>CITY AND COUNTY OF DENVER</td>\n",
       "      <td>NaN</td>\n",
       "      <td>27150</td>\n",
       "      <td>E</td>\n",
       "      <td>75TH</td>\n",
       "      <td>AVE</td>\n",
       "      <td>...</td>\n",
       "      <td>0</td>\n",
       "      <td>5516600</td>\n",
       "      <td>0</td>\n",
       "      <td>1599814</td>\n",
       "      <td>0</td>\n",
       "      <td>1599810</td>\n",
       "      <td>0</td>\n",
       "      <td>4</td>\n",
       "      <td>GATEWAY N</td>\n",
       "      <td>T2 R65 S33 PT UNITED AIRLINES  GROUND EQUIPMEN...</td>\n",
       "    </tr>\n",
       "    <tr>\n",
       "      <th>24506</th>\n",
       "      <td>162454601</td>\n",
       "      <td>1233100089000</td>\n",
       "      <td>1</td>\n",
       "      <td>1</td>\n",
       "      <td>CITY AND COUNTY OF DENVER</td>\n",
       "      <td>NaN</td>\n",
       "      <td>201</td>\n",
       "      <td>W</td>\n",
       "      <td>COLFAX</td>\n",
       "      <td>AVE</td>\n",
       "      <td>...</td>\n",
       "      <td>212000</td>\n",
       "      <td>212000</td>\n",
       "      <td>61480</td>\n",
       "      <td>61480</td>\n",
       "      <td>0</td>\n",
       "      <td>61480</td>\n",
       "      <td>0</td>\n",
       "      <td>4</td>\n",
       "      <td>GATEWAY N</td>\n",
       "      <td>T2 R65 S33 UAR FLT KITCHEN BEG S/4 COR S33 N11...</td>\n",
       "    </tr>\n",
       "    <tr>\n",
       "      <th>24507</th>\n",
       "      <td>162454610</td>\n",
       "      <td>1233100090000</td>\n",
       "      <td>1</td>\n",
       "      <td>1</td>\n",
       "      <td>CITY AND COUNTY OF DENVER</td>\n",
       "      <td>NaN</td>\n",
       "      <td>27280</td>\n",
       "      <td>E</td>\n",
       "      <td>75TH</td>\n",
       "      <td>AVE</td>\n",
       "      <td>...</td>\n",
       "      <td>0</td>\n",
       "      <td>9387900</td>\n",
       "      <td>0</td>\n",
       "      <td>2722491</td>\n",
       "      <td>0</td>\n",
       "      <td>2722490</td>\n",
       "      <td>0</td>\n",
       "      <td>4</td>\n",
       "      <td>GATEWAY N</td>\n",
       "      <td>T2 R65 S33 UAR FLT KITCHEN BEG S/4 COR S33 N11...</td>\n",
       "    </tr>\n",
       "    <tr>\n",
       "      <th>24508</th>\n",
       "      <td>162454628</td>\n",
       "      <td>1233100091000</td>\n",
       "      <td>1</td>\n",
       "      <td>1</td>\n",
       "      <td>CITY AND COUNTY OF DENVER</td>\n",
       "      <td>NaN</td>\n",
       "      <td>201</td>\n",
       "      <td>W</td>\n",
       "      <td>COLFAX</td>\n",
       "      <td>AVE</td>\n",
       "      <td>...</td>\n",
       "      <td>270500</td>\n",
       "      <td>270500</td>\n",
       "      <td>78445</td>\n",
       "      <td>78445</td>\n",
       "      <td>0</td>\n",
       "      <td>78450</td>\n",
       "      <td>0</td>\n",
       "      <td>4</td>\n",
       "      <td>GATEWAY N</td>\n",
       "      <td>T2 R65 S33 PT AMR COMBS LEASE  AREA DIF UNR DO...</td>\n",
       "    </tr>\n",
       "    <tr>\n",
       "      <th>24509</th>\n",
       "      <td>162454636</td>\n",
       "      <td>1233100092000</td>\n",
       "      <td>1</td>\n",
       "      <td>4</td>\n",
       "      <td>CITY AND COUNTY OF DENVER</td>\n",
       "      <td>NaN</td>\n",
       "      <td>201</td>\n",
       "      <td>W</td>\n",
       "      <td>COLFAX</td>\n",
       "      <td>AVE</td>\n",
       "      <td>...</td>\n",
       "      <td>0</td>\n",
       "      <td>5596500</td>\n",
       "      <td>0</td>\n",
       "      <td>1622985</td>\n",
       "      <td>0</td>\n",
       "      <td>1622990</td>\n",
       "      <td>0</td>\n",
       "      <td>4</td>\n",
       "      <td>GATEWAY N</td>\n",
       "      <td>T2 R65 S33 PT AMR COMBS LEASE  AREA DIF UNR DO...</td>\n",
       "    </tr>\n",
       "    <tr>\n",
       "      <th>24510</th>\n",
       "      <td>162989904</td>\n",
       "      <td>1233100094000</td>\n",
       "      <td>1</td>\n",
       "      <td>1</td>\n",
       "      <td>AIR GENERAL INC</td>\n",
       "      <td>NaN</td>\n",
       "      <td>403</td>\n",
       "      <td>NaN</td>\n",
       "      <td>THE</td>\n",
       "      <td>HL</td>\n",
       "      <td>...</td>\n",
       "      <td>0</td>\n",
       "      <td>200400</td>\n",
       "      <td>0</td>\n",
       "      <td>58116</td>\n",
       "      <td>58120</td>\n",
       "      <td>0</td>\n",
       "      <td>0</td>\n",
       "      <td>4</td>\n",
       "      <td>GATEWAY N</td>\n",
       "      <td>S-13-2                                        ...</td>\n",
       "    </tr>\n",
       "    <tr>\n",
       "      <th>24511</th>\n",
       "      <td>163027647</td>\n",
       "      <td>1233100095000</td>\n",
       "      <td>1</td>\n",
       "      <td>1</td>\n",
       "      <td>SIGNATURE FLIGHT SUPPORT CORPORATION</td>\n",
       "      <td>CORPORATION</td>\n",
       "      <td>201</td>\n",
       "      <td>S</td>\n",
       "      <td>ORANGE</td>\n",
       "      <td>AVE</td>\n",
       "      <td>...</td>\n",
       "      <td>0</td>\n",
       "      <td>2412200</td>\n",
       "      <td>0</td>\n",
       "      <td>699538</td>\n",
       "      <td>699540</td>\n",
       "      <td>0</td>\n",
       "      <td>0</td>\n",
       "      <td>4</td>\n",
       "      <td>GATEWAY N</td>\n",
       "      <td>T2 R65 S33 PT AMR COMBS LEASE  AREA DIF UNR DO...</td>\n",
       "    </tr>\n",
       "    <tr>\n",
       "      <th>24512</th>\n",
       "      <td>163402863</td>\n",
       "      <td>1233100096000</td>\n",
       "      <td>1</td>\n",
       "      <td>1</td>\n",
       "      <td>CITY AND COUNTY OF DENVER</td>\n",
       "      <td>NaN</td>\n",
       "      <td>201</td>\n",
       "      <td>W</td>\n",
       "      <td>COLFAX</td>\n",
       "      <td>AVE</td>\n",
       "      <td>...</td>\n",
       "      <td>18300</td>\n",
       "      <td>18300</td>\n",
       "      <td>5307</td>\n",
       "      <td>5307</td>\n",
       "      <td>0</td>\n",
       "      <td>5310</td>\n",
       "      <td>0</td>\n",
       "      <td>4</td>\n",
       "      <td>GATEWAY N</td>\n",
       "      <td>T2 R65 S33 PT COM NW COR S33   TH S71.52.35E 2...</td>\n",
       "    </tr>\n",
       "    <tr>\n",
       "      <th>24513</th>\n",
       "      <td>163402871</td>\n",
       "      <td>1233100097000</td>\n",
       "      <td>1</td>\n",
       "      <td>2</td>\n",
       "      <td>CITY AND COUNTY OF DENVER</td>\n",
       "      <td>NaN</td>\n",
       "      <td>144</td>\n",
       "      <td>W</td>\n",
       "      <td>COLFAX</td>\n",
       "      <td>AVE</td>\n",
       "      <td>...</td>\n",
       "      <td>0</td>\n",
       "      <td>1513900</td>\n",
       "      <td>0</td>\n",
       "      <td>439031</td>\n",
       "      <td>0</td>\n",
       "      <td>439030</td>\n",
       "      <td>0</td>\n",
       "      <td>4</td>\n",
       "      <td>GATEWAY N</td>\n",
       "      <td>T2 R65 S33 PT COM NW COR S33   TH S71.52.35E 2...</td>\n",
       "    </tr>\n",
       "    <tr>\n",
       "      <th>24514</th>\n",
       "      <td>163402898</td>\n",
       "      <td>1233100098000</td>\n",
       "      <td>1</td>\n",
       "      <td>1</td>\n",
       "      <td>AIRPORT RESORT PARKING LLC</td>\n",
       "      <td>NaN</td>\n",
       "      <td>1125</td>\n",
       "      <td>NaN</td>\n",
       "      <td>17TH</td>\n",
       "      <td>ST</td>\n",
       "      <td>...</td>\n",
       "      <td>0</td>\n",
       "      <td>480100</td>\n",
       "      <td>0</td>\n",
       "      <td>139229</td>\n",
       "      <td>139230</td>\n",
       "      <td>0</td>\n",
       "      <td>0</td>\n",
       "      <td>4</td>\n",
       "      <td>GATEWAY N</td>\n",
       "      <td>AIRPORT RESORT PARKING LEASE   AREA CCN AR5A00...</td>\n",
       "    </tr>\n",
       "    <tr>\n",
       "      <th>24515</th>\n",
       "      <td>163402839</td>\n",
       "      <td>1233100099000</td>\n",
       "      <td>1</td>\n",
       "      <td>6</td>\n",
       "      <td>CITY AND COUNTY OF DENVER</td>\n",
       "      <td>NaN</td>\n",
       "      <td>201</td>\n",
       "      <td>W</td>\n",
       "      <td>COLFAX</td>\n",
       "      <td>AVE</td>\n",
       "      <td>...</td>\n",
       "      <td>13108300</td>\n",
       "      <td>114097500</td>\n",
       "      <td>3801407</td>\n",
       "      <td>33088275</td>\n",
       "      <td>0</td>\n",
       "      <td>33088280</td>\n",
       "      <td>0</td>\n",
       "      <td>4</td>\n",
       "      <td>GATEWAY N</td>\n",
       "      <td>T2 R65 S33 EXC W 210FT &amp; EXC   DAF            ...</td>\n",
       "    </tr>\n",
       "    <tr>\n",
       "      <th>24516</th>\n",
       "      <td>162161043</td>\n",
       "      <td>1234100084000</td>\n",
       "      <td>1</td>\n",
       "      <td>1</td>\n",
       "      <td>CITY AND COUNTY OF DENVER</td>\n",
       "      <td>NaN</td>\n",
       "      <td>201</td>\n",
       "      <td>W</td>\n",
       "      <td>COLFAX</td>\n",
       "      <td>AVE</td>\n",
       "      <td>...</td>\n",
       "      <td>6914000</td>\n",
       "      <td>27129400</td>\n",
       "      <td>2005060</td>\n",
       "      <td>7867526</td>\n",
       "      <td>0</td>\n",
       "      <td>7867530</td>\n",
       "      <td>0</td>\n",
       "      <td>4</td>\n",
       "      <td>GATEWAY N</td>\n",
       "      <td>T2 R65 S34 N/2 EXC W 30FT &amp;    EXC E 30FT     ...</td>\n",
       "    </tr>\n",
       "    <tr>\n",
       "      <th>24517</th>\n",
       "      <td>162161051</td>\n",
       "      <td>1234100085000</td>\n",
       "      <td>1</td>\n",
       "      <td>1</td>\n",
       "      <td>CITY AND COUNTY OF DENVER</td>\n",
       "      <td>NaN</td>\n",
       "      <td>201</td>\n",
       "      <td>W</td>\n",
       "      <td>COLFAX</td>\n",
       "      <td>AVE</td>\n",
       "      <td>...</td>\n",
       "      <td>6827300</td>\n",
       "      <td>6827300</td>\n",
       "      <td>1979917</td>\n",
       "      <td>1979917</td>\n",
       "      <td>0</td>\n",
       "      <td>1979920</td>\n",
       "      <td>0</td>\n",
       "      <td>4</td>\n",
       "      <td>GATEWAY N</td>\n",
       "      <td>T2 R65 S34 SW/4 &amp; EXC S 30FT &amp; EXC W 30FT &amp; N/...</td>\n",
       "    </tr>\n",
       "    <tr>\n",
       "      <th>24518</th>\n",
       "      <td>162161060</td>\n",
       "      <td>1234100086000</td>\n",
       "      <td>1</td>\n",
       "      <td>1</td>\n",
       "      <td>CITY AND COUNTY OF DENVER</td>\n",
       "      <td>NaN</td>\n",
       "      <td>201</td>\n",
       "      <td>W</td>\n",
       "      <td>COLFAX</td>\n",
       "      <td>AVE</td>\n",
       "      <td>...</td>\n",
       "      <td>168900</td>\n",
       "      <td>168900</td>\n",
       "      <td>48981</td>\n",
       "      <td>48981</td>\n",
       "      <td>0</td>\n",
       "      <td>48980</td>\n",
       "      <td>0</td>\n",
       "      <td>4</td>\n",
       "      <td>GATEWAY N</td>\n",
       "      <td>T2 R65 S34 S/2 SE/4 EXC E 30FT &amp; EXC S 30FT   ...</td>\n",
       "    </tr>\n",
       "    <tr>\n",
       "      <th>24519</th>\n",
       "      <td>162161086</td>\n",
       "      <td>1235100087000</td>\n",
       "      <td>1</td>\n",
       "      <td>1</td>\n",
       "      <td>CITY AND COUNTY OF DENVER</td>\n",
       "      <td>NaN</td>\n",
       "      <td>201</td>\n",
       "      <td>W</td>\n",
       "      <td>COLFAX</td>\n",
       "      <td>AVE</td>\n",
       "      <td>...</td>\n",
       "      <td>13735100</td>\n",
       "      <td>13735100</td>\n",
       "      <td>3983179</td>\n",
       "      <td>3983179</td>\n",
       "      <td>0</td>\n",
       "      <td>3983180</td>\n",
       "      <td>0</td>\n",
       "      <td>4</td>\n",
       "      <td>GATEWAY N</td>\n",
       "      <td>T2 R65 S35 EXC E 30FT &amp; EXC S  30FT &amp; EXC W 30...</td>\n",
       "    </tr>\n",
       "    <tr>\n",
       "      <th>24520</th>\n",
       "      <td>162161094</td>\n",
       "      <td>1236100089000</td>\n",
       "      <td>1</td>\n",
       "      <td>1</td>\n",
       "      <td>CITY AND COUNTY OF DENVER</td>\n",
       "      <td>NaN</td>\n",
       "      <td>201</td>\n",
       "      <td>W</td>\n",
       "      <td>COLFAX</td>\n",
       "      <td>AVE</td>\n",
       "      <td>...</td>\n",
       "      <td>309400</td>\n",
       "      <td>309400</td>\n",
       "      <td>89726</td>\n",
       "      <td>89726</td>\n",
       "      <td>0</td>\n",
       "      <td>89730</td>\n",
       "      <td>0</td>\n",
       "      <td>4</td>\n",
       "      <td>GATEWAY N</td>\n",
       "      <td>T2 R65 S36 BEG 30FT E &amp; 30FT N OF SW COR S36 T...</td>\n",
       "    </tr>\n",
       "    <tr>\n",
       "      <th>24521</th>\n",
       "      <td>162875623</td>\n",
       "      <td>1236100092000</td>\n",
       "      <td>1</td>\n",
       "      <td>1</td>\n",
       "      <td>CITY AND COUNTY OF DENVER</td>\n",
       "      <td>NaN</td>\n",
       "      <td>201</td>\n",
       "      <td>W</td>\n",
       "      <td>COLFAX</td>\n",
       "      <td>AVE</td>\n",
       "      <td>...</td>\n",
       "      <td>978300</td>\n",
       "      <td>978300</td>\n",
       "      <td>283707</td>\n",
       "      <td>283707</td>\n",
       "      <td>0</td>\n",
       "      <td>283710</td>\n",
       "      <td>0</td>\n",
       "      <td>4</td>\n",
       "      <td>GATEWAY N</td>\n",
       "      <td>T2 R65 S36 BEG 30FT E OF NW CO R S36 TH E 509....</td>\n",
       "    </tr>\n",
       "    <tr>\n",
       "      <th>24522</th>\n",
       "      <td>162161124</td>\n",
       "      <td>1303100004000</td>\n",
       "      <td>1</td>\n",
       "      <td>1</td>\n",
       "      <td>CITY AND COUNTY OF DENVER</td>\n",
       "      <td>NaN</td>\n",
       "      <td>201</td>\n",
       "      <td>W</td>\n",
       "      <td>COLFAX</td>\n",
       "      <td>AVE</td>\n",
       "      <td>...</td>\n",
       "      <td>2071500</td>\n",
       "      <td>2071500</td>\n",
       "      <td>600735</td>\n",
       "      <td>600735</td>\n",
       "      <td>0</td>\n",
       "      <td>600740</td>\n",
       "      <td>0</td>\n",
       "      <td>4</td>\n",
       "      <td>GATEWAY N</td>\n",
       "      <td>T3 R65 S3 NE/4 EXC N 30FT OF   &amp; EXC PT TO ADA...</td>\n",
       "    </tr>\n",
       "    <tr>\n",
       "      <th>24523</th>\n",
       "      <td>162161132</td>\n",
       "      <td>1303100006000</td>\n",
       "      <td>1</td>\n",
       "      <td>1</td>\n",
       "      <td>CITY AND COUNTY OF DENVER</td>\n",
       "      <td>NaN</td>\n",
       "      <td>201</td>\n",
       "      <td>W</td>\n",
       "      <td>COLFAX</td>\n",
       "      <td>AVE</td>\n",
       "      <td>...</td>\n",
       "      <td>3199300</td>\n",
       "      <td>3199300</td>\n",
       "      <td>927797</td>\n",
       "      <td>927797</td>\n",
       "      <td>0</td>\n",
       "      <td>927800</td>\n",
       "      <td>0</td>\n",
       "      <td>4</td>\n",
       "      <td>GATEWAY N</td>\n",
       "      <td>T3 R65 S3 W/2 EXC N &amp; W 30FT &amp; EXC PT TO ADAMS...</td>\n",
       "    </tr>\n",
       "    <tr>\n",
       "      <th>24524</th>\n",
       "      <td>162161141</td>\n",
       "      <td>1303100007000</td>\n",
       "      <td>1</td>\n",
       "      <td>1</td>\n",
       "      <td>CITY AND COUNTY OF DENVER</td>\n",
       "      <td>NaN</td>\n",
       "      <td>201</td>\n",
       "      <td>W</td>\n",
       "      <td>COLFAX</td>\n",
       "      <td>AVE</td>\n",
       "      <td>...</td>\n",
       "      <td>656900</td>\n",
       "      <td>656900</td>\n",
       "      <td>190501</td>\n",
       "      <td>190501</td>\n",
       "      <td>0</td>\n",
       "      <td>190500</td>\n",
       "      <td>0</td>\n",
       "      <td>4</td>\n",
       "      <td>GATEWAY N</td>\n",
       "      <td>T3 R65 S3 S/2 OF SW/4 EXC W 30 FT &amp; EXC PT PT ...</td>\n",
       "    </tr>\n",
       "    <tr>\n",
       "      <th>24525</th>\n",
       "      <td>162161159</td>\n",
       "      <td>1304100007000</td>\n",
       "      <td>1</td>\n",
       "      <td>3</td>\n",
       "      <td>CITY AND COUNTY OF DENVER</td>\n",
       "      <td>NaN</td>\n",
       "      <td>201</td>\n",
       "      <td>W</td>\n",
       "      <td>COLFAX</td>\n",
       "      <td>AVE</td>\n",
       "      <td>...</td>\n",
       "      <td>7274900</td>\n",
       "      <td>9585200</td>\n",
       "      <td>2109721</td>\n",
       "      <td>2779708</td>\n",
       "      <td>0</td>\n",
       "      <td>2779710</td>\n",
       "      <td>0</td>\n",
       "      <td>4</td>\n",
       "      <td>GATEWAY N</td>\n",
       "      <td>T3 R65 S4 BEG 30FT S &amp; 30FT W  OF NE COR S4 TH...</td>\n",
       "    </tr>\n",
       "    <tr>\n",
       "      <th>24526</th>\n",
       "      <td>162161167</td>\n",
       "      <td>1305100009000</td>\n",
       "      <td>1</td>\n",
       "      <td>1</td>\n",
       "      <td>CITY AND COUNTY OF DENVER</td>\n",
       "      <td>NaN</td>\n",
       "      <td>201</td>\n",
       "      <td>W</td>\n",
       "      <td>COLFAX</td>\n",
       "      <td>AVE</td>\n",
       "      <td>...</td>\n",
       "      <td>3994100</td>\n",
       "      <td>3994100</td>\n",
       "      <td>1158289</td>\n",
       "      <td>1158289</td>\n",
       "      <td>0</td>\n",
       "      <td>1158290</td>\n",
       "      <td>0</td>\n",
       "      <td>4</td>\n",
       "      <td>GATEWAY N</td>\n",
       "      <td>T3 R65 S5 BEG NW COR TH E      5261.84FT S 152...</td>\n",
       "    </tr>\n",
       "    <tr>\n",
       "      <th>24527</th>\n",
       "      <td>162161175</td>\n",
       "      <td>1306100011000</td>\n",
       "      <td>1</td>\n",
       "      <td>1</td>\n",
       "      <td>CITY AND COUNTY OF DENVER</td>\n",
       "      <td>NaN</td>\n",
       "      <td>201</td>\n",
       "      <td>W</td>\n",
       "      <td>COLFAX</td>\n",
       "      <td>AVE</td>\n",
       "      <td>...</td>\n",
       "      <td>1998100</td>\n",
       "      <td>1998100</td>\n",
       "      <td>579449</td>\n",
       "      <td>579449</td>\n",
       "      <td>0</td>\n",
       "      <td>579450</td>\n",
       "      <td>0</td>\n",
       "      <td>4</td>\n",
       "      <td>GATEWAY N</td>\n",
       "      <td>T3 R65 S6 BEG NE COR S 1513.95 FT W 2639.57FT ...</td>\n",
       "    </tr>\n",
       "    <tr>\n",
       "      <th>24528</th>\n",
       "      <td>162161183</td>\n",
       "      <td>1306100012000</td>\n",
       "      <td>1</td>\n",
       "      <td>1</td>\n",
       "      <td>CITY AND COUNTY OF DENVER</td>\n",
       "      <td>NaN</td>\n",
       "      <td>201</td>\n",
       "      <td>W</td>\n",
       "      <td>COLFAX</td>\n",
       "      <td>AVE</td>\n",
       "      <td>...</td>\n",
       "      <td>1955600</td>\n",
       "      <td>1955600</td>\n",
       "      <td>567124</td>\n",
       "      <td>567124</td>\n",
       "      <td>0</td>\n",
       "      <td>567120</td>\n",
       "      <td>0</td>\n",
       "      <td>4</td>\n",
       "      <td>GATEWAY N</td>\n",
       "      <td>T3 R65 S6 BEG NW COR S 1513.95 FT W 2583.48FT ...</td>\n",
       "    </tr>\n",
       "    <tr>\n",
       "      <th>24529</th>\n",
       "      <td>162161191</td>\n",
       "      <td>1407200002000</td>\n",
       "      <td>1</td>\n",
       "      <td>1</td>\n",
       "      <td>CITY AND COUNTY OF DENVER</td>\n",
       "      <td>NaN</td>\n",
       "      <td>201</td>\n",
       "      <td>W</td>\n",
       "      <td>COLFAX</td>\n",
       "      <td>AVE</td>\n",
       "      <td>...</td>\n",
       "      <td>1120100</td>\n",
       "      <td>1120100</td>\n",
       "      <td>324829</td>\n",
       "      <td>324829</td>\n",
       "      <td>0</td>\n",
       "      <td>324830</td>\n",
       "      <td>0</td>\n",
       "      <td>4</td>\n",
       "      <td>GATEWAY N</td>\n",
       "      <td>T2 R64 S7 BEG SW COR OF SD SEC N 2634.96FT E 8...</td>\n",
       "    </tr>\n",
       "    <tr>\n",
       "      <th>24530</th>\n",
       "      <td>162161205</td>\n",
       "      <td>1407200003000</td>\n",
       "      <td>1</td>\n",
       "      <td>1</td>\n",
       "      <td>CITY AND COUNTY OF DENVER</td>\n",
       "      <td>NaN</td>\n",
       "      <td>201</td>\n",
       "      <td>W</td>\n",
       "      <td>COLFAX</td>\n",
       "      <td>AVE</td>\n",
       "      <td>...</td>\n",
       "      <td>1120100</td>\n",
       "      <td>1120100</td>\n",
       "      <td>324829</td>\n",
       "      <td>324829</td>\n",
       "      <td>0</td>\n",
       "      <td>324830</td>\n",
       "      <td>0</td>\n",
       "      <td>4</td>\n",
       "      <td>GATEWAY N</td>\n",
       "      <td>T2 R64 S7 BEG SW COR OF SD SEC N 2634.96FT TO ...</td>\n",
       "    </tr>\n",
       "    <tr>\n",
       "      <th>24531</th>\n",
       "      <td>163759915</td>\n",
       "      <td>1408200001000</td>\n",
       "      <td>1</td>\n",
       "      <td>1</td>\n",
       "      <td>CITY AND COUNTY OF DENVER</td>\n",
       "      <td>NaN</td>\n",
       "      <td>201</td>\n",
       "      <td>W</td>\n",
       "      <td>COLFAX</td>\n",
       "      <td>AVE</td>\n",
       "      <td>...</td>\n",
       "      <td>486600</td>\n",
       "      <td>486600</td>\n",
       "      <td>141114</td>\n",
       "      <td>141114</td>\n",
       "      <td>0</td>\n",
       "      <td>141110</td>\n",
       "      <td>0</td>\n",
       "      <td>4</td>\n",
       "      <td>GATEWAY N</td>\n",
       "      <td>T2 R64 S18 BEG NW COR OF S18   TH E 824.48FT S...</td>\n",
       "    </tr>\n",
       "  </tbody>\n",
       "</table>\n",
       "<p>24532 rows × 43 columns</p>\n",
       "</div>"
      ],
      "text/plain": [
       "             PIN       SCHEDNUM  CD  OFCARD  \\\n",
       "0      160431257     1100001000   1       1   \n",
       "1      160431265     2100002000   1       1   \n",
       "2      160431273     2100003000   1       1   \n",
       "3      162883065     3100012000   1       1   \n",
       "4      163408632     3100014000   1       1   \n",
       "5      163408641     3100015000   1       1   \n",
       "6      163408659     3100016000   1       1   \n",
       "7      163484541     3100020000   1       1   \n",
       "8      163547560     3100025000   1       2   \n",
       "9      163556381     3100028000   1       1   \n",
       "10     163596315     3100036000   1       1   \n",
       "11     163596323     3100037000   1       1   \n",
       "12     163625765     3100039000   1       1   \n",
       "13     163625781     3100040000   1       1   \n",
       "14     163951182     3100047000   1       3   \n",
       "15     163963351     3100048000   1       1   \n",
       "16     164009361     3100051000   1       1   \n",
       "17     164025138     3100052000   1       1   \n",
       "18     164025146     3100053000   1       1   \n",
       "19     164025154     3100054000   1       1   \n",
       "20     164094971     3100056000   1       1   \n",
       "21     164094989     3100057000   1       1   \n",
       "22     164231641     3100058000   1       1   \n",
       "23     164231650     3100059000   1       1   \n",
       "24     162628022     3101001000   1       1   \n",
       "25     162628031     3101002000   1       1   \n",
       "26     162628049     3101003000   1       1   \n",
       "27     162628057     3101004000   1       1   \n",
       "28     162628065     3101005000   1       1   \n",
       "29     163579666     3102002000   1       2   \n",
       "...          ...            ...  ..     ...   \n",
       "24502  162454563  1233100085000   1       1   \n",
       "24503  162454571  1233100086000   1       1   \n",
       "24504  162454580  1233100087000   1       1   \n",
       "24505  162454598  1233100088000   1       1   \n",
       "24506  162454601  1233100089000   1       1   \n",
       "24507  162454610  1233100090000   1       1   \n",
       "24508  162454628  1233100091000   1       1   \n",
       "24509  162454636  1233100092000   1       4   \n",
       "24510  162989904  1233100094000   1       1   \n",
       "24511  163027647  1233100095000   1       1   \n",
       "24512  163402863  1233100096000   1       1   \n",
       "24513  163402871  1233100097000   1       2   \n",
       "24514  163402898  1233100098000   1       1   \n",
       "24515  163402839  1233100099000   1       6   \n",
       "24516  162161043  1234100084000   1       1   \n",
       "24517  162161051  1234100085000   1       1   \n",
       "24518  162161060  1234100086000   1       1   \n",
       "24519  162161086  1235100087000   1       1   \n",
       "24520  162161094  1236100089000   1       1   \n",
       "24521  162875623  1236100092000   1       1   \n",
       "24522  162161124  1303100004000   1       1   \n",
       "24523  162161132  1303100006000   1       1   \n",
       "24524  162161141  1303100007000   1       1   \n",
       "24525  162161159  1304100007000   1       3   \n",
       "24526  162161167  1305100009000   1       1   \n",
       "24527  162161175  1306100011000   1       1   \n",
       "24528  162161183  1306100012000   1       1   \n",
       "24529  162161191  1407200002000   1       1   \n",
       "24530  162161205  1407200003000   1       1   \n",
       "24531  163759915  1408200001000   1       1   \n",
       "\n",
       "                                      OWNER     CO_OWNER        OWNER_NUM  \\\n",
       "0                CITY AND COUNTY OF DENVER           NaN           201      \n",
       "1                CITY AND COUNTY OF DENVER           NaN           201      \n",
       "2                CITY AND COUNTY OF DENVER           NaN           201      \n",
       "3                CITY AND COUNTY OF DENVER           NaN           201      \n",
       "4                    ACM HIGH POINT VI LLC           NaN           4100     \n",
       "5                    ACM HIGH POINT VI LLC           NaN           4100     \n",
       "6                    ACM HIGH POINT VI LLC           NaN           4100     \n",
       "7                    ACM HIGH POINT VI LLC           NaN           4100     \n",
       "8                         MENIFEE MART INC           NaN           10174    \n",
       "9                    SANDRN MANAGEMENT INC           NaN           17125    \n",
       "10                 CORPOREX HIGH POINT LLC           NaN           188      \n",
       "11                           MH HHOUSE LLC           NaN           2725     \n",
       "12          HIGH POINT BUSINESS CENTER LLC           NaN           1982     \n",
       "13                   ACM HIGH POINT VI LLC           NaN           4100     \n",
       "14                          BD OMNI #1 LLC           NaN           299      \n",
       "15                   ACM HIGH POINT VI LLC           NaN           4100     \n",
       "16                      DIA TOWER ROAD LLC           NaN           2260     \n",
       "17                     DIA DEVELOPMENT LLC           NaN           7300     \n",
       "18             DIA ARGONNE DEVELOPMENT LLC           NaN           7300     \n",
       "19                  LNR CPI HIGH POINT LLC           NaN           4350     \n",
       "20                   ACM HIGH POINT VI LLC           NaN           4100     \n",
       "21                   ACM HIGH POINT VI LLC           NaN           4100     \n",
       "22                   ACM HIGH POINT VI LLC           NaN           4100     \n",
       "23                   ACM HIGH POINT VI LLC           NaN           4100     \n",
       "24                 FIRST INN FRANCHISE INC           NaN  Post Office BOX   \n",
       "25                          7050 TOWER LLC           NaN           141      \n",
       "26                             DAY ONE LLC           NaN           4949     \n",
       "27                             RAM ONE LLC           NaN           4949     \n",
       "28                   TOWER HOSPITALITY LLC           NaN           7010     \n",
       "29                            DIA HIFS LLC           NaN           660      \n",
       "...                                     ...          ...              ...   \n",
       "24502            CITY AND COUNTY OF DENVER           NaN           201      \n",
       "24503            CITY AND COUNTY OF DENVER           NaN           27000    \n",
       "24504            CITY AND COUNTY OF DENVER           NaN           201      \n",
       "24505            CITY AND COUNTY OF DENVER           NaN           27150    \n",
       "24506            CITY AND COUNTY OF DENVER           NaN           201      \n",
       "24507            CITY AND COUNTY OF DENVER           NaN           27280    \n",
       "24508            CITY AND COUNTY OF DENVER           NaN           201      \n",
       "24509            CITY AND COUNTY OF DENVER           NaN           201      \n",
       "24510                      AIR GENERAL INC           NaN           403      \n",
       "24511  SIGNATURE FLIGHT SUPPORT CORPORATION  CORPORATION           201      \n",
       "24512            CITY AND COUNTY OF DENVER           NaN           201      \n",
       "24513            CITY AND COUNTY OF DENVER           NaN           144      \n",
       "24514           AIRPORT RESORT PARKING LLC           NaN           1125     \n",
       "24515            CITY AND COUNTY OF DENVER           NaN           201      \n",
       "24516            CITY AND COUNTY OF DENVER           NaN           201      \n",
       "24517            CITY AND COUNTY OF DENVER           NaN           201      \n",
       "24518            CITY AND COUNTY OF DENVER           NaN           201      \n",
       "24519            CITY AND COUNTY OF DENVER           NaN           201      \n",
       "24520            CITY AND COUNTY OF DENVER           NaN           201      \n",
       "24521            CITY AND COUNTY OF DENVER           NaN           201      \n",
       "24522            CITY AND COUNTY OF DENVER           NaN           201      \n",
       "24523            CITY AND COUNTY OF DENVER           NaN           201      \n",
       "24524            CITY AND COUNTY OF DENVER           NaN           201      \n",
       "24525            CITY AND COUNTY OF DENVER           NaN           201      \n",
       "24526            CITY AND COUNTY OF DENVER           NaN           201      \n",
       "24527            CITY AND COUNTY OF DENVER           NaN           201      \n",
       "24528            CITY AND COUNTY OF DENVER           NaN           201      \n",
       "24529            CITY AND COUNTY OF DENVER           NaN           201      \n",
       "24530            CITY AND COUNTY OF DENVER           NaN           201      \n",
       "24531            CITY AND COUNTY OF DENVER           NaN           201      \n",
       "\n",
       "      OWNER_DIR        OWNER_ST OWNER_TYPE  \\\n",
       "0             W          COLFAX        AVE   \n",
       "1             W          COLFAX        AVE   \n",
       "2             W          COLFAX        AVE   \n",
       "3             W          COLFAX        AVE   \n",
       "4             E     MISSISSIPPI        AVE   \n",
       "5             E     MISSISSIPPI        AVE   \n",
       "6             E     MISSISSIPPI        AVE   \n",
       "7             E     MISSISSIPPI        AVE   \n",
       "8           NaN       OLD GROVE         RD   \n",
       "9           NaN     CORNERSTONE         LN   \n",
       "10          NaN       INVERNESS         DR   \n",
       "11          NaN  ROCKY MOUNTAIN        AVE   \n",
       "12          NaN      CRESTRIDGE         DR   \n",
       "13            E     MISSISSIPPI        AVE   \n",
       "14          NaN       MILWAUKEE         ST   \n",
       "15            E     MISSISSIPPI        AVE   \n",
       "16            S          XANADU        WAY   \n",
       "17          NaN          BLANCO         RD   \n",
       "18          NaN          BLANCO         RD   \n",
       "19          NaN      VON KARMAN        AVE   \n",
       "20            E     MISSISSIPPI        AVE   \n",
       "21            E     MISSISSIPPI        AVE   \n",
       "22            E     MISSISSIPPI        AVE   \n",
       "23            E     MISSISSIPPI        AVE   \n",
       "24          NaN             607        NaN   \n",
       "25            E          MEADOW         DR   \n",
       "26            S         NIAGARA         ST   \n",
       "27            S         NIAGARA         ST   \n",
       "28          NaN           TOWER         RD   \n",
       "29          NaN  NEWPORT CENTER         DR   \n",
       "...         ...             ...        ...   \n",
       "24502         W          COLFAX        AVE   \n",
       "24503         E            75TH        AVE   \n",
       "24504         W          COLFAX        AVE   \n",
       "24505         E            75TH        AVE   \n",
       "24506         W          COLFAX        AVE   \n",
       "24507         E            75TH        AVE   \n",
       "24508         W          COLFAX        AVE   \n",
       "24509         W          COLFAX        AVE   \n",
       "24510       NaN             THE         HL   \n",
       "24511         S          ORANGE        AVE   \n",
       "24512         W          COLFAX        AVE   \n",
       "24513         W          COLFAX        AVE   \n",
       "24514       NaN            17TH         ST   \n",
       "24515         W          COLFAX        AVE   \n",
       "24516         W          COLFAX        AVE   \n",
       "24517         W          COLFAX        AVE   \n",
       "24518         W          COLFAX        AVE   \n",
       "24519         W          COLFAX        AVE   \n",
       "24520         W          COLFAX        AVE   \n",
       "24521         W          COLFAX        AVE   \n",
       "24522         W          COLFAX        AVE   \n",
       "24523         W          COLFAX        AVE   \n",
       "24524         W          COLFAX        AVE   \n",
       "24525         W          COLFAX        AVE   \n",
       "24526         W          COLFAX        AVE   \n",
       "24527         W          COLFAX        AVE   \n",
       "24528         W          COLFAX        AVE   \n",
       "24529         W          COLFAX        AVE   \n",
       "24530         W          COLFAX        AVE   \n",
       "24531         W          COLFAX        AVE   \n",
       "\n",
       "                             ...                         ASMT_APPR_LAND  \\\n",
       "0                            ...                                3987400   \n",
       "1                            ...                                1811100   \n",
       "2                            ...                                1811100   \n",
       "3                            ...                                 147000   \n",
       "4                            ...                                    200   \n",
       "5                            ...                                    200   \n",
       "6                            ...                                  15300   \n",
       "7                            ...                                  12900   \n",
       "8                            ...                                2168600   \n",
       "9                            ...                                 299100   \n",
       "10                           ...                                2985400   \n",
       "11                           ...                                2099000   \n",
       "12                           ...                                   1400   \n",
       "13                           ...                                   1000   \n",
       "14                           ...                                3889100   \n",
       "15                           ...                                1304100   \n",
       "16                           ...                                1348100   \n",
       "17                           ...                                1700600   \n",
       "18                           ...                                 922100   \n",
       "19                           ...                                1125900   \n",
       "20                           ...                                   2000   \n",
       "21                           ...                                    100   \n",
       "22                           ...                                  13300   \n",
       "23                           ...                                   7700   \n",
       "24                           ...                                 697600   \n",
       "25                           ...                                 774800   \n",
       "26                           ...                                 616900   \n",
       "27                           ...                                 603500   \n",
       "28                           ...                                 832700   \n",
       "29                           ...                                2239900   \n",
       "...                          ...                                    ...   \n",
       "24502                        ...                                 155600   \n",
       "24503                        ...                                      0   \n",
       "24504                        ...                                 187100   \n",
       "24505                        ...                                      0   \n",
       "24506                        ...                                 212000   \n",
       "24507                        ...                                      0   \n",
       "24508                        ...                                 270500   \n",
       "24509                        ...                                      0   \n",
       "24510                        ...                                      0   \n",
       "24511                        ...                                      0   \n",
       "24512                        ...                                  18300   \n",
       "24513                        ...                                      0   \n",
       "24514                        ...                                      0   \n",
       "24515                        ...                               13108300   \n",
       "24516                        ...                                6914000   \n",
       "24517                        ...                                6827300   \n",
       "24518                        ...                                 168900   \n",
       "24519                        ...                               13735100   \n",
       "24520                        ...                                 309400   \n",
       "24521                        ...                                 978300   \n",
       "24522                        ...                                2071500   \n",
       "24523                        ...                                3199300   \n",
       "24524                        ...                                 656900   \n",
       "24525                        ...                                7274900   \n",
       "24526                        ...                                3994100   \n",
       "24527                        ...                                1998100   \n",
       "24528                        ...                                1955600   \n",
       "24529                        ...                                1120100   \n",
       "24530                        ...                                1120100   \n",
       "24531                        ...                                 486600   \n",
       "\n",
       "      TOTAL_VALUE  ASDLAND ASSESS_VALUE  ASMT_TAXABLE ASMT_EXEMPT_AMT  \\\n",
       "0         3987400  1156346      1156346             0         1156350   \n",
       "1         1811100   525219       525219             0          525220   \n",
       "2         1811100   525219       525219             0          525220   \n",
       "3          148000    42630        42920             0           42920   \n",
       "4             200       58           58            60               0   \n",
       "5             200       58           58            60               0   \n",
       "6           15300     4437         4437          4440               0   \n",
       "7           12900     3741         3741          3740               0   \n",
       "8         7299400   628894      2116826       2116820               0   \n",
       "9          323700    86739        93873         93870               0   \n",
       "10        2985400   865766       865766        865770               0   \n",
       "11       10720100   608710      3108829       3108830               0   \n",
       "12           1400      406          406           410               0   \n",
       "13           1000      290          290           230              61   \n",
       "14        7973600  1127839      2312344       1568980          743374   \n",
       "15        1304100   378189       378189        378190               0   \n",
       "16       10417401   390949      3021046       3021050               0   \n",
       "17        8777200   493174      2545388       2545380               0   \n",
       "18         922100   267409       267409        267410               0   \n",
       "19        1125900   326511       326511        326510               0   \n",
       "20           2000      580          580           580               0   \n",
       "21            100       29           29            30               0   \n",
       "22          13300     3857         3857          3860               0   \n",
       "23           7700     2233         2233          2230               0   \n",
       "24        1224500   202304       355105        355100               0   \n",
       "25        1373100   224692       398199        398200               0   \n",
       "26        5034200   178901      1459918       1459920               0   \n",
       "27        5932100   175015      1720309       1720310               0   \n",
       "28        4704800   241483      1364392       1364390               0   \n",
       "29       14844900   586090      3884310       3884310               0   \n",
       "...           ...      ...          ...           ...             ...   \n",
       "24502      155600    45124        45124             0           45120   \n",
       "24503     3593100        0      1041999             0         1042000   \n",
       "24504      187100    54259        54259             0           54260   \n",
       "24505     5516600        0      1599814             0         1599810   \n",
       "24506      212000    61480        61480             0           61480   \n",
       "24507     9387900        0      2722491             0         2722490   \n",
       "24508      270500    78445        78445             0           78450   \n",
       "24509     5596500        0      1622985             0         1622990   \n",
       "24510      200400        0        58116         58120               0   \n",
       "24511     2412200        0       699538        699540               0   \n",
       "24512       18300     5307         5307             0            5310   \n",
       "24513     1513900        0       439031             0          439030   \n",
       "24514      480100        0       139229        139230               0   \n",
       "24515   114097500  3801407     33088275             0        33088280   \n",
       "24516    27129400  2005060      7867526             0         7867530   \n",
       "24517     6827300  1979917      1979917             0         1979920   \n",
       "24518      168900    48981        48981             0           48980   \n",
       "24519    13735100  3983179      3983179             0         3983180   \n",
       "24520      309400    89726        89726             0           89730   \n",
       "24521      978300   283707       283707             0          283710   \n",
       "24522     2071500   600735       600735             0          600740   \n",
       "24523     3199300   927797       927797             0          927800   \n",
       "24524      656900   190501       190501             0          190500   \n",
       "24525     9585200  2109721      2779708             0         2779710   \n",
       "24526     3994100  1158289      1158289             0         1158290   \n",
       "24527     1998100   579449       579449             0          579450   \n",
       "24528     1955600   567124       567124             0          567120   \n",
       "24529     1120100   324829       324829             0          324830   \n",
       "24530     1120100   324829       324829             0          324830   \n",
       "24531      486600   141114       141114             0          141110   \n",
       "\n",
       "      TOT_UNITS NBHD_1  NBHD_1_CN  \\\n",
       "0             0      4  GATEWAY N   \n",
       "1             0      4  GATEWAY N   \n",
       "2             0      4  GATEWAY N   \n",
       "3             0      4  GATEWAY N   \n",
       "4             0      4  GATEWAY N   \n",
       "5             0      4  GATEWAY N   \n",
       "6             0      4  GATEWAY N   \n",
       "7             0      4  GATEWAY N   \n",
       "8             0      4  GATEWAY N   \n",
       "9             0      4  GATEWAY N   \n",
       "10            0      4  GATEWAY N   \n",
       "11            0      4  GATEWAY N   \n",
       "12            0      4  GATEWAY N   \n",
       "13            0      4  GATEWAY N   \n",
       "14            0      4  GATEWAY N   \n",
       "15            0      4  GATEWAY N   \n",
       "16          111      4  GATEWAY N   \n",
       "17          100      4  GATEWAY N   \n",
       "18            0      4  GATEWAY N   \n",
       "19            0      4  GATEWAY N   \n",
       "20            0      4  GATEWAY N   \n",
       "21            0      4  GATEWAY N   \n",
       "22            0      4  GATEWAY N   \n",
       "23            0      4  GATEWAY N   \n",
       "24            0      4  GATEWAY N   \n",
       "25            0      4  GATEWAY N   \n",
       "26          104      4  GATEWAY N   \n",
       "27          102      4  GATEWAY N   \n",
       "28           86      4  GATEWAY N   \n",
       "29          161      4  GATEWAY N   \n",
       "...         ...    ...        ...   \n",
       "24502         0      4  GATEWAY N   \n",
       "24503         0      4  GATEWAY N   \n",
       "24504         0      4  GATEWAY N   \n",
       "24505         0      4  GATEWAY N   \n",
       "24506         0      4  GATEWAY N   \n",
       "24507         0      4  GATEWAY N   \n",
       "24508         0      4  GATEWAY N   \n",
       "24509         0      4  GATEWAY N   \n",
       "24510         0      4  GATEWAY N   \n",
       "24511         0      4  GATEWAY N   \n",
       "24512         0      4  GATEWAY N   \n",
       "24513         0      4  GATEWAY N   \n",
       "24514         0      4  GATEWAY N   \n",
       "24515         0      4  GATEWAY N   \n",
       "24516         0      4  GATEWAY N   \n",
       "24517         0      4  GATEWAY N   \n",
       "24518         0      4  GATEWAY N   \n",
       "24519         0      4  GATEWAY N   \n",
       "24520         0      4  GATEWAY N   \n",
       "24521         0      4  GATEWAY N   \n",
       "24522         0      4  GATEWAY N   \n",
       "24523         0      4  GATEWAY N   \n",
       "24524         0      4  GATEWAY N   \n",
       "24525         0      4  GATEWAY N   \n",
       "24526         0      4  GATEWAY N   \n",
       "24527         0      4  GATEWAY N   \n",
       "24528         0      4  GATEWAY N   \n",
       "24529         0      4  GATEWAY N   \n",
       "24530         0      4  GATEWAY N   \n",
       "24531         0      4  GATEWAY N   \n",
       "\n",
       "                                        LEGL_DESCRIPTION  \n",
       "0      T3 R66 S1 BEG NW COR E         5287.84FT S 150...  \n",
       "1                  T3 R66 S2 NW/4 EXC PT IN ADAMS COUNTY  \n",
       "2                  T3 R66 S2 NE/4 EXC PT TO ADAMS COUNTY  \n",
       "3      T3 R66 S3 BEG 70FT E OF NW COR S3 E 933.31FT S...  \n",
       "4      T3S R66W S3 NE/4 PT N/2 COM    N/4 COR SD S3 T...  \n",
       "5      T3S R66W S3 NE/4 PT N/2 COM    N/4 COR SD S3 T...  \n",
       "6      T3 R66 S3 BEG NE COR S3 TH W   2641.8FT S 1391...  \n",
       "7      T3 R66 S3 PT S3 BEG 70FT E OF  NW/4 SE DAF    ...  \n",
       "8      T3 R66 S3 NW/4 PART COM SELY   MOST COR 69TH R...  \n",
       "9      T3 R66 S3 NW/4 PT COM SE MOST  COR 69TH AVE RO...  \n",
       "10                      T3S R66W PT OF NW/4 SEC 3 DAF  *  \n",
       "11                      T3S R66W PT OF NW/4 SEC 3 DAF  *  \n",
       "12     T3 R66 S3 PT SW/4 DIF          RCP# 2008005380...  \n",
       "13     T3 R66 S3 PT SW/4 DIF          RCP# 2009001505...  \n",
       "14     S3 3S 66W PT NW/4 SW/4 S3 COM  NW COR S3 TH S ...  \n",
       "15     T3S R66W NW/4 S3 DAF COM @ W/4 COR E 70 TPOB N...  \n",
       "16     S3 3S 66W PT SW/4 SEC 3 COM    W/4 S3 TH E 70....  \n",
       "17     3/3/66 PT SW/4                 DAF            ...  \n",
       "18     3/3/66 PT SW/4 COM W/4 COR     SEC3 E 324.02FT...  \n",
       "19     3/3/66 PT SW/4                 DAF            ...  \n",
       "20     S3 3S 66W PT NW/4 S3 COM W/4   S3 SE TH S 720....  \n",
       "21     S3 3S 66W PT NW/4 S3 COM NW/4  S3 TH S 704.49F...  \n",
       "22     T3 66W PT NW/4 SEC 3 COM NW/4  SEC 3 TH E 70.0...  \n",
       "23     T3 66W PT SW/4 SEC 3 COM       S/4 COR S3 TH N...  \n",
       "24                        SUNRISE GATEWAY FLG NO 2 B1 L1  \n",
       "25                        SUNRISE GATEWAY FLG NO 2 B1 L2  \n",
       "26                        SUNRISE GATEWAY FLG NO 2 B1 L3  \n",
       "27                        SUNRISE GATEWAY FLG NO 2 B1 L4  \n",
       "28                        SUNRISE GATEWAY FLG NO 2 B1 L5  \n",
       "29     SUNRISE GATEWAY FLG 2 BLK 2 PT OF L 1 DAF BEG ...  \n",
       "...                                                  ...  \n",
       "24502  PT T2 R65 S33 UNITED AIRLINES  CARGO FACILITY ...  \n",
       "24503  PT T2 R65 S33 UNITED AIRLINES  CARGO FACILITY ...  \n",
       "24504  T2 R65 S33 PT UNITED AIRLINES  GROUND EQUIPMEN...  \n",
       "24505  T2 R65 S33 PT UNITED AIRLINES  GROUND EQUIPMEN...  \n",
       "24506  T2 R65 S33 UAR FLT KITCHEN BEG S/4 COR S33 N11...  \n",
       "24507  T2 R65 S33 UAR FLT KITCHEN BEG S/4 COR S33 N11...  \n",
       "24508  T2 R65 S33 PT AMR COMBS LEASE  AREA DIF UNR DO...  \n",
       "24509  T2 R65 S33 PT AMR COMBS LEASE  AREA DIF UNR DO...  \n",
       "24510  S-13-2                                        ...  \n",
       "24511  T2 R65 S33 PT AMR COMBS LEASE  AREA DIF UNR DO...  \n",
       "24512  T2 R65 S33 PT COM NW COR S33   TH S71.52.35E 2...  \n",
       "24513  T2 R65 S33 PT COM NW COR S33   TH S71.52.35E 2...  \n",
       "24514  AIRPORT RESORT PARKING LEASE   AREA CCN AR5A00...  \n",
       "24515  T2 R65 S33 EXC W 210FT & EXC   DAF            ...  \n",
       "24516  T2 R65 S34 N/2 EXC W 30FT &    EXC E 30FT     ...  \n",
       "24517  T2 R65 S34 SW/4 & EXC S 30FT & EXC W 30FT & N/...  \n",
       "24518  T2 R65 S34 S/2 SE/4 EXC E 30FT & EXC S 30FT   ...  \n",
       "24519  T2 R65 S35 EXC E 30FT & EXC S  30FT & EXC W 30...  \n",
       "24520  T2 R65 S36 BEG 30FT E & 30FT N OF SW COR S36 T...  \n",
       "24521  T2 R65 S36 BEG 30FT E OF NW CO R S36 TH E 509....  \n",
       "24522  T3 R65 S3 NE/4 EXC N 30FT OF   & EXC PT TO ADA...  \n",
       "24523  T3 R65 S3 W/2 EXC N & W 30FT & EXC PT TO ADAMS...  \n",
       "24524  T3 R65 S3 S/2 OF SW/4 EXC W 30 FT & EXC PT PT ...  \n",
       "24525  T3 R65 S4 BEG 30FT S & 30FT W  OF NE COR S4 TH...  \n",
       "24526  T3 R65 S5 BEG NW COR TH E      5261.84FT S 152...  \n",
       "24527  T3 R65 S6 BEG NE COR S 1513.95 FT W 2639.57FT ...  \n",
       "24528  T3 R65 S6 BEG NW COR S 1513.95 FT W 2583.48FT ...  \n",
       "24529  T2 R64 S7 BEG SW COR OF SD SEC N 2634.96FT E 8...  \n",
       "24530  T2 R64 S7 BEG SW COR OF SD SEC N 2634.96FT TO ...  \n",
       "24531  T2 R64 S18 BEG NW COR OF S18   TH E 824.48FT S...  \n",
       "\n",
       "[24532 rows x 43 columns]"
      ]
     },
     "execution_count": 27,
     "metadata": {},
     "output_type": "execute_result"
    }
   ],
   "source": [
    "p_df"
   ]
  },
  {
   "cell_type": "code",
   "execution_count": 29,
   "metadata": {
    "slideshow": {
     "slide_type": "subslide"
    }
   },
   "outputs": [],
   "source": [
    "# only select TOT_UNITS not zero and TAX_DIST DENVER\n",
    "pu_df = p_df[(p_df.TOT_UNITS !=0) &  (p_df.TAX_DIST == 'DENVER')]"
   ]
  },
  {
   "cell_type": "code",
   "execution_count": 30,
   "metadata": {
    "slideshow": {
     "slide_type": "subslide"
    }
   },
   "outputs": [
    {
     "name": "stdout",
     "output_type": "stream",
     "text": [
      "<class 'pandas.core.frame.DataFrame'>\n",
      "Int64Index: 6536 entries, 253 to 24293\n",
      "Data columns (total 43 columns):\n",
      "PIN                 6536 non-null int64\n",
      "SCHEDNUM            6536 non-null int64\n",
      "CD                  6536 non-null int64\n",
      "OFCARD              6536 non-null int64\n",
      "OWNER               6536 non-null object\n",
      "CO_OWNER            723 non-null object\n",
      "OWNER_NUM           6536 non-null object\n",
      "OWNER_DIR           3004 non-null object\n",
      "OWNER_ST            6534 non-null object\n",
      "OWNER_TYPE          5613 non-null object\n",
      "OWNER_APT           1157 non-null object\n",
      "OWNER_CITY          6536 non-null object\n",
      "OWNER_STATE         6536 non-null object\n",
      "OWNER_ZIP           6536 non-null object\n",
      "SITE_NBR            6536 non-null float64\n",
      "SITE_DIR            6323 non-null object\n",
      "SITE_NAME           6536 non-null object\n",
      "SITE_MODE           6516 non-null object\n",
      "SITE_MORE           1349 non-null object\n",
      "TAX_DIST            6536 non-null object\n",
      "PROP_CLASS          6536 non-null int64\n",
      "PROPERTY_CLASS      6477 non-null object\n",
      "BLD_NAME            1615 non-null object\n",
      "GROSS_AREA          6536 non-null int64\n",
      "NET_AREA            6536 non-null int64\n",
      "BSMT_AREA           6536 non-null int64\n",
      "FBSMT_SQFT          6536 non-null int64\n",
      "NO_FLOORS           6536 non-null int64\n",
      "TOTL_SQFT           6522 non-null float64\n",
      "ZONE10              6536 non-null object\n",
      "D_CLASS_CN          6536 non-null object\n",
      "ORIG_YOC            6536 non-null int64\n",
      "REMODEL             6536 non-null int64\n",
      "ASMT_APPR_LAND      6536 non-null int64\n",
      "TOTAL_VALUE         6536 non-null int64\n",
      "ASDLAND             6536 non-null int64\n",
      "ASSESS_VALUE        6536 non-null int64\n",
      "ASMT_TAXABLE        6536 non-null int64\n",
      "ASMT_EXEMPT_AMT     6536 non-null int64\n",
      "TOT_UNITS           6536 non-null int64\n",
      "NBHD_1              6536 non-null int64\n",
      "NBHD_1_CN           6536 non-null object\n",
      "LEGL_DESCRIPTION    6536 non-null object\n",
      "dtypes: float64(2), int64(20), object(21)\n",
      "memory usage: 2.2+ MB\n"
     ]
    }
   ],
   "source": [
    "pu_df.info()"
   ]
  },
  {
   "cell_type": "markdown",
   "metadata": {
    "slideshow": {
     "slide_type": "subslide"
    }
   },
   "source": [
    "Let plot \n",
    "- TOTL_SQFT, TOT_UNITS and color code with price ASMT_TOT\n",
    "- Histogram of TOT_UNITS\n",
    "- Histogram of TOT_UNITS\n",
    "\n"
   ]
  },
  {
   "cell_type": "code",
   "execution_count": 35,
   "metadata": {
    "slideshow": {
     "slide_type": "subslide"
    }
   },
   "outputs": [
    {
     "data": {
      "text/plain": [
       "PIN                    0\n",
       "SCHEDNUM               0\n",
       "CD                     0\n",
       "OFCARD                 0\n",
       "OWNER                  0\n",
       "CO_OWNER            5813\n",
       "OWNER_NUM              0\n",
       "OWNER_DIR           3532\n",
       "OWNER_ST               2\n",
       "OWNER_TYPE           923\n",
       "OWNER_APT           5379\n",
       "OWNER_CITY             0\n",
       "OWNER_STATE            0\n",
       "OWNER_ZIP              0\n",
       "SITE_NBR               0\n",
       "SITE_DIR             213\n",
       "SITE_NAME              0\n",
       "SITE_MODE             20\n",
       "SITE_MORE           5187\n",
       "TAX_DIST               0\n",
       "PROP_CLASS             0\n",
       "PROPERTY_CLASS        59\n",
       "BLD_NAME            4921\n",
       "GROSS_AREA             0\n",
       "NET_AREA               0\n",
       "BSMT_AREA              0\n",
       "FBSMT_SQFT             0\n",
       "NO_FLOORS              0\n",
       "TOTL_SQFT             14\n",
       "ZONE10                 0\n",
       "D_CLASS_CN             0\n",
       "ORIG_YOC               0\n",
       "REMODEL                0\n",
       "ASMT_APPR_LAND         0\n",
       "TOTAL_VALUE            0\n",
       "ASDLAND                0\n",
       "ASSESS_VALUE           0\n",
       "ASMT_TAXABLE           0\n",
       "ASMT_EXEMPT_AMT        0\n",
       "TOT_UNITS              0\n",
       "NBHD_1                 0\n",
       "NBHD_1_CN              0\n",
       "LEGL_DESCRIPTION       0\n",
       "dtype: int64"
      ]
     },
     "execution_count": 35,
     "metadata": {},
     "output_type": "execute_result"
    }
   ],
   "source": [
    "# print number of non null value in each colums\n",
    "pu_df.isnull().sum()"
   ]
  },
  {
   "cell_type": "code",
   "execution_count": 36,
   "metadata": {
    "slideshow": {
     "slide_type": "subslide"
    }
   },
   "outputs": [
    {
     "name": "stderr",
     "output_type": "stream",
     "text": [
      "/media/psnegi/psn/du/teaching/teach_2019/data_science_tools1/dst1_env/lib/python3.5/site-packages/ipykernel_launcher.py:2: SettingWithCopyWarning: \n",
      "A value is trying to be set on a copy of a slice from a DataFrame\n",
      "\n",
      "See the caveats in the documentation: http://pandas.pydata.org/pandas-docs/stable/indexing.html#indexing-view-versus-copy\n",
      "  \n"
     ]
    }
   ],
   "source": [
    "# can you drop na in TOTL_SQFT\n",
    "pu_df.dropna(subset= ['TOTL_SQFT'], inplace=True)"
   ]
  },
  {
   "cell_type": "code",
   "execution_count": 37,
   "metadata": {},
   "outputs": [
    {
     "data": {
      "text/plain": [
       "PIN                    0\n",
       "SCHEDNUM               0\n",
       "CD                     0\n",
       "OFCARD                 0\n",
       "OWNER                  0\n",
       "CO_OWNER            5802\n",
       "OWNER_NUM              0\n",
       "OWNER_DIR           3523\n",
       "OWNER_ST               2\n",
       "OWNER_TYPE           922\n",
       "OWNER_APT           5368\n",
       "OWNER_CITY             0\n",
       "OWNER_STATE            0\n",
       "OWNER_ZIP              0\n",
       "SITE_NBR               0\n",
       "SITE_DIR             212\n",
       "SITE_NAME              0\n",
       "SITE_MODE             20\n",
       "SITE_MORE           5177\n",
       "TAX_DIST               0\n",
       "PROP_CLASS             0\n",
       "PROPERTY_CLASS        55\n",
       "BLD_NAME            4913\n",
       "GROSS_AREA             0\n",
       "NET_AREA               0\n",
       "BSMT_AREA              0\n",
       "FBSMT_SQFT             0\n",
       "NO_FLOORS              0\n",
       "TOTL_SQFT              0\n",
       "ZONE10                 0\n",
       "D_CLASS_CN             0\n",
       "ORIG_YOC               0\n",
       "REMODEL                0\n",
       "ASMT_APPR_LAND         0\n",
       "TOTAL_VALUE            0\n",
       "ASDLAND                0\n",
       "ASSESS_VALUE           0\n",
       "ASMT_TAXABLE           0\n",
       "ASMT_EXEMPT_AMT        0\n",
       "TOT_UNITS              0\n",
       "NBHD_1                 0\n",
       "NBHD_1_CN              0\n",
       "LEGL_DESCRIPTION       0\n",
       "dtype: int64"
      ]
     },
     "execution_count": 37,
     "metadata": {},
     "output_type": "execute_result"
    }
   ],
   "source": [
    "pu_df.isnull().sum()"
   ]
  },
  {
   "cell_type": "code",
   "execution_count": 40,
   "metadata": {
    "slideshow": {
     "slide_type": "subslide"
    }
   },
   "outputs": [
    {
     "data": {
      "text/plain": [
       "<matplotlib.colorbar.Colorbar at 0x7fcf6a025d30>"
      ]
     },
     "execution_count": 40,
     "metadata": {},
     "output_type": "execute_result"
    },
    {
     "data": {
      "image/png": "[encoded data removed]",
      "text/plain": [
       "<Figure size 1152x720 with 4 Axes>"
      ]
     },
     "metadata": {
      "needs_background": "light"
     },
     "output_type": "display_data"
    }
   ],
   "source": [
    "gs = (3,2)\n",
    "fig = plt.figure(figsize=(16, 10))\n",
    "ax1 = plt.subplot2grid(gs, (0, 0), colspan=2, rowspan=2)\n",
    "ax1.set_title('assess value as a function of net area and total units')\n",
    "ax2 = plt.subplot2grid(gs, (2, 0))\n",
    "ax2.set_title('Histogram of net area ')\n",
    "ax3 = plt.subplot2grid(gs, (2, 1))\n",
    "ax2.hist(p_df.NET_AREA, bins='auto')\n",
    "ax3.hist(p_df.TOT_UNITS[p_df.TOT_UNITS < 20], bins =20)\n",
    "ax3.set_title('Histogram of total units')\n",
    "\n",
    "sct= ax1.scatter(x= p_df.NET_AREA,y = p_df.TOT_UNITS  ,c=p_df.ASSESS_VALUE, cmap=plt.cm.jet)\n",
    "plt.colorbar(sct, ax=ax1, format='$%d')"
   ]
  },
  {
   "cell_type": "markdown",
   "metadata": {
    "slideshow": {
     "slide_type": "slide"
    }
   },
   "source": [
    "List of plots\n",
    "\n",
    "- https://matplotlib.org/api/axes_api.html?highlight=axes%20class#plotting"
   ]
  },
  {
   "cell_type": "markdown",
   "metadata": {
    "slideshow": {
     "slide_type": "slide"
    }
   },
   "source": [
    "# imshow"
   ]
  },
  {
   "cell_type": "markdown",
   "metadata": {
    "slideshow": {
     "slide_type": "subslide"
    }
   },
   "source": [
    "# Heatmap example"
   ]
  },
  {
   "cell_type": "code",
   "execution_count": 207,
   "metadata": {
    "slideshow": {
     "slide_type": "subslide"
    }
   },
   "outputs": [],
   "source": [
    "samples = 1024\n",
    "x = np.random.randn(samples)\n",
    "y = np.random.randn(samples)"
   ]
  },
  {
   "cell_type": "code",
   "execution_count": 211,
   "metadata": {
    "slideshow": {
     "slide_type": "subslide"
    }
   },
   "outputs": [
    {
     "data": {
      "text/plain": [
       "<matplotlib.colorbar.Colorbar at 0x7f75ffdd7fd0>"
      ]
     },
     "execution_count": 211,
     "metadata": {},
     "output_type": "execute_result"
    },
    {
     "data": {
      "image/png": "[encoded data removed]",
      "text/plain": [
       "<Figure size 432x288 with 2 Axes>"
      ]
     },
     "metadata": {
      "needs_background": "light"
     },
     "output_type": "display_data"
    }
   ],
   "source": [
    "heatmap, xedges, yedges = np.histogram2d(x, y, bins=(64,64))\n",
    "extent = [xedges[0], xedges[-1], yedges[0], yedges[-1]]\n",
    " \n",
    "plt.title('Density heatmap')\n",
    "plt.ylabel('y')\n",
    "plt.xlabel('x')\n",
    "\n",
    "plt.imshow(heatmap, extent=extent)\n",
    "plt.colorbar()\n"
   ]
  },
  {
   "cell_type": "markdown",
   "metadata": {
    "slideshow": {
     "slide_type": "subslide"
    }
   },
   "source": [
    "# Plotting correlation"
   ]
  },
  {
   "cell_type": "code",
   "execution_count": 41,
   "metadata": {
    "slideshow": {
     "slide_type": "fragment"
    }
   },
   "outputs": [],
   "source": [
    "df= pd.read_csv('https://archive.ics.uci.edu/ml/machine-learning-databases/abalone/abalone.data', header= None)"
   ]
  },
  {
   "cell_type": "code",
   "execution_count": 42,
   "metadata": {
    "slideshow": {
     "slide_type": "fragment"
    }
   },
   "outputs": [
    {
     "data": {
      "text/html": [
       "<div>\n",
       "<style scoped>\n",
       "    .dataframe tbody tr th:only-of-type {\n",
       "        vertical-align: middle;\n",
       "    }\n",
       "\n",
       "    .dataframe tbody tr th {\n",
       "        vertical-align: top;\n",
       "    }\n",
       "\n",
       "    .dataframe thead th {\n",
       "        text-align: right;\n",
       "    }\n",
       "</style>\n",
       "<table border=\"1\" class=\"dataframe\">\n",
       "  <thead>\n",
       "    <tr style=\"text-align: right;\">\n",
       "      <th></th>\n",
       "      <th>0</th>\n",
       "      <th>1</th>\n",
       "      <th>2</th>\n",
       "      <th>3</th>\n",
       "      <th>4</th>\n",
       "      <th>5</th>\n",
       "      <th>6</th>\n",
       "      <th>7</th>\n",
       "      <th>8</th>\n",
       "    </tr>\n",
       "  </thead>\n",
       "  <tbody>\n",
       "    <tr>\n",
       "      <th>0</th>\n",
       "      <td>M</td>\n",
       "      <td>0.455</td>\n",
       "      <td>0.365</td>\n",
       "      <td>0.095</td>\n",
       "      <td>0.5140</td>\n",
       "      <td>0.2245</td>\n",
       "      <td>0.1010</td>\n",
       "      <td>0.150</td>\n",
       "      <td>15</td>\n",
       "    </tr>\n",
       "    <tr>\n",
       "      <th>1</th>\n",
       "      <td>M</td>\n",
       "      <td>0.350</td>\n",
       "      <td>0.265</td>\n",
       "      <td>0.090</td>\n",
       "      <td>0.2255</td>\n",
       "      <td>0.0995</td>\n",
       "      <td>0.0485</td>\n",
       "      <td>0.070</td>\n",
       "      <td>7</td>\n",
       "    </tr>\n",
       "    <tr>\n",
       "      <th>2</th>\n",
       "      <td>F</td>\n",
       "      <td>0.530</td>\n",
       "      <td>0.420</td>\n",
       "      <td>0.135</td>\n",
       "      <td>0.6770</td>\n",
       "      <td>0.2565</td>\n",
       "      <td>0.1415</td>\n",
       "      <td>0.210</td>\n",
       "      <td>9</td>\n",
       "    </tr>\n",
       "    <tr>\n",
       "      <th>3</th>\n",
       "      <td>M</td>\n",
       "      <td>0.440</td>\n",
       "      <td>0.365</td>\n",
       "      <td>0.125</td>\n",
       "      <td>0.5160</td>\n",
       "      <td>0.2155</td>\n",
       "      <td>0.1140</td>\n",
       "      <td>0.155</td>\n",
       "      <td>10</td>\n",
       "    </tr>\n",
       "    <tr>\n",
       "      <th>4</th>\n",
       "      <td>I</td>\n",
       "      <td>0.330</td>\n",
       "      <td>0.255</td>\n",
       "      <td>0.080</td>\n",
       "      <td>0.2050</td>\n",
       "      <td>0.0895</td>\n",
       "      <td>0.0395</td>\n",
       "      <td>0.055</td>\n",
       "      <td>7</td>\n",
       "    </tr>\n",
       "    <tr>\n",
       "      <th>5</th>\n",
       "      <td>I</td>\n",
       "      <td>0.425</td>\n",
       "      <td>0.300</td>\n",
       "      <td>0.095</td>\n",
       "      <td>0.3515</td>\n",
       "      <td>0.1410</td>\n",
       "      <td>0.0775</td>\n",
       "      <td>0.120</td>\n",
       "      <td>8</td>\n",
       "    </tr>\n",
       "    <tr>\n",
       "      <th>6</th>\n",
       "      <td>F</td>\n",
       "      <td>0.530</td>\n",
       "      <td>0.415</td>\n",
       "      <td>0.150</td>\n",
       "      <td>0.7775</td>\n",
       "      <td>0.2370</td>\n",
       "      <td>0.1415</td>\n",
       "      <td>0.330</td>\n",
       "      <td>20</td>\n",
       "    </tr>\n",
       "    <tr>\n",
       "      <th>7</th>\n",
       "      <td>F</td>\n",
       "      <td>0.545</td>\n",
       "      <td>0.425</td>\n",
       "      <td>0.125</td>\n",
       "      <td>0.7680</td>\n",
       "      <td>0.2940</td>\n",
       "      <td>0.1495</td>\n",
       "      <td>0.260</td>\n",
       "      <td>16</td>\n",
       "    </tr>\n",
       "    <tr>\n",
       "      <th>8</th>\n",
       "      <td>M</td>\n",
       "      <td>0.475</td>\n",
       "      <td>0.370</td>\n",
       "      <td>0.125</td>\n",
       "      <td>0.5095</td>\n",
       "      <td>0.2165</td>\n",
       "      <td>0.1125</td>\n",
       "      <td>0.165</td>\n",
       "      <td>9</td>\n",
       "    </tr>\n",
       "    <tr>\n",
       "      <th>9</th>\n",
       "      <td>F</td>\n",
       "      <td>0.550</td>\n",
       "      <td>0.440</td>\n",
       "      <td>0.150</td>\n",
       "      <td>0.8945</td>\n",
       "      <td>0.3145</td>\n",
       "      <td>0.1510</td>\n",
       "      <td>0.320</td>\n",
       "      <td>19</td>\n",
       "    </tr>\n",
       "  </tbody>\n",
       "</table>\n",
       "</div>"
      ],
      "text/plain": [
       "   0      1      2      3       4       5       6      7   8\n",
       "0  M  0.455  0.365  0.095  0.5140  0.2245  0.1010  0.150  15\n",
       "1  M  0.350  0.265  0.090  0.2255  0.0995  0.0485  0.070   7\n",
       "2  F  0.530  0.420  0.135  0.6770  0.2565  0.1415  0.210   9\n",
       "3  M  0.440  0.365  0.125  0.5160  0.2155  0.1140  0.155  10\n",
       "4  I  0.330  0.255  0.080  0.2050  0.0895  0.0395  0.055   7\n",
       "5  I  0.425  0.300  0.095  0.3515  0.1410  0.0775  0.120   8\n",
       "6  F  0.530  0.415  0.150  0.7775  0.2370  0.1415  0.330  20\n",
       "7  F  0.545  0.425  0.125  0.7680  0.2940  0.1495  0.260  16\n",
       "8  M  0.475  0.370  0.125  0.5095  0.2165  0.1125  0.165   9\n",
       "9  F  0.550  0.440  0.150  0.8945  0.3145  0.1510  0.320  19"
      ]
     },
     "execution_count": 42,
     "metadata": {},
     "output_type": "execute_result"
    }
   ],
   "source": [
    "df.head(10)"
   ]
  },
  {
   "cell_type": "code",
   "execution_count": 43,
   "metadata": {
    "slideshow": {
     "slide_type": "subslide"
    }
   },
   "outputs": [
    {
     "data": {
      "text/plain": [
       "0     object\n",
       "1    float64\n",
       "2    float64\n",
       "3    float64\n",
       "4    float64\n",
       "5    float64\n",
       "6    float64\n",
       "7    float64\n",
       "8      int64\n",
       "dtype: object"
      ]
     },
     "execution_count": 43,
     "metadata": {},
     "output_type": "execute_result"
    }
   ],
   "source": [
    "# Let's check data types\n",
    "df.dtypes"
   ]
  },
  {
   "cell_type": "code",
   "execution_count": 44,
   "metadata": {
    "slideshow": {
     "slide_type": "subslide"
    }
   },
   "outputs": [
    {
     "data": {
      "text/plain": [
       "<matplotlib.colorbar.Colorbar at 0x7fcf69eac3c8>"
      ]
     },
     "execution_count": 44,
     "metadata": {},
     "output_type": "execute_result"
    },
    {
     "data": {
      "image/png": "[encoded data removed]",
      "text/plain": [
       "<Figure size 720x720 with 2 Axes>"
      ]
     },
     "metadata": {
      "needs_background": "light"
     },
     "output_type": "display_data"
    }
   ],
   "source": [
    "f, ax1 = plt.subplots(figsize=(10, 10))\n",
    "\n",
    "cax = ax1.imshow(df.corr(), interpolation=\"nearest\", cmap=plt.cm.jet)\n",
    "ax1.grid(True)\n",
    "plt.title('Abalone Feature Correlation')\n",
    "labels=['Sex','Length','Diam','Height','Whole','Shucked','Viscera','Shell','Rings',]\n",
    "ax1.set_xticklabels(labels,fontsize=6)\n",
    "ax1.set_yticklabels(labels,fontsize=6)\n",
    "\n",
    "f.colorbar(cax, ticks=[.75,.8,.85,.90,.95,1])"
   ]
  },
  {
   "cell_type": "markdown",
   "metadata": {
    "slideshow": {
     "slide_type": "slide"
    }
   },
   "source": [
    "# seaborn\n",
    "Seaborn is a Python data visualization library based on matplotlib."
   ]
  },
  {
   "cell_type": "code",
   "execution_count": null,
   "metadata": {
    "slideshow": {
     "slide_type": "subslide"
    }
   },
   "outputs": [],
   "source": [
    "!pip install --upgrade seaborn"
   ]
  },
  {
   "cell_type": "markdown",
   "metadata": {
    "slideshow": {
     "slide_type": "subslide"
    }
   },
   "source": [
    "# statistical relationships"
   ]
  },
  {
   "cell_type": "code",
   "execution_count": 47,
   "metadata": {},
   "outputs": [
    {
     "data": {
      "text/plain": [
       "'0.9.0'"
      ]
     },
     "execution_count": 47,
     "metadata": {},
     "output_type": "execute_result"
    }
   ],
   "source": [
    "sns.__version__"
   ]
  },
  {
   "cell_type": "code",
   "execution_count": 45,
   "metadata": {
    "slideshow": {
     "slide_type": "subslide"
    }
   },
   "outputs": [],
   "source": [
    "import seaborn as sns\n",
    "sns.set(style=\"darkgrid\")\n"
   ]
  },
  {
   "cell_type": "code",
   "execution_count": 46,
   "metadata": {
    "slideshow": {
     "slide_type": "subslide"
    }
   },
   "outputs": [
    {
     "data": {
      "image/png": "[encoded data removed]",
      "text/plain": [
       "<Figure size 360x360 with 1 Axes>"
      ]
     },
     "metadata": {},
     "output_type": "display_data"
    }
   ],
   "source": [
    "# scatter\n",
    "tips = sns.load_dataset(\"tips\")\n",
    "sns.relplot(x=\"total_bill\", y=\"tip\", data=tips);"
   ]
  },
  {
   "cell_type": "code",
   "execution_count": 48,
   "metadata": {
    "slideshow": {
     "slide_type": "subslide"
    }
   },
   "outputs": [
    {
     "data": {
      "image/png": "[encoded data removed]",
      "text/plain": [
       "<Figure size 440.725x360 with 1 Axes>"
      ]
     },
     "metadata": {},
     "output_type": "display_data"
    }
   ],
   "source": [
    "# 3 variable using hue\n",
    "sns.relplot(x=\"total_bill\", y=\"tip\", hue=\"smoker\", data=tips);"
   ]
  },
  {
   "cell_type": "code",
   "execution_count": 49,
   "metadata": {
    "slideshow": {
     "slide_type": "subslide"
    }
   },
   "outputs": [
    {
     "data": {
      "image/png": "[encoded data removed]",
      "text/plain": [
       "<Figure size 440.725x360 with 1 Axes>"
      ]
     },
     "metadata": {},
     "output_type": "display_data"
    }
   ],
   "source": [
    "# 3 variable, different marker\n",
    "sns.relplot(x=\"total_bill\", y=\"tip\", hue=\"smoker\", style=\"smoker\",\n",
    "            data=tips);"
   ]
  },
  {
   "cell_type": "code",
   "execution_count": 50,
   "metadata": {
    "slideshow": {
     "slide_type": "subslide"
    }
   },
   "outputs": [
    {
     "data": {
      "image/png": "[encoded data removed]",
      "text/plain": [
       "<Figure size 440.725x360 with 1 Axes>"
      ]
     },
     "metadata": {},
     "output_type": "display_data"
    }
   ],
   "source": [
    "# 4\n",
    "sns.relplot(x=\"total_bill\", y=\"tip\", hue=\"smoker\", style=\"time\", data=tips);"
   ]
  },
  {
   "cell_type": "code",
   "execution_count": 51,
   "metadata": {
    "slideshow": {
     "slide_type": "subslide"
    }
   },
   "outputs": [
    {
     "data": {
      "image/png": "[encoded data removed]",
      "text/plain": [
       "<Figure size 421.1x360 with 1 Axes>"
      ]
     },
     "metadata": {},
     "output_type": "display_data"
    }
   ],
   "source": [
    "# controlling size\n",
    "sns.relplot(x=\"total_bill\", y=\"tip\", size=\"size\", sizes=(15, 200), data=tips);"
   ]
  },
  {
   "cell_type": "code",
   "execution_count": 52,
   "metadata": {
    "slideshow": {
     "slide_type": "subslide"
    }
   },
   "outputs": [
    {
     "data": {
      "image/png": "[encoded data removed]",
      "text/plain": [
       "<Figure size 360x360 with 1 Axes>"
      ]
     },
     "metadata": {},
     "output_type": "display_data"
    }
   ],
   "source": [
    "# multiple measurements\n",
    "fmri = sns.load_dataset(\"fmri\")\n",
    "sns.relplot(x=\"timepoint\", y=\"signal\", kind=\"line\", data=fmri);"
   ]
  },
  {
   "cell_type": "code",
   "execution_count": 53,
   "metadata": {
    "slideshow": {
     "slide_type": "subslide"
    }
   },
   "outputs": [
    {
     "data": {
      "image/png": "[encoded data removed]",
      "text/plain": [
       "<Figure size 431.225x360 with 1 Axes>"
      ]
     },
     "metadata": {},
     "output_type": "display_data"
    }
   ],
   "source": [
    "sns.relplot(x=\"timepoint\", y=\"signal\", hue=\"event\", style=\"event\",\n",
    "            kind=\"line\", data=fmri);"
   ]
  },
  {
   "cell_type": "markdown",
   "metadata": {
    "slideshow": {
     "slide_type": "subslide"
    }
   },
   "source": [
    "# Date"
   ]
  },
  {
   "cell_type": "code",
   "execution_count": 54,
   "metadata": {
    "slideshow": {
     "slide_type": "subslide"
    }
   },
   "outputs": [
    {
     "data": {
      "image/png": "[encoded data removed]",
      "text/plain": [
       "<Figure size 360x360 with 1 Axes>"
      ]
     },
     "metadata": {},
     "output_type": "display_data"
    }
   ],
   "source": [
    "df = pd.DataFrame(dict(time=pd.date_range(\"2017-1-1\", periods=500),\n",
    "                       value=np.random.randn(500).cumsum()))\n",
    "g = sns.relplot(x=\"time\", y=\"value\", kind=\"line\", data=df)\n",
    "g.fig.autofmt_xdate()"
   ]
  }
 ],
 "metadata": {
  "celltoolbar": "Slideshow",
  "kernelspec": {
   "display_name": "Python 3",
   "language": "python",
   "name": "python3"
  },
  "language_info": {
   "codemirror_mode": {
    "name": "ipython",
    "version": 3
   },
   "file_extension": ".py",
   "mimetype": "text/x-python",
   "name": "python",
   "nbconvert_exporter": "python",
   "pygments_lexer": "ipython3",
   "version": "3.5.2"
  }
 },
 "nbformat": 4,
 "nbformat_minor": 2
}
