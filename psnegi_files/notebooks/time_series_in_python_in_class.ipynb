{
 "cells": [
  {
   "cell_type": "markdown",
   "metadata": {
    "slideshow": {
     "slide_type": "slide"
    }
   },
   "source": [
    "# Time series\n",
    "\n",
    "Sequence of data objects indexed by time"
   ]
  },
  {
   "cell_type": "markdown",
   "metadata": {
    "slideshow": {
     "slide_type": "subslide"
    }
   },
   "source": [
    "# Applications\n",
    "- NLP(natural language processing)\n",
    "    + How computer understand what we speak\n",
    "- Brain signals/ brain function understanding.\n",
    "    +  electroencephalograms (EEG), magnetoencephalograms (MEG), and magnetic resonance imaging (MRI).\n",
    "- Understanding national/global social issues, economic issues    \n",
    "- Video understanding\n",
    "- Finance, health care, Physics"
   ]
  },
  {
   "cell_type": "code",
   "execution_count": 1,
   "metadata": {
    "slideshow": {
     "slide_type": "subslide"
    }
   },
   "outputs": [],
   "source": [
    "import pandas as pd\n",
    "import numpy as np\n",
    "%matplotlib inline\n",
    "import matplotlib.pyplot as plt"
   ]
  },
  {
   "cell_type": "markdown",
   "metadata": {
    "slideshow": {
     "slide_type": "slide"
    }
   },
   "source": [
    "# Date Time Data Types in pandas"
   ]
  },
  {
   "cell_type": "markdown",
   "metadata": {
    "slideshow": {
     "slide_type": "subslide"
    }
   },
   "source": [
    "We already used pandas to_datetime functionality"
   ]
  },
  {
   "cell_type": "code",
   "execution_count": 2,
   "metadata": {
    "slideshow": {
     "slide_type": "fragment"
    }
   },
   "outputs": [],
   "source": [
    "dates = ['2011-07-06 12:00:00', '2011-08-06 00:00:00', None]"
   ]
  },
  {
   "cell_type": "code",
   "execution_count": 3,
   "metadata": {
    "slideshow": {
     "slide_type": "fragment"
    }
   },
   "outputs": [
    {
     "data": {
      "text/plain": [
       "DatetimeIndex(['2011-07-06 12:00:00', '2011-08-06 00:00:00', 'NaT'], dtype='datetime64[ns]', freq=None)"
      ]
     },
     "execution_count": 3,
     "metadata": {},
     "output_type": "execute_result"
    }
   ],
   "source": [
    "index = pd.to_datetime(dates)\n",
    "index"
   ]
  },
  {
   "cell_type": "code",
   "execution_count": 4,
   "metadata": {
    "slideshow": {
     "slide_type": "fragment"
    }
   },
   "outputs": [
    {
     "data": {
      "text/plain": [
       "dtype('<M8[ns]')"
      ]
     },
     "execution_count": 4,
     "metadata": {},
     "output_type": "execute_result"
    }
   ],
   "source": [
    "index.dtype"
   ]
  },
  {
   "cell_type": "code",
   "execution_count": 5,
   "metadata": {
    "slideshow": {
     "slide_type": "fragment"
    }
   },
   "outputs": [
    {
     "data": {
      "text/plain": [
       "Timestamp('2011-07-06 12:00:00')"
      ]
     },
     "execution_count": 5,
     "metadata": {},
     "output_type": "execute_result"
    }
   ],
   "source": [
    "index[0]"
   ]
  },
  {
   "cell_type": "markdown",
   "metadata": {
    "slideshow": {
     "slide_type": "subslide"
    }
   },
   "source": [
    "# timestamp\n",
    "\n",
    "https://pandas.pydata.org/pandas-docs/stable/reference/api/pandas.Timestamp.html"
   ]
  },
  {
   "cell_type": "code",
   "execution_count": 9,
   "metadata": {},
   "outputs": [
    {
     "data": {
      "text/plain": [
       "'0.23.4'"
      ]
     },
     "execution_count": 9,
     "metadata": {},
     "output_type": "execute_result"
    }
   ],
   "source": [
    "! pip install --upgrade pandas"
   ]
  },
  {
   "cell_type": "code",
   "execution_count": 10,
   "metadata": {
    "slideshow": {
     "slide_type": "fragment"
    }
   },
   "outputs": [
    {
     "data": {
      "text/plain": [
       "Timestamp('2018-01-01 00:00:00')"
      ]
     },
     "execution_count": 10,
     "metadata": {},
     "output_type": "execute_result"
    }
   ],
   "source": [
    "ts= pd.Timestamp('1/1/2018')\n",
    "ts"
   ]
  },
  {
   "cell_type": "code",
   "execution_count": 11,
   "metadata": {
    "slideshow": {
     "slide_type": "fragment"
    }
   },
   "outputs": [
    {
     "data": {
      "text/plain": [
       "('Monday', 0, 31, None)"
      ]
     },
     "execution_count": 11,
     "metadata": {},
     "output_type": "execute_result"
    }
   ],
   "source": [
    "ts.day_name(), ts.dayofweek, ts.days_in_month, ts.tzinfo"
   ]
  },
  {
   "cell_type": "code",
   "execution_count": null,
   "metadata": {
    "slideshow": {
     "slide_type": "fragment"
    }
   },
   "outputs": [],
   "source": [
    "pd.to_datetime(['04-01-2012 10:00'], dayfirst=True)"
   ]
  },
  {
   "cell_type": "markdown",
   "metadata": {
    "slideshow": {
     "slide_type": "subslide"
    }
   },
   "source": [
    "# timeDelta\n",
    "https://pandas.pydata.org/pandas-docs/stable/user_guide/timedeltas.html"
   ]
  },
  {
   "cell_type": "code",
   "execution_count": 14,
   "metadata": {
    "slideshow": {
     "slide_type": "fragment"
    }
   },
   "outputs": [
    {
     "data": {
      "text/plain": [
       "Timedelta('1 days 02:00:00')"
      ]
     },
     "execution_count": 14,
     "metadata": {},
     "output_type": "execute_result"
    }
   ],
   "source": [
    "interval = pd.Timedelta(\"1 day 2 hours\")\n",
    "interval"
   ]
  },
  {
   "cell_type": "code",
   "execution_count": 15,
   "metadata": {},
   "outputs": [
    {
     "data": {
      "text/plain": [
       "Timestamp('2018-01-01 00:00:00')"
      ]
     },
     "execution_count": 15,
     "metadata": {},
     "output_type": "execute_result"
    }
   ],
   "source": [
    "ts"
   ]
  },
  {
   "cell_type": "code",
   "execution_count": 13,
   "metadata": {
    "slideshow": {
     "slide_type": "fragment"
    }
   },
   "outputs": [
    {
     "data": {
      "text/plain": [
       "Timestamp('2018-01-02 02:00:00')"
      ]
     },
     "execution_count": 13,
     "metadata": {},
     "output_type": "execute_result"
    }
   ],
   "source": [
    "ts+interval"
   ]
  },
  {
   "cell_type": "markdown",
   "metadata": {
    "slideshow": {
     "slide_type": "subslide"
    }
   },
   "source": [
    "# Creating time index based on Timestamp"
   ]
  },
  {
   "cell_type": "code",
   "execution_count": 19,
   "metadata": {
    "slideshow": {
     "slide_type": "fragment"
    }
   },
   "outputs": [
    {
     "data": {
      "text/plain": [
       "DatetimeIndex(['2018-03-31', '2018-06-30', '2018-09-30', '2018-12-31',\n",
       "               '2019-03-31'],\n",
       "              dtype='datetime64[ns]', freq='Q-DEC')"
      ]
     },
     "execution_count": 19,
     "metadata": {},
     "output_type": "execute_result"
    }
   ],
   "source": [
    "time_range= pd.date_range(start='1/1/2018', periods=5, freq= 'Q')\n",
    "time_range"
   ]
  },
  {
   "cell_type": "code",
   "execution_count": 20,
   "metadata": {
    "slideshow": {
     "slide_type": "fragment"
    }
   },
   "outputs": [
    {
     "data": {
      "text/plain": [
       "Timestamp('2018-03-31 00:00:00', freq='Q-DEC')"
      ]
     },
     "execution_count": 20,
     "metadata": {},
     "output_type": "execute_result"
    }
   ],
   "source": [
    "time_range[0]"
   ]
  },
  {
   "cell_type": "markdown",
   "metadata": {
    "slideshow": {
     "slide_type": "subslide"
    }
   },
   "source": [
    "# Can you change frequency to month"
   ]
  },
  {
   "cell_type": "code",
   "execution_count": 24,
   "metadata": {
    "slideshow": {
     "slide_type": "fragment"
    }
   },
   "outputs": [
    {
     "data": {
      "text/plain": [
       "DatetimeIndex(['2018-01-31', '2018-02-28', '2018-03-31', '2018-04-30',\n",
       "               '2018-05-31'],\n",
       "              dtype='datetime64[ns]', freq='M')"
      ]
     },
     "execution_count": 24,
     "metadata": {},
     "output_type": "execute_result"
    }
   ],
   "source": [
    "date_range = pd.date_range(start='1/4/2018', periods=5, freq='M')\n",
    "date_range"
   ]
  },
  {
   "cell_type": "code",
   "execution_count": 22,
   "metadata": {
    "slideshow": {
     "slide_type": "fragment"
    }
   },
   "outputs": [
    {
     "data": {
      "text/plain": [
       "DatetimeIndex(['2018-01-01 00:00:00', '2018-01-01 01:30:00',\n",
       "               '2018-01-01 03:00:00', '2018-01-01 04:30:00',\n",
       "               '2018-01-01 06:00:00'],\n",
       "              dtype='datetime64[ns]', freq='90T')"
      ]
     },
     "execution_count": 22,
     "metadata": {},
     "output_type": "execute_result"
    }
   ],
   "source": [
    "date_range = pd.date_range(start='1/1/2018', periods=5, freq='1h30min')\n",
    "date_range"
   ]
  },
  {
   "cell_type": "code",
   "execution_count": 23,
   "metadata": {
    "slideshow": {
     "slide_type": "fragment"
    }
   },
   "outputs": [
    {
     "data": {
      "text/plain": [
       "DatetimeIndex(['2018-01-02 02:00:00', '2018-01-02 03:30:00',\n",
       "               '2018-01-02 05:00:00', '2018-01-02 06:30:00',\n",
       "               '2018-01-02 08:00:00'],\n",
       "              dtype='datetime64[ns]', freq='90T')"
      ]
     },
     "execution_count": 23,
     "metadata": {},
     "output_type": "execute_result"
    }
   ],
   "source": [
    "date_range + interval"
   ]
  },
  {
   "cell_type": "markdown",
   "metadata": {
    "slideshow": {
     "slide_type": "slide"
    }
   },
   "source": [
    "# Period"
   ]
  },
  {
   "cell_type": "code",
   "execution_count": 28,
   "metadata": {
    "slideshow": {
     "slide_type": "subslide"
    }
   },
   "outputs": [
    {
     "data": {
      "text/plain": [
       "(Period('2019-03', 'M'),\n",
       " Timestamp('2019-03-01 00:00:00'),\n",
       " Timestamp('2019-03-31 23:59:59.999999999'))"
      ]
     },
     "execution_count": 28,
     "metadata": {},
     "output_type": "execute_result"
    }
   ],
   "source": [
    "p = pd.Period('3/2019')\n",
    "p,p.start_time, p.end_time"
   ]
  },
  {
   "cell_type": "code",
   "execution_count": 29,
   "metadata": {
    "slideshow": {
     "slide_type": "subslide"
    }
   },
   "outputs": [
    {
     "data": {
      "text/plain": [
       "(Timestamp('2017-01-01 00:00:00'), Timestamp('2017-03-31 23:59:59.999999999'))"
      ]
     },
     "execution_count": 29,
     "metadata": {},
     "output_type": "execute_result"
    }
   ],
   "source": [
    "pq= pd.Period('2017Q1', freq='Q')\n",
    "pq.start_time, pq.end_time"
   ]
  },
  {
   "cell_type": "markdown",
   "metadata": {
    "slideshow": {
     "slide_type": "subslide"
    }
   },
   "source": [
    "## period_range"
   ]
  },
  {
   "cell_type": "code",
   "execution_count": 30,
   "metadata": {
    "slideshow": {
     "slide_type": "fragment"
    }
   },
   "outputs": [
    {
     "data": {
      "text/plain": [
       "PeriodIndex(['2017-01-01', '2017-01-02', '2017-01-03', '2017-01-04',\n",
       "             '2017-01-05', '2017-01-06', '2017-01-07', '2017-01-08',\n",
       "             '2017-01-09', '2017-01-10', '2017-01-11', '2017-01-12',\n",
       "             '2017-01-13', '2017-01-14', '2017-01-15', '2017-01-16',\n",
       "             '2017-01-17', '2017-01-18', '2017-01-19', '2017-01-20',\n",
       "             '2017-01-21', '2017-01-22', '2017-01-23', '2017-01-24',\n",
       "             '2017-01-25', '2017-01-26', '2017-01-27', '2017-01-28',\n",
       "             '2017-01-29', '2017-01-30', '2017-01-31', '2017-02-01',\n",
       "             '2017-02-02', '2017-02-03', '2017-02-04', '2017-02-05',\n",
       "             '2017-02-06', '2017-02-07', '2017-02-08', '2017-02-09',\n",
       "             '2017-02-10', '2017-02-11', '2017-02-12', '2017-02-13',\n",
       "             '2017-02-14', '2017-02-15', '2017-02-16', '2017-02-17',\n",
       "             '2017-02-18', '2017-02-19', '2017-02-20', '2017-02-21',\n",
       "             '2017-02-22', '2017-02-23', '2017-02-24', '2017-02-25',\n",
       "             '2017-02-26', '2017-02-27', '2017-02-28', '2017-03-01'],\n",
       "            dtype='period[D]', freq='D')"
      ]
     },
     "execution_count": 30,
     "metadata": {},
     "output_type": "execute_result"
    }
   ],
   "source": [
    "pd.period_range(start='2017-01-01', end='2017-03-01', freq='D')\n"
   ]
  },
  {
   "cell_type": "code",
   "execution_count": 31,
   "metadata": {
    "slideshow": {
     "slide_type": "subslide"
    }
   },
   "outputs": [
    {
     "data": {
      "text/plain": [
       "PeriodIndex(['2017-03', '2017-04', '2017-05', '2017-06'], dtype='period[M]', freq='M')"
      ]
     },
     "execution_count": 31,
     "metadata": {},
     "output_type": "execute_result"
    }
   ],
   "source": [
    "pd.period_range(start=pd.Period('2017Q1'),\n",
    "               end=pd.Period('2017Q2'), freq='M')"
   ]
  },
  {
   "cell_type": "markdown",
   "metadata": {
    "slideshow": {
     "slide_type": "slide"
    }
   },
   "source": [
    "# time zone"
   ]
  },
  {
   "cell_type": "code",
   "execution_count": 32,
   "metadata": {
    "slideshow": {
     "slide_type": "subslide"
    }
   },
   "outputs": [
    {
     "data": {
      "text/plain": [
       "DatetimeIndex(['2019-02-01', '2019-02-02', '2019-02-03', '2019-02-04',\n",
       "               '2019-02-05'],\n",
       "              dtype='datetime64[ns, Europe/London]', freq='D')"
      ]
     },
     "execution_count": 32,
     "metadata": {},
     "output_type": "execute_result"
    }
   ],
   "source": [
    "rng =pd.date_range('2019-2-1', periods=5, freq='D', tz='Europe/London')\n",
    "rng"
   ]
  },
  {
   "cell_type": "code",
   "execution_count": 33,
   "metadata": {
    "slideshow": {
     "slide_type": "fragment"
    }
   },
   "outputs": [
    {
     "data": {
      "text/plain": [
       "<DstTzInfo 'Europe/London' LMT-1 day, 23:59:00 STD>"
      ]
     },
     "execution_count": 33,
     "metadata": {},
     "output_type": "execute_result"
    }
   ],
   "source": [
    "rng.tz"
   ]
  },
  {
   "cell_type": "code",
   "execution_count": 34,
   "metadata": {},
   "outputs": [
    {
     "data": {
      "text/plain": [
       "Timestamp('2019-02-01 06:30:00+0630', tz='Asia/Rangoon')"
      ]
     },
     "execution_count": 34,
     "metadata": {},
     "output_type": "execute_result"
    }
   ],
   "source": [
    "rng[0].tz_convert('Asia/Rangoon')"
   ]
  },
  {
   "cell_type": "code",
   "execution_count": 35,
   "metadata": {
    "slideshow": {
     "slide_type": "subslide"
    }
   },
   "outputs": [],
   "source": [
    "from pytz import common_timezones, all_timezones, country_timezones"
   ]
  },
  {
   "cell_type": "code",
   "execution_count": 36,
   "metadata": {
    "slideshow": {
     "slide_type": "fragment"
    }
   },
   "outputs": [
    {
     "data": {
      "text/plain": [
       "['Europe/Zurich']"
      ]
     },
     "execution_count": 36,
     "metadata": {},
     "output_type": "execute_result"
    }
   ],
   "source": [
    "country_timezones('ch')"
   ]
  },
  {
   "cell_type": "code",
   "execution_count": 39,
   "metadata": {
    "slideshow": {
     "slide_type": "fragment"
    }
   },
   "outputs": [
    {
     "data": {
      "text/plain": [
       "591"
      ]
     },
     "execution_count": 39,
     "metadata": {},
     "output_type": "execute_result"
    }
   ],
   "source": [
    "len(all_timezones)"
   ]
  },
  {
   "cell_type": "code",
   "execution_count": 40,
   "metadata": {
    "slideshow": {
     "slide_type": "fragment"
    }
   },
   "outputs": [
    {
     "data": {
      "text/plain": [
       "{'Africa/Asmera',\n",
       " 'Africa/Timbuktu',\n",
       " 'America/Argentina/ComodRivadavia',\n",
       " 'America/Atka',\n",
       " 'America/Buenos_Aires',\n",
       " 'America/Catamarca',\n",
       " 'America/Coral_Harbour',\n",
       " 'America/Cordoba',\n",
       " 'America/Ensenada',\n",
       " 'America/Fort_Wayne',\n",
       " 'America/Indianapolis',\n",
       " 'America/Jujuy',\n",
       " 'America/Knox_IN',\n",
       " 'America/Louisville',\n",
       " 'America/Mendoza',\n",
       " 'America/Montreal',\n",
       " 'America/Porto_Acre',\n",
       " 'America/Rosario',\n",
       " 'America/Santa_Isabel',\n",
       " 'America/Shiprock',\n",
       " 'America/Virgin',\n",
       " 'Antarctica/South_Pole',\n",
       " 'Asia/Ashkhabad',\n",
       " 'Asia/Calcutta',\n",
       " 'Asia/Chongqing',\n",
       " 'Asia/Chungking',\n",
       " 'Asia/Dacca',\n",
       " 'Asia/Harbin',\n",
       " 'Asia/Istanbul',\n",
       " 'Asia/Kashgar',\n",
       " 'Asia/Katmandu',\n",
       " 'Asia/Macao',\n",
       " 'Asia/Rangoon',\n",
       " 'Asia/Saigon',\n",
       " 'Asia/Tel_Aviv',\n",
       " 'Asia/Thimbu',\n",
       " 'Asia/Ujung_Pandang',\n",
       " 'Asia/Ulan_Bator',\n",
       " 'Atlantic/Faeroe',\n",
       " 'Atlantic/Jan_Mayen',\n",
       " 'Australia/ACT',\n",
       " 'Australia/Canberra',\n",
       " 'Australia/LHI',\n",
       " 'Australia/NSW',\n",
       " 'Australia/North',\n",
       " 'Australia/Queensland',\n",
       " 'Australia/South',\n",
       " 'Australia/Tasmania',\n",
       " 'Australia/Victoria',\n",
       " 'Australia/West',\n",
       " 'Australia/Yancowinna',\n",
       " 'Brazil/Acre',\n",
       " 'Brazil/DeNoronha',\n",
       " 'Brazil/East',\n",
       " 'Brazil/West',\n",
       " 'CET',\n",
       " 'CST6CDT',\n",
       " 'Canada/Saskatchewan',\n",
       " 'Canada/Yukon',\n",
       " 'Chile/Continental',\n",
       " 'Chile/EasterIsland',\n",
       " 'Cuba',\n",
       " 'EET',\n",
       " 'EST',\n",
       " 'EST5EDT',\n",
       " 'Egypt',\n",
       " 'Eire',\n",
       " 'Etc/GMT',\n",
       " 'Etc/GMT+0',\n",
       " 'Etc/GMT+1',\n",
       " 'Etc/GMT+10',\n",
       " 'Etc/GMT+11',\n",
       " 'Etc/GMT+12',\n",
       " 'Etc/GMT+2',\n",
       " 'Etc/GMT+3',\n",
       " 'Etc/GMT+4',\n",
       " 'Etc/GMT+5',\n",
       " 'Etc/GMT+6',\n",
       " 'Etc/GMT+7',\n",
       " 'Etc/GMT+8',\n",
       " 'Etc/GMT+9',\n",
       " 'Etc/GMT-0',\n",
       " 'Etc/GMT-1',\n",
       " 'Etc/GMT-10',\n",
       " 'Etc/GMT-11',\n",
       " 'Etc/GMT-12',\n",
       " 'Etc/GMT-13',\n",
       " 'Etc/GMT-14',\n",
       " 'Etc/GMT-2',\n",
       " 'Etc/GMT-3',\n",
       " 'Etc/GMT-4',\n",
       " 'Etc/GMT-5',\n",
       " 'Etc/GMT-6',\n",
       " 'Etc/GMT-7',\n",
       " 'Etc/GMT-8',\n",
       " 'Etc/GMT-9',\n",
       " 'Etc/GMT0',\n",
       " 'Etc/Greenwich',\n",
       " 'Etc/UCT',\n",
       " 'Etc/UTC',\n",
       " 'Etc/Universal',\n",
       " 'Etc/Zulu',\n",
       " 'Europe/Belfast',\n",
       " 'Europe/Nicosia',\n",
       " 'Europe/Tiraspol',\n",
       " 'GB',\n",
       " 'GB-Eire',\n",
       " 'GMT+0',\n",
       " 'GMT-0',\n",
       " 'GMT0',\n",
       " 'Greenwich',\n",
       " 'HST',\n",
       " 'Hongkong',\n",
       " 'Iceland',\n",
       " 'Iran',\n",
       " 'Israel',\n",
       " 'Jamaica',\n",
       " 'Japan',\n",
       " 'Kwajalein',\n",
       " 'Libya',\n",
       " 'MET',\n",
       " 'MST',\n",
       " 'MST7MDT',\n",
       " 'Mexico/BajaNorte',\n",
       " 'Mexico/BajaSur',\n",
       " 'Mexico/General',\n",
       " 'NZ',\n",
       " 'NZ-CHAT',\n",
       " 'Navajo',\n",
       " 'PRC',\n",
       " 'PST8PDT',\n",
       " 'Pacific/Johnston',\n",
       " 'Pacific/Ponape',\n",
       " 'Pacific/Samoa',\n",
       " 'Pacific/Truk',\n",
       " 'Pacific/Yap',\n",
       " 'Poland',\n",
       " 'Portugal',\n",
       " 'ROC',\n",
       " 'ROK',\n",
       " 'Singapore',\n",
       " 'Turkey',\n",
       " 'UCT',\n",
       " 'US/Aleutian',\n",
       " 'US/East-Indiana',\n",
       " 'US/Indiana-Starke',\n",
       " 'US/Michigan',\n",
       " 'US/Samoa',\n",
       " 'Universal',\n",
       " 'W-SU',\n",
       " 'WET',\n",
       " 'Zulu'}"
      ]
     },
     "execution_count": 40,
     "metadata": {},
     "output_type": "execute_result"
    }
   ],
   "source": [
    "# Find time zone in all time zone but not in common time zone\n",
    "#???s\n",
    "set(all_timezones) - set(common_timezones)"
   ]
  },
  {
   "cell_type": "markdown",
   "metadata": {
    "slideshow": {
     "slide_type": "subslide"
    }
   },
   "source": [
    "# Day light saving "
   ]
  },
  {
   "cell_type": "code",
   "execution_count": 41,
   "metadata": {
    "slideshow": {
     "slide_type": "subslide"
    }
   },
   "outputs": [
    {
     "data": {
      "text/plain": [
       "DatetimeIndex(['2019-03-08 21:00:00-07:00', '2019-03-09 21:00:00-07:00',\n",
       "               '2019-03-10 21:00:00-06:00', '2019-03-11 21:00:00-06:00',\n",
       "               '2019-03-12 21:00:00-06:00', '2019-03-13 21:00:00-06:00',\n",
       "               '2019-03-14 21:00:00-06:00', '2019-03-15 21:00:00-06:00',\n",
       "               '2019-03-16 21:00:00-06:00', '2019-03-17 21:00:00-06:00'],\n",
       "              dtype='datetime64[ns, US/Mountain]', freq='D')"
      ]
     },
     "execution_count": 41,
     "metadata": {},
     "output_type": "execute_result"
    }
   ],
   "source": [
    "rng =pd.date_range('2019-3-8 9 pm', periods=10, tz='US/Mountain')\n",
    "rng"
   ]
  },
  {
   "cell_type": "markdown",
   "metadata": {
    "slideshow": {
     "slide_type": "slide"
    }
   },
   "source": [
    "# Let's make some time series"
   ]
  },
  {
   "cell_type": "code",
   "execution_count": 42,
   "metadata": {
    "slideshow": {
     "slide_type": "subslide"
    }
   },
   "outputs": [
    {
     "data": {
      "text/plain": [
       "2019-01-01 00:00:00    2\n",
       "2019-01-01 01:00:00    7\n",
       "2019-01-01 02:00:00    8\n",
       "2019-01-01 03:00:00    6\n",
       "2019-01-01 04:00:00    5\n",
       "2019-01-01 05:00:00    1\n",
       "2019-01-01 06:00:00    7\n",
       "2019-01-01 07:00:00    3\n",
       "2019-01-01 08:00:00    8\n",
       "2019-01-01 09:00:00    4\n",
       "Freq: H, dtype: int64"
      ]
     },
     "execution_count": 42,
     "metadata": {},
     "output_type": "execute_result"
    }
   ],
   "source": [
    "\n",
    "pd.Series(np.random.randint(low =1, high =10, size = 10), pd.date_range('2019 1 1', periods= 10, freq = 'H'))"
   ]
  },
  {
   "cell_type": "markdown",
   "metadata": {
    "slideshow": {
     "slide_type": "slide"
    }
   },
   "source": [
    "# reading time series data"
   ]
  },
  {
   "cell_type": "markdown",
   "metadata": {
    "slideshow": {
     "slide_type": "subslide"
    }
   },
   "source": [
    "https://archive.ics.uci.edu/ml/datasets/Air+Quality#"
   ]
  },
  {
   "cell_type": "code",
   "execution_count": 43,
   "metadata": {
    "slideshow": {
     "slide_type": "fragment"
    }
   },
   "outputs": [
    {
     "name": "stdout",
     "output_type": "stream",
     "text": [
      "  % Total    % Received % Xferd  Average Speed   Time    Time     Time  Current\n",
      "                                 Dload  Upload   Total   Spent    Left  Speed\n",
      "100 1507k  100 1507k    0     0  1165k      0  0:00:01  0:00:01 --:--:-- 1165k\n"
     ]
    }
   ],
   "source": [
    "\n",
    "!curl -O https://archive.ics.uci.edu/ml/machine-learning-databases/00360/AirQualityUCI.zip"
   ]
  },
  {
   "cell_type": "code",
   "execution_count": 44,
   "metadata": {
    "slideshow": {
     "slide_type": "fragment"
    }
   },
   "outputs": [
    {
     "name": "stdout",
     "output_type": "stream",
     "text": [
      "Archive:  AirQualityUCI.zip\n",
      "replace AirQualityUCI.csv? [y]es, [n]o, [A]ll, [N]one, [r]ename: ^C\n"
     ]
    }
   ],
   "source": [
    "!unzip AirQualityUCI.zip"
   ]
  },
  {
   "cell_type": "code",
   "execution_count": 45,
   "metadata": {
    "slideshow": {
     "slide_type": "fragment"
    }
   },
   "outputs": [
    {
     "name": "stdout",
     "output_type": "stream",
     "text": [
      "AirQualityUCI1.csv\r\n",
      "AirQualityUCI_clean.csv\r\n",
      "AirQualityUCI.csv\r\n",
      "iris.csv\r\n",
      "real_property_apartment_and_commercial_characteristics.csv\r\n",
      "syn.csv\r\n",
      "US_Unemployment_Oct2012.csv\r\n"
     ]
    }
   ],
   "source": [
    "!ls *.csv"
   ]
  },
  {
   "cell_type": "code",
   "execution_count": 67,
   "metadata": {
    "slideshow": {
     "slide_type": "subslide"
    }
   },
   "outputs": [
    {
     "name": "stdout",
     "output_type": "stream",
     "text": [
      "10/04/2004;15.00.00;1,4;942;98;6,9;852;89;1055;89;1318;540;21,4;22,7;0,5722;;\r",
      "\r\n",
      ";;;;;;;;;;;;;;;;\r",
      "\r\n",
      "01/08/2004;16.00.00;0,9;908;-200;4,7;748;69;1020;92;1373;451;39,7;19,1;1,3646;;\r",
      "\r\n",
      "08/03/2005;09.00.00;5,5;1402;-200;26,3;1462;867;449;223;1599;1885;4,1;47,9;0,3959;;\r",
      "\r\n",
      "31/05/2004;11.00.00;1,4;1044;-200;12,6;1069;144;889;123;1683;942;28,9;26,0;1,0188;;\r",
      "\r\n",
      "19/06/2004;14.00.00;1,2;-200;-200;-200,0;-200;56;-200;68;-200;-200;-200;-200;-200;;\r",
      "\r\n",
      "04/01/2005;00.00.00;1,3;-200;-200;-200,0;-200;193;-200;117;-200;-200;-200;-200;-200;;\r",
      "\r\n",
      "19/10/2004;00.00.00;-200;984;-200;7,2;864;-200;788;-200;1371;960;16,2;69,1;1,2590;;\r",
      "\r\n",
      "30/01/2005;13.00.00;0,9;874;-200;1,6;552;126;1128;95;760;415;6,9;35,6;0,3561;;\r",
      "\r\n",
      "13/01/2005;05.00.00;0,9;891;-200;3,2;666;161;931;77;1058;798;7,0;77,3;0,7759;;\r",
      "\r\n"
     ]
    }
   ],
   "source": [
    "!shuf -n 10 AirQualityUCI.csv"
   ]
  },
  {
   "cell_type": "code",
   "execution_count": 68,
   "metadata": {
    "slideshow": {
     "slide_type": "subslide"
    }
   },
   "outputs": [],
   "source": [
    "# write grep command to remove ;; and store resutls in AirQualityUCI_clean.csv file\n",
    "!grep -Ev \"^;;.*\" AirQualityUCI.csv  > AirQualityUCI_clean.csv "
   ]
  },
  {
   "cell_type": "code",
   "execution_count": 69,
   "metadata": {
    "slideshow": {
     "slide_type": "subslide"
    }
   },
   "outputs": [
    {
     "data": {
      "text/html": [
       "<div>\n",
       "<style scoped>\n",
       "    .dataframe tbody tr th:only-of-type {\n",
       "        vertical-align: middle;\n",
       "    }\n",
       "\n",
       "    .dataframe tbody tr th {\n",
       "        vertical-align: top;\n",
       "    }\n",
       "\n",
       "    .dataframe thead th {\n",
       "        text-align: right;\n",
       "    }\n",
       "</style>\n",
       "<table border=\"1\" class=\"dataframe\">\n",
       "  <thead>\n",
       "    <tr style=\"text-align: right;\">\n",
       "      <th></th>\n",
       "      <th>Date</th>\n",
       "      <th>Time</th>\n",
       "      <th>CO(GT)</th>\n",
       "      <th>PT08.S1(CO)</th>\n",
       "      <th>NMHC(GT)</th>\n",
       "      <th>C6H6(GT)</th>\n",
       "      <th>PT08.S2(NMHC)</th>\n",
       "      <th>NOx(GT)</th>\n",
       "      <th>PT08.S3(NOx)</th>\n",
       "      <th>NO2(GT)</th>\n",
       "      <th>PT08.S4(NO2)</th>\n",
       "      <th>PT08.S5(O3)</th>\n",
       "      <th>T</th>\n",
       "      <th>RH</th>\n",
       "      <th>AH</th>\n",
       "      <th>Unnamed: 15</th>\n",
       "      <th>Unnamed: 16</th>\n",
       "    </tr>\n",
       "  </thead>\n",
       "  <tbody>\n",
       "    <tr>\n",
       "      <th>0</th>\n",
       "      <td>10/03/2004</td>\n",
       "      <td>18.00.00</td>\n",
       "      <td>2,6</td>\n",
       "      <td>1360</td>\n",
       "      <td>150</td>\n",
       "      <td>11,9</td>\n",
       "      <td>1046</td>\n",
       "      <td>166</td>\n",
       "      <td>1056</td>\n",
       "      <td>113</td>\n",
       "      <td>1692</td>\n",
       "      <td>1268</td>\n",
       "      <td>13,6</td>\n",
       "      <td>48,9</td>\n",
       "      <td>0,7578</td>\n",
       "      <td>NaN</td>\n",
       "      <td>NaN</td>\n",
       "    </tr>\n",
       "    <tr>\n",
       "      <th>1</th>\n",
       "      <td>10/03/2004</td>\n",
       "      <td>19.00.00</td>\n",
       "      <td>2</td>\n",
       "      <td>1292</td>\n",
       "      <td>112</td>\n",
       "      <td>9,4</td>\n",
       "      <td>955</td>\n",
       "      <td>103</td>\n",
       "      <td>1174</td>\n",
       "      <td>92</td>\n",
       "      <td>1559</td>\n",
       "      <td>972</td>\n",
       "      <td>13,3</td>\n",
       "      <td>47,7</td>\n",
       "      <td>0,7255</td>\n",
       "      <td>NaN</td>\n",
       "      <td>NaN</td>\n",
       "    </tr>\n",
       "    <tr>\n",
       "      <th>2</th>\n",
       "      <td>10/03/2004</td>\n",
       "      <td>20.00.00</td>\n",
       "      <td>2,2</td>\n",
       "      <td>1402</td>\n",
       "      <td>88</td>\n",
       "      <td>9,0</td>\n",
       "      <td>939</td>\n",
       "      <td>131</td>\n",
       "      <td>1140</td>\n",
       "      <td>114</td>\n",
       "      <td>1555</td>\n",
       "      <td>1074</td>\n",
       "      <td>11,9</td>\n",
       "      <td>54,0</td>\n",
       "      <td>0,7502</td>\n",
       "      <td>NaN</td>\n",
       "      <td>NaN</td>\n",
       "    </tr>\n",
       "    <tr>\n",
       "      <th>3</th>\n",
       "      <td>10/03/2004</td>\n",
       "      <td>21.00.00</td>\n",
       "      <td>2,2</td>\n",
       "      <td>1376</td>\n",
       "      <td>80</td>\n",
       "      <td>9,2</td>\n",
       "      <td>948</td>\n",
       "      <td>172</td>\n",
       "      <td>1092</td>\n",
       "      <td>122</td>\n",
       "      <td>1584</td>\n",
       "      <td>1203</td>\n",
       "      <td>11,0</td>\n",
       "      <td>60,0</td>\n",
       "      <td>0,7867</td>\n",
       "      <td>NaN</td>\n",
       "      <td>NaN</td>\n",
       "    </tr>\n",
       "    <tr>\n",
       "      <th>4</th>\n",
       "      <td>10/03/2004</td>\n",
       "      <td>22.00.00</td>\n",
       "      <td>1,6</td>\n",
       "      <td>1272</td>\n",
       "      <td>51</td>\n",
       "      <td>6,5</td>\n",
       "      <td>836</td>\n",
       "      <td>131</td>\n",
       "      <td>1205</td>\n",
       "      <td>116</td>\n",
       "      <td>1490</td>\n",
       "      <td>1110</td>\n",
       "      <td>11,2</td>\n",
       "      <td>59,6</td>\n",
       "      <td>0,7888</td>\n",
       "      <td>NaN</td>\n",
       "      <td>NaN</td>\n",
       "    </tr>\n",
       "    <tr>\n",
       "      <th>5</th>\n",
       "      <td>10/03/2004</td>\n",
       "      <td>23.00.00</td>\n",
       "      <td>1,2</td>\n",
       "      <td>1197</td>\n",
       "      <td>38</td>\n",
       "      <td>4,7</td>\n",
       "      <td>750</td>\n",
       "      <td>89</td>\n",
       "      <td>1337</td>\n",
       "      <td>96</td>\n",
       "      <td>1393</td>\n",
       "      <td>949</td>\n",
       "      <td>11,2</td>\n",
       "      <td>59,2</td>\n",
       "      <td>0,7848</td>\n",
       "      <td>NaN</td>\n",
       "      <td>NaN</td>\n",
       "    </tr>\n",
       "    <tr>\n",
       "      <th>6</th>\n",
       "      <td>11/03/2004</td>\n",
       "      <td>00.00.00</td>\n",
       "      <td>1,2</td>\n",
       "      <td>1185</td>\n",
       "      <td>31</td>\n",
       "      <td>3,6</td>\n",
       "      <td>690</td>\n",
       "      <td>62</td>\n",
       "      <td>1462</td>\n",
       "      <td>77</td>\n",
       "      <td>1333</td>\n",
       "      <td>733</td>\n",
       "      <td>11,3</td>\n",
       "      <td>56,8</td>\n",
       "      <td>0,7603</td>\n",
       "      <td>NaN</td>\n",
       "      <td>NaN</td>\n",
       "    </tr>\n",
       "    <tr>\n",
       "      <th>7</th>\n",
       "      <td>11/03/2004</td>\n",
       "      <td>01.00.00</td>\n",
       "      <td>1</td>\n",
       "      <td>1136</td>\n",
       "      <td>31</td>\n",
       "      <td>3,3</td>\n",
       "      <td>672</td>\n",
       "      <td>62</td>\n",
       "      <td>1453</td>\n",
       "      <td>76</td>\n",
       "      <td>1333</td>\n",
       "      <td>730</td>\n",
       "      <td>10,7</td>\n",
       "      <td>60,0</td>\n",
       "      <td>0,7702</td>\n",
       "      <td>NaN</td>\n",
       "      <td>NaN</td>\n",
       "    </tr>\n",
       "    <tr>\n",
       "      <th>8</th>\n",
       "      <td>11/03/2004</td>\n",
       "      <td>02.00.00</td>\n",
       "      <td>0,9</td>\n",
       "      <td>1094</td>\n",
       "      <td>24</td>\n",
       "      <td>2,3</td>\n",
       "      <td>609</td>\n",
       "      <td>45</td>\n",
       "      <td>1579</td>\n",
       "      <td>60</td>\n",
       "      <td>1276</td>\n",
       "      <td>620</td>\n",
       "      <td>10,7</td>\n",
       "      <td>59,7</td>\n",
       "      <td>0,7648</td>\n",
       "      <td>NaN</td>\n",
       "      <td>NaN</td>\n",
       "    </tr>\n",
       "    <tr>\n",
       "      <th>9</th>\n",
       "      <td>11/03/2004</td>\n",
       "      <td>03.00.00</td>\n",
       "      <td>0,6</td>\n",
       "      <td>1010</td>\n",
       "      <td>19</td>\n",
       "      <td>1,7</td>\n",
       "      <td>561</td>\n",
       "      <td>-200</td>\n",
       "      <td>1705</td>\n",
       "      <td>-200</td>\n",
       "      <td>1235</td>\n",
       "      <td>501</td>\n",
       "      <td>10,3</td>\n",
       "      <td>60,2</td>\n",
       "      <td>0,7517</td>\n",
       "      <td>NaN</td>\n",
       "      <td>NaN</td>\n",
       "    </tr>\n",
       "  </tbody>\n",
       "</table>\n",
       "</div>"
      ],
      "text/plain": [
       "         Date      Time CO(GT)  PT08.S1(CO)  NMHC(GT) C6H6(GT)  PT08.S2(NMHC)  \\\n",
       "0  10/03/2004  18.00.00    2,6         1360       150     11,9           1046   \n",
       "1  10/03/2004  19.00.00      2         1292       112      9,4            955   \n",
       "2  10/03/2004  20.00.00    2,2         1402        88      9,0            939   \n",
       "3  10/03/2004  21.00.00    2,2         1376        80      9,2            948   \n",
       "4  10/03/2004  22.00.00    1,6         1272        51      6,5            836   \n",
       "5  10/03/2004  23.00.00    1,2         1197        38      4,7            750   \n",
       "6  11/03/2004  00.00.00    1,2         1185        31      3,6            690   \n",
       "7  11/03/2004  01.00.00      1         1136        31      3,3            672   \n",
       "8  11/03/2004  02.00.00    0,9         1094        24      2,3            609   \n",
       "9  11/03/2004  03.00.00    0,6         1010        19      1,7            561   \n",
       "\n",
       "   NOx(GT)  PT08.S3(NOx)  NO2(GT)  PT08.S4(NO2)  PT08.S5(O3)     T    RH  \\\n",
       "0      166          1056      113          1692         1268  13,6  48,9   \n",
       "1      103          1174       92          1559          972  13,3  47,7   \n",
       "2      131          1140      114          1555         1074  11,9  54,0   \n",
       "3      172          1092      122          1584         1203  11,0  60,0   \n",
       "4      131          1205      116          1490         1110  11,2  59,6   \n",
       "5       89          1337       96          1393          949  11,2  59,2   \n",
       "6       62          1462       77          1333          733  11,3  56,8   \n",
       "7       62          1453       76          1333          730  10,7  60,0   \n",
       "8       45          1579       60          1276          620  10,7  59,7   \n",
       "9     -200          1705     -200          1235          501  10,3  60,2   \n",
       "\n",
       "       AH  Unnamed: 15  Unnamed: 16  \n",
       "0  0,7578          NaN          NaN  \n",
       "1  0,7255          NaN          NaN  \n",
       "2  0,7502          NaN          NaN  \n",
       "3  0,7867          NaN          NaN  \n",
       "4  0,7888          NaN          NaN  \n",
       "5  0,7848          NaN          NaN  \n",
       "6  0,7603          NaN          NaN  \n",
       "7  0,7702          NaN          NaN  \n",
       "8  0,7648          NaN          NaN  \n",
       "9  0,7517          NaN          NaN  "
      ]
     },
     "execution_count": 69,
     "metadata": {},
     "output_type": "execute_result"
    }
   ],
   "source": [
    "air_quality_df = pd.read_csv('AirQualityUCI_clean.csv',sep = ';')\n",
    "air_quality_df.head(10)"
   ]
  },
  {
   "cell_type": "code",
   "execution_count": 72,
   "metadata": {
    "slideshow": {
     "slide_type": "subslide"
    }
   },
   "outputs": [
    {
     "name": "stdout",
     "output_type": "stream",
     "text": [
      "3.75 ms ± 118 µs per loop (mean ± std. dev. of 7 runs, 100 loops each)\n"
     ]
    }
   ],
   "source": [
    "%timeit air_quality_df.Time.apply(lambda x: ':'.join(x.split('.')))"
   ]
  },
  {
   "cell_type": "code",
   "execution_count": 73,
   "metadata": {
    "slideshow": {
     "slide_type": "subslide"
    }
   },
   "outputs": [
    {
     "name": "stdout",
     "output_type": "stream",
     "text": [
      "6.27 ms ± 134 µs per loop (mean ± std. dev. of 7 runs, 100 loops each)\n"
     ]
    }
   ],
   "source": [
    "%timeit air_quality_df[['Time']].apply(lambda x: x.str.replace('.', ':'))"
   ]
  },
  {
   "cell_type": "code",
   "execution_count": 74,
   "metadata": {
    "slideshow": {
     "slide_type": "subslide"
    }
   },
   "outputs": [
    {
     "data": {
      "text/html": [
       "<div>\n",
       "<style scoped>\n",
       "    .dataframe tbody tr th:only-of-type {\n",
       "        vertical-align: middle;\n",
       "    }\n",
       "\n",
       "    .dataframe tbody tr th {\n",
       "        vertical-align: top;\n",
       "    }\n",
       "\n",
       "    .dataframe thead th {\n",
       "        text-align: right;\n",
       "    }\n",
       "</style>\n",
       "<table border=\"1\" class=\"dataframe\">\n",
       "  <thead>\n",
       "    <tr style=\"text-align: right;\">\n",
       "      <th></th>\n",
       "      <th>Date</th>\n",
       "      <th>Time</th>\n",
       "      <th>CO(GT)</th>\n",
       "      <th>PT08.S1(CO)</th>\n",
       "      <th>NMHC(GT)</th>\n",
       "      <th>C6H6(GT)</th>\n",
       "      <th>PT08.S2(NMHC)</th>\n",
       "      <th>NOx(GT)</th>\n",
       "      <th>PT08.S3(NOx)</th>\n",
       "      <th>NO2(GT)</th>\n",
       "      <th>PT08.S4(NO2)</th>\n",
       "      <th>PT08.S5(O3)</th>\n",
       "      <th>T</th>\n",
       "      <th>RH</th>\n",
       "      <th>AH</th>\n",
       "      <th>Unnamed: 15</th>\n",
       "      <th>Unnamed: 16</th>\n",
       "    </tr>\n",
       "  </thead>\n",
       "  <tbody>\n",
       "    <tr>\n",
       "      <th>0</th>\n",
       "      <td>10/03/2004</td>\n",
       "      <td>18:00:00</td>\n",
       "      <td>2,6</td>\n",
       "      <td>1360</td>\n",
       "      <td>150</td>\n",
       "      <td>11,9</td>\n",
       "      <td>1046</td>\n",
       "      <td>166</td>\n",
       "      <td>1056</td>\n",
       "      <td>113</td>\n",
       "      <td>1692</td>\n",
       "      <td>1268</td>\n",
       "      <td>13,6</td>\n",
       "      <td>48,9</td>\n",
       "      <td>0,7578</td>\n",
       "      <td>NaN</td>\n",
       "      <td>NaN</td>\n",
       "    </tr>\n",
       "    <tr>\n",
       "      <th>1</th>\n",
       "      <td>10/03/2004</td>\n",
       "      <td>19:00:00</td>\n",
       "      <td>2</td>\n",
       "      <td>1292</td>\n",
       "      <td>112</td>\n",
       "      <td>9,4</td>\n",
       "      <td>955</td>\n",
       "      <td>103</td>\n",
       "      <td>1174</td>\n",
       "      <td>92</td>\n",
       "      <td>1559</td>\n",
       "      <td>972</td>\n",
       "      <td>13,3</td>\n",
       "      <td>47,7</td>\n",
       "      <td>0,7255</td>\n",
       "      <td>NaN</td>\n",
       "      <td>NaN</td>\n",
       "    </tr>\n",
       "    <tr>\n",
       "      <th>2</th>\n",
       "      <td>10/03/2004</td>\n",
       "      <td>20:00:00</td>\n",
       "      <td>2,2</td>\n",
       "      <td>1402</td>\n",
       "      <td>88</td>\n",
       "      <td>9,0</td>\n",
       "      <td>939</td>\n",
       "      <td>131</td>\n",
       "      <td>1140</td>\n",
       "      <td>114</td>\n",
       "      <td>1555</td>\n",
       "      <td>1074</td>\n",
       "      <td>11,9</td>\n",
       "      <td>54,0</td>\n",
       "      <td>0,7502</td>\n",
       "      <td>NaN</td>\n",
       "      <td>NaN</td>\n",
       "    </tr>\n",
       "    <tr>\n",
       "      <th>3</th>\n",
       "      <td>10/03/2004</td>\n",
       "      <td>21:00:00</td>\n",
       "      <td>2,2</td>\n",
       "      <td>1376</td>\n",
       "      <td>80</td>\n",
       "      <td>9,2</td>\n",
       "      <td>948</td>\n",
       "      <td>172</td>\n",
       "      <td>1092</td>\n",
       "      <td>122</td>\n",
       "      <td>1584</td>\n",
       "      <td>1203</td>\n",
       "      <td>11,0</td>\n",
       "      <td>60,0</td>\n",
       "      <td>0,7867</td>\n",
       "      <td>NaN</td>\n",
       "      <td>NaN</td>\n",
       "    </tr>\n",
       "    <tr>\n",
       "      <th>4</th>\n",
       "      <td>10/03/2004</td>\n",
       "      <td>22:00:00</td>\n",
       "      <td>1,6</td>\n",
       "      <td>1272</td>\n",
       "      <td>51</td>\n",
       "      <td>6,5</td>\n",
       "      <td>836</td>\n",
       "      <td>131</td>\n",
       "      <td>1205</td>\n",
       "      <td>116</td>\n",
       "      <td>1490</td>\n",
       "      <td>1110</td>\n",
       "      <td>11,2</td>\n",
       "      <td>59,6</td>\n",
       "      <td>0,7888</td>\n",
       "      <td>NaN</td>\n",
       "      <td>NaN</td>\n",
       "    </tr>\n",
       "    <tr>\n",
       "      <th>5</th>\n",
       "      <td>10/03/2004</td>\n",
       "      <td>23:00:00</td>\n",
       "      <td>1,2</td>\n",
       "      <td>1197</td>\n",
       "      <td>38</td>\n",
       "      <td>4,7</td>\n",
       "      <td>750</td>\n",
       "      <td>89</td>\n",
       "      <td>1337</td>\n",
       "      <td>96</td>\n",
       "      <td>1393</td>\n",
       "      <td>949</td>\n",
       "      <td>11,2</td>\n",
       "      <td>59,2</td>\n",
       "      <td>0,7848</td>\n",
       "      <td>NaN</td>\n",
       "      <td>NaN</td>\n",
       "    </tr>\n",
       "    <tr>\n",
       "      <th>6</th>\n",
       "      <td>11/03/2004</td>\n",
       "      <td>00:00:00</td>\n",
       "      <td>1,2</td>\n",
       "      <td>1185</td>\n",
       "      <td>31</td>\n",
       "      <td>3,6</td>\n",
       "      <td>690</td>\n",
       "      <td>62</td>\n",
       "      <td>1462</td>\n",
       "      <td>77</td>\n",
       "      <td>1333</td>\n",
       "      <td>733</td>\n",
       "      <td>11,3</td>\n",
       "      <td>56,8</td>\n",
       "      <td>0,7603</td>\n",
       "      <td>NaN</td>\n",
       "      <td>NaN</td>\n",
       "    </tr>\n",
       "    <tr>\n",
       "      <th>7</th>\n",
       "      <td>11/03/2004</td>\n",
       "      <td>01:00:00</td>\n",
       "      <td>1</td>\n",
       "      <td>1136</td>\n",
       "      <td>31</td>\n",
       "      <td>3,3</td>\n",
       "      <td>672</td>\n",
       "      <td>62</td>\n",
       "      <td>1453</td>\n",
       "      <td>76</td>\n",
       "      <td>1333</td>\n",
       "      <td>730</td>\n",
       "      <td>10,7</td>\n",
       "      <td>60,0</td>\n",
       "      <td>0,7702</td>\n",
       "      <td>NaN</td>\n",
       "      <td>NaN</td>\n",
       "    </tr>\n",
       "    <tr>\n",
       "      <th>8</th>\n",
       "      <td>11/03/2004</td>\n",
       "      <td>02:00:00</td>\n",
       "      <td>0,9</td>\n",
       "      <td>1094</td>\n",
       "      <td>24</td>\n",
       "      <td>2,3</td>\n",
       "      <td>609</td>\n",
       "      <td>45</td>\n",
       "      <td>1579</td>\n",
       "      <td>60</td>\n",
       "      <td>1276</td>\n",
       "      <td>620</td>\n",
       "      <td>10,7</td>\n",
       "      <td>59,7</td>\n",
       "      <td>0,7648</td>\n",
       "      <td>NaN</td>\n",
       "      <td>NaN</td>\n",
       "    </tr>\n",
       "    <tr>\n",
       "      <th>9</th>\n",
       "      <td>11/03/2004</td>\n",
       "      <td>03:00:00</td>\n",
       "      <td>0,6</td>\n",
       "      <td>1010</td>\n",
       "      <td>19</td>\n",
       "      <td>1,7</td>\n",
       "      <td>561</td>\n",
       "      <td>-200</td>\n",
       "      <td>1705</td>\n",
       "      <td>-200</td>\n",
       "      <td>1235</td>\n",
       "      <td>501</td>\n",
       "      <td>10,3</td>\n",
       "      <td>60,2</td>\n",
       "      <td>0,7517</td>\n",
       "      <td>NaN</td>\n",
       "      <td>NaN</td>\n",
       "    </tr>\n",
       "  </tbody>\n",
       "</table>\n",
       "</div>"
      ],
      "text/plain": [
       "         Date      Time CO(GT)  PT08.S1(CO)  NMHC(GT) C6H6(GT)  PT08.S2(NMHC)  \\\n",
       "0  10/03/2004  18:00:00    2,6         1360       150     11,9           1046   \n",
       "1  10/03/2004  19:00:00      2         1292       112      9,4            955   \n",
       "2  10/03/2004  20:00:00    2,2         1402        88      9,0            939   \n",
       "3  10/03/2004  21:00:00    2,2         1376        80      9,2            948   \n",
       "4  10/03/2004  22:00:00    1,6         1272        51      6,5            836   \n",
       "5  10/03/2004  23:00:00    1,2         1197        38      4,7            750   \n",
       "6  11/03/2004  00:00:00    1,2         1185        31      3,6            690   \n",
       "7  11/03/2004  01:00:00      1         1136        31      3,3            672   \n",
       "8  11/03/2004  02:00:00    0,9         1094        24      2,3            609   \n",
       "9  11/03/2004  03:00:00    0,6         1010        19      1,7            561   \n",
       "\n",
       "   NOx(GT)  PT08.S3(NOx)  NO2(GT)  PT08.S4(NO2)  PT08.S5(O3)     T    RH  \\\n",
       "0      166          1056      113          1692         1268  13,6  48,9   \n",
       "1      103          1174       92          1559          972  13,3  47,7   \n",
       "2      131          1140      114          1555         1074  11,9  54,0   \n",
       "3      172          1092      122          1584         1203  11,0  60,0   \n",
       "4      131          1205      116          1490         1110  11,2  59,6   \n",
       "5       89          1337       96          1393          949  11,2  59,2   \n",
       "6       62          1462       77          1333          733  11,3  56,8   \n",
       "7       62          1453       76          1333          730  10,7  60,0   \n",
       "8       45          1579       60          1276          620  10,7  59,7   \n",
       "9     -200          1705     -200          1235          501  10,3  60,2   \n",
       "\n",
       "       AH  Unnamed: 15  Unnamed: 16  \n",
       "0  0,7578          NaN          NaN  \n",
       "1  0,7255          NaN          NaN  \n",
       "2  0,7502          NaN          NaN  \n",
       "3  0,7867          NaN          NaN  \n",
       "4  0,7888          NaN          NaN  \n",
       "5  0,7848          NaN          NaN  \n",
       "6  0,7603          NaN          NaN  \n",
       "7  0,7702          NaN          NaN  \n",
       "8  0,7648          NaN          NaN  \n",
       "9  0,7517          NaN          NaN  "
      ]
     },
     "execution_count": 74,
     "metadata": {},
     "output_type": "execute_result"
    }
   ],
   "source": [
    "air_quality_df.Time = air_quality_df[['Time']].apply(lambda x: x.str.replace('.', ':'))\n",
    "air_quality_df.head(10)\n",
    "#eval\n",
    "#query"
   ]
  },
  {
   "cell_type": "code",
   "execution_count": 75,
   "metadata": {
    "slideshow": {
     "slide_type": "subslide"
    }
   },
   "outputs": [],
   "source": [
    "air_quality_df.to_csv('AirQualityUCI1.csv', index=False)"
   ]
  },
  {
   "cell_type": "code",
   "execution_count": 77,
   "metadata": {
    "slideshow": {
     "slide_type": "fragment"
    }
   },
   "outputs": [],
   "source": [
    "#!head -n 10 AirQualityUCI1.csv"
   ]
  },
  {
   "cell_type": "code",
   "execution_count": null,
   "metadata": {},
   "outputs": [],
   "source": [
    "! ls *.csv"
   ]
  },
  {
   "cell_type": "code",
   "execution_count": null,
   "metadata": {},
   "outputs": [],
   "source": []
  },
  {
   "cell_type": "code",
   "execution_count": 78,
   "metadata": {},
   "outputs": [
    {
     "data": {
      "text/html": [
       "<div>\n",
       "<style scoped>\n",
       "    .dataframe tbody tr th:only-of-type {\n",
       "        vertical-align: middle;\n",
       "    }\n",
       "\n",
       "    .dataframe tbody tr th {\n",
       "        vertical-align: top;\n",
       "    }\n",
       "\n",
       "    .dataframe thead th {\n",
       "        text-align: right;\n",
       "    }\n",
       "</style>\n",
       "<table border=\"1\" class=\"dataframe\">\n",
       "  <thead>\n",
       "    <tr style=\"text-align: right;\">\n",
       "      <th></th>\n",
       "      <th>CO(GT)</th>\n",
       "      <th>PT08.S1(CO)</th>\n",
       "      <th>NMHC(GT)</th>\n",
       "      <th>C6H6(GT)</th>\n",
       "      <th>PT08.S2(NMHC)</th>\n",
       "      <th>NOx(GT)</th>\n",
       "      <th>PT08.S3(NOx)</th>\n",
       "      <th>NO2(GT)</th>\n",
       "      <th>PT08.S4(NO2)</th>\n",
       "      <th>PT08.S5(O3)</th>\n",
       "      <th>T</th>\n",
       "      <th>RH</th>\n",
       "      <th>AH</th>\n",
       "      <th>Unnamed: 15</th>\n",
       "      <th>Unnamed: 16</th>\n",
       "    </tr>\n",
       "    <tr>\n",
       "      <th>Date_Time</th>\n",
       "      <th></th>\n",
       "      <th></th>\n",
       "      <th></th>\n",
       "      <th></th>\n",
       "      <th></th>\n",
       "      <th></th>\n",
       "      <th></th>\n",
       "      <th></th>\n",
       "      <th></th>\n",
       "      <th></th>\n",
       "      <th></th>\n",
       "      <th></th>\n",
       "      <th></th>\n",
       "      <th></th>\n",
       "      <th></th>\n",
       "    </tr>\n",
       "  </thead>\n",
       "  <tbody>\n",
       "    <tr>\n",
       "      <th>2004-10-03 18:00:00</th>\n",
       "      <td>2,6</td>\n",
       "      <td>1360</td>\n",
       "      <td>150</td>\n",
       "      <td>11,9</td>\n",
       "      <td>1046</td>\n",
       "      <td>166</td>\n",
       "      <td>1056</td>\n",
       "      <td>113</td>\n",
       "      <td>1692</td>\n",
       "      <td>1268</td>\n",
       "      <td>13,6</td>\n",
       "      <td>48,9</td>\n",
       "      <td>0,7578</td>\n",
       "      <td>NaN</td>\n",
       "      <td>NaN</td>\n",
       "    </tr>\n",
       "    <tr>\n",
       "      <th>2004-10-03 19:00:00</th>\n",
       "      <td>2</td>\n",
       "      <td>1292</td>\n",
       "      <td>112</td>\n",
       "      <td>9,4</td>\n",
       "      <td>955</td>\n",
       "      <td>103</td>\n",
       "      <td>1174</td>\n",
       "      <td>92</td>\n",
       "      <td>1559</td>\n",
       "      <td>972</td>\n",
       "      <td>13,3</td>\n",
       "      <td>47,7</td>\n",
       "      <td>0,7255</td>\n",
       "      <td>NaN</td>\n",
       "      <td>NaN</td>\n",
       "    </tr>\n",
       "    <tr>\n",
       "      <th>2004-10-03 20:00:00</th>\n",
       "      <td>2,2</td>\n",
       "      <td>1402</td>\n",
       "      <td>88</td>\n",
       "      <td>9,0</td>\n",
       "      <td>939</td>\n",
       "      <td>131</td>\n",
       "      <td>1140</td>\n",
       "      <td>114</td>\n",
       "      <td>1555</td>\n",
       "      <td>1074</td>\n",
       "      <td>11,9</td>\n",
       "      <td>54,0</td>\n",
       "      <td>0,7502</td>\n",
       "      <td>NaN</td>\n",
       "      <td>NaN</td>\n",
       "    </tr>\n",
       "    <tr>\n",
       "      <th>2004-10-03 21:00:00</th>\n",
       "      <td>2,2</td>\n",
       "      <td>1376</td>\n",
       "      <td>80</td>\n",
       "      <td>9,2</td>\n",
       "      <td>948</td>\n",
       "      <td>172</td>\n",
       "      <td>1092</td>\n",
       "      <td>122</td>\n",
       "      <td>1584</td>\n",
       "      <td>1203</td>\n",
       "      <td>11,0</td>\n",
       "      <td>60,0</td>\n",
       "      <td>0,7867</td>\n",
       "      <td>NaN</td>\n",
       "      <td>NaN</td>\n",
       "    </tr>\n",
       "    <tr>\n",
       "      <th>2004-10-03 22:00:00</th>\n",
       "      <td>1,6</td>\n",
       "      <td>1272</td>\n",
       "      <td>51</td>\n",
       "      <td>6,5</td>\n",
       "      <td>836</td>\n",
       "      <td>131</td>\n",
       "      <td>1205</td>\n",
       "      <td>116</td>\n",
       "      <td>1490</td>\n",
       "      <td>1110</td>\n",
       "      <td>11,2</td>\n",
       "      <td>59,6</td>\n",
       "      <td>0,7888</td>\n",
       "      <td>NaN</td>\n",
       "      <td>NaN</td>\n",
       "    </tr>\n",
       "    <tr>\n",
       "      <th>2004-10-03 23:00:00</th>\n",
       "      <td>1,2</td>\n",
       "      <td>1197</td>\n",
       "      <td>38</td>\n",
       "      <td>4,7</td>\n",
       "      <td>750</td>\n",
       "      <td>89</td>\n",
       "      <td>1337</td>\n",
       "      <td>96</td>\n",
       "      <td>1393</td>\n",
       "      <td>949</td>\n",
       "      <td>11,2</td>\n",
       "      <td>59,2</td>\n",
       "      <td>0,7848</td>\n",
       "      <td>NaN</td>\n",
       "      <td>NaN</td>\n",
       "    </tr>\n",
       "    <tr>\n",
       "      <th>2004-11-03 00:00:00</th>\n",
       "      <td>1,2</td>\n",
       "      <td>1185</td>\n",
       "      <td>31</td>\n",
       "      <td>3,6</td>\n",
       "      <td>690</td>\n",
       "      <td>62</td>\n",
       "      <td>1462</td>\n",
       "      <td>77</td>\n",
       "      <td>1333</td>\n",
       "      <td>733</td>\n",
       "      <td>11,3</td>\n",
       "      <td>56,8</td>\n",
       "      <td>0,7603</td>\n",
       "      <td>NaN</td>\n",
       "      <td>NaN</td>\n",
       "    </tr>\n",
       "    <tr>\n",
       "      <th>2004-11-03 01:00:00</th>\n",
       "      <td>1</td>\n",
       "      <td>1136</td>\n",
       "      <td>31</td>\n",
       "      <td>3,3</td>\n",
       "      <td>672</td>\n",
       "      <td>62</td>\n",
       "      <td>1453</td>\n",
       "      <td>76</td>\n",
       "      <td>1333</td>\n",
       "      <td>730</td>\n",
       "      <td>10,7</td>\n",
       "      <td>60,0</td>\n",
       "      <td>0,7702</td>\n",
       "      <td>NaN</td>\n",
       "      <td>NaN</td>\n",
       "    </tr>\n",
       "    <tr>\n",
       "      <th>2004-11-03 02:00:00</th>\n",
       "      <td>0,9</td>\n",
       "      <td>1094</td>\n",
       "      <td>24</td>\n",
       "      <td>2,3</td>\n",
       "      <td>609</td>\n",
       "      <td>45</td>\n",
       "      <td>1579</td>\n",
       "      <td>60</td>\n",
       "      <td>1276</td>\n",
       "      <td>620</td>\n",
       "      <td>10,7</td>\n",
       "      <td>59,7</td>\n",
       "      <td>0,7648</td>\n",
       "      <td>NaN</td>\n",
       "      <td>NaN</td>\n",
       "    </tr>\n",
       "    <tr>\n",
       "      <th>2004-11-03 03:00:00</th>\n",
       "      <td>0,6</td>\n",
       "      <td>1010</td>\n",
       "      <td>19</td>\n",
       "      <td>1,7</td>\n",
       "      <td>561</td>\n",
       "      <td>-200</td>\n",
       "      <td>1705</td>\n",
       "      <td>-200</td>\n",
       "      <td>1235</td>\n",
       "      <td>501</td>\n",
       "      <td>10,3</td>\n",
       "      <td>60,2</td>\n",
       "      <td>0,7517</td>\n",
       "      <td>NaN</td>\n",
       "      <td>NaN</td>\n",
       "    </tr>\n",
       "  </tbody>\n",
       "</table>\n",
       "</div>"
      ],
      "text/plain": [
       "                    CO(GT)  PT08.S1(CO)  NMHC(GT) C6H6(GT)  PT08.S2(NMHC)  \\\n",
       "Date_Time                                                                   \n",
       "2004-10-03 18:00:00    2,6         1360       150     11,9           1046   \n",
       "2004-10-03 19:00:00      2         1292       112      9,4            955   \n",
       "2004-10-03 20:00:00    2,2         1402        88      9,0            939   \n",
       "2004-10-03 21:00:00    2,2         1376        80      9,2            948   \n",
       "2004-10-03 22:00:00    1,6         1272        51      6,5            836   \n",
       "2004-10-03 23:00:00    1,2         1197        38      4,7            750   \n",
       "2004-11-03 00:00:00    1,2         1185        31      3,6            690   \n",
       "2004-11-03 01:00:00      1         1136        31      3,3            672   \n",
       "2004-11-03 02:00:00    0,9         1094        24      2,3            609   \n",
       "2004-11-03 03:00:00    0,6         1010        19      1,7            561   \n",
       "\n",
       "                     NOx(GT)  PT08.S3(NOx)  NO2(GT)  PT08.S4(NO2)  \\\n",
       "Date_Time                                                           \n",
       "2004-10-03 18:00:00      166          1056      113          1692   \n",
       "2004-10-03 19:00:00      103          1174       92          1559   \n",
       "2004-10-03 20:00:00      131          1140      114          1555   \n",
       "2004-10-03 21:00:00      172          1092      122          1584   \n",
       "2004-10-03 22:00:00      131          1205      116          1490   \n",
       "2004-10-03 23:00:00       89          1337       96          1393   \n",
       "2004-11-03 00:00:00       62          1462       77          1333   \n",
       "2004-11-03 01:00:00       62          1453       76          1333   \n",
       "2004-11-03 02:00:00       45          1579       60          1276   \n",
       "2004-11-03 03:00:00     -200          1705     -200          1235   \n",
       "\n",
       "                     PT08.S5(O3)     T    RH      AH  Unnamed: 15  Unnamed: 16  \n",
       "Date_Time                                                                       \n",
       "2004-10-03 18:00:00         1268  13,6  48,9  0,7578          NaN          NaN  \n",
       "2004-10-03 19:00:00          972  13,3  47,7  0,7255          NaN          NaN  \n",
       "2004-10-03 20:00:00         1074  11,9  54,0  0,7502          NaN          NaN  \n",
       "2004-10-03 21:00:00         1203  11,0  60,0  0,7867          NaN          NaN  \n",
       "2004-10-03 22:00:00         1110  11,2  59,6  0,7888          NaN          NaN  \n",
       "2004-10-03 23:00:00          949  11,2  59,2  0,7848          NaN          NaN  \n",
       "2004-11-03 00:00:00          733  11,3  56,8  0,7603          NaN          NaN  \n",
       "2004-11-03 01:00:00          730  10,7  60,0  0,7702          NaN          NaN  \n",
       "2004-11-03 02:00:00          620  10,7  59,7  0,7648          NaN          NaN  \n",
       "2004-11-03 03:00:00          501  10,3  60,2  0,7517          NaN          NaN  "
      ]
     },
     "execution_count": 78,
     "metadata": {},
     "output_type": "execute_result"
    }
   ],
   "source": [
    "air_quality_df0 = pd.read_csv('AirQualityUCI1.csv',sep= ',',\n",
    "                index_col=0,parse_dates = [[0,1] ], infer_datetime_format= True )\n",
    "air_quality_df0.head(10)"
   ]
  },
  {
   "cell_type": "code",
   "execution_count": 79,
   "metadata": {
    "slideshow": {
     "slide_type": "subslide"
    }
   },
   "outputs": [
    {
     "data": {
      "text/plain": [
       "DatetimeIndex(['2004-10-03 18:00:00', '2004-10-03 19:00:00',\n",
       "               '2004-10-03 20:00:00', '2004-10-03 21:00:00',\n",
       "               '2004-10-03 22:00:00', '2004-10-03 23:00:00',\n",
       "               '2004-11-03 00:00:00', '2004-11-03 01:00:00',\n",
       "               '2004-11-03 02:00:00', '2004-11-03 03:00:00',\n",
       "               ...\n",
       "               '2005-04-04 05:00:00', '2005-04-04 06:00:00',\n",
       "               '2005-04-04 07:00:00', '2005-04-04 08:00:00',\n",
       "               '2005-04-04 09:00:00', '2005-04-04 10:00:00',\n",
       "               '2005-04-04 11:00:00', '2005-04-04 12:00:00',\n",
       "               '2005-04-04 13:00:00', '2005-04-04 14:00:00'],\n",
       "              dtype='datetime64[ns]', name='Date_Time', length=9357, freq=None)"
      ]
     },
     "execution_count": 79,
     "metadata": {},
     "output_type": "execute_result"
    }
   ],
   "source": [
    "air_quality_df0.index"
   ]
  },
  {
   "cell_type": "markdown",
   "metadata": {},
   "source": [
    "# Let's say we want to avoid Time manipulation and   write custom date parser for reading csv file"
   ]
  },
  {
   "cell_type": "code",
   "execution_count": 80,
   "metadata": {
    "slideshow": {
     "slide_type": "subslide"
    }
   },
   "outputs": [
    {
     "data": {
      "text/html": [
       "<div>\n",
       "<style scoped>\n",
       "    .dataframe tbody tr th:only-of-type {\n",
       "        vertical-align: middle;\n",
       "    }\n",
       "\n",
       "    .dataframe tbody tr th {\n",
       "        vertical-align: top;\n",
       "    }\n",
       "\n",
       "    .dataframe thead th {\n",
       "        text-align: right;\n",
       "    }\n",
       "</style>\n",
       "<table border=\"1\" class=\"dataframe\">\n",
       "  <thead>\n",
       "    <tr style=\"text-align: right;\">\n",
       "      <th></th>\n",
       "      <th>CO(GT)</th>\n",
       "      <th>PT08.S1(CO)</th>\n",
       "      <th>NMHC(GT)</th>\n",
       "      <th>C6H6(GT)</th>\n",
       "      <th>PT08.S2(NMHC)</th>\n",
       "      <th>NOx(GT)</th>\n",
       "      <th>PT08.S3(NOx)</th>\n",
       "      <th>NO2(GT)</th>\n",
       "      <th>PT08.S4(NO2)</th>\n",
       "      <th>PT08.S5(O3)</th>\n",
       "      <th>T</th>\n",
       "      <th>RH</th>\n",
       "      <th>AH</th>\n",
       "      <th>Unnamed: 15</th>\n",
       "      <th>Unnamed: 16</th>\n",
       "    </tr>\n",
       "    <tr>\n",
       "      <th>Date_Time</th>\n",
       "      <th></th>\n",
       "      <th></th>\n",
       "      <th></th>\n",
       "      <th></th>\n",
       "      <th></th>\n",
       "      <th></th>\n",
       "      <th></th>\n",
       "      <th></th>\n",
       "      <th></th>\n",
       "      <th></th>\n",
       "      <th></th>\n",
       "      <th></th>\n",
       "      <th></th>\n",
       "      <th></th>\n",
       "      <th></th>\n",
       "    </tr>\n",
       "  </thead>\n",
       "  <tbody>\n",
       "    <tr>\n",
       "      <th>10/03/2004 18.00.00</th>\n",
       "      <td>2,6</td>\n",
       "      <td>1360</td>\n",
       "      <td>150</td>\n",
       "      <td>11,9</td>\n",
       "      <td>1046</td>\n",
       "      <td>166</td>\n",
       "      <td>1056</td>\n",
       "      <td>113</td>\n",
       "      <td>1692</td>\n",
       "      <td>1268</td>\n",
       "      <td>13,6</td>\n",
       "      <td>48,9</td>\n",
       "      <td>0,7578</td>\n",
       "      <td>NaN</td>\n",
       "      <td>NaN</td>\n",
       "    </tr>\n",
       "    <tr>\n",
       "      <th>10/03/2004 19.00.00</th>\n",
       "      <td>2</td>\n",
       "      <td>1292</td>\n",
       "      <td>112</td>\n",
       "      <td>9,4</td>\n",
       "      <td>955</td>\n",
       "      <td>103</td>\n",
       "      <td>1174</td>\n",
       "      <td>92</td>\n",
       "      <td>1559</td>\n",
       "      <td>972</td>\n",
       "      <td>13,3</td>\n",
       "      <td>47,7</td>\n",
       "      <td>0,7255</td>\n",
       "      <td>NaN</td>\n",
       "      <td>NaN</td>\n",
       "    </tr>\n",
       "    <tr>\n",
       "      <th>10/03/2004 20.00.00</th>\n",
       "      <td>2,2</td>\n",
       "      <td>1402</td>\n",
       "      <td>88</td>\n",
       "      <td>9,0</td>\n",
       "      <td>939</td>\n",
       "      <td>131</td>\n",
       "      <td>1140</td>\n",
       "      <td>114</td>\n",
       "      <td>1555</td>\n",
       "      <td>1074</td>\n",
       "      <td>11,9</td>\n",
       "      <td>54,0</td>\n",
       "      <td>0,7502</td>\n",
       "      <td>NaN</td>\n",
       "      <td>NaN</td>\n",
       "    </tr>\n",
       "    <tr>\n",
       "      <th>10/03/2004 21.00.00</th>\n",
       "      <td>2,2</td>\n",
       "      <td>1376</td>\n",
       "      <td>80</td>\n",
       "      <td>9,2</td>\n",
       "      <td>948</td>\n",
       "      <td>172</td>\n",
       "      <td>1092</td>\n",
       "      <td>122</td>\n",
       "      <td>1584</td>\n",
       "      <td>1203</td>\n",
       "      <td>11,0</td>\n",
       "      <td>60,0</td>\n",
       "      <td>0,7867</td>\n",
       "      <td>NaN</td>\n",
       "      <td>NaN</td>\n",
       "    </tr>\n",
       "    <tr>\n",
       "      <th>10/03/2004 22.00.00</th>\n",
       "      <td>1,6</td>\n",
       "      <td>1272</td>\n",
       "      <td>51</td>\n",
       "      <td>6,5</td>\n",
       "      <td>836</td>\n",
       "      <td>131</td>\n",
       "      <td>1205</td>\n",
       "      <td>116</td>\n",
       "      <td>1490</td>\n",
       "      <td>1110</td>\n",
       "      <td>11,2</td>\n",
       "      <td>59,6</td>\n",
       "      <td>0,7888</td>\n",
       "      <td>NaN</td>\n",
       "      <td>NaN</td>\n",
       "    </tr>\n",
       "    <tr>\n",
       "      <th>10/03/2004 23.00.00</th>\n",
       "      <td>1,2</td>\n",
       "      <td>1197</td>\n",
       "      <td>38</td>\n",
       "      <td>4,7</td>\n",
       "      <td>750</td>\n",
       "      <td>89</td>\n",
       "      <td>1337</td>\n",
       "      <td>96</td>\n",
       "      <td>1393</td>\n",
       "      <td>949</td>\n",
       "      <td>11,2</td>\n",
       "      <td>59,2</td>\n",
       "      <td>0,7848</td>\n",
       "      <td>NaN</td>\n",
       "      <td>NaN</td>\n",
       "    </tr>\n",
       "    <tr>\n",
       "      <th>11/03/2004 00.00.00</th>\n",
       "      <td>1,2</td>\n",
       "      <td>1185</td>\n",
       "      <td>31</td>\n",
       "      <td>3,6</td>\n",
       "      <td>690</td>\n",
       "      <td>62</td>\n",
       "      <td>1462</td>\n",
       "      <td>77</td>\n",
       "      <td>1333</td>\n",
       "      <td>733</td>\n",
       "      <td>11,3</td>\n",
       "      <td>56,8</td>\n",
       "      <td>0,7603</td>\n",
       "      <td>NaN</td>\n",
       "      <td>NaN</td>\n",
       "    </tr>\n",
       "    <tr>\n",
       "      <th>11/03/2004 01.00.00</th>\n",
       "      <td>1</td>\n",
       "      <td>1136</td>\n",
       "      <td>31</td>\n",
       "      <td>3,3</td>\n",
       "      <td>672</td>\n",
       "      <td>62</td>\n",
       "      <td>1453</td>\n",
       "      <td>76</td>\n",
       "      <td>1333</td>\n",
       "      <td>730</td>\n",
       "      <td>10,7</td>\n",
       "      <td>60,0</td>\n",
       "      <td>0,7702</td>\n",
       "      <td>NaN</td>\n",
       "      <td>NaN</td>\n",
       "    </tr>\n",
       "    <tr>\n",
       "      <th>11/03/2004 02.00.00</th>\n",
       "      <td>0,9</td>\n",
       "      <td>1094</td>\n",
       "      <td>24</td>\n",
       "      <td>2,3</td>\n",
       "      <td>609</td>\n",
       "      <td>45</td>\n",
       "      <td>1579</td>\n",
       "      <td>60</td>\n",
       "      <td>1276</td>\n",
       "      <td>620</td>\n",
       "      <td>10,7</td>\n",
       "      <td>59,7</td>\n",
       "      <td>0,7648</td>\n",
       "      <td>NaN</td>\n",
       "      <td>NaN</td>\n",
       "    </tr>\n",
       "    <tr>\n",
       "      <th>11/03/2004 03.00.00</th>\n",
       "      <td>0,6</td>\n",
       "      <td>1010</td>\n",
       "      <td>19</td>\n",
       "      <td>1,7</td>\n",
       "      <td>561</td>\n",
       "      <td>-200</td>\n",
       "      <td>1705</td>\n",
       "      <td>-200</td>\n",
       "      <td>1235</td>\n",
       "      <td>501</td>\n",
       "      <td>10,3</td>\n",
       "      <td>60,2</td>\n",
       "      <td>0,7517</td>\n",
       "      <td>NaN</td>\n",
       "      <td>NaN</td>\n",
       "    </tr>\n",
       "  </tbody>\n",
       "</table>\n",
       "</div>"
      ],
      "text/plain": [
       "                    CO(GT)  PT08.S1(CO)  NMHC(GT) C6H6(GT)  PT08.S2(NMHC)  \\\n",
       "Date_Time                                                                   \n",
       "10/03/2004 18.00.00    2,6         1360       150     11,9           1046   \n",
       "10/03/2004 19.00.00      2         1292       112      9,4            955   \n",
       "10/03/2004 20.00.00    2,2         1402        88      9,0            939   \n",
       "10/03/2004 21.00.00    2,2         1376        80      9,2            948   \n",
       "10/03/2004 22.00.00    1,6         1272        51      6,5            836   \n",
       "10/03/2004 23.00.00    1,2         1197        38      4,7            750   \n",
       "11/03/2004 00.00.00    1,2         1185        31      3,6            690   \n",
       "11/03/2004 01.00.00      1         1136        31      3,3            672   \n",
       "11/03/2004 02.00.00    0,9         1094        24      2,3            609   \n",
       "11/03/2004 03.00.00    0,6         1010        19      1,7            561   \n",
       "\n",
       "                     NOx(GT)  PT08.S3(NOx)  NO2(GT)  PT08.S4(NO2)  \\\n",
       "Date_Time                                                           \n",
       "10/03/2004 18.00.00      166          1056      113          1692   \n",
       "10/03/2004 19.00.00      103          1174       92          1559   \n",
       "10/03/2004 20.00.00      131          1140      114          1555   \n",
       "10/03/2004 21.00.00      172          1092      122          1584   \n",
       "10/03/2004 22.00.00      131          1205      116          1490   \n",
       "10/03/2004 23.00.00       89          1337       96          1393   \n",
       "11/03/2004 00.00.00       62          1462       77          1333   \n",
       "11/03/2004 01.00.00       62          1453       76          1333   \n",
       "11/03/2004 02.00.00       45          1579       60          1276   \n",
       "11/03/2004 03.00.00     -200          1705     -200          1235   \n",
       "\n",
       "                     PT08.S5(O3)     T    RH      AH  Unnamed: 15  Unnamed: 16  \n",
       "Date_Time                                                                       \n",
       "10/03/2004 18.00.00         1268  13,6  48,9  0,7578          NaN          NaN  \n",
       "10/03/2004 19.00.00          972  13,3  47,7  0,7255          NaN          NaN  \n",
       "10/03/2004 20.00.00         1074  11,9  54,0  0,7502          NaN          NaN  \n",
       "10/03/2004 21.00.00         1203  11,0  60,0  0,7867          NaN          NaN  \n",
       "10/03/2004 22.00.00         1110  11,2  59,6  0,7888          NaN          NaN  \n",
       "10/03/2004 23.00.00          949  11,2  59,2  0,7848          NaN          NaN  \n",
       "11/03/2004 00.00.00          733  11,3  56,8  0,7603          NaN          NaN  \n",
       "11/03/2004 01.00.00          730  10,7  60,0  0,7702          NaN          NaN  \n",
       "11/03/2004 02.00.00          620  10,7  59,7  0,7648          NaN          NaN  \n",
       "11/03/2004 03.00.00          501  10,3  60,2  0,7517          NaN          NaN  "
      ]
     },
     "execution_count": 80,
     "metadata": {},
     "output_type": "execute_result"
    }
   ],
   "source": [
    "air_quality_df1 = pd.read_csv('AirQualityUCI_clean.csv',sep= ';',\n",
    "                index_col=0,parse_dates = [[0, 1]] )\n",
    "air_quality_df1.head(10)"
   ]
  },
  {
   "cell_type": "code",
   "execution_count": 81,
   "metadata": {
    "slideshow": {
     "slide_type": "subslide"
    }
   },
   "outputs": [
    {
     "data": {
      "text/plain": [
       "Index(['10/03/2004 18.00.00', '10/03/2004 19.00.00', '10/03/2004 20.00.00',\n",
       "       '10/03/2004 21.00.00', '10/03/2004 22.00.00', '10/03/2004 23.00.00',\n",
       "       '11/03/2004 00.00.00', '11/03/2004 01.00.00', '11/03/2004 02.00.00',\n",
       "       '11/03/2004 03.00.00',\n",
       "       ...\n",
       "       '04/04/2005 05.00.00', '04/04/2005 06.00.00', '04/04/2005 07.00.00',\n",
       "       '04/04/2005 08.00.00', '04/04/2005 09.00.00', '04/04/2005 10.00.00',\n",
       "       '04/04/2005 11.00.00', '04/04/2005 12.00.00', '04/04/2005 13.00.00',\n",
       "       '04/04/2005 14.00.00'],\n",
       "      dtype='object', name='Date_Time', length=9357)"
      ]
     },
     "execution_count": 81,
     "metadata": {},
     "output_type": "execute_result"
    }
   ],
   "source": [
    "air_quality_df1.index"
   ]
  },
  {
   "cell_type": "markdown",
   "metadata": {
    "slideshow": {
     "slide_type": "subslide"
    }
   },
   "source": [
    "# side: string to datetime object"
   ]
  },
  {
   "cell_type": "code",
   "execution_count": 82,
   "metadata": {
    "slideshow": {
     "slide_type": "fragment"
    }
   },
   "outputs": [
    {
     "data": {
      "text/plain": [
       "datetime.datetime(2019, 3, 11, 0, 0)"
      ]
     },
     "execution_count": 82,
     "metadata": {},
     "output_type": "execute_result"
    }
   ],
   "source": [
    "date_str = '3/11/19'\n",
    "pd.datetime.strptime(date_str, '%m/%d/%y')"
   ]
  },
  {
   "cell_type": "markdown",
   "metadata": {
    "slideshow": {
     "slide_type": "subslide"
    }
   },
   "source": [
    "## List of formating options"
   ]
  },
  {
   "cell_type": "code",
   "execution_count": 83,
   "metadata": {
    "slideshow": {
     "slide_type": "subslide"
    }
   },
   "outputs": [],
   "source": [
    "tbls = pd.read_html('http://strftime.org/')"
   ]
  },
  {
   "cell_type": "code",
   "execution_count": 84,
   "metadata": {
    "slideshow": {
     "slide_type": "fragment"
    }
   },
   "outputs": [
    {
     "data": {
      "text/html": [
       "<div>\n",
       "<style scoped>\n",
       "    .dataframe tbody tr th:only-of-type {\n",
       "        vertical-align: middle;\n",
       "    }\n",
       "\n",
       "    .dataframe tbody tr th {\n",
       "        vertical-align: top;\n",
       "    }\n",
       "\n",
       "    .dataframe thead th {\n",
       "        text-align: right;\n",
       "    }\n",
       "</style>\n",
       "<table border=\"1\" class=\"dataframe\">\n",
       "  <thead>\n",
       "    <tr style=\"text-align: right;\">\n",
       "      <th></th>\n",
       "      <th>Code</th>\n",
       "      <th>Meaning</th>\n",
       "      <th>Example</th>\n",
       "    </tr>\n",
       "  </thead>\n",
       "  <tbody>\n",
       "    <tr>\n",
       "      <th>0</th>\n",
       "      <td>%a</td>\n",
       "      <td>Weekday as locale’s abbreviated name.</td>\n",
       "      <td>Mon</td>\n",
       "    </tr>\n",
       "    <tr>\n",
       "      <th>1</th>\n",
       "      <td>%A</td>\n",
       "      <td>Weekday as locale’s full name.</td>\n",
       "      <td>Monday</td>\n",
       "    </tr>\n",
       "    <tr>\n",
       "      <th>2</th>\n",
       "      <td>%w</td>\n",
       "      <td>Weekday as a decimal number, where 0 is Sunday...</td>\n",
       "      <td>1</td>\n",
       "    </tr>\n",
       "    <tr>\n",
       "      <th>3</th>\n",
       "      <td>%d</td>\n",
       "      <td>Day of the month as a zero-padded decimal number.</td>\n",
       "      <td>30</td>\n",
       "    </tr>\n",
       "    <tr>\n",
       "      <th>4</th>\n",
       "      <td>%-d</td>\n",
       "      <td>Day of the month as a decimal number. (Platfor...</td>\n",
       "      <td>30</td>\n",
       "    </tr>\n",
       "    <tr>\n",
       "      <th>5</th>\n",
       "      <td>%b</td>\n",
       "      <td>Month as locale’s abbreviated name.</td>\n",
       "      <td>Sep</td>\n",
       "    </tr>\n",
       "    <tr>\n",
       "      <th>6</th>\n",
       "      <td>%B</td>\n",
       "      <td>Month as locale’s full name.</td>\n",
       "      <td>September</td>\n",
       "    </tr>\n",
       "    <tr>\n",
       "      <th>7</th>\n",
       "      <td>%m</td>\n",
       "      <td>Month as a zero-padded decimal number.</td>\n",
       "      <td>09</td>\n",
       "    </tr>\n",
       "    <tr>\n",
       "      <th>8</th>\n",
       "      <td>%-m</td>\n",
       "      <td>Month as a decimal number. (Platform specific)</td>\n",
       "      <td>9</td>\n",
       "    </tr>\n",
       "    <tr>\n",
       "      <th>9</th>\n",
       "      <td>%y</td>\n",
       "      <td>Year without century as a zero-padded decimal ...</td>\n",
       "      <td>13</td>\n",
       "    </tr>\n",
       "    <tr>\n",
       "      <th>10</th>\n",
       "      <td>%Y</td>\n",
       "      <td>Year with century as a decimal number.</td>\n",
       "      <td>2013</td>\n",
       "    </tr>\n",
       "    <tr>\n",
       "      <th>11</th>\n",
       "      <td>%H</td>\n",
       "      <td>Hour (24-hour clock) as a zero-padded decimal ...</td>\n",
       "      <td>07</td>\n",
       "    </tr>\n",
       "    <tr>\n",
       "      <th>12</th>\n",
       "      <td>%-H</td>\n",
       "      <td>Hour (24-hour clock) as a decimal number. (Pla...</td>\n",
       "      <td>7</td>\n",
       "    </tr>\n",
       "    <tr>\n",
       "      <th>13</th>\n",
       "      <td>%I</td>\n",
       "      <td>Hour (12-hour clock) as a zero-padded decimal ...</td>\n",
       "      <td>07</td>\n",
       "    </tr>\n",
       "    <tr>\n",
       "      <th>14</th>\n",
       "      <td>%-I</td>\n",
       "      <td>Hour (12-hour clock) as a decimal number. (Pla...</td>\n",
       "      <td>7</td>\n",
       "    </tr>\n",
       "    <tr>\n",
       "      <th>15</th>\n",
       "      <td>%p</td>\n",
       "      <td>Locale’s equivalent of either AM or PM.</td>\n",
       "      <td>AM</td>\n",
       "    </tr>\n",
       "    <tr>\n",
       "      <th>16</th>\n",
       "      <td>%M</td>\n",
       "      <td>Minute as a zero-padded decimal number.</td>\n",
       "      <td>06</td>\n",
       "    </tr>\n",
       "    <tr>\n",
       "      <th>17</th>\n",
       "      <td>%-M</td>\n",
       "      <td>Minute as a decimal number. (Platform specific)</td>\n",
       "      <td>6</td>\n",
       "    </tr>\n",
       "    <tr>\n",
       "      <th>18</th>\n",
       "      <td>%S</td>\n",
       "      <td>Second as a zero-padded decimal number.</td>\n",
       "      <td>05</td>\n",
       "    </tr>\n",
       "    <tr>\n",
       "      <th>19</th>\n",
       "      <td>%-S</td>\n",
       "      <td>Second as a decimal number. (Platform specific)</td>\n",
       "      <td>5</td>\n",
       "    </tr>\n",
       "    <tr>\n",
       "      <th>20</th>\n",
       "      <td>%f</td>\n",
       "      <td>Microsecond as a decimal number, zero-padded o...</td>\n",
       "      <td>000000</td>\n",
       "    </tr>\n",
       "    <tr>\n",
       "      <th>21</th>\n",
       "      <td>%z</td>\n",
       "      <td>UTC offset in the form +HHMM or -HHMM (empty s...</td>\n",
       "      <td>NaN</td>\n",
       "    </tr>\n",
       "    <tr>\n",
       "      <th>22</th>\n",
       "      <td>%Z</td>\n",
       "      <td>Time zone name (empty string if the object is ...</td>\n",
       "      <td>NaN</td>\n",
       "    </tr>\n",
       "    <tr>\n",
       "      <th>23</th>\n",
       "      <td>%j</td>\n",
       "      <td>Day of the year as a zero-padded decimal number.</td>\n",
       "      <td>273</td>\n",
       "    </tr>\n",
       "    <tr>\n",
       "      <th>24</th>\n",
       "      <td>%-j</td>\n",
       "      <td>Day of the year as a decimal number. (Platform...</td>\n",
       "      <td>273</td>\n",
       "    </tr>\n",
       "    <tr>\n",
       "      <th>25</th>\n",
       "      <td>%U</td>\n",
       "      <td>Week number of the year (Sunday as the first d...</td>\n",
       "      <td>39</td>\n",
       "    </tr>\n",
       "    <tr>\n",
       "      <th>26</th>\n",
       "      <td>%W</td>\n",
       "      <td>Week number of the year (Monday as the first d...</td>\n",
       "      <td>39</td>\n",
       "    </tr>\n",
       "    <tr>\n",
       "      <th>27</th>\n",
       "      <td>%c</td>\n",
       "      <td>Locale’s appropriate date and time representat...</td>\n",
       "      <td>Mon Sep 30 07:06:05 2013</td>\n",
       "    </tr>\n",
       "    <tr>\n",
       "      <th>28</th>\n",
       "      <td>%x</td>\n",
       "      <td>Locale’s appropriate date representation.</td>\n",
       "      <td>09/30/13</td>\n",
       "    </tr>\n",
       "    <tr>\n",
       "      <th>29</th>\n",
       "      <td>%X</td>\n",
       "      <td>Locale’s appropriate time representation.</td>\n",
       "      <td>07:06:05</td>\n",
       "    </tr>\n",
       "    <tr>\n",
       "      <th>30</th>\n",
       "      <td>%%</td>\n",
       "      <td>A literal '%' character.</td>\n",
       "      <td>%</td>\n",
       "    </tr>\n",
       "  </tbody>\n",
       "</table>\n",
       "</div>"
      ],
      "text/plain": [
       "   Code                                            Meaning  \\\n",
       "0    %a              Weekday as locale’s abbreviated name.   \n",
       "1    %A                     Weekday as locale’s full name.   \n",
       "2    %w  Weekday as a decimal number, where 0 is Sunday...   \n",
       "3    %d  Day of the month as a zero-padded decimal number.   \n",
       "4   %-d  Day of the month as a decimal number. (Platfor...   \n",
       "5    %b                Month as locale’s abbreviated name.   \n",
       "6    %B                       Month as locale’s full name.   \n",
       "7    %m             Month as a zero-padded decimal number.   \n",
       "8   %-m     Month as a decimal number. (Platform specific)   \n",
       "9    %y  Year without century as a zero-padded decimal ...   \n",
       "10   %Y             Year with century as a decimal number.   \n",
       "11   %H  Hour (24-hour clock) as a zero-padded decimal ...   \n",
       "12  %-H  Hour (24-hour clock) as a decimal number. (Pla...   \n",
       "13   %I  Hour (12-hour clock) as a zero-padded decimal ...   \n",
       "14  %-I  Hour (12-hour clock) as a decimal number. (Pla...   \n",
       "15   %p            Locale’s equivalent of either AM or PM.   \n",
       "16   %M            Minute as a zero-padded decimal number.   \n",
       "17  %-M    Minute as a decimal number. (Platform specific)   \n",
       "18   %S            Second as a zero-padded decimal number.   \n",
       "19  %-S    Second as a decimal number. (Platform specific)   \n",
       "20   %f  Microsecond as a decimal number, zero-padded o...   \n",
       "21   %z  UTC offset in the form +HHMM or -HHMM (empty s...   \n",
       "22   %Z  Time zone name (empty string if the object is ...   \n",
       "23   %j   Day of the year as a zero-padded decimal number.   \n",
       "24  %-j  Day of the year as a decimal number. (Platform...   \n",
       "25   %U  Week number of the year (Sunday as the first d...   \n",
       "26   %W  Week number of the year (Monday as the first d...   \n",
       "27   %c  Locale’s appropriate date and time representat...   \n",
       "28   %x          Locale’s appropriate date representation.   \n",
       "29   %X          Locale’s appropriate time representation.   \n",
       "30   %%                           A literal '%' character.   \n",
       "\n",
       "                     Example  \n",
       "0                        Mon  \n",
       "1                     Monday  \n",
       "2                          1  \n",
       "3                         30  \n",
       "4                         30  \n",
       "5                        Sep  \n",
       "6                  September  \n",
       "7                         09  \n",
       "8                          9  \n",
       "9                         13  \n",
       "10                      2013  \n",
       "11                        07  \n",
       "12                         7  \n",
       "13                        07  \n",
       "14                         7  \n",
       "15                        AM  \n",
       "16                        06  \n",
       "17                         6  \n",
       "18                        05  \n",
       "19                         5  \n",
       "20                    000000  \n",
       "21                       NaN  \n",
       "22                       NaN  \n",
       "23                       273  \n",
       "24                       273  \n",
       "25                        39  \n",
       "26                        39  \n",
       "27  Mon Sep 30 07:06:05 2013  \n",
       "28                  09/30/13  \n",
       "29                  07:06:05  \n",
       "30                         %  "
      ]
     },
     "execution_count": 84,
     "metadata": {},
     "output_type": "execute_result"
    }
   ],
   "source": [
    "tbls[0]"
   ]
  },
  {
   "cell_type": "code",
   "execution_count": 89,
   "metadata": {
    "slideshow": {
     "slide_type": "fragment"
    }
   },
   "outputs": [],
   "source": [
    "# Complete the lambda\n",
    "my_date_parser= lambda y,t :pd.datetime.strptime('{}  {}'.format(y,t), \"%d/%m/%Y %H.%M.%S\") \n",
    "air_quality_df2 = pd.read_csv('AirQualityUCI_clean.csv',sep= ';',\n",
    "                index_col=0,parse_dates = [[0,1] ], date_parser = my_date_parser )"
   ]
  },
  {
   "cell_type": "code",
   "execution_count": 91,
   "metadata": {
    "slideshow": {
     "slide_type": "fragment"
    }
   },
   "outputs": [
    {
     "data": {
      "text/plain": [
       "DatetimeIndex(['2004-03-10 18:00:00', '2004-03-10 19:00:00',\n",
       "               '2004-03-10 20:00:00', '2004-03-10 21:00:00',\n",
       "               '2004-03-10 22:00:00', '2004-03-10 23:00:00',\n",
       "               '2004-03-11 00:00:00', '2004-03-11 01:00:00',\n",
       "               '2004-03-11 02:00:00', '2004-03-11 03:00:00',\n",
       "               ...\n",
       "               '2005-04-04 05:00:00', '2005-04-04 06:00:00',\n",
       "               '2005-04-04 07:00:00', '2005-04-04 08:00:00',\n",
       "               '2005-04-04 09:00:00', '2005-04-04 10:00:00',\n",
       "               '2005-04-04 11:00:00', '2005-04-04 12:00:00',\n",
       "               '2005-04-04 13:00:00', '2005-04-04 14:00:00'],\n",
       "              dtype='datetime64[ns]', name='Date_Time', length=9357, freq=None)"
      ]
     },
     "execution_count": 91,
     "metadata": {},
     "output_type": "execute_result"
    }
   ],
   "source": [
    "air_quality_df2.index"
   ]
  },
  {
   "cell_type": "code",
   "execution_count": 92,
   "metadata": {},
   "outputs": [
    {
     "data": {
      "text/html": [
       "<div>\n",
       "<style scoped>\n",
       "    .dataframe tbody tr th:only-of-type {\n",
       "        vertical-align: middle;\n",
       "    }\n",
       "\n",
       "    .dataframe tbody tr th {\n",
       "        vertical-align: top;\n",
       "    }\n",
       "\n",
       "    .dataframe thead th {\n",
       "        text-align: right;\n",
       "    }\n",
       "</style>\n",
       "<table border=\"1\" class=\"dataframe\">\n",
       "  <thead>\n",
       "    <tr style=\"text-align: right;\">\n",
       "      <th></th>\n",
       "      <th>CO(GT)</th>\n",
       "      <th>PT08.S1(CO)</th>\n",
       "      <th>NMHC(GT)</th>\n",
       "      <th>C6H6(GT)</th>\n",
       "      <th>PT08.S2(NMHC)</th>\n",
       "      <th>NOx(GT)</th>\n",
       "      <th>PT08.S3(NOx)</th>\n",
       "      <th>NO2(GT)</th>\n",
       "      <th>PT08.S4(NO2)</th>\n",
       "      <th>PT08.S5(O3)</th>\n",
       "      <th>T</th>\n",
       "      <th>RH</th>\n",
       "      <th>AH</th>\n",
       "      <th>Unnamed: 15</th>\n",
       "      <th>Unnamed: 16</th>\n",
       "    </tr>\n",
       "    <tr>\n",
       "      <th>Date_Time</th>\n",
       "      <th></th>\n",
       "      <th></th>\n",
       "      <th></th>\n",
       "      <th></th>\n",
       "      <th></th>\n",
       "      <th></th>\n",
       "      <th></th>\n",
       "      <th></th>\n",
       "      <th></th>\n",
       "      <th></th>\n",
       "      <th></th>\n",
       "      <th></th>\n",
       "      <th></th>\n",
       "      <th></th>\n",
       "      <th></th>\n",
       "    </tr>\n",
       "  </thead>\n",
       "  <tbody>\n",
       "    <tr>\n",
       "      <th>2004-03-10 18:00:00</th>\n",
       "      <td>2,6</td>\n",
       "      <td>1360</td>\n",
       "      <td>150</td>\n",
       "      <td>11,9</td>\n",
       "      <td>1046</td>\n",
       "      <td>166</td>\n",
       "      <td>1056</td>\n",
       "      <td>113</td>\n",
       "      <td>1692</td>\n",
       "      <td>1268</td>\n",
       "      <td>13,6</td>\n",
       "      <td>48,9</td>\n",
       "      <td>0,7578</td>\n",
       "      <td>NaN</td>\n",
       "      <td>NaN</td>\n",
       "    </tr>\n",
       "    <tr>\n",
       "      <th>2004-03-10 19:00:00</th>\n",
       "      <td>2</td>\n",
       "      <td>1292</td>\n",
       "      <td>112</td>\n",
       "      <td>9,4</td>\n",
       "      <td>955</td>\n",
       "      <td>103</td>\n",
       "      <td>1174</td>\n",
       "      <td>92</td>\n",
       "      <td>1559</td>\n",
       "      <td>972</td>\n",
       "      <td>13,3</td>\n",
       "      <td>47,7</td>\n",
       "      <td>0,7255</td>\n",
       "      <td>NaN</td>\n",
       "      <td>NaN</td>\n",
       "    </tr>\n",
       "    <tr>\n",
       "      <th>2004-03-10 20:00:00</th>\n",
       "      <td>2,2</td>\n",
       "      <td>1402</td>\n",
       "      <td>88</td>\n",
       "      <td>9,0</td>\n",
       "      <td>939</td>\n",
       "      <td>131</td>\n",
       "      <td>1140</td>\n",
       "      <td>114</td>\n",
       "      <td>1555</td>\n",
       "      <td>1074</td>\n",
       "      <td>11,9</td>\n",
       "      <td>54,0</td>\n",
       "      <td>0,7502</td>\n",
       "      <td>NaN</td>\n",
       "      <td>NaN</td>\n",
       "    </tr>\n",
       "    <tr>\n",
       "      <th>2004-03-10 21:00:00</th>\n",
       "      <td>2,2</td>\n",
       "      <td>1376</td>\n",
       "      <td>80</td>\n",
       "      <td>9,2</td>\n",
       "      <td>948</td>\n",
       "      <td>172</td>\n",
       "      <td>1092</td>\n",
       "      <td>122</td>\n",
       "      <td>1584</td>\n",
       "      <td>1203</td>\n",
       "      <td>11,0</td>\n",
       "      <td>60,0</td>\n",
       "      <td>0,7867</td>\n",
       "      <td>NaN</td>\n",
       "      <td>NaN</td>\n",
       "    </tr>\n",
       "    <tr>\n",
       "      <th>2004-03-10 22:00:00</th>\n",
       "      <td>1,6</td>\n",
       "      <td>1272</td>\n",
       "      <td>51</td>\n",
       "      <td>6,5</td>\n",
       "      <td>836</td>\n",
       "      <td>131</td>\n",
       "      <td>1205</td>\n",
       "      <td>116</td>\n",
       "      <td>1490</td>\n",
       "      <td>1110</td>\n",
       "      <td>11,2</td>\n",
       "      <td>59,6</td>\n",
       "      <td>0,7888</td>\n",
       "      <td>NaN</td>\n",
       "      <td>NaN</td>\n",
       "    </tr>\n",
       "    <tr>\n",
       "      <th>2004-03-10 23:00:00</th>\n",
       "      <td>1,2</td>\n",
       "      <td>1197</td>\n",
       "      <td>38</td>\n",
       "      <td>4,7</td>\n",
       "      <td>750</td>\n",
       "      <td>89</td>\n",
       "      <td>1337</td>\n",
       "      <td>96</td>\n",
       "      <td>1393</td>\n",
       "      <td>949</td>\n",
       "      <td>11,2</td>\n",
       "      <td>59,2</td>\n",
       "      <td>0,7848</td>\n",
       "      <td>NaN</td>\n",
       "      <td>NaN</td>\n",
       "    </tr>\n",
       "    <tr>\n",
       "      <th>2004-03-11 00:00:00</th>\n",
       "      <td>1,2</td>\n",
       "      <td>1185</td>\n",
       "      <td>31</td>\n",
       "      <td>3,6</td>\n",
       "      <td>690</td>\n",
       "      <td>62</td>\n",
       "      <td>1462</td>\n",
       "      <td>77</td>\n",
       "      <td>1333</td>\n",
       "      <td>733</td>\n",
       "      <td>11,3</td>\n",
       "      <td>56,8</td>\n",
       "      <td>0,7603</td>\n",
       "      <td>NaN</td>\n",
       "      <td>NaN</td>\n",
       "    </tr>\n",
       "    <tr>\n",
       "      <th>2004-03-11 01:00:00</th>\n",
       "      <td>1</td>\n",
       "      <td>1136</td>\n",
       "      <td>31</td>\n",
       "      <td>3,3</td>\n",
       "      <td>672</td>\n",
       "      <td>62</td>\n",
       "      <td>1453</td>\n",
       "      <td>76</td>\n",
       "      <td>1333</td>\n",
       "      <td>730</td>\n",
       "      <td>10,7</td>\n",
       "      <td>60,0</td>\n",
       "      <td>0,7702</td>\n",
       "      <td>NaN</td>\n",
       "      <td>NaN</td>\n",
       "    </tr>\n",
       "    <tr>\n",
       "      <th>2004-03-11 02:00:00</th>\n",
       "      <td>0,9</td>\n",
       "      <td>1094</td>\n",
       "      <td>24</td>\n",
       "      <td>2,3</td>\n",
       "      <td>609</td>\n",
       "      <td>45</td>\n",
       "      <td>1579</td>\n",
       "      <td>60</td>\n",
       "      <td>1276</td>\n",
       "      <td>620</td>\n",
       "      <td>10,7</td>\n",
       "      <td>59,7</td>\n",
       "      <td>0,7648</td>\n",
       "      <td>NaN</td>\n",
       "      <td>NaN</td>\n",
       "    </tr>\n",
       "    <tr>\n",
       "      <th>2004-03-11 03:00:00</th>\n",
       "      <td>0,6</td>\n",
       "      <td>1010</td>\n",
       "      <td>19</td>\n",
       "      <td>1,7</td>\n",
       "      <td>561</td>\n",
       "      <td>-200</td>\n",
       "      <td>1705</td>\n",
       "      <td>-200</td>\n",
       "      <td>1235</td>\n",
       "      <td>501</td>\n",
       "      <td>10,3</td>\n",
       "      <td>60,2</td>\n",
       "      <td>0,7517</td>\n",
       "      <td>NaN</td>\n",
       "      <td>NaN</td>\n",
       "    </tr>\n",
       "  </tbody>\n",
       "</table>\n",
       "</div>"
      ],
      "text/plain": [
       "                    CO(GT)  PT08.S1(CO)  NMHC(GT) C6H6(GT)  PT08.S2(NMHC)  \\\n",
       "Date_Time                                                                   \n",
       "2004-03-10 18:00:00    2,6         1360       150     11,9           1046   \n",
       "2004-03-10 19:00:00      2         1292       112      9,4            955   \n",
       "2004-03-10 20:00:00    2,2         1402        88      9,0            939   \n",
       "2004-03-10 21:00:00    2,2         1376        80      9,2            948   \n",
       "2004-03-10 22:00:00    1,6         1272        51      6,5            836   \n",
       "2004-03-10 23:00:00    1,2         1197        38      4,7            750   \n",
       "2004-03-11 00:00:00    1,2         1185        31      3,6            690   \n",
       "2004-03-11 01:00:00      1         1136        31      3,3            672   \n",
       "2004-03-11 02:00:00    0,9         1094        24      2,3            609   \n",
       "2004-03-11 03:00:00    0,6         1010        19      1,7            561   \n",
       "\n",
       "                     NOx(GT)  PT08.S3(NOx)  NO2(GT)  PT08.S4(NO2)  \\\n",
       "Date_Time                                                           \n",
       "2004-03-10 18:00:00      166          1056      113          1692   \n",
       "2004-03-10 19:00:00      103          1174       92          1559   \n",
       "2004-03-10 20:00:00      131          1140      114          1555   \n",
       "2004-03-10 21:00:00      172          1092      122          1584   \n",
       "2004-03-10 22:00:00      131          1205      116          1490   \n",
       "2004-03-10 23:00:00       89          1337       96          1393   \n",
       "2004-03-11 00:00:00       62          1462       77          1333   \n",
       "2004-03-11 01:00:00       62          1453       76          1333   \n",
       "2004-03-11 02:00:00       45          1579       60          1276   \n",
       "2004-03-11 03:00:00     -200          1705     -200          1235   \n",
       "\n",
       "                     PT08.S5(O3)     T    RH      AH  Unnamed: 15  Unnamed: 16  \n",
       "Date_Time                                                                       \n",
       "2004-03-10 18:00:00         1268  13,6  48,9  0,7578          NaN          NaN  \n",
       "2004-03-10 19:00:00          972  13,3  47,7  0,7255          NaN          NaN  \n",
       "2004-03-10 20:00:00         1074  11,9  54,0  0,7502          NaN          NaN  \n",
       "2004-03-10 21:00:00         1203  11,0  60,0  0,7867          NaN          NaN  \n",
       "2004-03-10 22:00:00         1110  11,2  59,6  0,7888          NaN          NaN  \n",
       "2004-03-10 23:00:00          949  11,2  59,2  0,7848          NaN          NaN  \n",
       "2004-03-11 00:00:00          733  11,3  56,8  0,7603          NaN          NaN  \n",
       "2004-03-11 01:00:00          730  10,7  60,0  0,7702          NaN          NaN  \n",
       "2004-03-11 02:00:00          620  10,7  59,7  0,7648          NaN          NaN  \n",
       "2004-03-11 03:00:00          501  10,3  60,2  0,7517          NaN          NaN  "
      ]
     },
     "execution_count": 92,
     "metadata": {},
     "output_type": "execute_result"
    }
   ],
   "source": [
    "air_quality_df2.head(10)"
   ]
  },
  {
   "cell_type": "markdown",
   "metadata": {
    "slideshow": {
     "slide_type": "slide"
    }
   },
   "source": [
    "# Re sampling"
   ]
  },
  {
   "cell_type": "code",
   "execution_count": 93,
   "metadata": {
    "slideshow": {
     "slide_type": "subslide"
    }
   },
   "outputs": [
    {
     "data": {
      "text/plain": [
       "Date_Time\n",
       "2004-03-10 18:00:00    1360\n",
       "2004-03-10 19:00:00    1292\n",
       "2004-03-10 20:00:00    1402\n",
       "2004-03-10 21:00:00    1376\n",
       "2004-03-10 22:00:00    1272\n",
       "2004-03-10 23:00:00    1197\n",
       "2004-03-11 00:00:00    1185\n",
       "2004-03-11 01:00:00    1136\n",
       "2004-03-11 02:00:00    1094\n",
       "2004-03-11 03:00:00    1010\n",
       "Name: PT08.S1(CO), dtype: int64"
      ]
     },
     "execution_count": 93,
     "metadata": {},
     "output_type": "execute_result"
    }
   ],
   "source": [
    "sample_df =  air_quality_df2['PT08.S1(CO)']\n",
    "sample_df.head(10)"
   ]
  },
  {
   "cell_type": "code",
   "execution_count": 94,
   "metadata": {
    "slideshow": {
     "slide_type": "fragment"
    }
   },
   "outputs": [
    {
     "data": {
      "text/plain": [
       "DatetimeIndex(['2004-03-10 18:00:00', '2004-03-10 19:00:00',\n",
       "               '2004-03-10 20:00:00', '2004-03-10 21:00:00',\n",
       "               '2004-03-10 22:00:00', '2004-03-10 23:00:00',\n",
       "               '2004-03-11 00:00:00', '2004-03-11 01:00:00',\n",
       "               '2004-03-11 02:00:00', '2004-03-11 03:00:00',\n",
       "               ...\n",
       "               '2005-04-04 05:00:00', '2005-04-04 06:00:00',\n",
       "               '2005-04-04 07:00:00', '2005-04-04 08:00:00',\n",
       "               '2005-04-04 09:00:00', '2005-04-04 10:00:00',\n",
       "               '2005-04-04 11:00:00', '2005-04-04 12:00:00',\n",
       "               '2005-04-04 13:00:00', '2005-04-04 14:00:00'],\n",
       "              dtype='datetime64[ns]', name='Date_Time', length=9357, freq=None)"
      ]
     },
     "execution_count": 94,
     "metadata": {},
     "output_type": "execute_result"
    }
   ],
   "source": [
    "sample_df.index"
   ]
  },
  {
   "cell_type": "code",
   "execution_count": 95,
   "metadata": {
    "slideshow": {
     "slide_type": "subslide"
    }
   },
   "outputs": [
    {
     "data": {
      "text/plain": [
       "Date_Time\n",
       "2004-03-10 18:00:00    1360.0\n",
       "2004-03-10 18:30:00       NaN\n",
       "2004-03-10 19:00:00    1292.0\n",
       "2004-03-10 19:30:00       NaN\n",
       "2004-03-10 20:00:00    1402.0\n",
       "2004-03-10 20:30:00       NaN\n",
       "2004-03-10 21:00:00    1376.0\n",
       "2004-03-10 21:30:00       NaN\n",
       "2004-03-10 22:00:00    1272.0\n",
       "2004-03-10 22:30:00       NaN\n",
       "Freq: 30T, Name: PT08.S1(CO), dtype: float64"
      ]
     },
     "execution_count": 95,
     "metadata": {},
     "output_type": "execute_result"
    }
   ],
   "source": [
    "sampled_30min_df =sample_df.asfreq('30min')\n",
    "sampled_30min_df.head(10)"
   ]
  },
  {
   "cell_type": "code",
   "execution_count": 96,
   "metadata": {
    "slideshow": {
     "slide_type": "subslide"
    }
   },
   "outputs": [
    {
     "data": {
      "text/plain": [
       "Date_Time\n",
       "2004-03-10 18:00:00    1360\n",
       "2004-03-10 18:30:00    1360\n",
       "2004-03-10 19:00:00    1292\n",
       "2004-03-10 19:30:00    1292\n",
       "2004-03-10 20:00:00    1402\n",
       "2004-03-10 20:30:00    1402\n",
       "2004-03-10 21:00:00    1376\n",
       "2004-03-10 21:30:00    1376\n",
       "2004-03-10 22:00:00    1272\n",
       "2004-03-10 22:30:00    1272\n",
       "Freq: 30T, Name: PT08.S1(CO), dtype: int64"
      ]
     },
     "execution_count": 96,
     "metadata": {},
     "output_type": "execute_result"
    }
   ],
   "source": [
    "# upsample\n",
    "sampled_30min_df =sample_df.asfreq('30min', method='ffill')\n",
    "sampled_30min_df.head(10)"
   ]
  },
  {
   "cell_type": "code",
   "execution_count": 97,
   "metadata": {
    "slideshow": {
     "slide_type": "subslide"
    }
   },
   "outputs": [
    {
     "data": {
      "text/plain": [
       "Date_Time\n",
       "2004-03-10 18:00:00    1360\n",
       "2004-03-10 22:00:00    1272\n",
       "2004-03-11 02:00:00    1094\n",
       "2004-03-11 06:00:00    1052\n",
       "2004-03-11 10:00:00    1233\n",
       "2004-03-11 14:00:00    1371\n",
       "2004-03-11 18:00:00    1581\n",
       "2004-03-11 22:00:00     965\n",
       "2004-03-12 02:00:00     988\n",
       "2004-03-12 06:00:00     927\n",
       "Freq: 4H, Name: PT08.S1(CO), dtype: int64"
      ]
     },
     "execution_count": 97,
     "metadata": {},
     "output_type": "execute_result"
    }
   ],
   "source": [
    "# downsample\n",
    "sampled_30min_df.asfreq('4H').head(10)"
   ]
  },
  {
   "cell_type": "markdown",
   "metadata": {
    "slideshow": {
     "slide_type": "slide"
    }
   },
   "source": [
    "# resample"
   ]
  },
  {
   "cell_type": "code",
   "execution_count": 98,
   "metadata": {
    "slideshow": {
     "slide_type": "subslide"
    }
   },
   "outputs": [
    {
     "data": {
      "text/plain": [
       "Date_Time\n",
       "2004-03-10 18:00:00    1360\n",
       "2004-03-10 19:00:00    1292\n",
       "2004-03-10 20:00:00    1402\n",
       "2004-03-10 21:00:00    1376\n",
       "2004-03-10 22:00:00    1272\n",
       "2004-03-10 23:00:00    1197\n",
       "2004-03-11 00:00:00    1185\n",
       "2004-03-11 01:00:00    1136\n",
       "2004-03-11 02:00:00    1094\n",
       "2004-03-11 03:00:00    1010\n",
       "Freq: H, Name: PT08.S1(CO), dtype: int64"
      ]
     },
     "execution_count": 98,
     "metadata": {},
     "output_type": "execute_result"
    }
   ],
   "source": [
    "sample_df =sample_df.asfreq('1H')\n",
    "sample_df.head(10)"
   ]
  },
  {
   "cell_type": "code",
   "execution_count": 99,
   "metadata": {
    "slideshow": {
     "slide_type": "subslide"
    }
   },
   "outputs": [
    {
     "data": {
      "text/plain": [
       "DatetimeIndex(['2004-03-10 18:00:00', '2004-03-10 19:00:00',\n",
       "               '2004-03-10 20:00:00', '2004-03-10 21:00:00',\n",
       "               '2004-03-10 22:00:00', '2004-03-10 23:00:00',\n",
       "               '2004-03-11 00:00:00', '2004-03-11 01:00:00',\n",
       "               '2004-03-11 02:00:00', '2004-03-11 03:00:00',\n",
       "               ...\n",
       "               '2005-04-04 05:00:00', '2005-04-04 06:00:00',\n",
       "               '2005-04-04 07:00:00', '2005-04-04 08:00:00',\n",
       "               '2005-04-04 09:00:00', '2005-04-04 10:00:00',\n",
       "               '2005-04-04 11:00:00', '2005-04-04 12:00:00',\n",
       "               '2005-04-04 13:00:00', '2005-04-04 14:00:00'],\n",
       "              dtype='datetime64[ns]', name='Date_Time', length=9357, freq='H')"
      ]
     },
     "execution_count": 99,
     "metadata": {},
     "output_type": "execute_result"
    }
   ],
   "source": [
    "sample_df.index"
   ]
  },
  {
   "cell_type": "code",
   "execution_count": 100,
   "metadata": {
    "slideshow": {
     "slide_type": "subslide"
    }
   },
   "outputs": [
    {
     "data": {
      "text/plain": [
       "pandas.core.resample.DatetimeIndexResampler"
      ]
     },
     "execution_count": 100,
     "metadata": {},
     "output_type": "execute_result"
    }
   ],
   "source": [
    "downsample_df = sample_df.resample('2H')\n",
    "type(downsample_df)"
   ]
  },
  {
   "cell_type": "code",
   "execution_count": 101,
   "metadata": {
    "slideshow": {
     "slide_type": "subslide"
    }
   },
   "outputs": [
    {
     "data": {
      "text/plain": [
       "Date_Time\n",
       "2004-03-10 18:00:00    1360\n",
       "2004-03-10 19:00:00    1292\n",
       "2004-03-10 20:00:00    1402\n",
       "2004-03-10 21:00:00    1376\n",
       "2004-03-10 22:00:00    1272\n",
       "2004-03-10 23:00:00    1197\n",
       "2004-03-11 00:00:00    1185\n",
       "2004-03-11 01:00:00    1136\n",
       "2004-03-11 02:00:00    1094\n",
       "2004-03-11 03:00:00    1010\n",
       "Freq: H, Name: PT08.S1(CO), dtype: int64"
      ]
     },
     "execution_count": 101,
     "metadata": {},
     "output_type": "execute_result"
    }
   ],
   "source": [
    "sample_df.head(10)"
   ]
  },
  {
   "cell_type": "code",
   "execution_count": 103,
   "metadata": {
    "slideshow": {
     "slide_type": "subslide"
    }
   },
   "outputs": [
    {
     "data": {
      "text/plain": [
       "1326.0"
      ]
     },
     "execution_count": 103,
     "metadata": {},
     "output_type": "execute_result"
    }
   ],
   "source": [
    "(1360+1292)/2"
   ]
  },
  {
   "cell_type": "code",
   "execution_count": 102,
   "metadata": {
    "scrolled": true,
    "slideshow": {
     "slide_type": "subslide"
    }
   },
   "outputs": [
    {
     "data": {
      "text/plain": [
       "Date_Time\n",
       "2004-03-10 18:00:00    1326.0\n",
       "2004-03-10 20:00:00    1389.0\n",
       "2004-03-10 22:00:00    1234.5\n",
       "2004-03-11 00:00:00    1160.5\n",
       "2004-03-11 02:00:00    1052.0\n",
       "2004-03-11 04:00:00    1038.5\n",
       "2004-03-11 06:00:00    1098.0\n",
       "2004-03-11 08:00:00    1342.0\n",
       "2004-03-11 10:00:00    1206.0\n",
       "2004-03-11 12:00:00    1261.0\n",
       "2004-03-11 14:00:00    1340.5\n",
       "2004-03-11 16:00:00    1337.5\n",
       "2004-03-11 18:00:00    1678.5\n",
       "2004-03-11 20:00:00    1476.5\n",
       "2004-03-11 22:00:00     939.0\n",
       "2004-03-12 00:00:00    1062.0\n",
       "2004-03-12 02:00:00     938.5\n",
       "2004-03-12 04:00:00     839.0\n",
       "2004-03-12 06:00:00    1009.0\n",
       "2004-03-12 08:00:00    1566.0\n",
       "2004-03-12 10:00:00    1306.5\n",
       "2004-03-12 12:00:00    1229.0\n",
       "2004-03-12 14:00:00    1320.0\n",
       "2004-03-12 16:00:00    1291.5\n",
       "2004-03-12 18:00:00    1517.5\n",
       "2004-03-12 20:00:00    1720.5\n",
       "2004-03-12 22:00:00    1580.5\n",
       "2004-03-13 00:00:00    1238.0\n",
       "2004-03-13 02:00:00    1178.0\n",
       "2004-03-13 04:00:00    1062.5\n",
       "                        ...  \n",
       "2005-04-02 04:00:00     828.5\n",
       "2005-04-02 06:00:00     903.0\n",
       "2005-04-02 08:00:00     901.0\n",
       "2005-04-02 10:00:00     883.5\n",
       "2005-04-02 12:00:00     879.5\n",
       "2005-04-02 14:00:00     894.5\n",
       "2005-04-02 16:00:00     928.5\n",
       "2005-04-02 18:00:00     941.5\n",
       "2005-04-02 20:00:00     905.0\n",
       "2005-04-02 22:00:00     897.5\n",
       "2005-04-03 00:00:00     940.0\n",
       "2005-04-03 02:00:00     929.5\n",
       "2005-04-03 04:00:00     830.5\n",
       "2005-04-03 06:00:00     865.0\n",
       "2005-04-03 08:00:00     979.0\n",
       "2005-04-03 10:00:00     985.0\n",
       "2005-04-03 12:00:00     962.0\n",
       "2005-04-03 14:00:00     944.5\n",
       "2005-04-03 16:00:00     960.5\n",
       "2005-04-03 18:00:00    1131.5\n",
       "2005-04-03 20:00:00    1141.0\n",
       "2005-04-03 22:00:00    1108.0\n",
       "2005-04-04 00:00:00     978.0\n",
       "2005-04-04 02:00:00     899.5\n",
       "2005-04-04 04:00:00     876.0\n",
       "2005-04-04 06:00:00    1207.5\n",
       "2005-04-04 08:00:00    1371.5\n",
       "2005-04-04 10:00:00    1238.5\n",
       "2005-04-04 12:00:00    1072.5\n",
       "2005-04-04 14:00:00    1071.0\n",
       "Freq: 2H, Name: PT08.S1(CO), Length: 4679, dtype: float64"
      ]
     },
     "execution_count": 102,
     "metadata": {},
     "output_type": "execute_result"
    }
   ],
   "source": [
    "downsample_df.mean()"
   ]
  },
  {
   "cell_type": "markdown",
   "metadata": {
    "slideshow": {
     "slide_type": "subslide"
    }
   },
   "source": [
    "# Shifting time series(Leading and Lagging))"
   ]
  },
  {
   "cell_type": "code",
   "execution_count": 104,
   "metadata": {
    "slideshow": {
     "slide_type": "subslide"
    }
   },
   "outputs": [
    {
     "data": {
      "text/plain": [
       "2018-01-01    4.791202\n",
       "2018-01-02    2.262308\n",
       "2018-01-03    2.003735\n",
       "2018-01-04    1.054722\n",
       "2018-01-05    1.820911\n",
       "2018-01-06    1.567918\n",
       "2018-01-07    2.414929\n",
       "2018-01-08    0.664064\n",
       "2018-01-09    2.212446\n",
       "2018-01-10    1.690452\n",
       "Freq: D, dtype: float64"
      ]
     },
     "execution_count": 104,
     "metadata": {},
     "output_type": "execute_result"
    }
   ],
   "source": [
    "import numpy as np\n",
    "ts = pd.Series(np.random.randn(10) +2,\n",
    "               index=pd.date_range('1/1/2018', periods=10, freq='D'))\n",
    "ts"
   ]
  },
  {
   "cell_type": "code",
   "execution_count": 105,
   "metadata": {
    "slideshow": {
     "slide_type": "subslide"
    }
   },
   "outputs": [
    {
     "data": {
      "text/plain": [
       "2018-01-01         NaN\n",
       "2018-01-02    4.791202\n",
       "2018-01-03    2.262308\n",
       "2018-01-04    2.003735\n",
       "2018-01-05    1.054722\n",
       "2018-01-06    1.820911\n",
       "2018-01-07    1.567918\n",
       "2018-01-08    2.414929\n",
       "2018-01-09    0.664064\n",
       "2018-01-10    2.212446\n",
       "Freq: D, dtype: float64"
      ]
     },
     "execution_count": 105,
     "metadata": {},
     "output_type": "execute_result"
    }
   ],
   "source": [
    "ts.shift()"
   ]
  },
  {
   "cell_type": "code",
   "execution_count": 106,
   "metadata": {
    "slideshow": {
     "slide_type": "subslide"
    }
   },
   "outputs": [
    {
     "data": {
      "text/plain": [
       "2018-01-01         NaN\n",
       "2018-01-02   -2.528894\n",
       "2018-01-03   -0.258573\n",
       "2018-01-04   -0.949012\n",
       "2018-01-05    0.766188\n",
       "2018-01-06   -0.252993\n",
       "2018-01-07    0.847012\n",
       "2018-01-08   -1.750865\n",
       "2018-01-09    1.548382\n",
       "2018-01-10   -0.521995\n",
       "Freq: D, dtype: float64"
      ]
     },
     "execution_count": 106,
     "metadata": {},
     "output_type": "execute_result"
    }
   ],
   "source": [
    "ts.diff()\n",
    "#ys - ts.shft()"
   ]
  },
  {
   "cell_type": "code",
   "execution_count": 107,
   "metadata": {
    "slideshow": {
     "slide_type": "subslide"
    }
   },
   "outputs": [],
   "source": [
    "# feature engineering\n",
    "lag_analysis = pd.concat([ts, ts.shift(1), ts.diff(1)], axis=1)"
   ]
  },
  {
   "cell_type": "code",
   "execution_count": 108,
   "metadata": {
    "slideshow": {
     "slide_type": "subslide"
    }
   },
   "outputs": [],
   "source": [
    "lag_analysis.columns= ['ori', 'shifted', 'diff']"
   ]
  },
  {
   "cell_type": "code",
   "execution_count": 109,
   "metadata": {
    "slideshow": {
     "slide_type": "subslide"
    }
   },
   "outputs": [
    {
     "data": {
      "text/html": [
       "<div>\n",
       "<style scoped>\n",
       "    .dataframe tbody tr th:only-of-type {\n",
       "        vertical-align: middle;\n",
       "    }\n",
       "\n",
       "    .dataframe tbody tr th {\n",
       "        vertical-align: top;\n",
       "    }\n",
       "\n",
       "    .dataframe thead th {\n",
       "        text-align: right;\n",
       "    }\n",
       "</style>\n",
       "<table border=\"1\" class=\"dataframe\">\n",
       "  <thead>\n",
       "    <tr style=\"text-align: right;\">\n",
       "      <th></th>\n",
       "      <th>ori</th>\n",
       "      <th>shifted</th>\n",
       "      <th>diff</th>\n",
       "    </tr>\n",
       "  </thead>\n",
       "  <tbody>\n",
       "    <tr>\n",
       "      <th>2018-01-01</th>\n",
       "      <td>4.791202</td>\n",
       "      <td>NaN</td>\n",
       "      <td>NaN</td>\n",
       "    </tr>\n",
       "    <tr>\n",
       "      <th>2018-01-02</th>\n",
       "      <td>2.262308</td>\n",
       "      <td>4.791202</td>\n",
       "      <td>-2.528894</td>\n",
       "    </tr>\n",
       "    <tr>\n",
       "      <th>2018-01-03</th>\n",
       "      <td>2.003735</td>\n",
       "      <td>2.262308</td>\n",
       "      <td>-0.258573</td>\n",
       "    </tr>\n",
       "    <tr>\n",
       "      <th>2018-01-04</th>\n",
       "      <td>1.054722</td>\n",
       "      <td>2.003735</td>\n",
       "      <td>-0.949012</td>\n",
       "    </tr>\n",
       "    <tr>\n",
       "      <th>2018-01-05</th>\n",
       "      <td>1.820911</td>\n",
       "      <td>1.054722</td>\n",
       "      <td>0.766188</td>\n",
       "    </tr>\n",
       "    <tr>\n",
       "      <th>2018-01-06</th>\n",
       "      <td>1.567918</td>\n",
       "      <td>1.820911</td>\n",
       "      <td>-0.252993</td>\n",
       "    </tr>\n",
       "    <tr>\n",
       "      <th>2018-01-07</th>\n",
       "      <td>2.414929</td>\n",
       "      <td>1.567918</td>\n",
       "      <td>0.847012</td>\n",
       "    </tr>\n",
       "    <tr>\n",
       "      <th>2018-01-08</th>\n",
       "      <td>0.664064</td>\n",
       "      <td>2.414929</td>\n",
       "      <td>-1.750865</td>\n",
       "    </tr>\n",
       "    <tr>\n",
       "      <th>2018-01-09</th>\n",
       "      <td>2.212446</td>\n",
       "      <td>0.664064</td>\n",
       "      <td>1.548382</td>\n",
       "    </tr>\n",
       "    <tr>\n",
       "      <th>2018-01-10</th>\n",
       "      <td>1.690452</td>\n",
       "      <td>2.212446</td>\n",
       "      <td>-0.521995</td>\n",
       "    </tr>\n",
       "  </tbody>\n",
       "</table>\n",
       "</div>"
      ],
      "text/plain": [
       "                 ori   shifted      diff\n",
       "2018-01-01  4.791202       NaN       NaN\n",
       "2018-01-02  2.262308  4.791202 -2.528894\n",
       "2018-01-03  2.003735  2.262308 -0.258573\n",
       "2018-01-04  1.054722  2.003735 -0.949012\n",
       "2018-01-05  1.820911  1.054722  0.766188\n",
       "2018-01-06  1.567918  1.820911 -0.252993\n",
       "2018-01-07  2.414929  1.567918  0.847012\n",
       "2018-01-08  0.664064  2.414929 -1.750865\n",
       "2018-01-09  2.212446  0.664064  1.548382\n",
       "2018-01-10  1.690452  2.212446 -0.521995"
      ]
     },
     "execution_count": 109,
     "metadata": {},
     "output_type": "execute_result"
    }
   ],
   "source": [
    "lag_analysis"
   ]
  },
  {
   "cell_type": "code",
   "execution_count": 110,
   "metadata": {
    "slideshow": {
     "slide_type": "subslide"
    }
   },
   "outputs": [
    {
     "data": {
      "text/plain": [
       "<matplotlib.axes._subplots.AxesSubplot at 0x7fa2809164e0>"
      ]
     },
     "execution_count": 110,
     "metadata": {},
     "output_type": "execute_result"
    },
    {
     "data": {
      "image/png": "[encoded data removed]",
      "text/plain": [
       "<Figure size 432x288 with 1 Axes>"
      ]
     },
     "metadata": {
      "needs_background": "light"
     },
     "output_type": "display_data"
    }
   ],
   "source": [
    "lag_analysis.plot()"
   ]
  },
  {
   "cell_type": "markdown",
   "metadata": {
    "slideshow": {
     "slide_type": "subslide"
    }
   },
   "source": [
    "Use periods to move forward (positive) or backward (negative)"
   ]
  },
  {
   "cell_type": "markdown",
   "metadata": {
    "slideshow": {
     "slide_type": "subslide"
    }
   },
   "source": [
    "# Moving Window Functions\n",
    "Moving aggregates measures"
   ]
  },
  {
   "cell_type": "code",
   "execution_count": 111,
   "metadata": {
    "slideshow": {
     "slide_type": "subslide"
    }
   },
   "outputs": [],
   "source": [
    "df= pd.DataFrame(np.random.randn(400,1), index=pd.date_range('2018/7/10', freq= 'D', periods =400 ), columns=['D1'])"
   ]
  },
  {
   "cell_type": "code",
   "execution_count": 112,
   "metadata": {
    "slideshow": {
     "slide_type": "subslide"
    }
   },
   "outputs": [
    {
     "data": {
      "text/html": [
       "<div>\n",
       "<style scoped>\n",
       "    .dataframe tbody tr th:only-of-type {\n",
       "        vertical-align: middle;\n",
       "    }\n",
       "\n",
       "    .dataframe tbody tr th {\n",
       "        vertical-align: top;\n",
       "    }\n",
       "\n",
       "    .dataframe thead th {\n",
       "        text-align: right;\n",
       "    }\n",
       "</style>\n",
       "<table border=\"1\" class=\"dataframe\">\n",
       "  <thead>\n",
       "    <tr style=\"text-align: right;\">\n",
       "      <th></th>\n",
       "      <th>D1</th>\n",
       "    </tr>\n",
       "  </thead>\n",
       "  <tbody>\n",
       "    <tr>\n",
       "      <th>2018-07-10</th>\n",
       "      <td>0.376439</td>\n",
       "    </tr>\n",
       "    <tr>\n",
       "      <th>2018-07-11</th>\n",
       "      <td>-0.774428</td>\n",
       "    </tr>\n",
       "    <tr>\n",
       "      <th>2018-07-12</th>\n",
       "      <td>0.624595</td>\n",
       "    </tr>\n",
       "    <tr>\n",
       "      <th>2018-07-13</th>\n",
       "      <td>-1.776014</td>\n",
       "    </tr>\n",
       "    <tr>\n",
       "      <th>2018-07-14</th>\n",
       "      <td>-0.030378</td>\n",
       "    </tr>\n",
       "  </tbody>\n",
       "</table>\n",
       "</div>"
      ],
      "text/plain": [
       "                  D1\n",
       "2018-07-10  0.376439\n",
       "2018-07-11 -0.774428\n",
       "2018-07-12  0.624595\n",
       "2018-07-13 -1.776014\n",
       "2018-07-14 -0.030378"
      ]
     },
     "execution_count": 112,
     "metadata": {},
     "output_type": "execute_result"
    }
   ],
   "source": [
    "df.head()"
   ]
  },
  {
   "cell_type": "code",
   "execution_count": 113,
   "metadata": {
    "slideshow": {
     "slide_type": "subslide"
    }
   },
   "outputs": [
    {
     "data": {
      "text/plain": [
       "Rolling [window=30,center=False,axis=0]"
      ]
     },
     "execution_count": 113,
     "metadata": {},
     "output_type": "execute_result"
    }
   ],
   "source": [
    "rolling_df = df.rolling(window = 30)\n",
    "rolling_df"
   ]
  },
  {
   "cell_type": "code",
   "execution_count": 114,
   "metadata": {
    "slideshow": {
     "slide_type": "subslide"
    }
   },
   "outputs": [
    {
     "data": {
      "text/plain": [
       "<matplotlib.legend.Legend at 0x7fa24d5943c8>"
      ]
     },
     "execution_count": 114,
     "metadata": {},
     "output_type": "execute_result"
    },
    {
     "data": {
      "image/png": "[encoded data removed]",
      "text/plain": [
       "<Figure size 864x720 with 1 Axes>"
      ]
     },
     "metadata": {
      "needs_background": "light"
     },
     "output_type": "display_data"
    }
   ],
   "source": [
    "ax = df.plot(color = 'gray', figsize= (12, 10), label = 'raw')\n",
    "rolling_df.mean().plot(ax= ax, color='green', label = 'mean')\n",
    "rolling_df.max().plot(ax= ax, color='red', label = 'max')\n",
    "rolling_df.min().plot(ax= ax, color='blue', label = 'min')\n",
    "rolling_df.quantile(.40).plot(ax= ax, color='orange', label='40th qunatile')\n",
    "plt.legend()"
   ]
  },
  {
   "cell_type": "markdown",
   "metadata": {
    "slideshow": {
     "slide_type": "subslide"
    }
   },
   "source": [
    "Computing more aggregate functions"
   ]
  },
  {
   "cell_type": "code",
   "execution_count": 115,
   "metadata": {
    "slideshow": {
     "slide_type": "fragment"
    }
   },
   "outputs": [
    {
     "data": {
      "text/html": [
       "<div>\n",
       "<style scoped>\n",
       "    .dataframe tbody tr th:only-of-type {\n",
       "        vertical-align: middle;\n",
       "    }\n",
       "\n",
       "    .dataframe tbody tr th {\n",
       "        vertical-align: top;\n",
       "    }\n",
       "\n",
       "    .dataframe thead tr th {\n",
       "        text-align: left;\n",
       "    }\n",
       "</style>\n",
       "<table border=\"1\" class=\"dataframe\">\n",
       "  <thead>\n",
       "    <tr>\n",
       "      <th></th>\n",
       "      <th colspan=\"2\" halign=\"left\">D1</th>\n",
       "    </tr>\n",
       "    <tr>\n",
       "      <th></th>\n",
       "      <th>median</th>\n",
       "      <th>mean</th>\n",
       "    </tr>\n",
       "  </thead>\n",
       "  <tbody>\n",
       "    <tr>\n",
       "      <th>2018-07-10</th>\n",
       "      <td>NaN</td>\n",
       "      <td>NaN</td>\n",
       "    </tr>\n",
       "    <tr>\n",
       "      <th>2018-07-11</th>\n",
       "      <td>NaN</td>\n",
       "      <td>NaN</td>\n",
       "    </tr>\n",
       "    <tr>\n",
       "      <th>2018-07-12</th>\n",
       "      <td>NaN</td>\n",
       "      <td>NaN</td>\n",
       "    </tr>\n",
       "    <tr>\n",
       "      <th>2018-07-13</th>\n",
       "      <td>NaN</td>\n",
       "      <td>NaN</td>\n",
       "    </tr>\n",
       "    <tr>\n",
       "      <th>2018-07-14</th>\n",
       "      <td>NaN</td>\n",
       "      <td>NaN</td>\n",
       "    </tr>\n",
       "    <tr>\n",
       "      <th>2018-07-15</th>\n",
       "      <td>NaN</td>\n",
       "      <td>NaN</td>\n",
       "    </tr>\n",
       "    <tr>\n",
       "      <th>2018-07-16</th>\n",
       "      <td>NaN</td>\n",
       "      <td>NaN</td>\n",
       "    </tr>\n",
       "    <tr>\n",
       "      <th>2018-07-17</th>\n",
       "      <td>NaN</td>\n",
       "      <td>NaN</td>\n",
       "    </tr>\n",
       "    <tr>\n",
       "      <th>2018-07-18</th>\n",
       "      <td>NaN</td>\n",
       "      <td>NaN</td>\n",
       "    </tr>\n",
       "    <tr>\n",
       "      <th>2018-07-19</th>\n",
       "      <td>NaN</td>\n",
       "      <td>NaN</td>\n",
       "    </tr>\n",
       "    <tr>\n",
       "      <th>2018-07-20</th>\n",
       "      <td>NaN</td>\n",
       "      <td>NaN</td>\n",
       "    </tr>\n",
       "    <tr>\n",
       "      <th>2018-07-21</th>\n",
       "      <td>NaN</td>\n",
       "      <td>NaN</td>\n",
       "    </tr>\n",
       "    <tr>\n",
       "      <th>2018-07-22</th>\n",
       "      <td>NaN</td>\n",
       "      <td>NaN</td>\n",
       "    </tr>\n",
       "    <tr>\n",
       "      <th>2018-07-23</th>\n",
       "      <td>NaN</td>\n",
       "      <td>NaN</td>\n",
       "    </tr>\n",
       "    <tr>\n",
       "      <th>2018-07-24</th>\n",
       "      <td>NaN</td>\n",
       "      <td>NaN</td>\n",
       "    </tr>\n",
       "    <tr>\n",
       "      <th>2018-07-25</th>\n",
       "      <td>NaN</td>\n",
       "      <td>NaN</td>\n",
       "    </tr>\n",
       "    <tr>\n",
       "      <th>2018-07-26</th>\n",
       "      <td>NaN</td>\n",
       "      <td>NaN</td>\n",
       "    </tr>\n",
       "    <tr>\n",
       "      <th>2018-07-27</th>\n",
       "      <td>NaN</td>\n",
       "      <td>NaN</td>\n",
       "    </tr>\n",
       "    <tr>\n",
       "      <th>2018-07-28</th>\n",
       "      <td>NaN</td>\n",
       "      <td>NaN</td>\n",
       "    </tr>\n",
       "    <tr>\n",
       "      <th>2018-07-29</th>\n",
       "      <td>NaN</td>\n",
       "      <td>NaN</td>\n",
       "    </tr>\n",
       "    <tr>\n",
       "      <th>2018-07-30</th>\n",
       "      <td>NaN</td>\n",
       "      <td>NaN</td>\n",
       "    </tr>\n",
       "    <tr>\n",
       "      <th>2018-07-31</th>\n",
       "      <td>NaN</td>\n",
       "      <td>NaN</td>\n",
       "    </tr>\n",
       "    <tr>\n",
       "      <th>2018-08-01</th>\n",
       "      <td>NaN</td>\n",
       "      <td>NaN</td>\n",
       "    </tr>\n",
       "    <tr>\n",
       "      <th>2018-08-02</th>\n",
       "      <td>NaN</td>\n",
       "      <td>NaN</td>\n",
       "    </tr>\n",
       "    <tr>\n",
       "      <th>2018-08-03</th>\n",
       "      <td>NaN</td>\n",
       "      <td>NaN</td>\n",
       "    </tr>\n",
       "    <tr>\n",
       "      <th>2018-08-04</th>\n",
       "      <td>NaN</td>\n",
       "      <td>NaN</td>\n",
       "    </tr>\n",
       "    <tr>\n",
       "      <th>2018-08-05</th>\n",
       "      <td>NaN</td>\n",
       "      <td>NaN</td>\n",
       "    </tr>\n",
       "    <tr>\n",
       "      <th>2018-08-06</th>\n",
       "      <td>NaN</td>\n",
       "      <td>NaN</td>\n",
       "    </tr>\n",
       "    <tr>\n",
       "      <th>2018-08-07</th>\n",
       "      <td>NaN</td>\n",
       "      <td>NaN</td>\n",
       "    </tr>\n",
       "    <tr>\n",
       "      <th>2018-08-08</th>\n",
       "      <td>-0.250968</td>\n",
       "      <td>-0.036115</td>\n",
       "    </tr>\n",
       "    <tr>\n",
       "      <th>2018-08-09</th>\n",
       "      <td>-0.266937</td>\n",
       "      <td>-0.078917</td>\n",
       "    </tr>\n",
       "    <tr>\n",
       "      <th>2018-08-10</th>\n",
       "      <td>-0.266937</td>\n",
       "      <td>-0.088617</td>\n",
       "    </tr>\n",
       "    <tr>\n",
       "      <th>2018-08-11</th>\n",
       "      <td>-0.288850</td>\n",
       "      <td>-0.136701</td>\n",
       "    </tr>\n",
       "    <tr>\n",
       "      <th>2018-08-12</th>\n",
       "      <td>-0.266937</td>\n",
       "      <td>-0.069842</td>\n",
       "    </tr>\n",
       "    <tr>\n",
       "      <th>2018-08-13</th>\n",
       "      <td>-0.288850</td>\n",
       "      <td>-0.089420</td>\n",
       "    </tr>\n",
       "    <tr>\n",
       "      <th>2018-08-14</th>\n",
       "      <td>-0.288850</td>\n",
       "      <td>-0.098192</td>\n",
       "    </tr>\n",
       "    <tr>\n",
       "      <th>2018-08-15</th>\n",
       "      <td>-0.302813</td>\n",
       "      <td>-0.122863</td>\n",
       "    </tr>\n",
       "    <tr>\n",
       "      <th>2018-08-16</th>\n",
       "      <td>-0.310842</td>\n",
       "      <td>-0.143836</td>\n",
       "    </tr>\n",
       "    <tr>\n",
       "      <th>2018-08-17</th>\n",
       "      <td>-0.310842</td>\n",
       "      <td>-0.126163</td>\n",
       "    </tr>\n",
       "    <tr>\n",
       "      <th>2018-08-18</th>\n",
       "      <td>-0.295537</td>\n",
       "      <td>-0.044425</td>\n",
       "    </tr>\n",
       "  </tbody>\n",
       "</table>\n",
       "</div>"
      ],
      "text/plain": [
       "                  D1          \n",
       "              median      mean\n",
       "2018-07-10       NaN       NaN\n",
       "2018-07-11       NaN       NaN\n",
       "2018-07-12       NaN       NaN\n",
       "2018-07-13       NaN       NaN\n",
       "2018-07-14       NaN       NaN\n",
       "2018-07-15       NaN       NaN\n",
       "2018-07-16       NaN       NaN\n",
       "2018-07-17       NaN       NaN\n",
       "2018-07-18       NaN       NaN\n",
       "2018-07-19       NaN       NaN\n",
       "2018-07-20       NaN       NaN\n",
       "2018-07-21       NaN       NaN\n",
       "2018-07-22       NaN       NaN\n",
       "2018-07-23       NaN       NaN\n",
       "2018-07-24       NaN       NaN\n",
       "2018-07-25       NaN       NaN\n",
       "2018-07-26       NaN       NaN\n",
       "2018-07-27       NaN       NaN\n",
       "2018-07-28       NaN       NaN\n",
       "2018-07-29       NaN       NaN\n",
       "2018-07-30       NaN       NaN\n",
       "2018-07-31       NaN       NaN\n",
       "2018-08-01       NaN       NaN\n",
       "2018-08-02       NaN       NaN\n",
       "2018-08-03       NaN       NaN\n",
       "2018-08-04       NaN       NaN\n",
       "2018-08-05       NaN       NaN\n",
       "2018-08-06       NaN       NaN\n",
       "2018-08-07       NaN       NaN\n",
       "2018-08-08 -0.250968 -0.036115\n",
       "2018-08-09 -0.266937 -0.078917\n",
       "2018-08-10 -0.266937 -0.088617\n",
       "2018-08-11 -0.288850 -0.136701\n",
       "2018-08-12 -0.266937 -0.069842\n",
       "2018-08-13 -0.288850 -0.089420\n",
       "2018-08-14 -0.288850 -0.098192\n",
       "2018-08-15 -0.302813 -0.122863\n",
       "2018-08-16 -0.310842 -0.143836\n",
       "2018-08-17 -0.310842 -0.126163\n",
       "2018-08-18 -0.295537 -0.044425"
      ]
     },
     "execution_count": 115,
     "metadata": {},
     "output_type": "execute_result"
    }
   ],
   "source": [
    "rolling_df.agg(['median', 'mean']).head(40)"
   ]
  },
  {
   "cell_type": "markdown",
   "metadata": {
    "slideshow": {
     "slide_type": "subslide"
    }
   },
   "source": [
    "If you have some requirement not baked into pandas you can use apply function"
   ]
  },
  {
   "cell_type": "code",
   "execution_count": 116,
   "metadata": {
    "slideshow": {
     "slide_type": "subslide"
    }
   },
   "outputs": [],
   "source": [
    "epsilon = .8"
   ]
  },
  {
   "cell_type": "code",
   "execution_count": 118,
   "metadata": {
    "slideshow": {
     "slide_type": "fragment"
    }
   },
   "outputs": [
    {
     "data": {
      "text/html": [
       "<div>\n",
       "<style scoped>\n",
       "    .dataframe tbody tr th:only-of-type {\n",
       "        vertical-align: middle;\n",
       "    }\n",
       "\n",
       "    .dataframe tbody tr th {\n",
       "        vertical-align: top;\n",
       "    }\n",
       "\n",
       "    .dataframe thead th {\n",
       "        text-align: right;\n",
       "    }\n",
       "</style>\n",
       "<table border=\"1\" class=\"dataframe\">\n",
       "  <thead>\n",
       "    <tr style=\"text-align: right;\">\n",
       "      <th></th>\n",
       "      <th>D1</th>\n",
       "    </tr>\n",
       "  </thead>\n",
       "  <tbody>\n",
       "    <tr>\n",
       "      <th>2018-07-10</th>\n",
       "      <td>NaN</td>\n",
       "    </tr>\n",
       "    <tr>\n",
       "      <th>2018-07-11</th>\n",
       "      <td>0.146266</td>\n",
       "    </tr>\n",
       "    <tr>\n",
       "      <th>2018-07-12</th>\n",
       "      <td>-0.494623</td>\n",
       "    </tr>\n",
       "    <tr>\n",
       "      <th>2018-07-13</th>\n",
       "      <td>0.144473</td>\n",
       "    </tr>\n",
       "    <tr>\n",
       "      <th>2018-07-14</th>\n",
       "      <td>-1.426887</td>\n",
       "    </tr>\n",
       "    <tr>\n",
       "      <th>2018-07-15</th>\n",
       "      <td>-0.162184</td>\n",
       "    </tr>\n",
       "    <tr>\n",
       "      <th>2018-07-16</th>\n",
       "      <td>-0.465937</td>\n",
       "    </tr>\n",
       "    <tr>\n",
       "      <th>2018-07-17</th>\n",
       "      <td>0.283120</td>\n",
       "    </tr>\n",
       "    <tr>\n",
       "      <th>2018-07-18</th>\n",
       "      <td>-0.284617</td>\n",
       "    </tr>\n",
       "    <tr>\n",
       "      <th>2018-07-19</th>\n",
       "      <td>-0.447186</td>\n",
       "    </tr>\n",
       "    <tr>\n",
       "      <th>2018-07-20</th>\n",
       "      <td>-1.257412</td>\n",
       "    </tr>\n",
       "    <tr>\n",
       "      <th>2018-07-21</th>\n",
       "      <td>-1.075845</td>\n",
       "    </tr>\n",
       "    <tr>\n",
       "      <th>2018-07-22</th>\n",
       "      <td>-0.229613</td>\n",
       "    </tr>\n",
       "    <tr>\n",
       "      <th>2018-07-23</th>\n",
       "      <td>1.375034</td>\n",
       "    </tr>\n",
       "    <tr>\n",
       "      <th>2018-07-24</th>\n",
       "      <td>-0.004829</td>\n",
       "    </tr>\n",
       "    <tr>\n",
       "      <th>2018-07-25</th>\n",
       "      <td>0.762564</td>\n",
       "    </tr>\n",
       "    <tr>\n",
       "      <th>2018-07-26</th>\n",
       "      <td>-0.967756</td>\n",
       "    </tr>\n",
       "    <tr>\n",
       "      <th>2018-07-27</th>\n",
       "      <td>0.209075</td>\n",
       "    </tr>\n",
       "    <tr>\n",
       "      <th>2018-07-28</th>\n",
       "      <td>-0.285568</td>\n",
       "    </tr>\n",
       "    <tr>\n",
       "      <th>2018-07-29</th>\n",
       "      <td>-0.199303</td>\n",
       "    </tr>\n",
       "    <tr>\n",
       "      <th>2018-07-30</th>\n",
       "      <td>0.514640</td>\n",
       "    </tr>\n",
       "    <tr>\n",
       "      <th>2018-07-31</th>\n",
       "      <td>-0.298060</td>\n",
       "    </tr>\n",
       "    <tr>\n",
       "      <th>2018-08-01</th>\n",
       "      <td>-0.136242</td>\n",
       "    </tr>\n",
       "    <tr>\n",
       "      <th>2018-08-02</th>\n",
       "      <td>0.056610</td>\n",
       "    </tr>\n",
       "    <tr>\n",
       "      <th>2018-08-03</th>\n",
       "      <td>-0.879445</td>\n",
       "    </tr>\n",
       "    <tr>\n",
       "      <th>2018-08-04</th>\n",
       "      <td>0.132763</td>\n",
       "    </tr>\n",
       "    <tr>\n",
       "      <th>2018-08-05</th>\n",
       "      <td>1.617642</td>\n",
       "    </tr>\n",
       "    <tr>\n",
       "      <th>2018-08-06</th>\n",
       "      <td>0.634258</td>\n",
       "    </tr>\n",
       "    <tr>\n",
       "      <th>2018-08-07</th>\n",
       "      <td>-0.352938</td>\n",
       "    </tr>\n",
       "    <tr>\n",
       "      <th>2018-08-08</th>\n",
       "      <td>0.639045</td>\n",
       "    </tr>\n",
       "    <tr>\n",
       "      <th>...</th>\n",
       "      <td>...</td>\n",
       "    </tr>\n",
       "    <tr>\n",
       "      <th>2019-07-15</th>\n",
       "      <td>0.955785</td>\n",
       "    </tr>\n",
       "    <tr>\n",
       "      <th>2019-07-16</th>\n",
       "      <td>0.638959</td>\n",
       "    </tr>\n",
       "    <tr>\n",
       "      <th>2019-07-17</th>\n",
       "      <td>0.038692</td>\n",
       "    </tr>\n",
       "    <tr>\n",
       "      <th>2019-07-18</th>\n",
       "      <td>0.788793</td>\n",
       "    </tr>\n",
       "    <tr>\n",
       "      <th>2019-07-19</th>\n",
       "      <td>-0.026955</td>\n",
       "    </tr>\n",
       "    <tr>\n",
       "      <th>2019-07-20</th>\n",
       "      <td>0.465380</td>\n",
       "    </tr>\n",
       "    <tr>\n",
       "      <th>2019-07-21</th>\n",
       "      <td>-0.444435</td>\n",
       "    </tr>\n",
       "    <tr>\n",
       "      <th>2019-07-22</th>\n",
       "      <td>-0.453530</td>\n",
       "    </tr>\n",
       "    <tr>\n",
       "      <th>2019-07-23</th>\n",
       "      <td>1.489178</td>\n",
       "    </tr>\n",
       "    <tr>\n",
       "      <th>2019-07-24</th>\n",
       "      <td>0.874215</td>\n",
       "    </tr>\n",
       "    <tr>\n",
       "      <th>2019-07-25</th>\n",
       "      <td>0.281698</td>\n",
       "    </tr>\n",
       "    <tr>\n",
       "      <th>2019-07-26</th>\n",
       "      <td>-1.027033</td>\n",
       "    </tr>\n",
       "    <tr>\n",
       "      <th>2019-07-27</th>\n",
       "      <td>0.385876</td>\n",
       "    </tr>\n",
       "    <tr>\n",
       "      <th>2019-07-28</th>\n",
       "      <td>1.558153</td>\n",
       "    </tr>\n",
       "    <tr>\n",
       "      <th>2019-07-29</th>\n",
       "      <td>0.916689</td>\n",
       "    </tr>\n",
       "    <tr>\n",
       "      <th>2019-07-30</th>\n",
       "      <td>0.223352</td>\n",
       "    </tr>\n",
       "    <tr>\n",
       "      <th>2019-07-31</th>\n",
       "      <td>-0.301007</td>\n",
       "    </tr>\n",
       "    <tr>\n",
       "      <th>2019-08-01</th>\n",
       "      <td>0.483005</td>\n",
       "    </tr>\n",
       "    <tr>\n",
       "      <th>2019-08-02</th>\n",
       "      <td>-0.267268</td>\n",
       "    </tr>\n",
       "    <tr>\n",
       "      <th>2019-08-03</th>\n",
       "      <td>0.549365</td>\n",
       "    </tr>\n",
       "    <tr>\n",
       "      <th>2019-08-04</th>\n",
       "      <td>-1.158729</td>\n",
       "    </tr>\n",
       "    <tr>\n",
       "      <th>2019-08-05</th>\n",
       "      <td>-0.123758</td>\n",
       "    </tr>\n",
       "    <tr>\n",
       "      <th>2019-08-06</th>\n",
       "      <td>-0.565829</td>\n",
       "    </tr>\n",
       "    <tr>\n",
       "      <th>2019-08-07</th>\n",
       "      <td>0.470986</td>\n",
       "    </tr>\n",
       "    <tr>\n",
       "      <th>2019-08-08</th>\n",
       "      <td>0.119643</td>\n",
       "    </tr>\n",
       "    <tr>\n",
       "      <th>2019-08-09</th>\n",
       "      <td>-0.721326</td>\n",
       "    </tr>\n",
       "    <tr>\n",
       "      <th>2019-08-10</th>\n",
       "      <td>-0.177487</td>\n",
       "    </tr>\n",
       "    <tr>\n",
       "      <th>2019-08-11</th>\n",
       "      <td>-0.153695</td>\n",
       "    </tr>\n",
       "    <tr>\n",
       "      <th>2019-08-12</th>\n",
       "      <td>-0.455851</td>\n",
       "    </tr>\n",
       "    <tr>\n",
       "      <th>2019-08-13</th>\n",
       "      <td>-1.169933</td>\n",
       "    </tr>\n",
       "  </tbody>\n",
       "</table>\n",
       "<p>400 rows × 1 columns</p>\n",
       "</div>"
      ],
      "text/plain": [
       "                  D1\n",
       "2018-07-10       NaN\n",
       "2018-07-11  0.146266\n",
       "2018-07-12 -0.494623\n",
       "2018-07-13  0.144473\n",
       "2018-07-14 -1.426887\n",
       "2018-07-15 -0.162184\n",
       "2018-07-16 -0.465937\n",
       "2018-07-17  0.283120\n",
       "2018-07-18 -0.284617\n",
       "2018-07-19 -0.447186\n",
       "2018-07-20 -1.257412\n",
       "2018-07-21 -1.075845\n",
       "2018-07-22 -0.229613\n",
       "2018-07-23  1.375034\n",
       "2018-07-24 -0.004829\n",
       "2018-07-25  0.762564\n",
       "2018-07-26 -0.967756\n",
       "2018-07-27  0.209075\n",
       "2018-07-28 -0.285568\n",
       "2018-07-29 -0.199303\n",
       "2018-07-30  0.514640\n",
       "2018-07-31 -0.298060\n",
       "2018-08-01 -0.136242\n",
       "2018-08-02  0.056610\n",
       "2018-08-03 -0.879445\n",
       "2018-08-04  0.132763\n",
       "2018-08-05  1.617642\n",
       "2018-08-06  0.634258\n",
       "2018-08-07 -0.352938\n",
       "2018-08-08  0.639045\n",
       "...              ...\n",
       "2019-07-15  0.955785\n",
       "2019-07-16  0.638959\n",
       "2019-07-17  0.038692\n",
       "2019-07-18  0.788793\n",
       "2019-07-19 -0.026955\n",
       "2019-07-20  0.465380\n",
       "2019-07-21 -0.444435\n",
       "2019-07-22 -0.453530\n",
       "2019-07-23  1.489178\n",
       "2019-07-24  0.874215\n",
       "2019-07-25  0.281698\n",
       "2019-07-26 -1.027033\n",
       "2019-07-27  0.385876\n",
       "2019-07-28  1.558153\n",
       "2019-07-29  0.916689\n",
       "2019-07-30  0.223352\n",
       "2019-07-31 -0.301007\n",
       "2019-08-01  0.483005\n",
       "2019-08-02 -0.267268\n",
       "2019-08-03  0.549365\n",
       "2019-08-04 -1.158729\n",
       "2019-08-05 -0.123758\n",
       "2019-08-06 -0.565829\n",
       "2019-08-07  0.470986\n",
       "2019-08-08  0.119643\n",
       "2019-08-09 -0.721326\n",
       "2019-08-10 -0.177487\n",
       "2019-08-11 -0.153695\n",
       "2019-08-12 -0.455851\n",
       "2019-08-13 -1.169933\n",
       "\n",
       "[400 rows x 1 columns]"
      ]
     },
     "execution_count": 118,
     "metadata": {},
     "output_type": "execute_result"
    },
    {
     "data": {
      "image/png": "[encoded data removed]",
      "text/plain": [
       "<Figure size 864x720 with 1 Axes>"
      ]
     },
     "metadata": {
      "needs_background": "light"
     },
     "output_type": "display_data"
    }
   ],
   "source": [
    "# apply a rolling window of 2 weigth epsilon and 1-epsilon\n",
    "ax = df.plot(color = 'gray', figsize = (12,10))\n",
    "## ????\n",
    "df.rolling(window=2).apply(lambda x : epsilon*x[0] + (1- epsilon)*x[1], raw= True)"
   ]
  },
  {
   "cell_type": "markdown",
   "metadata": {
    "slideshow": {
     "slide_type": "slide"
    }
   },
   "source": [
    "# Exponentially Weighted average\n"
   ]
  },
  {
   "cell_type": "code",
   "execution_count": 119,
   "metadata": {
    "slideshow": {
     "slide_type": "subslide"
    }
   },
   "outputs": [
    {
     "data": {
      "text/plain": [
       "<matplotlib.legend.Legend at 0x7fa2433fc390>"
      ]
     },
     "execution_count": 119,
     "metadata": {},
     "output_type": "execute_result"
    },
    {
     "data": {
      "image/png": "[encoded data removed]",
      "text/plain": [
       "<Figure size 432x288 with 1 Axes>"
      ]
     },
     "metadata": {
      "needs_background": "light"
     },
     "output_type": "display_data"
    }
   ],
   "source": [
    "# From wes book\n",
    "close_px_all = pd.read_csv('https://raw.githubusercontent.com/wesm/pydata-book/2nd-edition/examples/stock_px_2.csv',\n",
    "                               parse_dates=True, index_col=0)\n",
    "close_px = close_px_all[['AAPL', 'MSFT', 'XOM']]\n",
    "close_px = close_px.resample('B').ffill()\n",
    "aapl_px = close_px.AAPL['2006':'2007']\n",
    "ma60 = aapl_px.rolling(30, min_periods=20).mean()\n",
    "ewma60 = aapl_px.ewm(span=30).mean()\n",
    "ma60.plot(style='k--', label='Simple MA')\n",
    "ewma60.plot(style='k-', label='EW MA')\n",
    "plt.legend()"
   ]
  },
  {
   "cell_type": "code",
   "execution_count": null,
   "metadata": {
    "slideshow": {
     "slide_type": "subslide"
    }
   },
   "outputs": [],
   "source": [
    "aapl_px.index"
   ]
  },
  {
   "cell_type": "code",
   "execution_count": null,
   "metadata": {
    "slideshow": {
     "slide_type": "subslide"
    }
   },
   "outputs": [],
   "source": [
    "ma60.plot(style='k--', label='Simple MA')\n",
    "aapl_px.ewm(span = 30, min_periods= 20).mean().plot(style='k-', label='EW MA')\n",
    "plt.legend()"
   ]
  },
  {
   "cell_type": "markdown",
   "metadata": {
    "slideshow": {
     "slide_type": "slide"
    }
   },
   "source": [
    "# Binary Moving Window Functions\n",
    "\n",
    "correlation and covariance, between two time series"
   ]
  },
  {
   "cell_type": "code",
   "execution_count": 120,
   "metadata": {
    "slideshow": {
     "slide_type": "subslide"
    }
   },
   "outputs": [],
   "source": [
    "spx_px = close_px_all['SPX']\n",
    "\n",
    "spx_rets = spx_px.pct_change()\n",
    "\n",
    "returns = close_px.pct_change()"
   ]
  },
  {
   "cell_type": "code",
   "execution_count": 121,
   "metadata": {
    "slideshow": {
     "slide_type": "subslide"
    }
   },
   "outputs": [
    {
     "data": {
      "text/plain": [
       "<matplotlib.axes._subplots.AxesSubplot at 0x7fa2433e2048>"
      ]
     },
     "execution_count": 121,
     "metadata": {},
     "output_type": "execute_result"
    },
    {
     "data": {
      "image/png": "[encoded data removed]",
      "text/plain": [
       "<Figure size 720x720 with 1 Axes>"
      ]
     },
     "metadata": {
      "needs_background": "light"
     },
     "output_type": "display_data"
    }
   ],
   "source": [
    "corr = returns.rolling(125, min_periods=100).corr(spx_rets)\n",
    "\n",
    "corr.plot(figsize= (10, 10))"
   ]
  },
  {
   "cell_type": "markdown",
   "metadata": {
    "slideshow": {
     "slide_type": "slide"
    }
   },
   "source": [
    "\n",
    "## Resources\n",
    "- https://pandas.pydata.org/pandas-docs/stable/user_guide/timeseries.html\n",
    "- https://pandas.pydata.org/pandas-docs/stable/reference/api/pandas.Series.expanding.html"
   ]
  }
 ],
 "metadata": {
  "celltoolbar": "Slideshow",
  "kernelspec": {
   "display_name": "Python 3",
   "language": "python",
   "name": "python3"
  },
  "language_info": {
   "codemirror_mode": {
    "name": "ipython",
    "version": 3
   },
   "file_extension": ".py",
   "mimetype": "text/x-python",
   "name": "python",
   "nbconvert_exporter": "python",
   "pygments_lexer": "ipython3",
   "version": "3.5.2"
  }
 },
 "nbformat": 4,
 "nbformat_minor": 2
}
