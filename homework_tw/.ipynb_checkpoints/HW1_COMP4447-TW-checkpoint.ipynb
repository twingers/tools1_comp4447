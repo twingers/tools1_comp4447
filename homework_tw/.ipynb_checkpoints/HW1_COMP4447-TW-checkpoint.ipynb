{
 "cells": [
  {
   "cell_type": "markdown",
   "metadata": {},
   "source": [
    "# Hw 1. Please complete the following activity and submit the notebook in LMS(learning management system)."
   ]
  },
  {
   "cell_type": "markdown",
   "metadata": {},
   "source": [
    "# Q1(.5 point) Why we need Python virtual environments?\n",
    "\n",
    "Please write no more than 3 lines."
   ]
  },
  {
   "cell_type": "markdown",
   "metadata": {},
   "source": [
    "When python is upgraded or the python modules are upgraded, portion of the program my be depreciated, thus making the code inoperatable.  Virtual environments allow for programmers to have the system running as when a program was initially designed.  It allows python or its modules to run at a lower version and avoid the depreciation issues that would break the code.  \n"
   ]
  },
  {
   "cell_type": "markdown",
   "metadata": {},
   "source": [
    "# Q2(.5 point) Sort following list in place alphabetically using last three character"
   ]
  },
  {
   "cell_type": "code",
   "execution_count": 6,
   "metadata": {},
   "outputs": [
    {
     "name": "stdout",
     "output_type": "stream",
     "text": [
      "['Africa', 'America', 'Antarctica', 'Australia', 'Europe', 'Asia']\n"
     ]
    }
   ],
   "source": [
    "continentsL = ['Europe', 'Africa', 'America', 'Antarctica', 'Asia', 'Australia']\n",
    "\n",
    "continentsL = sorted(continentsL, key= lambda x:x[-3])\n",
    "\n",
    "print(continentsL)\n",
    "\n",
    "\n"
   ]
  },
  {
   "cell_type": "markdown",
   "metadata": {},
   "source": [
    "# Q3(1= .5+.5 points) We want to compare random integer generation time in numpy and random module of python. Generate 100 random integer in the range 1 to 10 including 1 and 10. Write jupyter notebook line magic to compare execution time of random integer generation in the following cells(look for the cells having the comment *write line magic*).  Line magic must execute the given statement  10 times in a loop and repeats 5 times.\n",
    "\n",
    " \n",
    " Hints:\n",
    "\n",
    " - Note that numpy.random has randint function and random has random.randint function.\n",
    " - Press shift+tab after typing above function or search their documentation to understand their parameters.\n",
    " - use ? on magic command timeit for further documentation. see how to use **-n and -r options**.\n",
    " "
   ]
  },
  {
   "cell_type": "code",
   "execution_count": 8,
   "metadata": {},
   "outputs": [],
   "source": [
    "import random\n",
    "num_sample = 100\n",
    "low = 1\n",
    "high = 10"
   ]
  },
  {
   "cell_type": "code",
   "execution_count": 31,
   "metadata": {},
   "outputs": [
    {
     "name": "stdout",
     "output_type": "stream",
     "text": [
      "276 µs ± 70.1 µs per loop (mean ± std. dev. of 5 runs, 10 loops each)\n"
     ]
    }
   ],
   "source": [
    "%%timeit -r 5 -n 10\n",
    "x1 = [random.randint(low,high) for i in range(num_sample)]\n",
    "\n"
   ]
  },
  {
   "cell_type": "code",
   "execution_count": 20,
   "metadata": {},
   "outputs": [],
   "source": [
    "import numpy as np"
   ]
  },
  {
   "cell_type": "code",
   "execution_count": 32,
   "metadata": {},
   "outputs": [
    {
     "name": "stdout",
     "output_type": "stream",
     "text": [
      "42.9 µs ± 22.9 µs per loop (mean ± std. dev. of 5 runs, 10 loops each)\n"
     ]
    }
   ],
   "source": [
    "%%timeit -r 5 -n 10\n",
    "\n",
    "x2=np.random.randint(low=1, high=11, size=100)\n"
   ]
  },
  {
   "cell_type": "markdown",
   "metadata": {},
   "source": [
    "<font size = \"6\"> To start working toward final project, complete the following questions by writing markdown in the same cell in next line. Each question in worth .5 point. </font>\n",
    "\n",
    "In tools 1 course, __*we are concerned with data cleaning, feature engineering and exploratory analysis. Make sure your selected final project allows for lots of data cleaning, transformation and engineering opportunity.*__ \n",
    "\n",
    "Go over project and presentation rubric in course webpage to better understand the requirement for the project.  We will evaluate the answer to see if it meets the final project requirements.\n",
    "\n",
    "\n",
    "\n",
    "<font color = \"red\" size = \"5\">If you are working in a team, we'll read only one team member notebook for the following questions. Please make sure you have identical answers for following questions.  </font>\n",
    "\n",
    "<font color =\"red\"> To edit a markdown cell you need to double click in the cell</font>"
   ]
  },
  {
   "cell_type": "markdown",
   "metadata": {},
   "source": [
    "# Q4 List your team members in bullet format.(No more than 3 members. It'll be hard for us to allow changing team member at a later stage.)\n",
    "Note that\n",
    "\n",
    "- **Each member** has to present a portion of the project in the final presentation.\n",
    "\n",
    "-  Final report must list the contribution of each member. \n"
   ]
  },
  {
   "cell_type": "markdown",
   "metadata": {},
   "source": [
    "- Todd Wingers\n",
    "- Eric Romberg\n",
    "- Dave Leigh\n"
   ]
  },
  {
   "cell_type": "markdown",
   "metadata": {},
   "source": [
    "# Q5  What  problem you are trying to solve?"
   ]
  },
  {
   "cell_type": "markdown",
   "metadata": {},
   "source": [
    "We will be working with air quality data from the US EPA.  We would like to look at how air quality has changed in the front range over time\n"
   ]
  },
  {
   "cell_type": "markdown",
   "metadata": {},
   "source": [
    "# Q6 Describe the attributes of examples in the dataset. If you are planning to collect the data(webscrapping, web API etc.), list the time line to finish the data collection."
   ]
  },
  {
   "cell_type": "markdown",
   "metadata": {},
   "source": [
    "The data set has all the air qulaity data for every county in the US.  The data for each year is in its own set that will have to be combined before use.  The data is as csv files ready for download from the US EPA air quality database system (AQS).  The attirbutes include particualte matter, ozone, SO2, CO, and NO2.  We may want to compare this to poplution growth and weather data.  \n"
   ]
  },
  {
   "cell_type": "markdown",
   "metadata": {},
   "source": [
    "# Q7 Give example of records(sample points). Why this is a noisy data set(highlight  portion of record attributes you think are noisy)."
   ]
  },
  {
   "cell_type": "markdown",
   "metadata": {},
   "source": [
    "1. Specific air monitors for each county will have to be selected for each count we use out of 1000s of counties in the US. 1. There is missing data that will have to be filtered out.\n",
    "1. Some data is catagorical and may have to be transformed to a numerical value for analysis. \n",
    "1. There is some dat that may be outliers do to non-calibration or system failures.  "
   ]
  },
  {
   "cell_type": "markdown",
   "metadata": {},
   "source": [
    "# Q8 What kind of  feature engineering opportunity you see.\n",
    "\n",
    "We'll cover feature engineering but here are some examples to get an idea of feature engineering.\n",
    "- Do you need to extract a number, year, or a word in column(attribute of a record).\n",
    "    + Like may be extracting Miss, Mr., Dr. is more inportant than actual name.\n",
    "    + May be year or time is embbedded in the text desciption and it is important for analysis. \n",
    "- If a column has numerical values. Do you see a potential for using these values or a transformation of these values like square, log etc?"
   ]
  },
  {
   "cell_type": "markdown",
   "metadata": {},
   "source": [
    "1. Almost all numterical.  Definitely transforming data will be required.\n",
    "2. Time series analysis\n",
    "3. There may be a need to transform data for analysis.    \n"
   ]
  }
 ],
 "metadata": {
  "kernelspec": {
   "display_name": "Python 3 (ipykernel)",
   "language": "python",
   "name": "python3"
  },
  "language_info": {
   "codemirror_mode": {
    "name": "ipython",
    "version": 3
   },
   "file_extension": ".py",
   "mimetype": "text/x-python",
   "name": "python",
   "nbconvert_exporter": "python",
   "pygments_lexer": "ipython3",
   "version": "3.9.6"
  },
  "toc": {
   "base_numbering": 1,
   "nav_menu": {},
   "number_sections": false,
   "sideBar": true,
   "skip_h1_title": false,
   "title_cell": "Table of Contents",
   "title_sidebar": "Contents",
   "toc_cell": false,
   "toc_position": {},
   "toc_section_display": true,
   "toc_window_display": false
  },
  "varInspector": {
   "cols": {
    "lenName": 16,
    "lenType": 16,
    "lenVar": 40
   },
   "kernels_config": {
    "python": {
     "delete_cmd_postfix": "",
     "delete_cmd_prefix": "del ",
     "library": "var_list.py",
     "varRefreshCmd": "print(var_dic_list())"
    },
    "r": {
     "delete_cmd_postfix": ") ",
     "delete_cmd_prefix": "rm(",
     "library": "var_list.r",
     "varRefreshCmd": "cat(var_dic_list()) "
    }
   },
   "types_to_exclude": [
    "module",
    "function",
    "builtin_function_or_method",
    "instance",
    "_Feature"
   ],
   "window_display": false
  }
 },
 "nbformat": 4,
 "nbformat_minor": 2
}
