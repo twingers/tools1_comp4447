{
 "cells": [
  {
   "cell_type": "markdown",
   "metadata": {},
   "source": [
    "# HW2 total points 5\n",
    "# Solve following problems. Each problem is worth 1 point. Your answers should be written in one line. Total points 6."
   ]
  },
  {
   "cell_type": "markdown",
   "metadata": {},
   "source": [
    "# Q1(1 point) Remove the blank lines from the customer_record.csv using grep command and regular expression. You may have to read grep documentation to look for more otpion."
   ]
  },
  {
   "cell_type": "markdown",
   "metadata": {},
   "source": [
    "<font size = \"5\" color=\"red\"> Run following cell to create customer_record.csv </font>"
   ]
  },
  {
   "cell_type": "code",
   "execution_count": 1,
   "metadata": {},
   "outputs": [
    {
     "name": "stdout",
     "output_type": "stream",
     "text": [
      "/mnt/c/Users/twingers/comp4447/homework\r\n"
     ]
    }
   ],
   "source": [
    "!pwd"
   ]
  },
  {
   "cell_type": "code",
   "execution_count": 2,
   "metadata": {
    "scrolled": true
   },
   "outputs": [],
   "source": [
    "! echo \"customer,items, type, quantity\" > customer_history.csv;echo \"Allen, Statistical analysis, book, 2\" >> customer_history.csv;echo \"\">> customer_history.csv;echo \"Jhon, Kasa Smart Wi-Fi Plug, electronics, 3\" >>customer_history.csv;echo \"Tim,Unix Shell Programming, Book, 3\" >> customer_history.csv;echo \"\">> customer_history.csv; echo \"Allen,Python for Data Analysis, Book, 1\">> customer_history.csv"
   ]
  },
  {
   "cell_type": "code",
   "execution_count": 3,
   "metadata": {
    "scrolled": true
   },
   "outputs": [
    {
     "name": "stdout",
     "output_type": "stream",
     "text": [
      "customer,items, type, quantity\r\n",
      "Allen, Statistical analysis, book, 2\r\n",
      "\r\n",
      "Jhon, Kasa Smart Wi-Fi Plug, electronics, 3\r\n",
      "Tim,Unix Shell Programming, Book, 3\r\n",
      "\r\n",
      "Allen,Python for Data Analysis, Book, 1\r\n"
     ]
    }
   ],
   "source": [
    "!cat customer_history.csv\n"
   ]
  },
  {
   "cell_type": "code",
   "execution_count": 4,
   "metadata": {
    "scrolled": true
   },
   "outputs": [
    {
     "name": "stdout",
     "output_type": "stream",
     "text": [
      "customer,items, type, quantity\r\n",
      "Allen, Statistical analysis, book, 2\r\n",
      "Jhon, Kasa Smart Wi-Fi Plug, electronics, 3\r\n",
      "Tim,Unix Shell Programming, Book, 3\r\n",
      "Allen,Python for Data Analysis, Book, 1\r\n"
     ]
    }
   ],
   "source": [
    "# Write code in the next line\n",
    "!grep -v '^$' customer_history.csv | cat "
   ]
  },
  {
   "cell_type": "markdown",
   "metadata": {},
   "source": [
    "# Q2(1 point)  Use previous grep command and a combination of commands using pipe(|), print uniq customer name in capital letters."
   ]
  },
  {
   "cell_type": "code",
   "execution_count": 14,
   "metadata": {
    "scrolled": true
   },
   "outputs": [
    {
     "name": "stdout",
     "output_type": "stream",
     "text": [
      "ALLEN\r\n",
      "JHON\r\n",
      "TIM\r\n"
     ]
    }
   ],
   "source": [
    "# write commands using ! in the next line\n",
    "\n",
    "# tail -n will go from bottom of list up. Using the + in tail tells which line to start at\n",
    "# cut -d will cut at the delimiter and -f where to cut in the field.  In this case we are cutting at the comma and\n",
    "# taking the first field (everything in front of the commna)\n",
    "# tr [a-z] [A-Z] translates all the letter to upper case\n",
    "# sort to place all the names in order\n",
    "# uniq to remove redundant names\n",
    "\n",
    "\n",
    "!grep -v '^$' customer_history.csv | tail -n +2 | cut -d , -f 1 | tr [a-z] [A-Z] | sort| uniq\n"
   ]
  },
  {
   "cell_type": "markdown",
   "metadata": {},
   "source": [
    "# Other  useful command we didn't cover in the class is *mkdir, find* and *wc*.\n",
    "# Look for their documentation. Sometime we forget where the file are in the filesystem. *find* commmand is really useful for searching files in filesystem. To learn these command we wil use them  in following excercises"
   ]
  },
  {
   "cell_type": "markdown",
   "metadata": {},
   "source": [
    "# Let's make  dataset_zyx_dec_2050/train and dataset_zyx_dec_2050/validation directory and add some files in them. \n",
    "\n",
    "<font color='red' size= 4 >Run the following commands to make  directories and files. </font>"
   ]
  },
  {
   "cell_type": "code",
   "execution_count": 15,
   "metadata": {
    "scrolled": true
   },
   "outputs": [],
   "source": [
    "!mkdir -p dataset_zyx_dec_2050/train\n",
    "!mkdir -p dataset_zyx_dec_2050/validation"
   ]
  },
  {
   "cell_type": "code",
   "execution_count": 16,
   "metadata": {},
   "outputs": [],
   "source": [
    "!for i in $(seq   5); do touch dataset_zyx_dec_2050/validation/cat$i.jpg ;done\n",
    "!for i in $(seq   5); do touch dataset_zyx_dec_2050/validation/cat$i.tfrecord ;done\n",
    "!for i in $(seq   5); do touch dataset_zyx_dec_2050/train/cat$i.jpg ;done\n",
    "!for i in $(seq   5); do touch dataset_zyx_dec_2050/train/dog$i.jpg ;done\n"
   ]
  },
  {
   "cell_type": "markdown",
   "metadata": {},
   "source": [
    "contents of dataset_zyx_dec_2050/validation and dataset_zyx_dec_2050/train"
   ]
  },
  {
   "cell_type": "code",
   "execution_count": 17,
   "metadata": {},
   "outputs": [
    {
     "name": "stdout",
     "output_type": "stream",
     "text": [
      "cat1.jpg  cat3.jpg  cat5.jpg  dog2.jpg\tdog4.jpg\r\n",
      "cat2.jpg  cat4.jpg  dog1.jpg  dog3.jpg\tdog5.jpg\r\n"
     ]
    }
   ],
   "source": [
    "!ls dataset_zyx_dec_2050/train"
   ]
  },
  {
   "cell_type": "code",
   "execution_count": 18,
   "metadata": {},
   "outputs": [
    {
     "name": "stdout",
     "output_type": "stream",
     "text": [
      "cat1.jpg       cat2.jpg       cat3.jpg\t     cat4.jpg\t    cat5.jpg\r\n",
      "cat1.tfrecord  cat2.tfrecord  cat3.tfrecord  cat4.tfrecord  cat5.tfrecord\r\n"
     ]
    }
   ],
   "source": [
    "!ls dataset_zyx_dec_2050/validation"
   ]
  },
  {
   "cell_type": "markdown",
   "metadata": {},
   "source": [
    "# Q3(1 point) Print all the files starting with the name *cat* in the subfolders of dataset_zyx_dec_2050  using find command."
   ]
  },
  {
   "cell_type": "code",
   "execution_count": 19,
   "metadata": {},
   "outputs": [
    {
     "name": "stdout",
     "output_type": "stream",
     "text": [
      "./dataset_zyx_dec_2050/train/cat1.jpg\r\n",
      "./dataset_zyx_dec_2050/train/cat2.jpg\r\n",
      "./dataset_zyx_dec_2050/train/cat3.jpg\r\n",
      "./dataset_zyx_dec_2050/train/cat4.jpg\r\n",
      "./dataset_zyx_dec_2050/train/cat5.jpg\r\n",
      "./dataset_zyx_dec_2050/validation/cat1.jpg\r\n",
      "./dataset_zyx_dec_2050/validation/cat2.jpg\r\n",
      "./dataset_zyx_dec_2050/validation/cat3.jpg\r\n",
      "./dataset_zyx_dec_2050/validation/cat4.jpg\r\n",
      "./dataset_zyx_dec_2050/validation/cat5.jpg\r\n"
     ]
    }
   ],
   "source": [
    "#write your command in next line\n",
    "# Hint ./use dataset_zyx_dec_2050 and read about -name option in the find command\n",
    "\n",
    "!find ./dataset_zyx_dec_2050 -name cat*.jpg\n"
   ]
  },
  {
   "cell_type": "markdown",
   "metadata": {},
   "source": [
    "# Q4(.5 point) Count number of cat file using pipe and *wc* command."
   ]
  },
  {
   "cell_type": "code",
   "execution_count": 22,
   "metadata": {},
   "outputs": [
    {
     "name": "stdout",
     "output_type": "stream",
     "text": [
      "10\r\n"
     ]
    }
   ],
   "source": [
    "#write your commands in the next line\n",
    "# wc is word count.  It gives the count of : lines, words, and bytes.  -l give line count, -w give word count, -b give byte \n",
    "# count. -m give character count\n",
    "\n",
    "!find ./dataset_zyx_dec_2050 -name cat*.jpg | wc -l"
   ]
  },
  {
   "cell_type": "markdown",
   "metadata": {},
   "source": [
    "# Q5(.5) Using answer of Q2, find the total number of unique customer"
   ]
  },
  {
   "cell_type": "code",
   "execution_count": 28,
   "metadata": {},
   "outputs": [
    {
     "name": "stdout",
     "output_type": "stream",
     "text": [
      "3\r\n"
     ]
    }
   ],
   "source": [
    "# write your code in the next line\n",
    "\n",
    "#this is a short list with 2 Allen that are written identically.  I skipped making the customer's name all uppercase since \n",
    "#the sort | uniq would work the way it is already written.\n",
    "\n",
    "!grep -v '^$' customer_history.csv | tail -n +2 | cut -d , -f 1 | sort | uniq | wc -l"
   ]
  },
  {
   "cell_type": "markdown",
   "metadata": {},
   "source": [
    "# Let's say you work for an e-commerce company and you are on call. Due to some recent feature pushed to the production, a severity 1 ticket is raised. The ticket states that some to the customers are charged multiple time this month. You task is to quickly find the affected customer and manually credit back the amount.\n",
    "\n",
    "<font size=\"4\" color = \"red\"> Run the followoing cell to generate the the  payment_gateway.logxx file </font>"
   ]
  },
  {
   "cell_type": "code",
   "execution_count": 29,
   "metadata": {},
   "outputs": [],
   "source": [
    "%%bash\n",
    "echo \"customer:2150:credit_card:xxxx-xxxx-xxxx:charged:\\$50\n",
    "customer:2350:credit_card:xxxx-xxxx-xxxx:charged:\\$20\n",
    "Paymenet gateway: STATUS 200\n",
    "customer:3456 payment failed\n",
    "customer:3350:credit_card:xxxx-xxxx-xxxx:charged:\\$71\n",
    "customer:4350:credit_card:xxxx-xxxx-xxxx:charged:\\$50\n",
    "customer:2350:credit_card:xxxx-xxxx-xxxx:charged:\\$20\n",
    "ncustomer:2150:credit_card:xxxx-xxxx-xxxx:charged:\\$50\n",
    "customer:3350:credit_card:xxxx-xxxx-xxxx:charged:\\$71\n",
    "customer:2350:credit_card:xxxx-xxxx-xxxx:charged:\\$20\n",
    "customer:2350:credit_card:xxxx-xxxx-xxxx:declined charged:attempt:3\" > payment_gateway.logxx"
   ]
  },
  {
   "cell_type": "code",
   "execution_count": 30,
   "metadata": {},
   "outputs": [
    {
     "name": "stdout",
     "output_type": "stream",
     "text": [
      "customer:2150:credit_card:xxxx-xxxx-xxxx:charged:$50\r\n",
      "customer:2350:credit_card:xxxx-xxxx-xxxx:charged:$20\r\n",
      "Paymenet gateway: STATUS 200\r\n",
      "customer:3456 payment failed\r\n",
      "customer:3350:credit_card:xxxx-xxxx-xxxx:charged:$71\r\n",
      "customer:4350:credit_card:xxxx-xxxx-xxxx:charged:$50\r\n",
      "customer:2350:credit_card:xxxx-xxxx-xxxx:charged:$20\r\n",
      "ncustomer:2150:credit_card:xxxx-xxxx-xxxx:charged:$50\r\n",
      "customer:3350:credit_card:xxxx-xxxx-xxxx:charged:$71\r\n",
      "customer:2350:credit_card:xxxx-xxxx-xxxx:charged:$20\r\n",
      "customer:2350:credit_card:xxxx-xxxx-xxxx:declined charged:attempt:3\r\n"
     ]
    }
   ],
   "source": [
    "# Here are the file content\n",
    "!cat payment_gateway.logxx"
   ]
  },
  {
   "cell_type": "markdown",
   "metadata": {},
   "source": [
    "# Q6(1 point) Use payment_gateway.logxx file to find the number of times a customer is charged and the line corresponding to the customer  record. Only print lines for customers charged more than one time.\n",
    "\n",
    "Hint:\n",
    "for customer 2350 line output should be\n",
    "\n",
    "3 customer:2350:credit_card:xxxx-xxxx-xxxx:charged:$20\n"
   ]
  },
  {
   "cell_type": "code",
   "execution_count": 97,
   "metadata": {},
   "outputs": [
    {
     "name": "stdout",
     "output_type": "stream",
     "text": [
      "Unique customers\n",
      "\n",
      "      2 customer:2150:credit_card:xxxx-xxxx-xxxx:charged:$50\n",
      "      3 customer:2350:credit_card:xxxx-xxxx-xxxx:charged:$20\n",
      "      2 customer:3350:credit_card:xxxx-xxxx-xxxx:charged:$71\n",
      "      1 customer:4350:credit_card:xxxx-xxxx-xxxx:charged:$50\n",
      "\n",
      "\n",
      "\n",
      " Unique customers with repitition\n",
      "\n",
      "      2 customer:2150:credit_card:xxxx-xxxx-xxxx:charged:$50\n",
      "      3 customer:2350:credit_card:xxxx-xxxx-xxxx:charged:$20\n",
      "      2 customer:3350:credit_card:xxxx-xxxx-xxxx:charged:$71\n"
     ]
    }
   ],
   "source": [
    "# Since there is ncustomer... we will have to do a little more work than just 1 line of code.\n",
    "\n",
    "# Make assumption that cusmtomer:2150 and ncustomer:2150 are the same customer.  We will have to change\n",
    "#ncustomer... to customer... \n",
    "\n",
    "!sed -i -e 's/ncustomer:2150:credit_card:xxxx-xxxx-xxxx:charged:$50/customer:2150:credit_card:xxxx-xxxx-xxxx:charged:$50/' \\\n",
    "payment_gateway.logxx | cat\n",
    "\n",
    "# check  for unique customers\n",
    "print(\"Unique customers\\n\")\n",
    "!grep \"customer.*\\$[0-9]\" payment_gateway.logxx | sort | uniq -c\n",
    "\n",
    "#check for uniieq customers with repitition.  \n",
    "print(\"\\n\"*3, \"Unique customers with repitition\\n\")\n",
    "\n",
    "!grep \"customer.*\\$[0-9]\" payment_gateway.logxx | sort | uniq -c | grep '^\\s*[2-9]'\n",
    "\n",
    "# first grep output creates spaces before each line.  grep ^\\s* is will look through words starting with multiple spaces. \n"
   ]
  },
  {
   "cell_type": "code",
   "execution_count": null,
   "metadata": {},
   "outputs": [],
   "source": []
  },
  {
   "cell_type": "code",
   "execution_count": null,
   "metadata": {},
   "outputs": [],
   "source": []
  }
 ],
 "metadata": {
  "kernelspec": {
   "display_name": "Python 3",
   "language": "python",
   "name": "python3"
  },
  "language_info": {
   "codemirror_mode": {
    "name": "ipython",
    "version": 3
   },
   "file_extension": ".py",
   "mimetype": "text/x-python",
   "name": "python",
   "nbconvert_exporter": "python",
   "pygments_lexer": "ipython3",
   "version": "3.8.8"
  },
  "toc": {
   "base_numbering": 1,
   "nav_menu": {},
   "number_sections": false,
   "sideBar": true,
   "skip_h1_title": false,
   "title_cell": "Table of Contents",
   "title_sidebar": "Contents",
   "toc_cell": false,
   "toc_position": {},
   "toc_section_display": true,
   "toc_window_display": false
  },
  "varInspector": {
   "cols": {
    "lenName": 16,
    "lenType": 16,
    "lenVar": 40
   },
   "kernels_config": {
    "python": {
     "delete_cmd_postfix": "",
     "delete_cmd_prefix": "del ",
     "library": "var_list.py",
     "varRefreshCmd": "print(var_dic_list())"
    },
    "r": {
     "delete_cmd_postfix": ") ",
     "delete_cmd_prefix": "rm(",
     "library": "var_list.r",
     "varRefreshCmd": "cat(var_dic_list()) "
    }
   },
   "types_to_exclude": [
    "module",
    "function",
    "builtin_function_or_method",
    "instance",
    "_Feature"
   ],
   "window_display": false
  }
 },
 "nbformat": 4,
 "nbformat_minor": 2
}
